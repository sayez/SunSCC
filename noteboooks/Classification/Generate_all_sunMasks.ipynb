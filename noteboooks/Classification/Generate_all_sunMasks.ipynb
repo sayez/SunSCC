{
 "cells": [
  {
   "cell_type": "code",
   "execution_count": 1,
   "id": "a5bb90c4",
   "metadata": {},
   "outputs": [],
   "source": [
    "import os\n",
    "import glob\n",
    "\n",
    "import concurrent.futures\n",
    "import multiprocessing\n",
    "\n",
    "import numpy as np\n",
    "from astropy.io import fits\n",
    "from skimage import io\n",
    "\n",
    "from tqdm.notebook import tqdm\n",
    "\n",
    "\n",
    "from sunscc.dataset.utils import create_circular_mask, get_sun_mask"
   ]
  },
  {
   "cell_type": "code",
   "execution_count": 2,
   "id": "17e8026d",
   "metadata": {},
   "outputs": [],
   "source": [
    "img_dir = '../../datasets/clasiffication/2002-2019_2/image'\n",
    "out_dir = '../../datasets/clasiffication/2002-2019_2/sun_mask'\n",
    "# img_dir = '../../datasets/clasiffication/2002-2019/image'\n",
    "# out_dir = '../../datasets/clasiffication/2002-2019/sun_mask'"
   ]
  },
  {
   "cell_type": "code",
   "execution_count": 10,
   "id": "17e3cf20",
   "metadata": {
    "scrolled": false
   },
   "outputs": [
    {
     "data": {
      "application/vnd.jupyter.widget-view+json": {
       "model_id": "757ce104d0ec40178a454594be1ebca8",
       "version_major": 2,
       "version_minor": 0
      },
      "text/plain": [
       "0it [00:00, ?it/s]"
      ]
     },
     "metadata": {},
     "output_type": "display_data"
    }
   ],
   "source": [
    "\n",
    "num_cpu = multiprocessing.cpu_count()\n",
    "# num_cpu = 1\n",
    "\n",
    "def process_image(img_path, dest_dir):\n",
    "    \n",
    "    hdulst:fits.HDUList = fits.open(img_path)\n",
    "    image = hdulst[0]\n",
    "    header = image.header\n",
    "    center = np.array(image.shape)//2\n",
    "#     print(f'shape: {image.data.shape} , center: {center} {type(image.data)}')\n",
    "#     print()\n",
    "    \n",
    "    radius = header['SOLAR_R']\n",
    "    # sample['solar_disk'] = create_circular_mask( image.shape[0], image.shape[1] ,center,radius)\n",
    "    basic_mask = create_circular_mask( image.shape[0], image.shape[1] ,center,radius=radius*1.03)\n",
    "    solar_disk = get_sun_mask( image.data, basic_mask, radius)\n",
    "\n",
    "    # save the mask in the destination directory\n",
    "    filename = os.path.basename(img_path).replace('.FTS', '.png')\n",
    "    dest_path = os.path.join(dest_dir, filename)\n",
    "\n",
    "#     print(solar_disk.shape, np.unique(solar_disk))\n",
    "    io.imsave(dest_path, solar_disk.astype(np.uint8), check_contrast=False)\n",
    "    \n",
    "# images = sorted(glob.glob(os.path.join(img_dir, '*.FTS')))[0:1000]\n",
    "# images = sorted(glob.glob(os.path.join(img_dir, '*.FTS')))[1000:2000]\n",
    "# images = sorted(glob.glob(os.path.join(img_dir, '*.FTS')))[2000:]\n",
    "images = sorted(glob.glob(os.path.join(img_dir, '*.FTS')))[:]\n",
    "\n",
    "with concurrent.futures.ProcessPoolExecutor(max_workers=num_cpu) as executor:\n",
    "    for result in tqdm(executor.map(process_image, images, \n",
    "                                             [out_dir]*len(images))):\n",
    "        pass\n"
   ]
  },
  {
   "cell_type": "code",
   "execution_count": null,
   "id": "732419ab",
   "metadata": {},
   "outputs": [],
   "source": []
  }
 ],
 "metadata": {
  "kernelspec": {
   "display_name": "Python 3",
   "language": "python",
   "name": "python3"
  },
  "language_info": {
   "codemirror_mode": {
    "name": "ipython",
    "version": 3
   },
   "file_extension": ".py",
   "mimetype": "text/x-python",
   "name": "python",
   "nbconvert_exporter": "python",
   "pygments_lexer": "ipython3",
   "version": "3.8.13"
  },
  "vscode": {
   "interpreter": {
    "hash": "1f3e85867ab3feeb73691fcc67a502ec8f0fc265745d17c9ab3a5329e7f22e4e"
   }
  }
 },
 "nbformat": 4,
 "nbformat_minor": 5
}
