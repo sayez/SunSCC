{
 "cells": [
  {
   "cell_type": "code",
   "execution_count": 1,
   "metadata": {},
   "outputs": [],
   "source": [
    "import wandb\n",
    "# import util\n",
    "import matplotlib.pyplot as plt\n",
    "import numpy as np\n",
    "import os\n",
    "from PIL import Image\n",
    "import shutil\n",
    "import wandb\n",
    "from PIL import Image\n",
    "import os\n",
    "import glob\n",
    "from pathlib import Path\n",
    "\n",
    "from tqdm.notebook import tqdm\n",
    "from skimage.io import imread,imsave \n",
    "\n",
    "%matplotlib ipympl\n",
    "\n",
    "import skimage.io as io\n",
    "\n",
    "import warnings\n",
    "# warnings.filterwarnings(\"error\")\n",
    "warnings.filterwarnings(\"ignore\", message=\".*The 'nopython' keyword.*\")\n"
   ]
  },
  {
   "cell_type": "code",
   "execution_count": 2,
   "metadata": {},
   "outputs": [],
   "source": [
    "%reload_ext autoreload\n",
    "%autoreload 2\n",
    "\n",
    "# import sys\n",
    "# sys.path.append('../../')\n",
    "from sunscc.nb.load import load_from_dir, load_from_dir_new_pl, load_from_cfg"
   ]
  },
  {
   "cell_type": "code",
   "execution_count": 3,
   "metadata": {},
   "outputs": [],
   "source": [
    "cwd = Path(os.getcwd())\n",
    "tmp = cwd.parents[1]\n",
    "os.environ['SUNSCCDATASET_PATH'] = str(tmp)\n",
    "\n",
    "\n",
    "\n",
    "# 2023: Single Threshold experiments\n",
    "# 1) StepLR (interval=epoch, step=1)\n",
    "run_dirs = [\n",
    "#     # T500\n",
    "#     Path('../../outputs/2023-01-19/23-41-01_2013-15_UNet_T500_StepLR_epoch_1_run0'),\n",
    "#     Path('../../outputs/2023-01-20/00-37-54_2013-15_UNet_T500_StepLR_epoch_1_run2'),\n",
    "#     Path('../../outputs/2023-01-20/03-38-03_2013-15_UNet_T500_StepLR_epoch_1_run3'),\n",
    "#     Path('../../outputs/2023-01-20/05-39-51_2013-15_UNet_T500_StepLR_epoch_1_run4'),\n",
    "#     Path('../../outputs/2023-01-20/19-11-13_2013-15_UNet_T500_StepLR_epoch_1_run5'),\n",
    "#     # T475\n",
    "#     Path('../../outputs/2023-01-20/22-40-27_2013-15_UNet_T475_StepLR_epoch_1_run0'),\n",
    "#     Path('../../outputs/2023-01-21/00-00-49_2013-15_UNet_T475_StepLR_epoch_1_run2'),\n",
    "#     Path('../../outputs/2023-01-20/23-27-58_2013-15_UNet_T475_StepLR_epoch_1_run3'),\n",
    "#     Path('../../outputs/2023-01-21/06-22-01_2013-15_UNet_T475_StepLR_epoch_1_run4'),\n",
    "#     Path('../../outputs/2023-01-21/06-23-01_2013-15_UNet_T475_StepLR_epoch_1_run5'),\n",
    "#     # T450\n",
    "#     Path('../../outputs/2023-01-19/23-43-05_2013-15_UNet_T450_StepLR_epoch_1_run0'),\n",
    "#     Path('../../outputs/2023-01-20/02-11-27_2013-15_UNet_T450_StepLR_epoch_1_run2'),\n",
    "#     Path('../../outputs/2023-01-20/04-29-47_2013-15_UNet_T450_StepLR_epoch_1_run3'),\n",
    "#     Path('../../outputs/2023-01-20/07-03-59_2013-15_UNet_T450_StepLR_epoch_1_run4'),\n",
    "#     Path('../../outputs/2023-01-20/19-11-13_2013-15_UNet_T450_StepLR_epoch_1_run5'),\n",
    "#     # T425\n",
    "#     Path('../../outputs/2023-01-20/22-40-26_2013-15_UNet_T425_StepLR_epoch_1_run0'),\n",
    "#     Path('../../outputs/2023-01-21/01-15-23_2013-15_UNet_T425_StepLR_epoch_1_run2'),\n",
    "#     Path('../../outputs/2023-01-20/23-31-00_2013-15_UNet_T425_StepLR_epoch_1_run3'),\n",
    "#     Path('../../outputs/2023-01-21/06-22-01_2013-15_UNet_T425_StepLR_epoch_1_run4'),\n",
    "#     Path('../../outputs/2023-01-21/06-23-01_2013-15_UNet_T425_StepLR_epoch_1_run5'),\n",
    "#     # T400\n",
    "#     Path('../../outputs/2023-01-19/23-46-12_2013-15_UNet_T400_StepLR_epoch_1_run0'),\n",
    "#     Path('../../outputs/2023-01-20/02-16-31_2013-15_UNet_T400_StepLR_epoch_1_run2'),\n",
    "#     Path('../../outputs/2023-01-20/04-43-27_2013-15_UNet_T400_StepLR_epoch_1_run3'),\n",
    "#     Path('../../outputs/2023-01-20/07-23-05_2013-15_UNet_T400_StepLR_epoch_1_run4'),\n",
    "#     Path('../../outputs/2023-01-20/19-11-11_2013-15_UNet_T400_StepLR_epoch_1_run5'),\n",
    "#     # T375\n",
    "#     Path('../../outputs/2023-01-20/22-40-26_2013-15_UNet_T375_StepLR_epoch_1_run0'),\n",
    "#     Path('../../outputs/2023-01-21/01-19-26_2013-15_UNet_T375_StepLR_epoch_1_run2'),\n",
    "#     Path('../../outputs/2023-01-20/23-41-35_2013-15_UNet_T375_StepLR_epoch_1_run3'),\n",
    "#     Path('../../outputs/2023-01-21/06-22-01_2013-15_UNet_T375_StepLR_epoch_1_run4'),\n",
    "#     Path('../../outputs/2023-01-21/08-56-08_2013-15_UNet_T375_StepLR_epoch_1_run5'),\n",
    "#     # T350\n",
    "#     Path('../../outputs/2023-01-19/23-49-10_2013-15_UNet_T350_StepLR_epoch_1_run0'),\n",
    "#     Path('../../outputs/2023-01-20/02-27-09_2013-15_UNet_T350_StepLR_epoch_1_run2'),\n",
    "#     Path('../../outputs/2023-01-20/04-46-59_2013-15_UNet_T350_StepLR_epoch_1_run3'),\n",
    "#     Path('../../outputs/2023-01-20/07-48-16_2013-15_UNet_T350_StepLR_epoch_1_run4'),\n",
    "#     Path('../../outputs/2023-01-20/21-19-16_2013-15_UNet_T350_StepLR_epoch_1_run5'),\n",
    "#     # T325\n",
    "#     Path('../../outputs/2023-01-20/22-51-08_2013-15_UNet_T325_StepLR_epoch_1_run0'),\n",
    "#     Path('../../outputs/2023-01-21/01-48-50_2013-15_UNet_T325_StepLR_epoch_1_run2'),\n",
    "#     Path('../../outputs/2023-01-21/01-34-09_2013-15_UNet_T325_StepLR_epoch_1_run3'),\n",
    "#     Path('../../outputs/2023-01-21/06-22-01_2013-15_UNet_T325_StepLR_epoch_1_run4'),\n",
    "#     Path('../../outputs/2023-01-21/08-56-46_2013-15_UNet_T325_StepLR_epoch_1_run5'),\n",
    "#     # T300\n",
    "#     Path('../../outputs/2023-01-19/23-50-28_2013-15_UNet_T300_StepLR_epoch_1_run0'),\n",
    "#     Path('../../outputs/2023-01-20/03-08-40_2013-15_UNet_T300_StepLR_epoch_1_run2'),\n",
    "#     Path('../../outputs/2023-01-20/04-52-01_2013-15_UNet_T300_StepLR_epoch_1_run3'),\n",
    "#     Path('../../outputs/2023-01-20/07-50-47_2013-15_UNet_T300_StepLR_epoch_1_run4'),\n",
    "#     Path('../../outputs/2023-01-20/21-19-16_2013-15_UNet_T300_StepLR_epoch_1_run5'),\n",
    "    \n",
    "    \n",
    "#     2) Multi threshold ()\n",
    "#     Path('../../outputs/2023-01-22/01-18-26_2013-15_UNet_T425_T375_T325_StepLR_epoch_1_run0'),\n",
    "#     Path('../../outputs/2023-01-22/01-18-26_2013-15_UNet_T425_T375_T325_StepLR_epoch_1_run2'),\n",
    "#     Path('../../outputs/2023-01-22/01-18-26_2013-15_UNet_T425_T375_T325_StepLR_epoch_1_run3'),\n",
    "#     Path('../../outputs/2023-01-22/01-18-26_2013-15_UNet_T425_T375_T325_StepLR_epoch_1_run4'),\n",
    "#     Path('../../outputs/2023-01-22/05-55-04_2013-15_UNet_T425_T375_T325_StepLR_epoch_1_run5'),\n",
    "#     Path('../../outputs/2023-01-22/05-55-04_2013-15_UNet_T425_T375_T325_StepLR_epoch_1_run6'),\n",
    "#     Path('../../outputs/2023-01-22/06-30-11_2013-15_UNet_T425_T375_T325_StepLR_epoch_1_run7'),\n",
    "#     Path('../../outputs/2023-01-22/10-18-12_2013-15_UNet_T425_T375_T325_StepLR_epoch_1_run8'),\n",
    "#     Path('../../outputs/2023-01-22/13-15-38_2013-15_UNet_T425_T375_T325_StepLR_epoch_1_run8'),\n",
    "#     Path('../../outputs/2023-01-22/10-23-14_2013-15_UNet_T425_T375_T325_StepLR_epoch_1_run9'),\n",
    "#     Path('../../outputs/2023-01-22/10-24-14_2013-15_UNet_T425_T375_T325_StepLR_epoch_1_run10'),\n",
    "    \n",
    "#     Path('../../outputs/2023-01-22/13-15-38_2013-15_UNet_T425_T375_T325_StepLR_epoch_1_run8_SUNSCC'),\n",
    "    Path('../../outputs/2024-05-08/16-20-50_2013-15_UNet_T375_StepLR_epoch_1_run0')\n",
    "\n",
    "]\n",
    "\n",
    "\n",
    "\n",
    "\n",
    "\n",
    "\n",
    "\n",
    "\n"
   ]
  },
  {
   "cell_type": "markdown",
   "metadata": {},
   "source": [
    "## Run the prediction on the manually annotated images\n",
    "\n",
    "<div class=\"alert alert-block alert-danger\"> Pour faire les prédictions, il faut s'assurer que la config ne fasse pas de transforms des inputs. \n",
    "ET que dans la common step de la classe BaseSegment:\n",
    "    \n",
    "        seg = batch[\"segmentation\"][0].to(torch.long)\n",
    "\n",
    "</div>\n",
    "\n",
    "#### Without Test Time Augmentation"
   ]
  },
  {
   "cell_type": "code",
   "execution_count": 4,
   "metadata": {
    "scrolled": false
   },
   "outputs": [
    {
     "data": {
      "application/vnd.jupyter.widget-view+json": {
       "model_id": "cec6e57316bd48ef98fd1d4d11c3e619",
       "version_major": 2,
       "version_minor": 0
      },
      "text/plain": [
       "  0%|          | 0/1 [00:00<?, ?it/s]"
      ]
     },
     "metadata": {},
     "output_type": "display_data"
    },
    {
     "name": "stdout",
     "output_type": "stream",
     "text": [
      "../../outputs/2024-05-08/16-20-50_2013-15_UNet_T375_StepLR_epoch_1_run0\n"
     ]
    },
    {
     "name": "stderr",
     "output_type": "stream",
     "text": [
      "\n",
      "The version_base parameter is not specified.\n",
      "Please specify a compatability version level, or None.\n",
      "Will assume defaults for version 1.1\n"
     ]
    },
    {
     "name": "stdout",
     "output_type": "stream",
     "text": [
      "BaseSegment\n",
      "{'_target_': 'sunscc.model.ConfUnet', 'model_cfg': {'_target_': 'sunscc.model.ModelConfig'}, 'architecture': {'first': 32, 'enc': {'width': [32, 64, 128, 256, 512, 512, 512], 'repeat': [1, 1, 1, 1, 1, 1, 1]}, 'dec': {'width': [512, 512, 256, 128, 64, 32], 'repeat': [1, 1, 1, 1, 1, 1]}}, 'input_format': ['image'], 'output_format': ['segmentation'], 'classes': ['sunspot'], 'block': 'double'}\n",
      "sunscc.loss.CombineLosses\n",
      "Ignored_indexA: -100  Ignored_indexB: None\n",
      "['sunspot']\n"
     ]
    },
    {
     "name": "stderr",
     "output_type": "stream",
     "text": [
      "/home/ucl/elen/nsayez/miniconda3/envs/sunscc/lib/python3.10/site-packages/lightning_fabric/plugins/environments/slurm.py:204: The `srun` command is available on your system but is not used. HINT: If your intention is to run Lightning on SLURM, prepend your python command with `srun` like so: srun python3.1 /home/ucl/elen/nsayez/miniconda3/envs/sunscc/lib/ ...\n",
      "GPU available: True (cuda), used: True\n",
      "TPU available: False, using: 0 TPU cores\n",
      "IPU available: False, using: 0 IPUs\n",
      "HPU available: False, using: 0 HPUs\n",
      "`Trainer(val_check_interval=1.0)` was configured so validation will run at the end of the training epoch..\n",
      "You are using a CUDA device ('NVIDIA A100 80GB PCIe') that has Tensor Cores. To properly utilize them, you should set `torch.set_float32_matmul_precision('medium' | 'high')` which will trade-off precision for performance. For more details, read https://pytorch.org/docs/stable/generated/torch.set_float32_matmul_precision.html#torch.set_float32_matmul_precision\n"
     ]
    },
    {
     "name": "stdout",
     "output_type": "stream",
     "text": [
      "/auto/home/users/n/s/nsayez/sunscc/noteboooks/Segmentation\n",
      "/auto/home/users/n/s/nsayez/sunscc/noteboooks/Segmentation\n"
     ]
    },
    {
     "name": "stderr",
     "output_type": "stream",
     "text": [
      "LOCAL_RANK: 0 - CUDA_VISIBLE_DEVICES: [0]\n"
     ]
    },
    {
     "data": {
      "application/vnd.jupyter.widget-view+json": {
       "model_id": "9a16b646f3f04461b85505ad809837d3",
       "version_major": 2,
       "version_minor": 0
      },
      "text/plain": [
       "Testing: |                                                                                           | 0/? [00…"
      ]
     },
     "metadata": {},
     "output_type": "display_data"
    },
    {
     "name": "stdout",
     "output_type": "stream",
     "text": [
      "────────────────────────────────────────────────────────────────────────────────────────────────────────────────────────\n",
      "       Test metric             DataLoader 0\n",
      "────────────────────────────────────────────────────────────────────────────────────────────────────────────────────────\n",
      "       test_bgiou           0.9978629019525316\n",
      "        test_loss          0.018524546176195145\n",
      "      test_meaniou          0.4989314509762658\n",
      "     test_sunspotiou                0.0\n",
      "────────────────────────────────────────────────────────────────────────────────────────────────────────────────────────\n"
     ]
    }
   ],
   "source": [
    "\n",
    "\n",
    "for run_dir in tqdm(run_dirs[:1]):\n",
    "# for run_dir in tqdm(run_dirs):\n",
    "    print(run_dir)\n",
    "    dataset_overrides = [\n",
    "        'dataset.test_dataset.transforms=[]', \n",
    "        'dataset.test_dataset.dtypes.1=GroundTruth_single' # In this notebook we have only 'sunspot' class\n",
    "    ]\n",
    "#     config, model, dm, trainer = load_from_dir2(\n",
    "    config, model, dm, trainer = load_from_dir_new_pl(\n",
    "                                        run_path= run_dir.resolve(),\n",
    "                                        # run_path= run_dir,\n",
    "                                        load_trainer=True,\n",
    "                                        override = dataset_overrides + [\n",
    "                                            # Don't create new wandb run when testing/predicting\n",
    "                                            f'logger=[{{_target_: pytorch_lightning.loggers.CSVLogger, save_dir: \"csv_metrics\"}}]',\n",
    "                                            '~callbacks.LR_monitor',\n",
    "                                            '~callbacks.wandb',\n",
    "                                            f'callbacks.Save_prediction.output_dir={str(run_dir/\"predictions_solDisk_SUNSCC\")}'\n",
    "#                                             f'callbacks.Save_prediction.output_dir={str(run_dir/\"predictions\")}'\n",
    "                                        ]\n",
    "                                    )\n",
    "    test_dataloader = dm.test_dataloader()\n",
    "    results = trainer.test(model, datamodule=dm)\n",
    "    # # results = trainer.test(model, dataloaders=test_dataloader)"
   ]
  },
  {
   "cell_type": "markdown",
   "metadata": {},
   "source": [
    "#### With Test Time Augmentation"
   ]
  },
  {
   "cell_type": "code",
   "execution_count": 5,
   "metadata": {
    "scrolled": false
   },
   "outputs": [
    {
     "name": "stderr",
     "output_type": "stream",
     "text": [
      "[autoreload of bioblue.transforms.Deepsun failed: Traceback (most recent call last):\n",
      "  File \"/home/ucl/elen/nsayez/miniconda3/envs/new-bioblue/lib/python3.8/site-packages/IPython/extensions/autoreload.py\", line 257, in check\n",
      "    superreload(m, reload, self.old_objects)\n",
      "  File \"/home/ucl/elen/nsayez/miniconda3/envs/new-bioblue/lib/python3.8/site-packages/IPython/extensions/autoreload.py\", line 480, in superreload\n",
      "    update_generic(old_obj, new_obj)\n",
      "  File \"/home/ucl/elen/nsayez/miniconda3/envs/new-bioblue/lib/python3.8/site-packages/IPython/extensions/autoreload.py\", line 377, in update_generic\n",
      "    update(a, b)\n",
      "  File \"/home/ucl/elen/nsayez/miniconda3/envs/new-bioblue/lib/python3.8/site-packages/IPython/extensions/autoreload.py\", line 345, in update_class\n",
      "    update_instances(old, new)\n",
      "  File \"/home/ucl/elen/nsayez/miniconda3/envs/new-bioblue/lib/python3.8/site-packages/IPython/extensions/autoreload.py\", line 299, in update_instances\n",
      "    refs = gc.get_referrers(old)\n",
      "KeyboardInterrupt\n",
      "]\n"
     ]
    },
    {
     "name": "stdout",
     "output_type": "stream",
     "text": [
      "/home/ucl/elen/nsayez/bio-blueprints/outputs/2023-01-22/01-18-26_2013-15_UNet_T425_T375_T325_StepLR_epoch_1_run0\n",
      "<class 'bioblue.module.DeepsunSegmentationTTA.DeepsunSegmentation_TTA'>\n",
      "{'_target_': 'bioblue.model.ConfUnet', 'model_cfg': {'_target_': 'bioblue.model.ModelConfig'}, 'architecture': {'first': 32, 'enc': {'width': [32, 64, 128, 256, 512, 512, 512], 'repeat': [1, 1, 1, 1, 1, 1, 1]}, 'dec': {'width': [512, 512, 256, 128, 64, 32], 'repeat': [1, 1, 1, 1, 1, 1]}}, 'input_format': ['image'], 'output_format': ['segmentation'], 'classes': ['sunspot'], 'block': 'double'}\n",
      "bioblue.loss.CombineLosses\n",
      "Ignored_indexA: -1  Ignored_indexB: -1\n",
      "['sunspot']\n",
      "je suis ici\n",
      "{'_target_': 'bioblue.loss.CombineLosses', 'ignore_index': -1, 'sublossA': {'_target_': 'torch.nn.CrossEntropyLoss', 'ignore_index': -1}, 'sublossB': {'_target_': 'bioblue.loss.LogCosHDiceLoss', 'ignore_index': -1, 'softmax': True, 'to_onehot_target': True, 'include_background': True}, 'ce_ratio': 0.5, 'include_background': True}\n",
      "je suis ici\n",
      "{'_target_': 'bioblue.loss.CombineLosses', 'ignore_index': -1, 'sublossA': {'_target_': 'torch.nn.CrossEntropyLoss', 'ignore_index': -1}, 'sublossB': {'_target_': 'bioblue.loss.LogCosHDiceLoss', 'ignore_index': -1, 'softmax': True, 'to_onehot_target': True, 'include_background': True}, 'ce_ratio': 0.5, 'include_background': True}\n",
      "je suis ici\n",
      "{'_target_': 'bioblue.loss.CombineLosses', 'ignore_index': -1, 'sublossA': {'_target_': 'torch.nn.CrossEntropyLoss', 'ignore_index': -1}, 'sublossB': {'_target_': 'bioblue.loss.LogCosHDiceLoss', 'ignore_index': -1, 'softmax': True, 'to_onehot_target': True, 'include_background': True}, 'ce_ratio': 0.5, 'include_background': True}\n"
     ]
    },
    {
     "name": "stderr",
     "output_type": "stream",
     "text": [
      "GPU available: True, used: True\n",
      "TPU available: False, using: 0 TPU cores\n",
      "IPU available: False, using: 0 IPUs\n",
      "HPU available: False, using: 0 HPUs\n",
      "`Trainer(val_check_interval=1.0)` was configured so validation will run at the end of the training epoch..\n",
      "LOCAL_RANK: 0 - CUDA_VISIBLE_DEVICES: [0]\n"
     ]
    },
    {
     "data": {
      "application/vnd.jupyter.widget-view+json": {
       "model_id": "40e743860b274626923e81e545993d93",
       "version_major": 2,
       "version_minor": 0
      },
      "text/plain": [
       "Testing: 0it [00:00, ?it/s]"
      ]
     },
     "metadata": {},
     "output_type": "display_data"
    },
    {
     "name": "stderr",
     "output_type": "stream",
     "text": [
      "Mean of empty slice.\n",
      "Mean of empty slice.\n",
      "Mean of empty slice.\n"
     ]
    },
    {
     "name": "stdout",
     "output_type": "stream",
     "text": [
      "────────────────────────────────────────────────────────────────────────────────────────────────────────────────────────\n",
      "       Test metric             DataLoader 0\n",
      "────────────────────────────────────────────────────────────────────────────────────────────────────────────────────────\n",
      "       test_bgiou            0.999589307883061\n",
      "        test_loss          0.009430188685655594\n",
      "      test_meaniou          0.4997946539415305\n",
      "     test_sunspotiou                0.0\n",
      "────────────────────────────────────────────────────────────────────────────────────────────────────────────────────────\n"
     ]
    }
   ],
   "source": [
    "import json\n",
    "run_dir = run_dirs[0]\n",
    "print(run_dir)\n",
    "\n",
    "numTTA = 5 # 1 means NO Test Time Augmentation, only original image\n",
    "           # 2+ means 1 or more augmentations to choose majority from\n",
    "           # right now, support up to 4 augmentations (for more modify DeepsunReduceContrast_TTA transform parameters)\n",
    "assert numTTA > 0\n",
    "# pred_dir = f'_{numTTA-1}TTA_ManualAnnotation'\n",
    "\n",
    "# dataset_target = 'test_GT' \n",
    "dataset_target = \"Classification_dataset\"\n",
    "\n",
    "# cur_partition = \"\"       if dataset_target == \"Classification_dataset\" else \"test_GT\"\n",
    "# cur_dtypes = ['image']   if dataset_target == \"Classification_dataset\" else ['image','GroundTruth_single']\n",
    "# cur_dataset_name = \"2002-2019\" if dataset_target == \"Classification_dataset\" else \"All\"\n",
    "# cur_prediction_dataset_name = \"2002-2019\" if dataset_target == \"Classification_dataset\" else \"ManualAnnotation\"\n",
    "cur_data_dir = \"/globalscratch/users/n/s/nsayez/Classification_dataset\"  if dataset_target == \"Classification_dataset\" else \"/globalscratch/users/n/s/nsayez/deepsun_bioblue/\"\n",
    "cur_partition = f\"{2048}/{6}\"       if dataset_target == \"Classification_dataset\" else \"test_GT\"\n",
    "cur_dtypes = ['image']   if dataset_target == \"Classification_dataset\" else ['image','GroundTruth_single']\n",
    "cur_dataset_name = \"2002-2019\" if dataset_target == \"Classification_dataset\" else \"All\"\n",
    "cur_prediction_dataset_name = \"2002-2019\" if dataset_target == \"Classification_dataset\" else \"ManualAnnotation\"\n",
    "\n",
    "all_overrides = {\n",
    "    \"dataset_name\": cur_dataset_name,\n",
    "    \"pred_dir_suffix\"    : f'_{numTTA-1}TTA_{cur_prediction_dataset_name}',    \n",
    "    \"test_dataset\":{     \n",
    "                        \"_target_\": \"sunscc.dataset.DeepsunSegmentationTTA_TestDataset\",\n",
    "                        \"partition\": cur_partition,\n",
    "                        \"dtypes\": cur_dtypes,\n",
    "                        \"patch_side\": 512,\n",
    "                        \"num_tta\": 4,\n",
    "                        \"transforms\":[\n",
    "                          {\"_target_\": \"sunscc.transforms.DeepsunRandomMaskSelector\"},\n",
    "                          {\"_target_\": \"sunscc.transforms.DeepsunRandomShiftScaleRotate\",\n",
    "#                             \"shift_limit\": [0,0],\n",
    "                            \"shift_limit\": [-0.0125,0.0125],\n",
    "#                             \"shift_limit\": [-0.0625,0.0625],\n",
    "                            \"scale_limit\": [1.,1.],\n",
    "                            \"rotate_limit\": [-0.,0.],\n",
    "                            \"mask_value\": -1\n",
    "                          },\n",
    "                          {\"_target_\": \"sunscc.transforms.DeepsunCropPatch\",\n",
    "                            \"patch_side\":\"${dataset.test_dataset.patch_side}\"},\n",
    "                          {\"_target_\": \"sunscc.transforms.DeepsunTTARotate90\"},\n",
    "                          {\"_target_\": \"sunscc.transforms.DeepsunRandomReduceContrast\",\n",
    "                            \"factor_ranges\":        [1., .8, .6, ],\n",
    "                            \"factor_probabilities\": [.33, .33, .34, ]}\n",
    "                        ]\n",
    "      },\n",
    "    \"module\":{\n",
    "                \"_target_\": \"sunscc.module.DeepsunSegmentation_TTA\",\n",
    "                \"segmenter\": \"${model}\",\n",
    "                \"lr\": 1.e-4,\n",
    "                \"optimizer\": \"torch.optim.AdamW\",\n",
    "                \"loss\":{  \"_target_\": \"sunscc.loss.CombineLosses\",\n",
    "                          \"ignore_index\": \"${dataset.void_label}\",\n",
    "                          \"sublossA\": {\"_target_\": \"torch.nn.CrossEntropyLoss\",\n",
    "                                        \"ignore_index\": \"${dataset.void_label}\"},\n",
    "                          \"sublossB\": {\"_target_\": \"sunscc.loss.LogCosHDiceLoss\",\n",
    "                                        \"ignore_index\": \"${dataset.void_label}\",\n",
    "                                        \"softmax\": True,\n",
    "                                        \"to_onehot_target\": True,\n",
    "                                        \"include_background\": True},\n",
    "                          \"ce_ratio\": 0.5,\n",
    "                          \"include_background\": True},\n",
    "                \"class_weights\": [1,20],\n",
    "                \"scheduler\":{ \"_target_\": \"torch.optim.lr_scheduler.StepLR\",\n",
    "                              \"step_size\": 1,\n",
    "                              \"gamma\": 0.9,\n",
    "                              \"last_epoch\": -1},\n",
    "                \"scheduler_interval\": 'epoch',\n",
    "\n",
    "                \"num_tta\": 4,\n",
    "                \"transforms_tta\":[{'_target_': 'torchio.transforms.RandomFlip',\n",
    "                                    'axes': [1,2],\n",
    "                                    'flip_probability': .5}\n",
    "                                 ]\n",
    "    },\n",
    "    \"showCallback\":{\"_target_\":\" sunscc.callback.DeepsunPlotTrainCallback\",\n",
    "                                    \"show_percentage\": 1.0,\n",
    "                                    \"val\": True}\n",
    "\n",
    "}\n",
    "# json.dumps(all_overrides['test_dataset']).replace(' ','').replace('\"','')\n",
    "all_overrides['test_dataset'] = json.dumps(all_overrides['test_dataset']).replace(' ','').replace('\"','')\n",
    "all_overrides['module'] = json.dumps(all_overrides['module']).replace(' ','').replace('\"','')\n",
    "all_overrides['showCallback'] = json.dumps(all_overrides['showCallback']).replace(' ','').replace('\"','')\n",
    "\n",
    "\n",
    "\n",
    "\n",
    "config, model, dm, trainer = load_from_dir2(\n",
    "                                    run_path= run_dir,\n",
    "                                    load_trainer=True,\n",
    "                                    override = [\n",
    "                                        f'dataset.data_dir={cur_data_dir}',\n",
    "                                        \n",
    "                                        f\"++dataset.dataset_name={all_overrides['dataset_name']}\",\n",
    "                                        f\"++dataset.test_dataset={all_overrides['test_dataset']}\",\n",
    "                                        \n",
    "                                        f'dataset.train_dataset.partition={cur_partition}',\n",
    "                                        f'dataset.train_dataset.dtypes={cur_dtypes}',\n",
    "                                        f'dataset.val_dataset.partition={cur_partition}',\n",
    "                                        f'dataset.val_dataset.dtypes={cur_dtypes}',\n",
    "                                        \n",
    "                                        \n",
    "                                        f\"++module={all_overrides['module']}\",                                           \n",
    "#                                         ] + [\n",
    "                                        # Don't create new wandb run when testing/predicting\n",
    "                                        f'logger=[{{_target_: pytorch_lightning.loggers.CSVLogger, save_dir: \"csv_metrics\"}}]',\n",
    "                                        '~callbacks.LR_monitor',\n",
    "                                        '~callbacks.wandb',\n",
    "                                        f'dataset.test_dataset.num_tta={numTTA}',\n",
    "                                        # Set predictions output directory\n",
    "                                        f'callbacks.Save_prediction._target_=sunscc.callback.DeepsunSavePredictionMaskTTACallback',\n",
    "#                                         f'callbacks.Save_prediction.output_dir={str(run_dir/(\"predictions\"+pred_dir))}'\n",
    "                                        f'callbacks.Save_prediction.output_dir={str(run_dir/(\"predictions\"+all_overrides[\"pred_dir_suffix\"]))}',\n",
    "                                        \n",
    "#                                         f'++callbacks.showInput={all_overrides[\"showCallback\"]}',\n",
    "                                    ]\n",
    "                                )\n",
    "test_dataloader = dm.test_dataloader()\n",
    "\n",
    "results = trainer.test(model, datamodule=dm)\n",
    "# # results = trainer.test(model, dataloaders=test_dataloader)"
   ]
  },
  {
   "cell_type": "code",
   "execution_count": 9,
   "metadata": {},
   "outputs": [
    {
     "data": {
      "text/plain": [
       "{'hydra': {'run': {'dir': 'outputs/${now:%Y-%m-%d}/${now:%H-%M-%S}'}, 'sweep': {'dir': 'multirun/${now:%Y-%m-%d}/${now:%H-%M-%S}', 'subdir': '${hydra.job.num}'}, 'launcher': {'_target_': 'hydra._internal.core_plugins.basic_launcher.BasicLauncher'}, 'sweeper': {'_target_': 'hydra._internal.core_plugins.basic_sweeper.BasicSweeper', 'max_batch_size': None}, 'help': {'app_name': '${hydra.job.name}', 'header': '${hydra.help.app_name} is powered by Hydra.\\n', 'footer': 'Powered by Hydra (https://hydra.cc)\\nUse --hydra-help to view Hydra specific help\\n', 'template': '${hydra.help.header}\\n== Configuration groups ==\\nCompose your configuration from those groups (group=option)\\n\\n$APP_CONFIG_GROUPS\\n\\n== Config ==\\nOverride anything in the config (foo.bar=value)\\n\\n$CONFIG\\n\\n${hydra.help.footer}\\n'}, 'hydra_help': {'template': \"Hydra (${hydra.runtime.version})\\nSee https://hydra.cc for more info.\\n\\n== Flags ==\\n$FLAGS_HELP\\n\\n== Configuration groups ==\\nCompose your configuration from those groups (For example, append hydra/job_logging=disabled to command line)\\n\\n$HYDRA_CONFIG_GROUPS\\n\\nUse '--cfg hydra' to Show the Hydra config.\\n\", 'hydra_help': '???'}, 'hydra_logging': {'version': 1, 'formatters': {'simple': {'format': '[%(asctime)s][HYDRA] %(message)s'}}, 'handlers': {'console': {'class': 'logging.StreamHandler', 'formatter': 'simple', 'stream': 'ext://sys.stdout'}}, 'root': {'level': 'INFO', 'handlers': ['console']}, 'loggers': {'logging_example': {'level': 'DEBUG'}}, 'disable_existing_loggers': False}, 'job_logging': {'version': 1, 'formatters': {'simple': {'format': '[%(asctime)s][%(name)s][%(levelname)s] - %(message)s'}}, 'handlers': {'console': {'class': 'logging.StreamHandler', 'formatter': 'simple', 'stream': 'ext://sys.stdout'}, 'file': {'class': 'logging.FileHandler', 'formatter': 'simple', 'filename': '${hydra.job.name}.log'}}, 'root': {'level': 'INFO', 'handlers': ['console', 'file']}, 'disable_existing_loggers': False}, 'env': {}, 'searchpath': [], 'callbacks': {}, 'output_subdir': '.hydra', 'overrides': {'hydra': [], 'task': ['++dataset.dataset_name=All', '++dataset.test_dataset={_target_:bioblue.dataset.DeepsunSegmentationTTA_TestDataset,partition:test_GT,dtypes:[image,GroundTruth_single],patch_side:512,num_tta:4,transforms:[{_target_:bioblue.transforms.DeepsunRandomMaskSelector},{_target_:bioblue.transforms.DeepsunRandomShiftScaleRotate,shift_limit:[-0.0125,0.0125],scale_limit:[1.0,1.0],rotate_limit:[-0.0,0.0],mask_value:-1},{_target_:bioblue.transforms.DeepsunCropPatch,patch_side:${dataset.test_dataset.patch_side}},{_target_:bioblue.transforms.DeepsunTTARotate90},{_target_:bioblue.transforms.DeepsunRandomReduceContrast,factor_ranges:[1.0,0.8,0.6],factor_probabilities:[0.33,0.33,0.34]}]}', '++module={_target_:bioblue.module.DeepsunSegmentation_TTA,segmenter:${model},lr:0.0001,optimizer:torch.optim.AdamW,loss:{_target_:bioblue.loss.CombineLosses,ignore_index:${dataset.void_label},sublossA:{_target_:torch.nn.CrossEntropyLoss,ignore_index:${dataset.void_label}},sublossB:{_target_:bioblue.loss.LogCosHDiceLoss,ignore_index:${dataset.void_label},softmax:true,to_onehot_target:true,include_background:true},ce_ratio:0.5,include_background:true},class_weights:[1,20],scheduler:{_target_:torch.optim.lr_scheduler.StepLR,step_size:1,gamma:0.9,last_epoch:-1},scheduler_interval:epoch,num_tta:4,transforms_tta:[{_target_:torchio.transforms.RandomFlip,axes:[1,2],flip_probability:0.5}]}', 'logger=[{_target_: pytorch_lightning.loggers.CSVLogger, save_dir: \"csv_metrics\"}]', '~callbacks.LR_monitor', '~callbacks.wandb', 'dataset.test_dataset.num_tta=5', 'callbacks.Save_prediction._target_=bioblue.callback.DeepsunSavePredictionMaskTTACallback', 'callbacks.Save_prediction.output_dir=/home/ucl/elen/nsayez/bio-blueprints/outputs/2023-01-22/01-18-26_2013-15_UNet_T425_T375_T325_StepLR_epoch_1_run0/predictions_4TTA_ManualAnnotation']}, 'job': {'name': 'app', 'override_dirname': '++dataset.dataset_name=All,++dataset.test_dataset={_target_:bioblue.dataset.DeepsunSegmentationTTA_TestDataset,partition:test_GT,dtypes:[image,GroundTruth_single],patch_side:512,num_tta:4,transforms:[{_target_:bioblue.transforms.DeepsunRandomMaskSelector},{_target_:bioblue.transforms.DeepsunRandomShiftScaleRotate,shift_limit:[-0.0125,0.0125],scale_limit:[1.0,1.0],rotate_limit:[-0.0,0.0],mask_value:-1},{_target_:bioblue.transforms.DeepsunCropPatch,patch_side:${dataset.test_dataset.patch_side}},{_target_:bioblue.transforms.DeepsunTTARotate90},{_target_:bioblue.transforms.DeepsunRandomReduceContrast,factor_ranges:[1.0,0.8,0.6],factor_probabilities:[0.33,0.33,0.34]}]},++module={_target_:bioblue.module.DeepsunSegmentation_TTA,segmenter:${model},lr:0.0001,optimizer:torch.optim.AdamW,loss:{_target_:bioblue.loss.CombineLosses,ignore_index:${dataset.void_label},sublossA:{_target_:torch.nn.CrossEntropyLoss,ignore_index:${dataset.void_label}},sublossB:{_target_:bioblue.loss.LogCosHDiceLoss,ignore_index:${dataset.void_label},softmax:true,to_onehot_target:true,include_background:true},ce_ratio:0.5,include_background:true},class_weights:[1,20],scheduler:{_target_:torch.optim.lr_scheduler.StepLR,step_size:1,gamma:0.9,last_epoch:-1},scheduler_interval:epoch,num_tta:4,transforms_tta:[{_target_:torchio.transforms.RandomFlip,axes:[1,2],flip_probability:0.5}]},callbacks.Save_prediction._target_=bioblue.callback.DeepsunSavePredictionMaskTTACallback,callbacks.Save_prediction.output_dir=/home/ucl/elen/nsayez/bio-blueprints/outputs/2023-01-22/01-18-26_2013-15_UNet_T425_T375_T325_StepLR_epoch_1_run0/predictions_4TTA_ManualAnnotation,dataset.test_dataset.num_tta=5,logger=[{_target_: pytorch_lightning.loggers.CSVLogger, save_dir: \"csv_metrics\"}],~callbacks.LR_monitor,~callbacks.wandb', 'id': '???', 'num': '???', 'config_name': 'config', 'env_set': {}, 'env_copy': [], 'config': {'override_dirname': {'kv_sep': '=', 'item_sep': ',', 'exclude_keys': []}}}, 'runtime': {'version': '1.1.1', 'cwd': '/auto/home/users/n/s/nsayez/bio-blueprints/notebooks', 'config_sources': [{'path': 'hydra.conf', 'schema': 'pkg', 'provider': 'hydra'}, {'path': '/home/ucl/elen/nsayez/bio-blueprints/outputs/2023-01-22/01-18-26_2013-15_UNet_T425_T375_T325_StepLR_epoch_1_run0/.hydra', 'schema': 'file', 'provider': 'main'}, {'path': '', 'schema': 'structured', 'provider': 'schema'}], 'choices': {'hydra/env': 'default', 'hydra/callbacks': None, 'hydra/job_logging': 'default', 'hydra/hydra_logging': 'default', 'hydra/hydra_help': 'default', 'hydra/help': 'default', 'hydra/sweeper': 'basic', 'hydra/launcher': 'basic', 'hydra/output': 'default'}}, 'verbose': False}, 'seed': 0, 'trainer': {'_target_': 'pytorch_lightning.Trainer', 'accumulate_grad_batches': None, 'amp_backend': 'native', 'amp_level': None, 'log_gpu_memory': None, 'auto_lr_find': False, 'auto_scale_batch_size': False, 'auto_select_gpus': False, 'benchmark': None, 'enable_checkpointing': True, 'check_val_every_n_epoch': 1, 'detect_anomaly': False, 'deterministic': False, 'fast_dev_run': False, 'gpus': [0], 'gradient_clip_val': None, 'gradient_clip_algorithm': None, 'limit_train_batches': None, 'limit_val_batches': None, 'limit_test_batches': None, 'limit_predict_batches': None, 'log_every_n_steps': 2, 'enable_progress_bar': True, 'profiler': None, 'overfit_batches': 0.0, 'plugins': None, 'precision': 32, 'max_epochs': 40, 'min_epochs': None, 'max_steps': -1, 'min_steps': None, 'max_time': None, 'num_nodes': 1, 'num_processes': None, 'num_sanity_val_steps': 2, 'reload_dataloaders_every_n_epochs': 0, 'strategy': None, 'sync_batchnorm': False, 'track_grad_norm': -1, 'val_check_interval': 1.0, 'enable_model_summary': True, 'weights_save_path': None, 'move_metrics_to_cpu': False, 'multiple_trainloader_mode': 'max_size_cycle'}, 'model': {'_target_': 'bioblue.model.ConfUnet', 'model_cfg': {'_target_': 'bioblue.model.ModelConfig'}, 'architecture': {'first': 32, 'enc': {'width': [32, 64, 128, 256, 512, 512, 512], 'repeat': [1, 1, 1, 1, 1, 1, 1]}, 'dec': {'width': [512, 512, 256, 128, 64, 32], 'repeat': [1, 1, 1, 1, 1, 1]}}, 'input_format': ['image'], 'output_format': ['segmentation'], 'classes': ['sunspot'], 'block': 'double'}, 'module': {'_target_': 'bioblue.module.DeepsunSegmentation_TTA', 'segmenter': '${model}', 'lr': 0.0001, 'optimizer': 'torch.optim.AdamW', 'loss': {'_target_': 'bioblue.loss.CombineLosses', 'sublossA': {'_target_': 'torch.nn.CrossEntropyLoss', 'ignore_index': '${dataset.void_label}'}, 'sublossB': {'_target_': 'bioblue.loss.LogCosHDiceLoss', 'softmax': True, 'to_onehot_target': True, 'include_background': True, 'ignore_index': '${dataset.void_label}'}, 'ce_ratio': 0.5, 'include_background': True, 'ignore_index': '${dataset.void_label}'}, 'class_weights': [1, 20], 'scheduler': {'_target_': 'torch.optim.lr_scheduler.StepLR', 'step_size': 1, 'gamma': 0.9, 'last_epoch': -1}, 'scheduler_interval': 'epoch', 'num_tta': 4, 'transforms_tta': [{'_target_': 'torchio.transforms.RandomFlip', 'axes': [1, 2], 'flip_probability': 0.5}]}, 'dataset': {'_target_': 'bioblue.dataset.BioblueDataModule', 'data_dir': '/globalscratch/users/n/s/nsayez/deepsun_bioblue/', 'directory': 'synthetic', 'train_size': 50, 'val_size': 50, 'test_size': 50, 'shape': [512, 512], 'batch_size': 16, 'points_range': [20, 21], 'links_range': [3, 4], 'max_shapes': 1000, 'size_range': [50, 500], 'weight_range': [1, 5], 'bg_intensity_range': [0, 50], 'fg_intensity_range': [0, 256], 'num_workers': 16, 'dataset_name': 'All', 'train_dataset': {'_target_': 'bioblue.dataset.DeepsunSegmentationDataset', 'partition': 'train', 'dtypes': '${use_dtypes}', 'transforms': [{'_target_': 'bioblue.transforms.DeepsunRandomFlip'}, {'_target_': 'bioblue.transforms.DeepsunRandomRotate'}, {'_target_': 'bioblue.transforms.DeepsunCropNonEmptyMaskIfExists', 'height': 512, 'width': 512}, {'_target_': 'bioblue.transforms.DeepsunRandomMaskSelector'}]}, 'val_dataset': {'_target_': 'bioblue.dataset.DeepsunSegmentationDataset', 'partition': 'test', 'dtypes': '${use_dtypes}', 'transforms': [{'_target_': 'bioblue.transforms.DeepsunRandomFlip'}, {'_target_': 'bioblue.transforms.DeepsunRandomRotate'}, {'_target_': 'bioblue.transforms.DeepsunCropNonEmptyMaskIfExists', 'height': 512, 'width': 512}, {'_target_': 'bioblue.transforms.DeepsunRandomMaskSelector'}]}, 'test_dataset': {'_target_': 'bioblue.dataset.DeepsunSegmentationTTA_TestDataset', 'partition': 'test_GT', 'dtypes': ['image', 'GroundTruth_single'], 'patch_side': 512, 'transforms': [{'_target_': 'bioblue.transforms.DeepsunRandomMaskSelector'}, {'_target_': 'bioblue.transforms.DeepsunRandomShiftScaleRotate', 'shift_limit': [-0.0125, 0.0125], 'scale_limit': [1.0, 1.0], 'rotate_limit': [-0.0, 0.0], 'mask_value': -1}, {'_target_': 'bioblue.transforms.DeepsunCropPatch', 'patch_side': '${dataset.test_dataset.patch_side}'}, {'_target_': 'bioblue.transforms.DeepsunTTARotate90'}, {'_target_': 'bioblue.transforms.DeepsunRandomReduceContrast', 'factor_ranges': [1.0, 0.8, 0.6], 'factor_probabilities': [0.33, 0.33, 0.34]}], 'num_tta': 5}}, 'logger': [{'_target_': 'pytorch_lightning.loggers.CSVLogger', 'save_dir': 'csv_metrics'}], 'exp': '???', 'gpus': 1, 'use_dtypes': ['image', '2023_T425_fgbg', '2023_T375_fgbg', '2023_T325_fgbg'], 'callbacks': [{'_target_': 'pytorch_lightning.callbacks.ModelCheckpoint', 'dirpath': './models', 'save_last': True, 'monitor': 'val_meaniou', 'mode': 'max', 'filename': '{epoch}-{val_meaniou:.2f}'}, {'_target_': 'bioblue.callback.DeepsunSavePredictionMaskTTACallback', 'output_dir': '/home/ucl/elen/nsayez/bio-blueprints/outputs/2023-01-22/01-18-26_2013-15_UNet_T425_T375_T325_StepLR_epoch_1_run0/predictions_4TTA_ManualAnnotation', 'max_batch_size': '${dataset.batch_size}'}]}"
      ]
     },
     "execution_count": 9,
     "metadata": {},
     "output_type": "execute_result"
    }
   ],
   "source": [
    "config"
   ]
  },
  {
   "cell_type": "code",
   "execution_count": 13,
   "metadata": {},
   "outputs": [
    {
     "name": "stdout",
     "output_type": "stream",
     "text": [
      "[0.   0.2  0.25 0.4  0.5  0.6  0.75 0.8  1.  ]\n"
     ]
    },
    {
     "data": {
      "application/vnd.jupyter.widget-view+json": {
       "model_id": "79a81260ad614d0abb71e182f7519cb7",
       "version_major": 2,
       "version_minor": 0
      },
      "text/plain": [
       "Canvas(toolbar=Toolbar(toolitems=[('Home', 'Reset original view', 'home', 'home'), ('Back', 'Back to previous …"
      ]
     },
     "metadata": {},
     "output_type": "display_data"
    }
   ],
   "source": [
    "%matplotlib ipympl\n",
    "\n",
    "a = np.load(f'{run_dir}/predictions_4TTA/UPH20130113150018_proba_map.npy')\n",
    "print(np.unique(a))\n",
    "\n",
    "b =  io.imread(f'{run_dir}/predictions_4TTA/UPH20130113150018.png')\n",
    "wl = io.imread('/globalscratch/users/n/s/nsayez/deepsun_bioblue/All/test_GT/image/UPH20130113150018.FTS')\n",
    "fig,ax = plt.subplots(nrows=1, ncols=2)\n",
    "ax[0].imshow(wl,cmap='gray')\n",
    "ax[0].imshow(a,cmap='jet', alpha=.25,interpolation=None)\n",
    "ax[0].set_title('Proba map')\n",
    "ax[1].imshow(wl,cmap='gray')\n",
    "ax[1].imshow(b,cmap='jet', alpha=.25,interpolation=None)\n",
    "ax[1].set_title('Final prediction')\n",
    "fig.tight_layout()"
   ]
  },
  {
   "cell_type": "code",
   "execution_count": 12,
   "metadata": {},
   "outputs": [
    {
     "data": {
      "text/plain": [
       "'{_target_:bioblue.dataset.DeepsunSegmentationTTA_TestDataset,partition:test_GT,dtypes:[image,GroundTruth],patch_side:512,num_tta:4,transforms:[{_target_:bioblue.transforms.DeepsunRandomMaskSelector},{_target_:bioblue.transforms.DeepsunTTARotate90},{_target_:bioblue.transforms.DeepsunRandomShiftScaleRotate,shift_limit:[-0.0625,0.0625],scale_limit:[1.0,1.0],rotate_limit:[-0.0,0.0],mask_value:-1},{_target_:bioblue.transforms.DeepsunRandomReduceContrast,factor_ranges:[1.0,0.8,0.6],factor_probabilities:[0.33,0.33,0.34]}]}'"
      ]
     },
     "execution_count": 12,
     "metadata": {},
     "output_type": "execute_result"
    }
   ],
   "source": [
    "\n",
    "tta_transforms = {\n",
    "      \"test_dataset\":{     \n",
    "                        \"_target_\": \"sunscc.dataset.DeepsunSegmentationTTA_TestDataset\",\n",
    "                        \"partition\": \"test_GT\",\n",
    "                        \"dtypes\": ['image','GroundTruth'],\n",
    "                        \"patch_side\": 512,\n",
    "                        \"num_tta\": 4,\n",
    "                        \"transforms\":[\n",
    "                          {\"_target_\": \"sunscc.transforms.DeepsunRandomMaskSelector\"},\n",
    "                          {\"_target_\": \"sunscc.transforms.DeepsunTTARotate90\"},\n",
    "                          {\"_target_\": \"sunscc.transforms.DeepsunRandomShiftScaleRotate\",\n",
    "                            \"shift_limit\": [-0.0625,0.0625],\n",
    "                            \"scale_limit\": [1.,1.],\n",
    "                            \"rotate_limit\": [-0.,0.],\n",
    "                            \"mask_value\": -1\n",
    "                          },\n",
    "                          {\"_target_\": \"sunscc.transforms.DeepsunRandomReduceContrast\",\n",
    "                            \"factor_ranges\":        [1., .8, .6, ],\n",
    "                            \"factor_probabilities\": [.33, .33, .34, ]}\n",
    "                        ]\n",
    "      }\n",
    "}\n",
    "json.dumps(tta_transforms['test_dataset']).replace(' ','').replace('\"','')"
   ]
  },
  {
   "cell_type": "markdown",
   "metadata": {},
   "source": [
    "## View Predictions"
   ]
  },
  {
   "cell_type": "code",
   "execution_count": 99,
   "metadata": {},
   "outputs": [
    {
     "name": "stdout",
     "output_type": "stream",
     "text": [
      "36\n",
      "36\n",
      "36\n"
     ]
    }
   ],
   "source": [
    "# seg_types = ['GroundTruth_single']\n",
    "seg_types = ['GroundTruth']\n",
    "\n",
    "dataset_root = \"/globalscratch/users/n/s/nsayez/deepsun_bioblue/ManualAnnotation\"\n",
    "# dataset_root = \"/globalscratch/users/n/s/nsayez/deepsun_bioblue/All/test_GT\"\n",
    "\n",
    "image_folder = os.path.join(dataset_root, 'image')\n",
    "gt_folders = {t : os.path.join(dataset_root, t) for t in seg_types}\n",
    "\n",
    "\n",
    "dir_lst = [\n",
    "\n",
    "# 1) No LR Scheduler (StepLR avec step_interval='epoch' et step_size>max_epochs)\n",
    "Path('../../outputs/2023-01-14/03-31-01_2013-15_UNet_T500'),\n",
    " Path('../../outputs/2023-01-14/05-10-00_2013-15_UNet_T475'),\n",
    " Path('../../outputs/2023-01-14/07-02-54_2013-15_UNet_T450'),\n",
    " Path('../../outputs/2023-01-14/07-51-08_2013-15_UNet_T425'),\n",
    " Path('../../outputs/2023-01-14/09-43-03_2013-15_UNet_T400'),\n",
    " Path('../../outputs/2023-01-14/10-32-46_2013-15_UNet_T375'),\n",
    " Path('../../outputs/2023-01-14/11-34-25_2013-15_UNet_T350'),\n",
    " Path('../../outputs/2023-01-14/12-06-06_2013-15_UNet_T325'),\n",
    " Path('../../outputs/2023-01-14/12-54-11_2013-15_UNet_T300'),  \n",
    "    \n",
    "# 2) MultistepLR (interval=epoch, milestones=[25,35])\n",
    "Path('../../outputs/2023-01-14/13-15-10_2013-15_UNet_T500_MultistepLR'),\n",
    "Path('../../outputs/2023-01-14/13-32-48_2013-15_UNet_T475_MultistepLR'),\n",
    "Path('../../outputs/2023-01-14/13-57-48_2013-15_UNet_T450_MultistepLR'),\n",
    "Path('../../outputs/2023-01-14/14-30-09_2013-15_UNet_T425_MultistepLR'),\n",
    "Path('../../outputs/2023-01-14/16-06-08_2013-15_UNet_T400_MultistepLR'),\n",
    "Path('../../outputs/2023-01-15/09-25-19_2013-15_UNet_T375_MultistepLR_1'),\n",
    "Path('../../outputs/2023-01-14/16-45-44_2013-15_UNet_T350_MultistepLR'),\n",
    "Path('../../outputs/2023-01-14/16-53-41_2013-15_UNet_T325_MultistepLR'),\n",
    "Path('../../outputs/2023-01-15/09-26-27_2013-15_UNet_T300_MultistepLR_1'),\n",
    "    \n",
    "\n",
    "# 3) StepLR (interval=epoch, step=1)\n",
    "Path('../../outputs/2023-01-15/22-04-12_2013-15_UNet_T500_StepLR_epoch_1'),\n",
    "Path('../../outputs/2023-01-15/22-05-27_2013-15_UNet_T475_StepLR_epoch_1'),\n",
    "Path('../../outputs/2023-01-14/20-39-57_2013-15_UNet_T450_StepLR_epoch_1'),\n",
    "Path('../../outputs/2023-01-14/21-00-58_2013-15_UNet_T425_StepLR_epoch_1'),\n",
    "Path('../../outputs/2023-01-14/22-53-04_2013-15_UNet_T400_StepLR_epoch_1'),\n",
    "Path('../../outputs/2023-01-14/23-20-28_2013-15_UNet_T375_StepLR_epoch_1'),\n",
    "Path('../../outputs/2023-01-14/23-28-33_2013-15_UNet_T350_StepLR_epoch_1'),\n",
    "Path('../../outputs/2023-01-15/00-23-20_2013-15_UNet_T325_StepLR_epoch_1'),\n",
    "Path('../../outputs/2023-01-15/01-17-00_2013-15_UNet_T300_StepLR_epoch_1'),\n",
    "    \n",
    "    \n",
    "]\n",
    "\n",
    "rdirs = [Path(d) for d in dir_lst]\n",
    "run_folders = { f\"CNN-{rdir.stem[9:]}\": str(rdir) for rdir in rdirs}\n",
    "\n",
    "pred_folders = {t: os.path.join(run_folders[t] , 'predictions') for t in run_folders.keys()}\n",
    "pred_lsts = {t : sorted(glob.glob(os.path.join(pred_folders[t], '*.png'))) for t in run_folders.keys()}\n",
    "\n",
    "gen_seg_types = [\n",
    "    '2023_T500',\n",
    "    '2023_T475',\n",
    "    '2023_T450',\n",
    "    '2023_T425',\n",
    "    '2023_T400',\n",
    "    '2023_T375',\n",
    "    '2023_T350',\n",
    "    '2023_T325',\n",
    "    '2023_T300',\n",
    "]\n",
    "generated_folders = {t : os.path.join(dataset_root, t) for t in gen_seg_types}\n",
    "generated_lsts = {t : sorted(glob.glob(os.path.join(generated_folders[t], '*.png'))) for t in gen_seg_types}\n",
    "\n",
    "image_lst = sorted(glob.glob(os.path.join(image_folder, '*.FTS')))\n",
    "gt_lst = sorted(glob.glob(os.path.join(gt_folders['GroundTruth'], '*.png')))\n",
    "# gt_lst = sorted(glob.glob(os.path.join(gt_folders['GroundTruth_single'], '*.png')))\n",
    "\n",
    "print(len(image_lst))\n",
    "print(len(pred_lsts[list(pred_lsts.keys())[0]]))\n",
    "print(len(generated_lsts[list(generated_lsts.keys())[0]]))\n",
    "\n",
    "pred_lst = pred_lsts[list(pred_lsts.keys())[0]]"
   ]
  },
  {
   "cell_type": "code",
   "execution_count": 100,
   "metadata": {
    "scrolled": false
   },
   "outputs": [
    {
     "data": {
      "application/vnd.jupyter.widget-view+json": {
       "model_id": "769da927841848b6a7ddd32c16098cd2",
       "version_major": 2,
       "version_minor": 0
      },
      "text/plain": [
       "VBox(children=(HBox(children=(IntSlider(value=0, description='Image Index', max=35), Checkbox(value=True, desc…"
      ]
     },
     "metadata": {},
     "output_type": "display_data"
    }
   ],
   "source": [
    "%matplotlib ipympl\n",
    "\n",
    "from matplotlib import cm\n",
    "from matplotlib.colors import ListedColormap, LinearSegmentedColormap\n",
    "import ipywidgets as widgets\n",
    "\n",
    "max_rows = 2\n",
    "max_cols = 2\n",
    "\n",
    "max_idx = len(gt_lst)\n",
    "\n",
    "cmap_gen = cm.winter\n",
    "cmap_gen = cmap_gen(range(255))\n",
    "cmap_gen = ListedColormap([(0, 0, 0, 0), *cmap_gen])\n",
    "\n",
    "cmap_pred = cm.cool\n",
    "cmap_pred = cmap_pred(range(255))\n",
    "cmap_pred = ListedColormap([(0, 0, 0, 0), *cmap_pred])\n",
    "\n",
    "cmap_gt = cm.Wistia\n",
    "cmap_gt = cmap_gt(range(255))\n",
    "cmap_gt = ListedColormap([(0, 0, 0, 0), *cmap_gt])\n",
    "\n",
    "\n",
    "def refresh(slider): \n",
    "    xlims0 = axes0[0].get_xlim()\n",
    "    ylims0 = axes0[0].get_ylim()\n",
    "    \n",
    "    axes0[0].clear()\n",
    "    \n",
    "    test_img = imread(image_lst[idx_slider.value])\n",
    "    test_label = imread(gt_lst[idx_slider.value])\n",
    "    \n",
    "    if img_cb.value:\n",
    "        axes0[0].imshow(test_img, cmap=\"gray\", interpolation=\"None\")\n",
    "    if gt_cb.value:\n",
    "        axes0[0].imshow(test_label, cmap=cmap_gt, interpolation=\"None\", alpha=.5)\n",
    "    \n",
    "    for i, cb in enumerate(pred_cbs):\n",
    "        if cb.value: \n",
    "            tmp = imread(pred_lsts[list(pred_folders.keys())[i]][idx_slider.value])\n",
    "            axes0[0].imshow(tmp, cmap=cmap_pred, interpolation=\"None\", alpha=.5)  \n",
    "#             axes0[0].imshow(tmp, interpolation=\"None\")  \n",
    "\n",
    "    for i, cb in enumerate(gen_cbs):\n",
    "        if cb.value: \n",
    "            tmp = imread(generated_lsts[list(generated_folders.keys())[i]][idx_slider.value])\n",
    "            axes0[0].imshow(tmp, cmap=cmap_gen, interpolation=\"None\", alpha=.5)  \n",
    "        \n",
    "    if xlims0 != (0.0, 1.0):\n",
    "        axes0[0].set_xlim(xlims0)\n",
    "        axes0[0].set_ylim(ylims0)\n",
    "    return\n",
    "\n",
    "max_rows = 1\n",
    "max_cols = 1\n",
    "\n",
    "plt.ioff()\n",
    "fig_widget0, axes0 = plt.subplots(nrows=max_rows, ncols=max_cols, figsize=(7,7))\n",
    "\n",
    "try:\n",
    "    len(axes0)\n",
    "except TypeError:\n",
    "    axes0 = [axes0]\n",
    "\n",
    "plt.ion()\n",
    "img_cb = widgets.Checkbox(value=True, description='Show img')\n",
    "gt_cb = widgets.Checkbox(value=False, description='Show gt')\n",
    "pred_cbs = [widgets.Checkbox(value=False, description=f'PRED {t}') for t in pred_folders.keys()]\n",
    "gen_cbs  = [widgets.Checkbox(value=False, description=f'GEN {t}') for t in generated_folders.keys()]\n",
    "\n",
    "idx_slider = widgets.IntSlider(value=0, min=0, max=max_idx-1, step=1, description=\"Image Index\")\n",
    "\n",
    "\n",
    "# Input image to predict\n",
    "test_img = imread(image_lst[0])\n",
    "#Target corresponding to input\n",
    "test_label = imread(gt_lst[0])\n",
    "#prediction\n",
    "pred_label = imread(pred_lst[0])\n",
    "\n",
    "axes0[0].imshow(test_img, cmap=\"gray\", interpolation=\"None\")\n",
    "\n",
    "img_cb.observe(refresh, names='value')\n",
    "gt_cb.observe(refresh, names='value')\n",
    "for cb in pred_cbs:\n",
    "    cb.observe(refresh, names='value')\n",
    "for cb in gen_cbs:\n",
    "    cb.observe(refresh, names='value')\n",
    "idx_slider.observe(refresh, names='value')\n",
    "\n",
    "\n",
    "h_len_gen = 3\n",
    "vbox_gen = widgets.VBox([ widgets.HBox(gen_cbs[i*h_len_gen:(i+1)*h_len_gen]) for i in range(len(gen_cbs)//h_len_gen) ])\n",
    "\n",
    "h_len_cnn = 3\n",
    "vbox_cnn = widgets.VBox([ widgets.HBox(pred_cbs[i*h_len_cnn:(i+1)*h_len_cnn]) for i in range(len(pred_cbs)//h_len_cnn) ])\n",
    "\n",
    "widgets.VBox([widgets.HBox([idx_slider, img_cb, gt_cb]) , \n",
    "              vbox_gen,\n",
    "              vbox_cnn, \n",
    "              fig_widget0.canvas])"
   ]
  },
  {
   "cell_type": "markdown",
   "metadata": {},
   "source": [
    "## Poubelle"
   ]
  },
  {
   "cell_type": "code",
   "execution_count": null,
   "metadata": {},
   "outputs": [],
   "source": [
    "# config, model, dm, trainer = load_from_dir2(\n",
    "#                                     run_path= run_dir,\n",
    "#                                     load_trainer=True,\n",
    "#                                     override = [\n",
    "#                                         f'callbacks.Save_prediction.output_dir={str(run_dir/\"predictions\")}'\n",
    "\n",
    "#                                     ]\n",
    "#                                 )\n",
    "# test_dataloader = dm.test_dataloader()\n",
    "\n",
    "# next(iter(test_dataloader))"
   ]
  },
  {
   "cell_type": "code",
   "execution_count": null,
   "metadata": {},
   "outputs": [],
   "source": [
    "def img_to_patch_HW(x, patch_size, flatten_channels=True):\n",
    "    \"\"\"\n",
    "    Inputs:\n",
    "        x - Tensor representing the image of shape [B, C, H, W]\n",
    "        patch_size - Number of pixels per dimension of the patches (integer)\n",
    "        flatten_channels - If True, the patches will be returned in a flattened format\n",
    "                           as a feature vector instead of a image grid.\n",
    "    \"\"\"\n",
    "    H, W = x.shape\n",
    "    y = x.copy()\n",
    "    y = y.reshape(H // patch_size, patch_size, W // patch_size, patch_size)\n",
    "#     print(y.shape)\n",
    "    y = np.moveaxis(y, source=(1,2,3), destination=(2,1,3))\n",
    "#     print(y.shape)\n",
    "    y = y.reshape((y.shape[0]*y.shape[1], y.shape[2], y.shape[3]))\n",
    "#     print(y.shape)\n",
    "    return y\n",
    "\n",
    "img_fn = \"/globalscratch/users/n/s/nsayez/deepsun_bioblue/All/test_GT/image/UPH20130113150018.FTS\"\n",
    "my_image = io.imread(img_fn).astype(np.int32)\n",
    "# print(my_image.shape)\n",
    "\n",
    "img_patches = img_to_patch_HW(my_image, patch_size=512, flatten_channels=False)\n",
    "\n",
    "fig, ax = plt.subplots(4, 4, figsize=(3, 3))\n",
    "fig.suptitle(\"Images as input sequences of patches\")\n",
    "for i in range(4):\n",
    "    for j in range(4):\n",
    "        ax[i,j].imshow(img_patches[(4*i)+j])\n",
    "        ax[i,j].axis(\"off\")\n",
    "plt.show()\n",
    "plt.close()\n"
   ]
  },
  {
   "cell_type": "code",
   "execution_count": null,
   "metadata": {},
   "outputs": [],
   "source": [
    "import torch\n",
    "import skimage.io as io\n",
    "\n",
    "def img_to_patch_BCHW(x, patch_size, flatten_channels=True):\n",
    "    \"\"\"\n",
    "    Inputs:\n",
    "        x - Tensor representing the image of shape [B, C, H, W]\n",
    "        patch_size - Number of pixels per dimension of the patches (integer)\n",
    "        flatten_channels - If True, the patches will be returned in a flattened format\n",
    "                           as a feature vector instead of a image grid.\n",
    "    \"\"\"\n",
    "    B, C, H, W = x.shape\n",
    "    x = x.reshape(B, C, H // patch_size, patch_size, W // patch_size, patch_size)\n",
    "    x = x.permute(0, 2, 4, 1, 3, 5)  # [B, H', W', C, p_H, p_W]\n",
    "    x = x.flatten(1, 2)  # [B, H'*W', C, p_H, p_W]\n",
    "    if flatten_channels:\n",
    "        x = x.flatten(2, 4)  # [B, H'*W', C*p_H*p_W]\n",
    "    print(x.shape)\n",
    "    return x\n",
    "\n",
    "# img_fn = \"/globalscratch/users/n/s/nsayez/deepsun_bioblue/All/test_GT/image/UPH20130113150018.FTS\"\n",
    "# my_image = torch.from_numpy(io.imread(img_fn).astype(np.int32))[None,None,:,:]\n",
    "# print(my_image.shape)\n",
    "\n",
    "# img_patches = img_to_patch_BCHW(my_image, patch_size=512, flatten_channels=False)\n",
    "# img_patches.flatten(0,1).shape"
   ]
  },
  {
   "cell_type": "code",
   "execution_count": null,
   "metadata": {},
   "outputs": [],
   "source": [
    "# from hydra import initialize_config_module, initialize_config_dir, initialize, compose\n",
    "\n",
    "\n",
    "\n",
    "# config_path = run_dir / \".hydra/config.yaml\"\n",
    "\n",
    "# override = [\n",
    "# #                 \"server=mb-mil101\",\n",
    "#                 \"logger=csv_logger\"\n",
    "#             ]\n",
    "# # override = [\"logger=csv_logger\"]\n",
    "# # cfg = OmegaConf.load(config_path)\n",
    "\n",
    "# print(str(config_path.parents[0].resolve()))\n",
    "\n",
    "\n",
    "# with initialize_config_dir(config_dir=str(config_path.parents[0])):\n",
    "#     cfg = compose(\n",
    "#         config_name=\"config\", overrides=override, return_hydra_config=True\n",
    "#     )\n",
    "    \n",
    "# #     print(cfg)\n"
   ]
  },
  {
   "cell_type": "code",
   "execution_count": null,
   "metadata": {
    "scrolled": false
   },
   "outputs": [],
   "source": [
    "# from hydra import initialize_config_module as init_hydra, compose\n",
    "\n",
    "# config_path = run_dir / \".hydra/config.yaml\"\n",
    "\n",
    "# override = [\n",
    "# #                 \"server=mb-mil101\",\n",
    "# #                 \"logger=csv_logger\"\n",
    "#             ]\n",
    "# # override = [\"logger=csv_logger\"]\n",
    "\n",
    "# cfg = OmegaConf.load(config_path)\n",
    "\n",
    "\n",
    "\n",
    "# # print(cfg)\n",
    "\n",
    "# with init_hydra(config_module=\"bioblue.conf\"):\n",
    "#     cfg2 = compose(\n",
    "#         config_name=\"config\", overrides=override, return_hydra_config=True,strict=False\n",
    "#     )\n",
    "# #     print(type(cfg2))\n",
    "\n",
    "# # print(cfg2)\n",
    "# cfg = OmegaConf.merge(cfg, cfg2)\n",
    "\n"
   ]
  }
 ],
 "metadata": {
  "interpreter": {
   "hash": "1f3e85867ab3feeb73691fcc67a502ec8f0fc265745d17c9ab3a5329e7f22e4e"
  },
  "kernelspec": {
   "display_name": "Python 3 (ipykernel)",
   "language": "python",
   "name": "python3"
  },
  "language_info": {
   "codemirror_mode": {
    "name": "ipython",
    "version": 3
   },
   "file_extension": ".py",
   "mimetype": "text/x-python",
   "name": "python",
   "nbconvert_exporter": "python",
   "pygments_lexer": "ipython3",
   "version": "3.10.14"
  }
 },
 "nbformat": 4,
 "nbformat_minor": 2
}
