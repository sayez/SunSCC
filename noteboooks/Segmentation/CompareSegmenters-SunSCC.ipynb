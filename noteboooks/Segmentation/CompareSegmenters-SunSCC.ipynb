{
 "cells": [
  {
   "cell_type": "code",
   "execution_count": 1,
   "metadata": {},
   "outputs": [],
   "source": [
    "import os, sys\n",
    "# print(os.path.abspath('..'))\n",
    "\n",
    "import glob\n",
    "from pathlib import Path\n",
    "\n",
    "from copy import deepcopy\n",
    "\n",
    "import json\n",
    "import math\n",
    "import cv2\n",
    "import numpy as np\n",
    "import pandas\n",
    "import torch\n",
    "\n",
    "from skimage import data, filters, segmentation\n",
    "from skimage.filters.rank import entropy\n",
    "from skimage.morphology import disk, ball, black_tophat, white_tophat\n",
    "from skimage.measure import shannon_entropy, label, regionprops\n",
    "from skimage.morphology import square, disk\n",
    "from skimage.io import imread\n",
    "\n",
    "from scipy.signal import find_peaks\n",
    "from astropy.io import fits\n",
    "\n",
    "from tqdm.notebook import tqdm\n",
    "\n",
    "import concurrent.futures\n",
    "import multiprocessing\n",
    "from itertools import repeat\n",
    "\n",
    "import ipywidgets as widgets\n",
    "import matplotlib.pyplot as plt\n",
    "from matplotlib import cm\n",
    "from matplotlib.colors import ListedColormap\n",
    "%matplotlib ipympl\n"
   ]
  },
  {
   "cell_type": "markdown",
   "metadata": {},
   "source": [
    "# Visualize the generated/predicted Masks "
   ]
  },
  {
   "cell_type": "code",
   "execution_count": 2,
   "metadata": {},
   "outputs": [
    {
     "name": "stdout",
     "output_type": "stream",
     "text": [
      "['2023_T250_fgbg', '2023_T275_fgbg', '2023_T300_fgbg', '2023_T325_fgbg', '2023_T350_fgbg', '2023_T375_fgbg', '2023_T400_fgbg', '2023_T425_fgbg', '2023_T450_fgbg', '2023_T475_fgbg', '2023_T500_fgbg']\n",
      "36\n",
      "\n",
      "{'CNN-UNet_T500_run0_0TTA': '../../outputs/2023-01-19/23-41-01_2013-15_UNet_T500_StepLR_epoch_1_run0/predictions_solDisk', 'CNN-UNet_T500_run2_0TTA': '../../outputs/2023-01-20/00-37-54_2013-15_UNet_T500_StepLR_epoch_1_run2/predictions_solDisk', 'CNN-UNet_T500_run3_0TTA': '../../outputs/2023-01-20/03-38-03_2013-15_UNet_T500_StepLR_epoch_1_run3/predictions_solDisk', 'CNN-UNet_T500_run4_0TTA': '../../outputs/2023-01-20/05-39-51_2013-15_UNet_T500_StepLR_epoch_1_run4/predictions_solDisk', 'CNN-UNet_T500_run5_0TTA': '../../outputs/2023-01-20/19-11-13_2013-15_UNet_T500_StepLR_epoch_1_run5/predictions_solDisk', 'CNN-UNet_T475_run0_0TTA': '../../outputs/2023-01-20/22-40-27_2013-15_UNet_T475_StepLR_epoch_1_run0/predictions_solDisk', 'CNN-UNet_T475_run2_0TTA': '../../outputs/2023-01-21/00-00-49_2013-15_UNet_T475_StepLR_epoch_1_run2/predictions_solDisk', 'CNN-UNet_T475_run3_0TTA': '../../outputs/2023-01-20/23-27-58_2013-15_UNet_T475_StepLR_epoch_1_run3/predictions_solDisk', 'CNN-UNet_T475_run4_0TTA': '../../outputs/2023-01-21/06-22-01_2013-15_UNet_T475_StepLR_epoch_1_run4/predictions_solDisk', 'CNN-UNet_T475_run5_0TTA': '../../outputs/2023-01-21/06-23-01_2013-15_UNet_T475_StepLR_epoch_1_run5/predictions_solDisk', 'CNN-UNet_T450_run0_0TTA': '../../outputs/2023-01-19/23-43-05_2013-15_UNet_T450_StepLR_epoch_1_run0/predictions_solDisk', 'CNN-UNet_T450_run2_0TTA': '../../outputs/2023-01-20/02-11-27_2013-15_UNet_T450_StepLR_epoch_1_run2/predictions_solDisk', 'CNN-UNet_T450_run3_0TTA': '../../outputs/2023-01-20/04-29-47_2013-15_UNet_T450_StepLR_epoch_1_run3/predictions_solDisk', 'CNN-UNet_T450_run4_0TTA': '../../outputs/2023-01-20/07-03-59_2013-15_UNet_T450_StepLR_epoch_1_run4/predictions_solDisk', 'CNN-UNet_T450_run5_0TTA': '../../outputs/2023-01-20/19-11-13_2013-15_UNet_T450_StepLR_epoch_1_run5/predictions_solDisk', 'CNN-UNet_T425_run0_0TTA': '../../outputs/2023-01-20/22-40-26_2013-15_UNet_T425_StepLR_epoch_1_run0/predictions_solDisk', 'CNN-UNet_T425_run2_0TTA': '../../outputs/2023-01-21/01-15-23_2013-15_UNet_T425_StepLR_epoch_1_run2/predictions_solDisk', 'CNN-UNet_T425_run3_0TTA': '../../outputs/2023-01-20/23-31-00_2013-15_UNet_T425_StepLR_epoch_1_run3/predictions_solDisk', 'CNN-UNet_T425_run4_0TTA': '../../outputs/2023-01-21/06-22-01_2013-15_UNet_T425_StepLR_epoch_1_run4/predictions_solDisk', 'CNN-UNet_T425_run5_0TTA': '../../outputs/2023-01-21/06-23-01_2013-15_UNet_T425_StepLR_epoch_1_run5/predictions_solDisk', 'CNN-UNet_T400_run0_0TTA': '../../outputs/2023-01-19/23-46-12_2013-15_UNet_T400_StepLR_epoch_1_run0/predictions_solDisk', 'CNN-UNet_T400_run2_0TTA': '../../outputs/2023-01-20/02-16-31_2013-15_UNet_T400_StepLR_epoch_1_run2/predictions_solDisk', 'CNN-UNet_T400_run3_0TTA': '../../outputs/2023-01-20/04-43-27_2013-15_UNet_T400_StepLR_epoch_1_run3/predictions_solDisk', 'CNN-UNet_T400_run4_0TTA': '../../outputs/2023-01-20/07-23-05_2013-15_UNet_T400_StepLR_epoch_1_run4/predictions_solDisk', 'CNN-UNet_T400_run5_0TTA': '../../outputs/2023-01-20/19-11-11_2013-15_UNet_T400_StepLR_epoch_1_run5/predictions_solDisk', 'CNN-UNet_T375_run0_0TTA': '../../outputs/2023-01-20/22-40-26_2013-15_UNet_T375_StepLR_epoch_1_run0/predictions_solDisk', 'CNN-UNet_T375_run2_0TTA': '../../outputs/2023-01-21/01-19-26_2013-15_UNet_T375_StepLR_epoch_1_run2/predictions_solDisk', 'CNN-UNet_T375_run3_0TTA': '../../outputs/2023-01-20/23-41-35_2013-15_UNet_T375_StepLR_epoch_1_run3/predictions_solDisk', 'CNN-UNet_T375_run4_0TTA': '../../outputs/2023-01-21/06-22-01_2013-15_UNet_T375_StepLR_epoch_1_run4/predictions_solDisk', 'CNN-UNet_T375_run5_0TTA': '../../outputs/2023-01-21/08-56-08_2013-15_UNet_T375_StepLR_epoch_1_run5/predictions_solDisk', 'CNN-UNet_T350_run0_0TTA': '../../outputs/2023-01-19/23-49-10_2013-15_UNet_T350_StepLR_epoch_1_run0/predictions_solDisk', 'CNN-UNet_T350_run2_0TTA': '../../outputs/2023-01-20/02-27-09_2013-15_UNet_T350_StepLR_epoch_1_run2/predictions_solDisk', 'CNN-UNet_T350_run3_0TTA': '../../outputs/2023-01-20/04-46-59_2013-15_UNet_T350_StepLR_epoch_1_run3/predictions_solDisk', 'CNN-UNet_T350_run4_0TTA': '../../outputs/2023-01-20/07-48-16_2013-15_UNet_T350_StepLR_epoch_1_run4/predictions_solDisk', 'CNN-UNet_T350_run5_0TTA': '../../outputs/2023-01-20/21-19-16_2013-15_UNet_T350_StepLR_epoch_1_run5/predictions_solDisk', 'CNN-UNet_T325_run0_0TTA': '../../outputs/2023-01-20/22-51-08_2013-15_UNet_T325_StepLR_epoch_1_run0/predictions_solDisk', 'CNN-UNet_T325_run2_0TTA': '../../outputs/2023-01-21/01-48-50_2013-15_UNet_T325_StepLR_epoch_1_run2/predictions_solDisk', 'CNN-UNet_T325_run3_0TTA': '../../outputs/2023-01-21/01-34-09_2013-15_UNet_T325_StepLR_epoch_1_run3/predictions_solDisk', 'CNN-UNet_T325_run4_0TTA': '../../outputs/2023-01-21/06-22-01_2013-15_UNet_T325_StepLR_epoch_1_run4/predictions_solDisk', 'CNN-UNet_T325_run5_0TTA': '../../outputs/2023-01-21/08-56-46_2013-15_UNet_T325_StepLR_epoch_1_run5/predictions_solDisk', 'CNN-UNet_T300_run0_0TTA': '../../outputs/2023-01-19/23-50-28_2013-15_UNet_T300_StepLR_epoch_1_run0/predictions_solDisk', 'CNN-UNet_T300_run2_0TTA': '../../outputs/2023-01-20/03-08-40_2013-15_UNet_T300_StepLR_epoch_1_run2/predictions_solDisk', 'CNN-UNet_T300_run3_0TTA': '../../outputs/2023-01-20/04-52-01_2013-15_UNet_T300_StepLR_epoch_1_run3/predictions_solDisk', 'CNN-UNet_T300_run4_0TTA': '../../outputs/2023-01-20/07-50-47_2013-15_UNet_T300_StepLR_epoch_1_run4/predictions_solDisk', 'CNN-UNet_T300_run5_0TTA': '../../outputs/2023-01-20/21-19-16_2013-15_UNet_T300_StepLR_epoch_1_run5/predictions_solDisk', 'CNN-UNet_T425_T375_T325_run0_0TTA': '../../outputs/2023-01-22/01-18-26_2013-15_UNet_T425_T375_T325_StepLR_epoch_1_run0/predictions_solDisk', 'CNN-UNet_T425_T375_T325_run2_0TTA': '../../outputs/2023-01-22/01-18-26_2013-15_UNet_T425_T375_T325_StepLR_epoch_1_run2/predictions_solDisk', 'CNN-UNet_T425_T375_T325_run3_0TTA': '../../outputs/2023-01-22/01-18-26_2013-15_UNet_T425_T375_T325_StepLR_epoch_1_run3/predictions_solDisk', 'CNN-UNet_T425_T375_T325_run4_0TTA': '../../outputs/2023-01-22/01-18-26_2013-15_UNet_T425_T375_T325_StepLR_epoch_1_run4/predictions_solDisk', 'CNN-UNet_T425_T375_T325_run5_0TTA': '../../outputs/2023-01-22/05-55-04_2013-15_UNet_T425_T375_T325_StepLR_epoch_1_run5/predictions_solDisk', 'CNN-UNet_T425_T375_T325_run6_0TTA': '../../outputs/2023-01-22/05-55-04_2013-15_UNet_T425_T375_T325_StepLR_epoch_1_run6/predictions_solDisk', 'CNN-UNet_T425_T375_T325_run7_0TTA': '../../outputs/2023-01-22/06-30-11_2013-15_UNet_T425_T375_T325_StepLR_epoch_1_run7/predictions_solDisk', 'CNN-UNet_T425_T375_T325_run8_0TTA': '../../outputs/2023-01-22/13-15-38_2013-15_UNet_T425_T375_T325_StepLR_epoch_1_run8/predictions_solDisk', 'CNN-UNet_T425_T375_T325_run9_0TTA': '../../outputs/2023-01-22/10-23-14_2013-15_UNet_T425_T375_T325_StepLR_epoch_1_run9/predictions_solDisk', 'CNN-UNet_T425_T375_T325_run10_0TTA': '../../outputs/2023-01-22/10-24-14_2013-15_UNet_T425_T375_T325_StepLR_epoch_1_run10/predictions_solDisk'}\n",
      "\n",
      "{'CNN-UNet_T500_run0_0TTA': 0, 'CNN-UNet_T500_run2_0TTA': 0, 'CNN-UNet_T500_run3_0TTA': 0, 'CNN-UNet_T500_run4_0TTA': 0, 'CNN-UNet_T500_run5_0TTA': 0, 'CNN-UNet_T475_run0_0TTA': 0, 'CNN-UNet_T475_run2_0TTA': 0, 'CNN-UNet_T475_run3_0TTA': 0, 'CNN-UNet_T475_run4_0TTA': 0, 'CNN-UNet_T475_run5_0TTA': 0, 'CNN-UNet_T450_run0_0TTA': 0, 'CNN-UNet_T450_run2_0TTA': 0, 'CNN-UNet_T450_run3_0TTA': 0, 'CNN-UNet_T450_run4_0TTA': 0, 'CNN-UNet_T450_run5_0TTA': 0, 'CNN-UNet_T425_run0_0TTA': 0, 'CNN-UNet_T425_run2_0TTA': 0, 'CNN-UNet_T425_run3_0TTA': 0, 'CNN-UNet_T425_run4_0TTA': 0, 'CNN-UNet_T425_run5_0TTA': 0, 'CNN-UNet_T400_run0_0TTA': 0, 'CNN-UNet_T400_run2_0TTA': 0, 'CNN-UNet_T400_run3_0TTA': 0, 'CNN-UNet_T400_run4_0TTA': 0, 'CNN-UNet_T400_run5_0TTA': 0, 'CNN-UNet_T375_run0_0TTA': 0, 'CNN-UNet_T375_run2_0TTA': 0, 'CNN-UNet_T375_run3_0TTA': 0, 'CNN-UNet_T375_run4_0TTA': 0, 'CNN-UNet_T375_run5_0TTA': 0, 'CNN-UNet_T350_run0_0TTA': 0, 'CNN-UNet_T350_run2_0TTA': 0, 'CNN-UNet_T350_run3_0TTA': 0, 'CNN-UNet_T350_run4_0TTA': 0, 'CNN-UNet_T350_run5_0TTA': 0, 'CNN-UNet_T325_run0_0TTA': 0, 'CNN-UNet_T325_run2_0TTA': 0, 'CNN-UNet_T325_run3_0TTA': 0, 'CNN-UNet_T325_run4_0TTA': 0, 'CNN-UNet_T325_run5_0TTA': 0, 'CNN-UNet_T300_run0_0TTA': 0, 'CNN-UNet_T300_run2_0TTA': 0, 'CNN-UNet_T300_run3_0TTA': 0, 'CNN-UNet_T300_run4_0TTA': 0, 'CNN-UNet_T300_run5_0TTA': 0, 'CNN-UNet_T425_T375_T325_run0_0TTA': 0, 'CNN-UNet_T425_T375_T325_run2_0TTA': 0, 'CNN-UNet_T425_T375_T325_run3_0TTA': 0, 'CNN-UNet_T425_T375_T325_run4_0TTA': 0, 'CNN-UNet_T425_T375_T325_run5_0TTA': 0, 'CNN-UNet_T425_T375_T325_run6_0TTA': 0, 'CNN-UNet_T425_T375_T325_run7_0TTA': 0, 'CNN-UNet_T425_T375_T325_run8_0TTA': 0, 'CNN-UNet_T425_T375_T325_run9_0TTA': 0, 'CNN-UNet_T425_T375_T325_run10_0TTA': 0}\n"
     ]
    }
   ],
   "source": [
    "dataset_root = \"../../datasets/segmentation/ManualAnnotation\"\n",
    "\n",
    "seg_types = ['GroundTruth_single']\n",
    "st = 25\n",
    "tophat_thresh= range(250, 500 + st, st)\n",
    "gen_seg_types = [f'2023_T{t}_fgbg' for t in tophat_thresh]\n",
    "print(gen_seg_types)\n",
    "\n",
    "image_folder     = os.path.join(dataset_root, 'image')\n",
    "image_lst = sorted(glob.glob(os.path.join(image_folder, '**/*.FTS'), recursive=True))\n",
    "print(len(image_lst))\n",
    "\n",
    "gt_folder        = os.path.join(dataset_root, 'GroundTruth_single')\n",
    "gt_lst = sorted(glob.glob(os.path.join(gt_folder, '*.png')))\n",
    "\n",
    "generated_folders = {t : os.path.join(dataset_root, t) for t in gen_seg_types}\n",
    "generated_lsts = {t : sorted(glob.glob(os.path.join(generated_folders[t], '*.png'))) for t in gen_seg_types}\n",
    "\n",
    "\n",
    "dir_lst = [\n",
    "    # T500\n",
    "    Path('../../outputs/2023-01-19/23-41-01_2013-15_UNet_T500_StepLR_epoch_1_run0'),\n",
    "    Path('../../outputs/2023-01-20/00-37-54_2013-15_UNet_T500_StepLR_epoch_1_run2'),\n",
    "    Path('../../outputs/2023-01-20/03-38-03_2013-15_UNet_T500_StepLR_epoch_1_run3'),\n",
    "    Path('../../outputs/2023-01-20/05-39-51_2013-15_UNet_T500_StepLR_epoch_1_run4'),\n",
    "    Path('../../outputs/2023-01-20/19-11-13_2013-15_UNet_T500_StepLR_epoch_1_run5'),\n",
    "    # T475\n",
    "    Path('../../outputs/2023-01-20/22-40-27_2013-15_UNet_T475_StepLR_epoch_1_run0'),\n",
    "    Path('../../outputs/2023-01-21/00-00-49_2013-15_UNet_T475_StepLR_epoch_1_run2'),\n",
    "    Path('../../outputs/2023-01-20/23-27-58_2013-15_UNet_T475_StepLR_epoch_1_run3'),\n",
    "    Path('../../outputs/2023-01-21/06-22-01_2013-15_UNet_T475_StepLR_epoch_1_run4'),\n",
    "    Path('../../outputs/2023-01-21/06-23-01_2013-15_UNet_T475_StepLR_epoch_1_run5'),\n",
    "    # T450\n",
    "    Path('../../outputs/2023-01-19/23-43-05_2013-15_UNet_T450_StepLR_epoch_1_run0'),\n",
    "    Path('../../outputs/2023-01-20/02-11-27_2013-15_UNet_T450_StepLR_epoch_1_run2'),\n",
    "    Path('../../outputs/2023-01-20/04-29-47_2013-15_UNet_T450_StepLR_epoch_1_run3'),\n",
    "    Path('../../outputs/2023-01-20/07-03-59_2013-15_UNet_T450_StepLR_epoch_1_run4'),\n",
    "    Path('../../outputs/2023-01-20/19-11-13_2013-15_UNet_T450_StepLR_epoch_1_run5'),\n",
    "    # T425\n",
    "    Path('../../outputs/2023-01-20/22-40-26_2013-15_UNet_T425_StepLR_epoch_1_run0'),\n",
    "    Path('../../outputs/2023-01-21/01-15-23_2013-15_UNet_T425_StepLR_epoch_1_run2'),\n",
    "    Path('../../outputs/2023-01-20/23-31-00_2013-15_UNet_T425_StepLR_epoch_1_run3'),\n",
    "    Path('../../outputs/2023-01-21/06-22-01_2013-15_UNet_T425_StepLR_epoch_1_run4'),\n",
    "    Path('../../outputs/2023-01-21/06-23-01_2013-15_UNet_T425_StepLR_epoch_1_run5'),\n",
    "    # T400\n",
    "    Path('../../outputs/2023-01-19/23-46-12_2013-15_UNet_T400_StepLR_epoch_1_run0'),\n",
    "    Path('../../outputs/2023-01-20/02-16-31_2013-15_UNet_T400_StepLR_epoch_1_run2'),\n",
    "    Path('../../outputs/2023-01-20/04-43-27_2013-15_UNet_T400_StepLR_epoch_1_run3'),\n",
    "    Path('../../outputs/2023-01-20/07-23-05_2013-15_UNet_T400_StepLR_epoch_1_run4'),\n",
    "    Path('../../outputs/2023-01-20/19-11-11_2013-15_UNet_T400_StepLR_epoch_1_run5'),\n",
    "    # T375\n",
    "    Path('../../outputs/2023-01-20/22-40-26_2013-15_UNet_T375_StepLR_epoch_1_run0'),\n",
    "    Path('../../outputs/2023-01-21/01-19-26_2013-15_UNet_T375_StepLR_epoch_1_run2'),\n",
    "    Path('../../outputs/2023-01-20/23-41-35_2013-15_UNet_T375_StepLR_epoch_1_run3'),\n",
    "    Path('../../outputs/2023-01-21/06-22-01_2013-15_UNet_T375_StepLR_epoch_1_run4'),\n",
    "    Path('../../outputs/2023-01-21/08-56-08_2013-15_UNet_T375_StepLR_epoch_1_run5'),\n",
    "    # T350\n",
    "    Path('../../outputs/2023-01-19/23-49-10_2013-15_UNet_T350_StepLR_epoch_1_run0'),\n",
    "    Path('../../outputs/2023-01-20/02-27-09_2013-15_UNet_T350_StepLR_epoch_1_run2'),\n",
    "    Path('../../outputs/2023-01-20/04-46-59_2013-15_UNet_T350_StepLR_epoch_1_run3'),\n",
    "    Path('../../outputs/2023-01-20/07-48-16_2013-15_UNet_T350_StepLR_epoch_1_run4'),\n",
    "    Path('../../outputs/2023-01-20/21-19-16_2013-15_UNet_T350_StepLR_epoch_1_run5'),\n",
    "    # T325\n",
    "    Path('../../outputs/2023-01-20/22-51-08_2013-15_UNet_T325_StepLR_epoch_1_run0'),\n",
    "    Path('../../outputs/2023-01-21/01-48-50_2013-15_UNet_T325_StepLR_epoch_1_run2'),\n",
    "    Path('../../outputs/2023-01-21/01-34-09_2013-15_UNet_T325_StepLR_epoch_1_run3'),\n",
    "    Path('../../outputs/2023-01-21/06-22-01_2013-15_UNet_T325_StepLR_epoch_1_run4'),\n",
    "    Path('../../outputs/2023-01-21/08-56-46_2013-15_UNet_T325_StepLR_epoch_1_run5'),\n",
    "    # T300\n",
    "    Path('../../outputs/2023-01-19/23-50-28_2013-15_UNet_T300_StepLR_epoch_1_run0'),\n",
    "    Path('../../outputs/2023-01-20/03-08-40_2013-15_UNet_T300_StepLR_epoch_1_run2'),\n",
    "    Path('../../outputs/2023-01-20/04-52-01_2013-15_UNet_T300_StepLR_epoch_1_run3'),\n",
    "    Path('../../outputs/2023-01-20/07-50-47_2013-15_UNet_T300_StepLR_epoch_1_run4'),\n",
    "    Path('../../outputs/2023-01-20/21-19-16_2013-15_UNet_T300_StepLR_epoch_1_run5'),\n",
    "    \n",
    "    # Multiple Thresholds\n",
    "    Path('../../outputs/2023-01-22/01-18-26_2013-15_UNet_T425_T375_T325_StepLR_epoch_1_run0'),\n",
    "    Path('../../outputs/2023-01-22/01-18-26_2013-15_UNet_T425_T375_T325_StepLR_epoch_1_run2'),\n",
    "    Path('../../outputs/2023-01-22/01-18-26_2013-15_UNet_T425_T375_T325_StepLR_epoch_1_run3'),\n",
    "    Path('../../outputs/2023-01-22/01-18-26_2013-15_UNet_T425_T375_T325_StepLR_epoch_1_run4'),\n",
    "    Path('../../outputs/2023-01-22/05-55-04_2013-15_UNet_T425_T375_T325_StepLR_epoch_1_run5'),\n",
    "    Path('../../outputs/2023-01-22/05-55-04_2013-15_UNet_T425_T375_T325_StepLR_epoch_1_run6'),\n",
    "    Path('../../outputs/2023-01-22/06-30-11_2013-15_UNet_T425_T375_T325_StepLR_epoch_1_run7'),\n",
    "    Path('../../outputs/2023-01-22/13-15-38_2013-15_UNet_T425_T375_T325_StepLR_epoch_1_run8'),\n",
    "    Path('../../outputs/2023-01-22/10-23-14_2013-15_UNet_T425_T375_T325_StepLR_epoch_1_run9'),\n",
    "    Path('../../outputs/2023-01-22/10-24-14_2013-15_UNet_T425_T375_T325_StepLR_epoch_1_run10'),\n",
    "]\n",
    "\n",
    "run_dirs = [Path(d) for d in dir_lst]\n",
    "run_folders = { f\"CNN-{rdir.stem[17:].replace('_StepLR_epoch_1_','_')}\": str(rdir) for rdir in run_dirs}\n",
    "\n",
    "seg_folders = {t:generated_folders[t] if t in generated_folders.keys() else run_folders[t]+\"/predictions\"\n",
    "                        for t in list(generated_folders.keys())+list(run_folders.keys())}\n",
    "\n",
    "# num_TTA = [0,4]\n",
    "# num_TTA = [4]\n",
    "num_TTA = [0]\n",
    "pred_folders = {t+f'_{n}TTA': os.path.join(run_folders[t] , f'predictions_{n}TTA_ManualAnnotation' if n > 0 else f'predictions_solDisk') \n",
    "# pred_folders = {t+f'_{n}TTA': os.path.join(run_folders[t] , f'predictions_{n}TTA' if n > 0 else f'predictions') \n",
    "                            for n in num_TTA\n",
    "                            for t in run_folders.keys()}\n",
    "pred_lsts = {t : sorted(glob.glob(os.path.join(pred_folders[t], '*.npy'))) for t in pred_folders.keys()}\n",
    "# pred_lsts = {t : sorted(glob.glob(os.path.join(pred_folders[t], '*.png'))) for t in pred_folders.keys()}\n",
    "print()\n",
    "print(pred_folders)\n",
    "print()\n",
    "print({k:len(v) for k, v in pred_lsts.items()})"
   ]
  },
  {
   "cell_type": "code",
   "execution_count": 3,
   "metadata": {
    "scrolled": false
   },
   "outputs": [
    {
     "data": {
      "application/vnd.jupyter.widget-view+json": {
       "model_id": "bc9d37eb3a5f427f826e6f534bc79aed",
       "version_major": 2,
       "version_minor": 0
      },
      "text/plain": [
       "VBox(children=(VBox(children=(HBox(children=(Checkbox(value=False, description='2023_T250_fgbg'), Checkbox(val…"
      ]
     },
     "metadata": {},
     "output_type": "display_data"
    }
   ],
   "source": [
    "max_idx = len(image_lst)\n",
    "# \n",
    "# cmap_gen = cm.winter\n",
    "cmap_gen = cm.turbo\n",
    "cmap_gen = cmap_gen(range(255))\n",
    "cmap_gen = ListedColormap([(0, 0, 0, 0), *cmap_gen])\n",
    "\n",
    "cmap_pred = cm.cool\n",
    "cmap_pred = cmap_pred(range(255))\n",
    "cmap_pred = ListedColormap([(0, 0, 0, 0), *cmap_pred])\n",
    "\n",
    "\n",
    "cmap_circle = cm.jet\n",
    "cmap_circle = cmap_gen(range(255))\n",
    "cmap_circle = ListedColormap([(0, 0, 0, 0), *cmap_circle])\n",
    "\n",
    "cmap_gt = cm.Wistia\n",
    "cmap_gt = cmap_gt(range(255))\n",
    "cmap_gt = ListedColormap([(0, 0, 0, 0), *cmap_gt])\n",
    "\n",
    "def create_circular_mask(h, w, center=None, radius=None):\n",
    "\n",
    "    if center is None: # use the middle of the image\n",
    "        center = (int(w/2), int(h/2))\n",
    "    if radius is None: # use the smallest distance between the center and image walls\n",
    "        radius = min(center[0], center[1], w-center[0], h-center[1])\n",
    "\n",
    "    Y, X = np.ogrid[:h, :w]\n",
    "    dist_from_center = np.sqrt((X - center[0])**2 + (Y-center[1])**2)\n",
    "\n",
    "    mask = dist_from_center <= radius\n",
    "    return mask\n",
    "\n",
    "def refresh(slider): \n",
    "    xlims0 = axes0[0].get_xlim()\n",
    "    ylims0 = axes0[0].get_ylim()\n",
    "    \n",
    "    axes0[0].clear()\n",
    "    axes0[0].axis('Off')\n",
    "    \n",
    "    \n",
    "    hdulst:fits.HDUList = fits.open(image_lst[idx_slider.value])\n",
    "    test_img = hdulst[0]\n",
    "    header = test_img.header\n",
    "    center = np.array(test_img.shape)//2\n",
    "    radius = header['SOLAR_R']\n",
    "    solar_disk = 1-create_circular_mask( test_img.shape[0], test_img.shape[1] ,center,radius)\n",
    "#     test_img = imread(image_lst[idx_slider.value])\n",
    "    \n",
    "    \n",
    "    gt_label = imread(gt_lst[idx_slider.value])\n",
    "#     gen_label = imread(generated_lst[idx_slider.value])\n",
    "    \n",
    "#     axes0[0].set_title(os.path.basename(image_lst[idx_slider.value]))\n",
    "    \n",
    "    if img_cb.value:\n",
    "        axes0[0].imshow(test_img.data, cmap=\"gray\", interpolation=\"None\")\n",
    "        axes0[0].imshow(solar_disk, cmap=cmap_circle, interpolation=\"None\",alpha=.5)\n",
    "#         axes0[0].invert_yaxis()\n",
    "        axes0[0].get_xlim()[::-1]\n",
    "    if gt_cb.value:\n",
    "        axes0[0].imshow(gt_label, cmap=cmap_gt, interpolation=\"None\", alpha=.5)\n",
    "    for i, cb in enumerate(gen_cbs):\n",
    "        if cb.value:\n",
    "            tmp = imread(generated_lsts[gen_seg_types[i]][idx_slider.value])\n",
    "            cs = axes0[0].imshow(tmp, cmap=cmap_gen, interpolation=\"None\", alpha=.7)\n",
    "            \n",
    "    for i, cb in enumerate(pred_cbs):\n",
    "        if cb.value: \n",
    "            # tmp = imread(pred_lsts[list(pred_folders.keys())[i]][idx_slider.value])\n",
    "            tmp = np.load(pred_lsts[list(pred_folders.keys())[i]][idx_slider.value])\n",
    "            axes0[0].imshow(tmp, cmap=cmap_pred, interpolation=\"None\", alpha=.5)  \n",
    "        \n",
    "    if xlims0 != (0.0, 1.0):\n",
    "        axes0[0].set_xlim(xlims0)\n",
    "        axes0[0].set_ylim(ylims0)\n",
    "        \n",
    "    \n",
    "    return\n",
    "\n",
    "max_rows = 1\n",
    "max_cols = 1\n",
    "\n",
    "plt.ioff()\n",
    "plt.style.use('default')\n",
    "# plt.style.use('dark_background')\n",
    "fig_widget0, axes0 = plt.subplots(nrows=max_rows, ncols=max_cols, figsize=(8,5))\n",
    "# axes0.axis('Off')\n",
    "try:\n",
    "    len(axes0)\n",
    "except TypeError:\n",
    "    axes0 = [axes0]\n",
    "\n",
    "plt.ion()\n",
    "img_cb = widgets.Checkbox(value=True, description='img')\n",
    "gt_cb = widgets.Checkbox(value=False, description='gt')\n",
    "gen_cbs = [widgets.Checkbox(value=False, description=f'{t}') for t in gen_seg_types]\n",
    "\n",
    "pred_cbs = [widgets.Checkbox(value=False, description=f'{t}') for t in pred_folders.keys()]\n",
    "# print(pred_cbs)\n",
    "# gen_cb = widgets.Checkbox(value=False, description='Show Generation')\n",
    "idx_slider = widgets.IntSlider(value=0, min=0, max=max_idx-1, step=1, description=\"Image Index\")\n",
    "\n",
    "\n",
    "# Input image to predict\n",
    "test_img = imread(image_lst[0])\n",
    "#prediction\n",
    "gen_label = imread(generated_lsts[gen_seg_types[0]][0])\n",
    "\n",
    "# print(gen_cbs)\n",
    "# print(test_img.dtype)\n",
    "# print(gen_label.dtype)\n",
    "\n",
    "axes0[0].set_title(os.path.basename(image_lst[0]))\n",
    "axes0[0].imshow(test_img, cmap=\"gray\", interpolation=\"None\")\n",
    "\n",
    "# fig_widget0.colorbar(cm.ScalarMappable(norm=Normalize(vmin=0, vmax=3, clip=False), cmap=cmap_gen), ax=axes0)\n",
    "# fig_widget0.colorbar(cs)\n",
    "\n",
    "img_cb.observe(refresh, names='value')\n",
    "gt_cb.observe(refresh, names='value')\n",
    "for cb in gen_cbs:\n",
    "    cb.observe(refresh, names='value')\n",
    "for cb in pred_cbs:\n",
    "    cb.observe(refresh, names='value')\n",
    "idx_slider.observe(refresh, names='value')\n",
    "\n",
    "h_len = 3\n",
    "vbox_gen = widgets.VBox([ widgets.HBox(gen_cbs[i*h_len:(i+1)*h_len]) for i in range(len(gen_seg_types)//h_len)])\n",
    "vbox_pred = widgets.VBox([ widgets.HBox(pred_cbs[i*h_len:(i+1)*h_len]) for i in range(math.ceil(len(pred_cbs)/h_len))])\n",
    "widgets.VBox([vbox_gen, vbox_pred, widgets.HBox([idx_slider,gt_cb]),  fig_widget0.canvas])"
   ]
  },
  {
   "cell_type": "markdown",
   "metadata": {},
   "source": [
    "# Split sunspots into size categories\n",
    "\n"
   ]
  },
  {
   "cell_type": "code",
   "execution_count": 4,
   "metadata": {},
   "outputs": [],
   "source": [
    "from sklearn.metrics import confusion_matrix, multilabel_confusion_matrix\n",
    "\n",
    "def conf_matrix(y_true, y_pred, labels=None, sample_weight=None, samplewise=False):\n",
    "    MCM = multilabel_confusion_matrix(\n",
    "                y_true,\n",
    "                y_pred,\n",
    "                sample_weight=sample_weight,\n",
    "                labels=labels,\n",
    "                samplewise=samplewise,\n",
    "    )\n",
    "    return MCM\n",
    "\n",
    "def get_scores_dict(gt_label, pred_label, classes):\n",
    "    ###### Separate penumbra and umbra classes\n",
    "    perClassCM = conf_matrix(gt_label.flatten().cpu(),pred_label.flatten().cpu(), labels=fg_classes)\n",
    "    \n",
    "    CM_dict = {c: perClassCM[i] for i,c in enumerate(fg_classes)}\n",
    "    IoU = [ CM_dict[k][1,1] / ( CM_dict[k][1,1] + CM_dict[k][0,1] + CM_dict[k][1,0] + 1e-5) for k in CM_dict]\n",
    "    DSC = [ 2*CM_dict[k][1,1] / ( 2*CM_dict[k][1,1] + CM_dict[k][0,1] + CM_dict[k][1,0] + 1e-5) for k in CM_dict]\n",
    "        \n",
    "    scores_dict = {c: {\"DICE\": DSC[i], \"IoU\": IoU[i]} for i,c in enumerate(classes)}    \n",
    "    return scores_dict\n",
    "\n",
    "    \n",
    "def crop_in(y_true, y_pred, bbox, padding):\n",
    "        minX,maxX = max(bbox[0]-padding, 0), min( bbox[2]+padding, y_true.shape[0])\n",
    "        minY,maxY = max(bbox[1]-padding, 0), min( bbox[3]+padding, y_true.shape[1])\n",
    "        \n",
    "        bbox2 = [minX,minY,maxX,maxY]\n",
    "\n",
    "        deltasX = [bbox[0]-minX,bbox[2]-maxX]\n",
    "        deltasY = [bbox[1]-minY,bbox[3]-maxY]\n",
    "       \n",
    "        new_gt_mask = np.zeros((maxX-minX,maxY-minY))\n",
    "        new_gt_mask[deltasX[0]:deltasX[1],deltasY[0]:deltasY[1]] = y_true[bbox[0]:bbox[2], bbox[1]:bbox[3]]\n",
    "        \n",
    "        \n",
    "        new_gen_mask = np.zeros((maxX-minX,maxY-minY))\n",
    "        new_gen_mask[deltasX[0]:deltasX[1],deltasY[0]:deltasY[1]] = y_pred[bbox[0]:bbox[2], bbox[1]:bbox[3]]\n",
    "        \n",
    "        assert new_gt_mask.shape == new_gen_mask.shape\n",
    "        \n",
    "        return new_gt_mask, new_gen_mask\n",
    "    "
   ]
  },
  {
   "cell_type": "code",
   "execution_count": 5,
   "metadata": {},
   "outputs": [],
   "source": [
    "from matplotlib.patches import Rectangle\n",
    "def show_bins(seg_type, bins, fg_bg, penumbra, umbra, metric='DICE'):\n",
    "    for i in range(len(bins)):\n",
    "        b = bins[i]\n",
    "\n",
    "        scores_fg_bg = [item['value'] for item in fg_bg[i][metric]]\n",
    "        scores_penumbra = [item['value'] for item in penumbra[i][metric]]\n",
    "        scores_umbra = [item['value'] for item in umbra[i][metric]]\n",
    "\n",
    "        fig, ax = plt.subplots(nrows=1, ncols=3, figsize=(10, 5))  \n",
    "        fig.suptitle(f\"{seg_type}  : Sunspots of [{b[0]},{b[1]}] pixels\")\n",
    "        ax[0].hist(scores_fg_bg, bins=20)\n",
    "        ax[0].set_xlim([0,1])\n",
    "        ax[0].set_title(f\"{metric} score \\n FG vs BG\", fontsize=8)\n",
    "        ax[1].hist(scores_penumbra, bins=20)\n",
    "        ax[1].set_xlim([0,1])\n",
    "        ax[1].set_title(f\"{metric} score \\n Penumbra\", fontsize=8)\n",
    "        ax[2].hist(scores_umbra, bins=20)\n",
    "        ax[2].set_xlim([0,1])\n",
    "        ax[2].set_title(f\"{metric} score \\n Umbra\", fontsize=8)\n",
    "        \n",
    "def show_bins2(seg_type, bins, fg_bg, penumbra, umbra, metric='DICE'):\n",
    "    for i in range(len(bins)):\n",
    "        b = bins[i]\n",
    "\n",
    "        scores_fg_bg = [item['value'] for item in fg_bg[i][metric] if not item['details']['misdetected']]\n",
    "        misdetections_fg_bg = [item['value'] for item in fg_bg[i][metric] if item['details']['misdetected']]\n",
    "#         print(misdetections_fg_bg)\n",
    "        scores_penumbra = [item['value'] for item in penumbra[i][metric]]\n",
    "        scores_umbra = [item['value'] for item in umbra[i][metric]]\n",
    "\n",
    "        fig, ax = plt.subplots(nrows=1, ncols=3, figsize=(10, 5))  \n",
    "        fig.suptitle(f\"{seg_type}  : Sunspots of [{b[0]},{b[1]}] pixels\")\n",
    "#         ax[0].hist(misdetections_fg_bg, bins=1, color='r')\n",
    "        ax[0].add_patch(Rectangle((-0.05, 0), 0.05, len(misdetections_fg_bg), color='r'))\n",
    "        ax[0].hist(scores_fg_bg, bins=20)\n",
    "        ax[0].set_xlim([-0.1,1])\n",
    "        ax[0].set_title(f\"{metric} score \\n FG vs BG\", fontsize=8)\n",
    "    "
   ]
  },
  {
   "cell_type": "code",
   "execution_count": 6,
   "metadata": {
    "scrolled": false
   },
   "outputs": [],
   "source": [
    "def get_scores_dict(gt_label, pred_label, classes):\n",
    "    ###### Separate penumbra and umbra classes\n",
    "    \n",
    "#     perClassCM = conf_matrix(gt_label.flatten(),pred_label.flatten(), labels=fg_classes)\n",
    "    perClassCM = conf_matrix(gt_label.flatten(),pred_label.flatten(), labels=fg_classes)\n",
    "    \n",
    "#     perClassCM = conf_matrix(gt_label,pred_label, labels=fg_classes)\n",
    "    CM_dict = {c: perClassCM[i] for i,c in enumerate(fg_classes)}\n",
    "    \n",
    "    IoU = [ CM_dict[k][1,1] / ( CM_dict[k][1,1] + CM_dict[k][0,1] + CM_dict[k][1,0] + 1e-5) for k in CM_dict]\n",
    "#     print(\"IoU\",IoU)\n",
    "    \n",
    "    DSC = [ 2*CM_dict[k][1,1] / ( 2*CM_dict[k][1,1] + CM_dict[k][0,1] + CM_dict[k][1,0] + 1e-5) for k in CM_dict]\n",
    "#     print(\"DSC\",DSC)\n",
    "        \n",
    "    scores_dict = {c: {\"DICE\": DSC[i], \"IoU\": IoU[i]} for i,c in enumerate(classes)}\n",
    "#     scores_dict[\"foreground\"]= {\"DICE\": DSC_fg_bg[0], \"IoU\": IoU_fg_bg[0]}\n",
    "    \n",
    "    return scores_dict\n",
    "\n",
    "def find_bboxes2(labels):\n",
    "    props_labels = regionprops(labels)\n",
    "    \n",
    "    bboxes = []\n",
    "    masks = []\n",
    "    for prop in props_labels:\n",
    "#         if prop.area > 15:\n",
    "        bbox = np.array(prop.bbox)\n",
    "        bboxes.append(bbox)\n",
    "        masks.append(prop.image)\n",
    "\n",
    "    return bboxes , masks\n",
    "\n",
    "def is_false_detection(det_msk, gt_label):\n",
    "    intersection = (gt_label*det_msk).sum()\n",
    "    return intersection == 0.0\n",
    "\n",
    "def compute_false_positives_OLD(image_lst, gen_lst, device='cpu', bins=[], all_classes={'foreground':[1,2], 'penumbra':[1], 'umbra':[2]}):\n",
    "#     all_classes = {'foreground':[1,2], 'penumbra':[1], 'umbra':[2]}\n",
    "    \n",
    "    bin2FP_dict = {c: {str(i): {'num_false_positives': 0,\n",
    "                             'total_pixel_area': 0, \n",
    "                             \"false_positives\":[],\n",
    "                             \"true_positives\":[],\n",
    "                            }\n",
    "                             for i in range(len(bins))}\n",
    "                     for c,ids in all_classes.items()\n",
    "                    }\n",
    "    \n",
    "    for i in tqdm(range(len(image_lst)),leave=False):\n",
    "        basename = os.path.splitext(os.path.basename(image_lst[i]))[0]\n",
    "\n",
    "        test_img = imread(image_lst[i])\n",
    "        gt_label = imread(gt_lst[i])\n",
    "        candidate_label = imread(gen_lst[i])\n",
    "        \n",
    "        for c_name, c_ids in (pbar :=tqdm(all_classes.items(), leave=False)): # foreground, penumbra, umbra\n",
    "                pbar.set_description(f\"{c_name}\")\n",
    "                                     \n",
    "                # Get the binary version of the masks \n",
    "                gt_class_fg, candidate_class_fg = get_class_binary_mask(gt_label, candidate_label, c_ids)\n",
    "\n",
    "                # Get the regions (connected components) properties of masks\n",
    "                label_im = label(gt_class_fg)\n",
    "                props_bboxes, props_masks = find_bboxes2(label_im)\n",
    "\n",
    "                label_gen = label(candidate_class_fg)\n",
    "                props_bboxes_gen, props_masks_gen = find_bboxes2(label_gen)\n",
    "\n",
    "                # Create isolated masks for each connected component\n",
    "                whole_m2 = np.array([np.zeros_like(gt_class_fg) for item in props_masks_gen])\n",
    "                for idx, b in enumerate(props_bboxes_gen):\n",
    "                    whole_m2[idx][b[0]:b[2], b[1]:b[3]] = props_masks_gen[idx]\n",
    "                                     \n",
    "                for j in tqdm(range(len(props_bboxes_gen[:])),leave=False):\n",
    "                    bbox = props_bboxes_gen[j]\n",
    "\n",
    "                    cur_m_gen = whole_m2[j]\n",
    "                    m_gen_area = np.sum(props_masks_gen[j])\n",
    "\n",
    "\n",
    "                    cur_bin = -1\n",
    "                    for b in bins:\n",
    "                        if (b[0] <= m_gen_area ) and (b[1]>=m_gen_area):\n",
    "                            cur_bin = bins.index(b)\n",
    "                    \n",
    "                    is_false = is_false_detection(cur_m_gen, gt_class_fg)\n",
    "            \n",
    "                    details = {\"image\": basename, 'bbox': bbox, 'false_positive': is_false, \"area\": m_gen_area }\n",
    "\n",
    "                    if is_false:\n",
    "                        bin2FP_dict[c_name][str(cur_bin)]['num_false_positives'] += 1\n",
    "                        bin2FP_dict[c_name][str(cur_bin)]['total_pixel_area'] += m_gen_area\n",
    "\n",
    "                        bin2FP_dict[c_name][str(cur_bin)]['false_positives'].append(details)\n",
    "                    else:\n",
    "                        bin2FP_dict[c_name][str(cur_bin)]['true_positives'].append(details)\n",
    "            \n",
    "    return bin2FP_dict\n",
    "\n",
    "\n",
    "def compute_false_positives_img(i, image_lst, gt_lst, gen_lst, all_classes, bins, conf_thresh=.5):\n",
    "    basename = os.path.splitext(os.path.basename(image_lst[i]))[0]\n",
    "    \n",
    "    test_b = basename\n",
    "    gt_b = os.path.splitext(os.path.basename(gt_lst[i]))[0]\n",
    "    gen_b = os.path.splitext(os.path.basename(gen_lst[i]))[0]\n",
    "\n",
    "    is_proba_map = gen_b.endswith('_proba_map')\n",
    "    if is_proba_map:\n",
    "        gen_b = gen_b[:-len('_proba_map')]\n",
    "\n",
    "    assert test_b == gt_b == gen_b\n",
    "\n",
    "    test_img = imread(image_lst[i])\n",
    "    gt_label = imread(gt_lst[i])\n",
    "    if is_proba_map:\n",
    "        # Get the binary version of the candidate label mask\n",
    "        candidate_label = np.load(gen_lst[i])\n",
    "        candidate_label = (candidate_label > conf_thresh).astype(int)\n",
    "    else:\n",
    "        candidate_label = imread(gen_lst[i])\n",
    "\n",
    "    \n",
    "    \n",
    "    cur_FP_dict = {c:{str(b_i):{'num_false_positives': 0,\n",
    "                             'total_pixel_area': 0, \n",
    "                             \"false_positives\":[],\n",
    "                             \"true_positives\":[],\n",
    "                            } for b_i in range(len(bins))} for c in all_classes}\n",
    "\n",
    "    for c_name, c_ids in (pbar :=tqdm(all_classes.items(), leave=False)): # foreground, penumbra, umbra\n",
    "        pbar.set_description(f\"{c_name}\")\n",
    "\n",
    "        # Get the binary version of the masks \n",
    "        gt_class_fg, candidate_class_fg = get_class_binary_mask(gt_label, candidate_label, c_ids)\n",
    "\n",
    "        # Get the regions (connected components) properties of masks\n",
    "        label_im = label(gt_class_fg)\n",
    "        props_bboxes, props_masks = find_bboxes2(label_im)\n",
    "\n",
    "        label_gen = label(candidate_class_fg)\n",
    "        props_bboxes_gen, props_masks_gen = find_bboxes2(label_gen)\n",
    "\n",
    "        # Create isolated masks for each connected component\n",
    "        whole_m2 = np.array([np.zeros_like(gt_class_fg) for item in props_masks_gen])\n",
    "        for idx, b in enumerate(props_bboxes_gen):\n",
    "            whole_m2[idx][b[0]:b[2], b[1]:b[3]] = props_masks_gen[idx]\n",
    "\n",
    "        for j in tqdm(range(len(props_bboxes_gen[:])),leave=False):\n",
    "            bbox = props_bboxes_gen[j]\n",
    "\n",
    "            cur_m_gen = whole_m2[j]\n",
    "            m_gen_area = np.sum(props_masks_gen[j])\n",
    "\n",
    "\n",
    "            cur_bin = -1\n",
    "            for b in bins:\n",
    "                if (b[0] <= m_gen_area ) and (b[1]>=m_gen_area):\n",
    "                    cur_bin = bins.index(b)\n",
    "\n",
    "            is_false = is_false_detection(cur_m_gen, gt_class_fg)\n",
    "\n",
    "            details = {\"image\": basename, 'bbox': bbox, 'false_positive': is_false, \"area\": m_gen_area }\n",
    "\n",
    "            if is_false:\n",
    "#                 bin2FP_dict[c_name][str(cur_bin)]['num_false_positives'] += 1\n",
    "#                 bin2FP_dict[c_name][str(cur_bin)]['total_pixel_area'] += m_gen_area\n",
    "#                 bin2FP_dict[c_name][str(cur_bin)]['false_positives'].append(details)\n",
    "                \n",
    "                cur_FP_dict[c_name][str(cur_bin)]['num_false_positives'] += 1\n",
    "                cur_FP_dict[c_name][str(cur_bin)]['total_pixel_area'] += m_gen_area\n",
    "                cur_FP_dict[c_name][str(cur_bin)]['false_positives'].append(details)\n",
    "                \n",
    "                \n",
    "            else:\n",
    "#                 bin2FP_dict[c_name][str(cur_bin)]['true_positives'].append(details)\n",
    "                cur_FP_dict[c_name][str(cur_bin)]['true_positives'].append(details)\n",
    "                \n",
    "    return cur_FP_dict\n",
    "    \n",
    "\n",
    "\n",
    "def compute_false_positives(image_lst, gen_lst, device='cpu', bins=[], all_classes={'foreground':[1,2], 'penumbra':[1], 'umbra':[2]}):\n",
    "#     all_classes = {'foreground':[1,2], 'penumbra':[1], 'umbra':[2]}\n",
    "#     print(\"here\")\n",
    "    bin2FP_dict = {c: {str(i): {'num_false_positives': 0,\n",
    "                             'total_pixel_area': 0, \n",
    "                             \"false_positives\":[],\n",
    "                             \"true_positives\":[],\n",
    "                            }\n",
    "                             for i in range(len(bins))}\n",
    "                     for c,ids in all_classes.items()\n",
    "                    }\n",
    "    \n",
    "    \n",
    "    num_cpu = multiprocessing.cpu_count()\n",
    "    with concurrent.futures.ProcessPoolExecutor(max_workers=int(np.floor(0.9*num_cpu))) as executor:\n",
    "        \n",
    "        for cur_FP_dict in tqdm(executor.map(compute_false_positives_img, \n",
    "                                                  range(len(image_lst)),\n",
    "                                                  repeat(image_lst), repeat(gt_lst), repeat(gen_lst), \n",
    "                                                  repeat(all_classes), repeat(bins))):\n",
    "            for c in all_classes:\n",
    "                for b in range(len(bins)):\n",
    "                    bin2FP_dict[c][str(b)][\"num_false_positives\"] += cur_FP_dict[c][str(b)][\"num_false_positives\"]\n",
    "                    bin2FP_dict[c][str(b)][\"total_pixel_area\"] += cur_FP_dict[c][str(b)][\"total_pixel_area\"]\n",
    "                    bin2FP_dict[c][str(b)][\"false_positives\"].extend(cur_FP_dict[c][str(b)][\"false_positives\"])\n",
    "                    bin2FP_dict[c][str(b)][\"true_positives\"].extend(cur_FP_dict[c][str(b)][\"true_positives\"])\n",
    "\n",
    "def compute_false_positives2(image_lst, gen_lst, device='cpu', bins=[], all_classes={'foreground':[1,2], 'penumbra':[1], 'umbra':[2]}, conf_thresh=0.5):\n",
    "#     all_classes = {'foreground':[1,2], 'penumbra':[1], 'umbra':[2]}\n",
    "#     print(\"here\")\n",
    "    bin2FP_dict = {c: {str(i): {'num_false_positives': 0,\n",
    "                             'total_pixel_area': 0, \n",
    "                             \"false_positives\":[],\n",
    "                             \"true_positives\":[],\n",
    "                            }\n",
    "                             for i in range(len(bins))}\n",
    "                     for c,ids in all_classes.items()\n",
    "                    }\n",
    "    \n",
    "    for idx in tqdm(range(len(image_lst))):\n",
    "        cur_FP_dict = compute_false_positives_img (idx, image_lst, gt_lst, gen_lst, all_classes, bins, conf_thresh)\n",
    "        for c in all_classes:\n",
    "                for b in range(len(bins)):\n",
    "                    bin2FP_dict[c][str(b)][\"num_false_positives\"] += cur_FP_dict[c][str(b)][\"num_false_positives\"]\n",
    "                    bin2FP_dict[c][str(b)][\"total_pixel_area\"] += cur_FP_dict[c][str(b)][\"total_pixel_area\"]\n",
    "                    bin2FP_dict[c][str(b)][\"false_positives\"].extend(cur_FP_dict[c][str(b)][\"false_positives\"])\n",
    "                    bin2FP_dict[c][str(b)][\"true_positives\"].extend(cur_FP_dict[c][str(b)][\"true_positives\"])\n",
    "                       \n",
    "    return bin2FP_dict\n",
    "\n",
    "    \n",
    "  \n",
    "        "
   ]
  },
  {
   "cell_type": "code",
   "execution_count": 7,
   "metadata": {},
   "outputs": [],
   "source": [
    "def find_closest_in_pred2(gt_m, gen_m_lst):\n",
    "\n",
    "    intersections = np.repeat(gt_m[None,:,:], gen_m_lst.shape[0], axis=0)*gen_m_lst   \n",
    "\n",
    "    sum_intersections = np.sum(intersections, axis=(1,2))\n",
    "\n",
    "    top_idx = np.argmax(sum_intersections)\n",
    "    top = np.max(sum_intersections)\n",
    "   \n",
    "    out_mask = None if top_idx == -1 else gen_m_lst[top_idx]\n",
    "\n",
    "    return out_mask, top, top_idx\n"
   ]
  },
  {
   "cell_type": "code",
   "execution_count": 8,
   "metadata": {},
   "outputs": [],
   "source": [
    "def get_gt_bin_sizes(image_lst, gt_lst, bins=[]):\n",
    "    binned_sunspots = {i: [] for i in range(len(bins))}\n",
    "    \n",
    "    for i in tqdm(range(len(image_lst)),leave=False):\n",
    "        basename = os.path.splitext(os.path.basename(image_lst[i]))[0]\n",
    "\n",
    "#         test_img = imread(image_lst[i])\n",
    "        gt_label = imread(gt_lst[i])\n",
    "        \n",
    "        gt_label_fg_bg = gt_label.copy()\n",
    "        gt_label_fg_bg[gt_label_fg_bg>0] = 1\n",
    "        \n",
    "        label_im = label(gt_label_fg_bg)\n",
    "        props_bboxes, props_masks = find_bboxes2(label_im)\n",
    "        \n",
    "        for j in tqdm(range(len(props_bboxes[:])),leave=False):\n",
    "            bbox = props_bboxes[j]\n",
    "            m = props_masks[j]\n",
    "            \n",
    "            area = np.sum(m)\n",
    "            \n",
    "            cur_bin = -1\n",
    "            for b in bins:\n",
    "                if (b[0] <= area ) and (b[1]>=area):\n",
    "                    cur_bin = bins.index(b)\n",
    "            \n",
    "            details = {\"image\": basename, 'bbox': bbox}\n",
    "            \n",
    "            binned_sunspots[cur_bin].append(details)\n",
    "    return binned_sunspots"
   ]
  },
  {
   "cell_type": "code",
   "execution_count": 9,
   "metadata": {},
   "outputs": [],
   "source": [
    "def binning_sunspots3_OLD(image_lst, gen_lst, device='cpu', bins =[], all_classes={'foreground':[1,2], 'penumbra':[1], 'umbra':[2]}):\n",
    "\n",
    "#     bin2bbox_dict_umbra = {i: {'DICE':[], 'IoU':[]} for i in range(len(bins))}\n",
    "#     bin2bbox_dict_penumbra = {i: {'DICE':[], 'IoU':[]} for i in range(len(bins))}\n",
    "#     bin2bbox_dict_fg_bg = {i: {'DICE':[], 'IoU':[]} for i in range(len(bins))}\n",
    "\n",
    "    bin2bbox_dict =  {c: {str(i): {'DICE':[], 'IoU':[]} for i in range(len(bins))}\n",
    "                         for c,ids in all_classes.items()}\n",
    "    \n",
    "    for i in tqdm(range(len(image_lst)),leave=False):\n",
    "        basename = os.path.splitext(os.path.basename(image_lst[i]))[0]\n",
    "        test_b = basename\n",
    "        gt_b = os.path.splitext(os.path.basename(gt_lst[i]))[0]\n",
    "        gen_b = os.path.splitext(os.path.basename(gen_lst[i]))[0]\n",
    "        assert test_b == gt_b == gen_b\n",
    "        \n",
    "        test_img = imread(image_lst[i])\n",
    "        gt_label = imread(gt_lst[i])\n",
    "        candidate_label = imread(gen_lst[i])\n",
    "        \n",
    "        for c_name, c_ids in (pbar :=tqdm(all_classes.items(), leave=False)): # foreground, penumbra, umbra\n",
    "            pbar.set_description(f\"{c_name}\")\n",
    "            \n",
    "            # Get the binary version of the masks \n",
    "            gt_class_fg, candidate_class_fg = get_class_binary_mask(gt_label, candidate_label, c_ids)\n",
    "            \n",
    "            # Get the regions (connected components) properties of masks\n",
    "            label_im = label(gt_class_fg)\n",
    "            props_bboxes, props_masks = find_bboxes2(label_im)\n",
    "\n",
    "            label_gen = label(candidate_class_fg)\n",
    "            props_bboxes_gen, props_masks_gen = find_bboxes2(label_gen)\n",
    "        \n",
    "            # Create isolated masks for each connected component\n",
    "            whole_m2 = np.array([np.zeros_like(gt_class_fg) for item in props_masks_gen])\n",
    "            for idx, b in enumerate(props_bboxes_gen):\n",
    "                whole_m2[idx][b[0]:b[2], b[1]:b[3]] = props_masks_gen[idx]\n",
    "            \n",
    "            # Loop over all regions\n",
    "            for j in tqdm(range(len(props_bboxes[:])),leave=False):\n",
    "                bbox = props_bboxes[j]\n",
    "                m = props_masks[j]\n",
    "\n",
    "                area = np.sum(m)\n",
    "\n",
    "                minX,maxX = max(bbox[0]-padding, 0), min( bbox[2]+padding, test_img.shape[0])\n",
    "                minY,maxY = max(bbox[1]-padding, 0), min( bbox[3]+padding, test_img.shape[1])\n",
    "\n",
    "                bbox2 = [minX,minY,maxX,maxY]\n",
    "                \n",
    "                # Identify the bins the region belongs to.\n",
    "                cur_bin = -1\n",
    "                for b in bins:\n",
    "                    if (b[0] <= area ) and (b[1]>=area):\n",
    "                        cur_bin = bins.index(b)\n",
    "                        \n",
    "                whole_m = np.zeros_like(gt_class_fg)\n",
    "                whole_m[bbox[0]:bbox[2], bbox[1]:bbox[3]] = m\n",
    "                \n",
    "                if whole_m2.shape[0] != 0: # generated mask is not empty\n",
    "                    # Find closest region in prediction/generated mask\n",
    "                    m_closest_in_gen, match_intersection, match_idx = find_closest_in_pred2(\n",
    "                                                                            whole_m, whole_m2)\n",
    "                    if m_closest_in_gen is not None:\n",
    "                        # Compute metric scores between gt and mask\n",
    "                        union = np.logical_or(m_closest_in_gen, whole_m)\n",
    "                        label_union = label(union)\n",
    "                        union_b = regionprops(label_union)[0].bbox\n",
    "\n",
    "                        reduced_m = whole_m[union_b[0]:union_b[2],\n",
    "                                                          union_b[1]:union_b[3] ]\n",
    "                        reduced_closest = m_closest_in_gen[union_b[0]:union_b[2],\n",
    "                                                          union_b[1]:union_b[3] ]\n",
    "\n",
    "                        score_dict_fg_bg = get_scores_dict(reduced_m, reduced_closest, [1]) \n",
    "#                         print(score_dict_fg_bg)\n",
    "                        \n",
    "#                        cur_score_dict = {k:v for k,v in score_dict.items()}\n",
    "                        \n",
    "                        cur_score_dict = {c_name:score_dict_fg_bg[1]}\n",
    "                        \n",
    "                    else: # No corresponding detection\n",
    "                        cur_score_dict = {c_name: {\"DICE\": 0.0, \"IoU\": 0.0}}\n",
    "\n",
    "                    details = {\"image\": basename, 'bbox': bbox2, 'misdetected': match_intersection == 0.0 }\n",
    "\n",
    "                else:\n",
    "                    cur_score_dict = {c_name: {\"DICE\": 0.0, \"IoU\": 0.0}}\n",
    "                    details = {\"image\": basename, 'bbox': bbox2, 'misdetected': True }\n",
    "                    \n",
    "                    \n",
    "                bin2bbox_dict[c_name][str(cur_bin)]['DICE'].append({'value': cur_score_dict[c_name]['DICE'],\n",
    "                                                               'details': details})\n",
    "                bin2bbox_dict[c_name][str(cur_bin)]['IoU'].append({'value': cur_score_dict[c_name]['IoU'],\n",
    "                                                           'details': details})\n",
    " \n",
    "    return     bin2bbox_dict\n",
    "\n",
    "\n",
    "def get_class_binary_mask(gt_mask, candidate_mask ,class_ids):\n",
    "    gt_label_class=np.zeros_like(gt_mask)\n",
    "    for i in class_ids:\n",
    "        gt_label_class[gt_mask == i] = 1\n",
    "    \n",
    "    candidate_label_class=np.zeros_like(gt_mask)\n",
    "    for i in class_ids:\n",
    "        candidate_label_class[candidate_mask == i] = 1\n",
    "    \n",
    "    return gt_label_class, candidate_label_class\n",
    "\n",
    "\n",
    "def binning_sunspot_img_OLD(i, image_lst, gt_lst, gen_lst, all_classes, bins):\n",
    "    basename = os.path.splitext(os.path.basename(image_lst[i]))[0]\n",
    "    test_b = basename\n",
    "    gt_b = os.path.splitext(os.path.basename(gt_lst[i]))[0]\n",
    "    gen_b = os.path.splitext(os.path.basename(gen_lst[i]))[0]\n",
    "    assert test_b == gt_b == gen_b\n",
    "\n",
    "    test_img = imread(image_lst[i])\n",
    "    gt_label = imread(gt_lst[i])\n",
    "    candidate_label = imread(gen_lst[i])\n",
    "    \n",
    "    cur_DICE_IoU_dict = {c:{str(b_i):{\"DICE\":[],\"IoU\":[]} for b_i in range(len(bins))} for c in all_classes}\n",
    "\n",
    "    for c_name, c_ids in (pbar :=tqdm(all_classes.items(), leave=False)): # foreground, penumbra, umbra\n",
    "        pbar.set_description(f\"{c_name}\")\n",
    "\n",
    "        # Get the binary version of the masks \n",
    "        gt_class_fg, candidate_class_fg = get_class_binary_mask(gt_label, candidate_label, c_ids)\n",
    "\n",
    "        # Get the regions (connected components) properties of masks\n",
    "        label_im = label(gt_class_fg)\n",
    "        props_bboxes, props_masks = find_bboxes2(label_im)\n",
    "\n",
    "        label_gen = label(candidate_class_fg)\n",
    "        props_bboxes_gen, props_masks_gen = find_bboxes2(label_gen)\n",
    "\n",
    "        # Create isolated masks for each connected component\n",
    "        whole_m2 = np.array([np.zeros_like(gt_class_fg) for item in props_masks_gen])\n",
    "        for idx, b in enumerate(props_bboxes_gen):\n",
    "            whole_m2[idx][b[0]:b[2], b[1]:b[3]] = props_masks_gen[idx]\n",
    "\n",
    "        # Loop over all regions\n",
    "        for j in tqdm(range(len(props_bboxes[:])),leave=False):\n",
    "            bbox = props_bboxes[j]\n",
    "            m = props_masks[j]\n",
    "\n",
    "            area = np.sum(m)\n",
    "\n",
    "            minX,maxX = max(bbox[0]-padding, 0), min( bbox[2]+padding, test_img.shape[0])\n",
    "            minY,maxY = max(bbox[1]-padding, 0), min( bbox[3]+padding, test_img.shape[1])\n",
    "\n",
    "            bbox2 = [minX,minY,maxX,maxY]\n",
    "\n",
    "            # Identify the bins the region belongs to.\n",
    "            cur_bin = -1\n",
    "            for b in bins:\n",
    "                if (b[0] <= area ) and (b[1]>=area):\n",
    "                    cur_bin = bins.index(b)\n",
    "\n",
    "            whole_m = np.zeros_like(gt_class_fg)\n",
    "            whole_m[bbox[0]:bbox[2], bbox[1]:bbox[3]] = m\n",
    "\n",
    "            if whole_m2.shape[0] != 0: # generated mask is not empty\n",
    "                # Find closest region in prediction/generated mask\n",
    "                m_closest_in_gen, match_intersection, match_idx = find_closest_in_pred2(\n",
    "                                                                        whole_m, whole_m2)\n",
    "                if m_closest_in_gen is not None:\n",
    "                    # Compute metric scores between gt and mask\n",
    "                    union = np.logical_or(m_closest_in_gen, whole_m)\n",
    "                    label_union = label(union)\n",
    "                    union_b = regionprops(label_union)[0].bbox\n",
    "\n",
    "                    reduced_m = whole_m[union_b[0]:union_b[2],\n",
    "                                                      union_b[1]:union_b[3] ]\n",
    "                    reduced_closest = m_closest_in_gen[union_b[0]:union_b[2],\n",
    "                                                      union_b[1]:union_b[3] ]\n",
    "\n",
    "                    score_dict_fg_bg = get_scores_dict(reduced_m, reduced_closest, [1]) \n",
    "#                         print(score_dict_fg_bg)\n",
    "\n",
    "#                        cur_score_dict = {k:v for k,v in score_dict.items()}\n",
    "\n",
    "                    cur_score_dict = {c_name:score_dict_fg_bg[1]}\n",
    "\n",
    "                else: # No corresponding detection\n",
    "                    cur_score_dict = {c_name: {\"DICE\": 0.0, \"IoU\": 0.0}}\n",
    "\n",
    "                details = {\"image\": basename, 'bbox': bbox2, 'misdetected': match_intersection == 0.0 }\n",
    "\n",
    "            else:\n",
    "                cur_score_dict = {c_name: {\"DICE\": 0.0, \"IoU\": 0.0}}\n",
    "                details = {\"image\": basename, 'bbox': bbox2, 'misdetected': True }\n",
    "\n",
    "\n",
    "#             bin2bbox_dict[c_name][str(cur_bin)]['DICE'].append({'value': cur_score_dict[c_name]['DICE'],\n",
    "#                                                            'details': details})\n",
    "#             bin2bbox_dict[c_name][str(cur_bin)]['IoU'].append({'value': cur_score_dict[c_name]['IoU'],\n",
    "#                                                        'details': details})\n",
    "            cur_DICE_IoU_dict[c_name][str(cur_bin)]['DICE'].append({'value': cur_score_dict[c_name]['DICE'],\n",
    "                                                       'details': details})\n",
    "            cur_DICE_IoU_dict[c_name][str(cur_bin)]['IoU'].append({'value': cur_score_dict[c_name]['IoU'],\n",
    "                                                       'details': details})\n",
    "    return cur_DICE_IoU_dict  \n",
    "\n",
    "def binning_sunspot_img(i, image_lst, gt_lst, gen_lst, all_classes, bins, conf_thresh=.5):\n",
    "    basename = os.path.splitext(os.path.basename(image_lst[i]))[0]\n",
    "    test_b = basename\n",
    "    gt_b = os.path.splitext(os.path.basename(gt_lst[i]))[0]\n",
    "    gen_b = os.path.splitext(os.path.basename(gen_lst[i]))[0]\n",
    "\n",
    "    is_proba_map = gen_b.endswith('_proba_map')\n",
    "    if is_proba_map:\n",
    "        gen_b = gen_b[:-len('_proba_map')]\n",
    "\n",
    "    # print(test_b,'\\n', gt_b,'\\n', gen_b)\n",
    "\n",
    "    assert test_b == gt_b == gen_b\n",
    "\n",
    "    test_img = imread(image_lst[i])\n",
    "    gt_label = imread(gt_lst[i])\n",
    "    if is_proba_map:\n",
    "        # Get the binary version of the candidate label mask\n",
    "        candidate_label = np.load(gen_lst[i])\n",
    "        candidate_label = (candidate_label > conf_thresh).astype(int)\n",
    "    else:\n",
    "        candidate_label = imread(gen_lst[i])\n",
    "\n",
    "    # assert test_b == gt_b == gen_b\n",
    "\n",
    "    # test_img = imread(image_lst[i])\n",
    "    # gt_label = imread(gt_lst[i])\n",
    "    # candidate_label = imread(gen_lst[i])\n",
    "    \n",
    "    cur_DICE_IoU_dict = {c:{str(b_i):{\"DICE\":[],\"IoU\":[]} for b_i in range(len(bins))} for c in all_classes}\n",
    "\n",
    "    for c_name, c_ids in (pbar :=tqdm(all_classes.items(), leave=False)): # foreground, penumbra, umbra\n",
    "        pbar.set_description(f\"{c_name}\")\n",
    "\n",
    "        # Get the binary version of the masks \n",
    "        gt_class_fg, candidate_class_fg = get_class_binary_mask(gt_label, candidate_label, c_ids)\n",
    "\n",
    "        # Get the regions (connected components) properties of masks\n",
    "        label_im = label(gt_class_fg)\n",
    "        props_bboxes, props_masks = find_bboxes2(label_im)\n",
    "\n",
    "        label_gen = label(candidate_class_fg)\n",
    "        props_bboxes_gen, props_masks_gen = find_bboxes2(label_gen)\n",
    "\n",
    "        # Create isolated masks for each connected component\n",
    "        whole_m2 = np.array([np.zeros_like(gt_class_fg) for item in props_masks_gen])\n",
    "        for idx, b in enumerate(props_bboxes_gen):\n",
    "            whole_m2[idx][b[0]:b[2], b[1]:b[3]] = props_masks_gen[idx]\n",
    "\n",
    "        # Loop over all regions\n",
    "        for j in tqdm(range(len(props_bboxes[:])),leave=False):\n",
    "            bbox = props_bboxes[j]\n",
    "            m = props_masks[j]\n",
    "\n",
    "            area = np.sum(m)\n",
    "\n",
    "            minX,maxX = max(bbox[0]-padding, 0), min( bbox[2]+padding, test_img.shape[0])\n",
    "            minY,maxY = max(bbox[1]-padding, 0), min( bbox[3]+padding, test_img.shape[1])\n",
    "\n",
    "            bbox2 = [minX,minY,maxX,maxY]\n",
    "\n",
    "            # Identify the bins the region belongs to.\n",
    "            cur_bin = -1\n",
    "            for b in bins:\n",
    "                if (b[0] <= area ) and (b[1]>=area):\n",
    "                    cur_bin = bins.index(b)\n",
    "\n",
    "            whole_m = np.zeros_like(gt_class_fg)\n",
    "            whole_m[bbox[0]:bbox[2], bbox[1]:bbox[3]] = m\n",
    "\n",
    "            if whole_m2.shape[0] != 0: # generated mask is not empty\n",
    "                # Find closest region in prediction/generated mask\n",
    "                m_closest_in_gen, match_intersection, match_idx = find_closest_in_pred2(\n",
    "                                                                        whole_m, whole_m2)\n",
    "                if m_closest_in_gen is not None:\n",
    "                    # Compute metric scores between gt and mask\n",
    "                    union = np.logical_or(m_closest_in_gen, whole_m)\n",
    "                    label_union = label(union)\n",
    "                    union_b = regionprops(label_union)[0].bbox\n",
    "\n",
    "                    reduced_m = whole_m[union_b[0]:union_b[2],\n",
    "                                                      union_b[1]:union_b[3] ]\n",
    "                    reduced_closest = m_closest_in_gen[union_b[0]:union_b[2],\n",
    "                                                      union_b[1]:union_b[3] ]\n",
    "\n",
    "                    score_dict_fg_bg = get_scores_dict(reduced_m, reduced_closest, [1]) \n",
    "#                         print(score_dict_fg_bg)\n",
    "\n",
    "#                        cur_score_dict = {k:v for k,v in score_dict.items()}\n",
    "\n",
    "                    cur_score_dict = {c_name:score_dict_fg_bg[1]}\n",
    "\n",
    "                else: # No corresponding detection\n",
    "                    cur_score_dict = {c_name: {\"DICE\": 0.0, \"IoU\": 0.0}}\n",
    "\n",
    "                details = {\"image\": basename, 'bbox': bbox2, 'misdetected': match_intersection == 0.0 }\n",
    "\n",
    "            else:\n",
    "                cur_score_dict = {c_name: {\"DICE\": 0.0, \"IoU\": 0.0}}\n",
    "                details = {\"image\": basename, 'bbox': bbox2, 'misdetected': True }\n",
    "\n",
    "            cur_DICE_IoU_dict[c_name][str(cur_bin)]['DICE'].append({'value': cur_score_dict[c_name]['DICE'],\n",
    "                                                       'details': details})\n",
    "            cur_DICE_IoU_dict[c_name][str(cur_bin)]['IoU'].append({'value': cur_score_dict[c_name]['IoU'],\n",
    "                                                       'details': details})\n",
    "    return cur_DICE_IoU_dict  \n",
    "    \n",
    "\n",
    "def binning_sunspots3(image_lst, gen_lst, device='cpu', bins =[], all_classes={'foreground':[1,2], 'penumbra':[1], 'umbra':[2]}, conf_thresh=.5):\n",
    "    bin2bbox_dict =  {c: {str(i): {'DICE':[], 'IoU':[]} for i in range(len(bins))}\n",
    "                         for c,ids in all_classes.items()}\n",
    "    \n",
    "    num_cpu = multiprocessing.cpu_count()\n",
    "    with concurrent.futures.ProcessPoolExecutor(max_workers=int(np.floor(0.9*num_cpu))) as executor:\n",
    "        \n",
    "        for cur_img_bin_dict in tqdm(executor.map(binning_sunspot_img, \n",
    "                                                  range(len(image_lst)),\n",
    "                                                  repeat(image_lst), repeat(gt_lst), repeat(gen_lst), \n",
    "                                                  repeat(all_classes), repeat(bins),\n",
    "                                                  repeat(conf_thresh))):\n",
    "            for c in all_classes:\n",
    "                for b in range(len(bins)):\n",
    "                    bin2bbox_dict[c][str(b)][\"DICE\"].extend(cur_img_bin_dict[c][str(b)][\"DICE\"])\n",
    "                    bin2bbox_dict[c][str(b)][\"IoU\"].extend(cur_img_bin_dict[c][str(b)][\"IoU\"])\n",
    "        \n",
    "        \n",
    "#         for i in tqdm(range(len(image_lst)),leave=False):\n",
    "            \n",
    "    return     bin2bbox_dict\n",
    "\n",
    "def binning_sunspots4(image_lst, gen_lst, device='cpu', bins =[], all_classes={'foreground':[1,2], 'penumbra':[1], 'umbra':[2]}, conf_thresh=.5):\n",
    "    bin2bbox_dict =  {c: {str(i): {'DICE':[], 'IoU':[]} for i in range(len(bins))}\n",
    "                         for c,ids in all_classes.items()}\n",
    "    \n",
    "\n",
    "    for idx in tqdm(range(len(image_lst))):\n",
    "        cur_img_bin_dict = binning_sunspot_img(idx, image_lst, gt_lst, gen_lst, all_classes, bins, conf_thresh)\n",
    "        for c in all_classes:\n",
    "            for b in range(len(bins)):\n",
    "                bin2bbox_dict[c][str(b)][\"DICE\"].extend(cur_img_bin_dict[c][str(b)][\"DICE\"])\n",
    "                bin2bbox_dict[c][str(b)][\"IoU\"].extend(cur_img_bin_dict[c][str(b)][\"IoU\"])\n",
    "        \n",
    "    \n",
    "#     num_cpu = multiprocessing.cpu_count()\n",
    "#     with concurrent.futures.ProcessPoolExecutor(max_workers=int(np.floor(0.9*num_cpu))) as executor:\n",
    "        \n",
    "#         for cur_img_bin_dict in tqdm(executor.map(binning_sunspot_img, \n",
    "#                                                   range(len(image_lst)),\n",
    "#                                                   repeat(image_lst), repeat(gt_lst), repeat(gen_lst), \n",
    "#                                                   repeat(all_classes), repeat(bins),\n",
    "#                                                   repeat(conf_thresh))):\n",
    "#             for c in all_classes:\n",
    "#                 for b in range(len(bins)):\n",
    "#                     bin2bbox_dict[c][str(b)][\"DICE\"].extend(cur_img_bin_dict[c][str(b)][\"DICE\"])\n",
    "#                     bin2bbox_dict[c][str(b)][\"IoU\"].extend(cur_img_bin_dict[c][str(b)][\"IoU\"])\n",
    "        \n",
    "        \n",
    "# #         for i in tqdm(range(len(image_lst)),leave=False):\n",
    "            \n",
    "    return     bin2bbox_dict\n"
   ]
  },
  {
   "cell_type": "code",
   "execution_count": 10,
   "metadata": {},
   "outputs": [],
   "source": [
    "padding = 5\n",
    "fg_classes = [1]\n",
    "bins = [[1,50],[51,100],[101,400],[401,800],[801,np.inf]]\n",
    "# bins = [[1,50],[51,100],[101,400],[401,800],[801,1200], [1201,2000], [2000,3000], [3000,np.inf]]"
   ]
  },
  {
   "cell_type": "code",
   "execution_count": 11,
   "metadata": {},
   "outputs": [
    {
     "data": {
      "application/vnd.jupyter.widget-view+json": {
       "model_id": "",
       "version_major": 2,
       "version_minor": 0
      },
      "text/plain": [
       "  0%|          | 0/36 [00:00<?, ?it/s]"
      ]
     },
     "metadata": {},
     "output_type": "display_data"
    },
    {
     "data": {
      "application/vnd.jupyter.widget-view+json": {
       "model_id": "",
       "version_major": 2,
       "version_minor": 0
      },
      "text/plain": [
       "  0%|          | 0/17 [00:00<?, ?it/s]"
      ]
     },
     "metadata": {},
     "output_type": "display_data"
    },
    {
     "data": {
      "application/vnd.jupyter.widget-view+json": {
       "model_id": "",
       "version_major": 2,
       "version_minor": 0
      },
      "text/plain": [
       "  0%|          | 0/6 [00:00<?, ?it/s]"
      ]
     },
     "metadata": {},
     "output_type": "display_data"
    },
    {
     "data": {
      "application/vnd.jupyter.widget-view+json": {
       "model_id": "",
       "version_major": 2,
       "version_minor": 0
      },
      "text/plain": [
       "  0%|          | 0/35 [00:00<?, ?it/s]"
      ]
     },
     "metadata": {},
     "output_type": "display_data"
    },
    {
     "data": {
      "application/vnd.jupyter.widget-view+json": {
       "model_id": "",
       "version_major": 2,
       "version_minor": 0
      },
      "text/plain": [
       "  0%|          | 0/27 [00:00<?, ?it/s]"
      ]
     },
     "metadata": {},
     "output_type": "display_data"
    },
    {
     "data": {
      "application/vnd.jupyter.widget-view+json": {
       "model_id": "",
       "version_major": 2,
       "version_minor": 0
      },
      "text/plain": [
       "  0%|          | 0/35 [00:00<?, ?it/s]"
      ]
     },
     "metadata": {},
     "output_type": "display_data"
    },
    {
     "data": {
      "application/vnd.jupyter.widget-view+json": {
       "model_id": "",
       "version_major": 2,
       "version_minor": 0
      },
      "text/plain": [
       "  0%|          | 0/19 [00:00<?, ?it/s]"
      ]
     },
     "metadata": {},
     "output_type": "display_data"
    },
    {
     "data": {
      "application/vnd.jupyter.widget-view+json": {
       "model_id": "",
       "version_major": 2,
       "version_minor": 0
      },
      "text/plain": [
       "  0%|          | 0/11 [00:00<?, ?it/s]"
      ]
     },
     "metadata": {},
     "output_type": "display_data"
    },
    {
     "data": {
      "application/vnd.jupyter.widget-view+json": {
       "model_id": "",
       "version_major": 2,
       "version_minor": 0
      },
      "text/plain": [
       "  0%|          | 0/41 [00:00<?, ?it/s]"
      ]
     },
     "metadata": {},
     "output_type": "display_data"
    },
    {
     "data": {
      "application/vnd.jupyter.widget-view+json": {
       "model_id": "",
       "version_major": 2,
       "version_minor": 0
      },
      "text/plain": [
       "  0%|          | 0/3 [00:00<?, ?it/s]"
      ]
     },
     "metadata": {},
     "output_type": "display_data"
    },
    {
     "data": {
      "application/vnd.jupyter.widget-view+json": {
       "model_id": "",
       "version_major": 2,
       "version_minor": 0
      },
      "text/plain": [
       "  0%|          | 0/26 [00:00<?, ?it/s]"
      ]
     },
     "metadata": {},
     "output_type": "display_data"
    },
    {
     "data": {
      "application/vnd.jupyter.widget-view+json": {
       "model_id": "",
       "version_major": 2,
       "version_minor": 0
      },
      "text/plain": [
       "  0%|          | 0/36 [00:00<?, ?it/s]"
      ]
     },
     "metadata": {},
     "output_type": "display_data"
    },
    {
     "data": {
      "application/vnd.jupyter.widget-view+json": {
       "model_id": "",
       "version_major": 2,
       "version_minor": 0
      },
      "text/plain": [
       "  0%|          | 0/26 [00:00<?, ?it/s]"
      ]
     },
     "metadata": {},
     "output_type": "display_data"
    },
    {
     "data": {
      "application/vnd.jupyter.widget-view+json": {
       "model_id": "",
       "version_major": 2,
       "version_minor": 0
      },
      "text/plain": [
       "  0%|          | 0/20 [00:00<?, ?it/s]"
      ]
     },
     "metadata": {},
     "output_type": "display_data"
    },
    {
     "data": {
      "application/vnd.jupyter.widget-view+json": {
       "model_id": "",
       "version_major": 2,
       "version_minor": 0
      },
      "text/plain": [
       "  0%|          | 0/48 [00:00<?, ?it/s]"
      ]
     },
     "metadata": {},
     "output_type": "display_data"
    },
    {
     "data": {
      "application/vnd.jupyter.widget-view+json": {
       "model_id": "",
       "version_major": 2,
       "version_minor": 0
      },
      "text/plain": [
       "  0%|          | 0/20 [00:00<?, ?it/s]"
      ]
     },
     "metadata": {},
     "output_type": "display_data"
    },
    {
     "data": {
      "application/vnd.jupyter.widget-view+json": {
       "model_id": "",
       "version_major": 2,
       "version_minor": 0
      },
      "text/plain": [
       "  0%|          | 0/30 [00:00<?, ?it/s]"
      ]
     },
     "metadata": {},
     "output_type": "display_data"
    },
    {
     "data": {
      "application/vnd.jupyter.widget-view+json": {
       "model_id": "",
       "version_major": 2,
       "version_minor": 0
      },
      "text/plain": [
       "  0%|          | 0/20 [00:00<?, ?it/s]"
      ]
     },
     "metadata": {},
     "output_type": "display_data"
    },
    {
     "data": {
      "application/vnd.jupyter.widget-view+json": {
       "model_id": "",
       "version_major": 2,
       "version_minor": 0
      },
      "text/plain": [
       "  0%|          | 0/2 [00:00<?, ?it/s]"
      ]
     },
     "metadata": {},
     "output_type": "display_data"
    },
    {
     "data": {
      "application/vnd.jupyter.widget-view+json": {
       "model_id": "",
       "version_major": 2,
       "version_minor": 0
      },
      "text/plain": [
       "  0%|          | 0/1 [00:00<?, ?it/s]"
      ]
     },
     "metadata": {},
     "output_type": "display_data"
    },
    {
     "data": {
      "application/vnd.jupyter.widget-view+json": {
       "model_id": "",
       "version_major": 2,
       "version_minor": 0
      },
      "text/plain": [
       "  0%|          | 0/21 [00:00<?, ?it/s]"
      ]
     },
     "metadata": {},
     "output_type": "display_data"
    },
    {
     "data": {
      "application/vnd.jupyter.widget-view+json": {
       "model_id": "",
       "version_major": 2,
       "version_minor": 0
      },
      "text/plain": [
       "  0%|          | 0/14 [00:00<?, ?it/s]"
      ]
     },
     "metadata": {},
     "output_type": "display_data"
    },
    {
     "data": {
      "application/vnd.jupyter.widget-view+json": {
       "model_id": "",
       "version_major": 2,
       "version_minor": 0
      },
      "text/plain": [
       "  0%|          | 0/8 [00:00<?, ?it/s]"
      ]
     },
     "metadata": {},
     "output_type": "display_data"
    },
    {
     "data": {
      "application/vnd.jupyter.widget-view+json": {
       "model_id": "",
       "version_major": 2,
       "version_minor": 0
      },
      "text/plain": [
       "  0%|          | 0/7 [00:00<?, ?it/s]"
      ]
     },
     "metadata": {},
     "output_type": "display_data"
    },
    {
     "data": {
      "application/vnd.jupyter.widget-view+json": {
       "model_id": "",
       "version_major": 2,
       "version_minor": 0
      },
      "text/plain": [
       "  0%|          | 0/7 [00:00<?, ?it/s]"
      ]
     },
     "metadata": {},
     "output_type": "display_data"
    },
    {
     "data": {
      "application/vnd.jupyter.widget-view+json": {
       "model_id": "",
       "version_major": 2,
       "version_minor": 0
      },
      "text/plain": [
       "  0%|          | 0/13 [00:00<?, ?it/s]"
      ]
     },
     "metadata": {},
     "output_type": "display_data"
    },
    {
     "data": {
      "application/vnd.jupyter.widget-view+json": {
       "model_id": "",
       "version_major": 2,
       "version_minor": 0
      },
      "text/plain": [
       "  0%|          | 0/23 [00:00<?, ?it/s]"
      ]
     },
     "metadata": {},
     "output_type": "display_data"
    },
    {
     "data": {
      "application/vnd.jupyter.widget-view+json": {
       "model_id": "",
       "version_major": 2,
       "version_minor": 0
      },
      "text/plain": [
       "  0%|          | 0/6 [00:00<?, ?it/s]"
      ]
     },
     "metadata": {},
     "output_type": "display_data"
    },
    {
     "data": {
      "application/vnd.jupyter.widget-view+json": {
       "model_id": "",
       "version_major": 2,
       "version_minor": 0
      },
      "text/plain": [
       "  0%|          | 0/19 [00:00<?, ?it/s]"
      ]
     },
     "metadata": {},
     "output_type": "display_data"
    },
    {
     "data": {
      "application/vnd.jupyter.widget-view+json": {
       "model_id": "",
       "version_major": 2,
       "version_minor": 0
      },
      "text/plain": [
       "  0%|          | 0/12 [00:00<?, ?it/s]"
      ]
     },
     "metadata": {},
     "output_type": "display_data"
    },
    {
     "data": {
      "application/vnd.jupyter.widget-view+json": {
       "model_id": "",
       "version_major": 2,
       "version_minor": 0
      },
      "text/plain": [
       "  0%|          | 0/15 [00:00<?, ?it/s]"
      ]
     },
     "metadata": {},
     "output_type": "display_data"
    },
    {
     "data": {
      "application/vnd.jupyter.widget-view+json": {
       "model_id": "",
       "version_major": 2,
       "version_minor": 0
      },
      "text/plain": [
       "  0%|          | 0/10 [00:00<?, ?it/s]"
      ]
     },
     "metadata": {},
     "output_type": "display_data"
    },
    {
     "data": {
      "application/vnd.jupyter.widget-view+json": {
       "model_id": "",
       "version_major": 2,
       "version_minor": 0
      },
      "text/plain": [
       "  0%|          | 0/10 [00:00<?, ?it/s]"
      ]
     },
     "metadata": {},
     "output_type": "display_data"
    },
    {
     "data": {
      "application/vnd.jupyter.widget-view+json": {
       "model_id": "",
       "version_major": 2,
       "version_minor": 0
      },
      "text/plain": [
       "  0%|          | 0/9 [00:00<?, ?it/s]"
      ]
     },
     "metadata": {},
     "output_type": "display_data"
    },
    {
     "data": {
      "application/vnd.jupyter.widget-view+json": {
       "model_id": "",
       "version_major": 2,
       "version_minor": 0
      },
      "text/plain": [
       "  0%|          | 0/2 [00:00<?, ?it/s]"
      ]
     },
     "metadata": {},
     "output_type": "display_data"
    },
    {
     "data": {
      "application/vnd.jupyter.widget-view+json": {
       "model_id": "",
       "version_major": 2,
       "version_minor": 0
      },
      "text/plain": [
       "  0%|          | 0/11 [00:00<?, ?it/s]"
      ]
     },
     "metadata": {},
     "output_type": "display_data"
    },
    {
     "data": {
      "application/vnd.jupyter.widget-view+json": {
       "model_id": "",
       "version_major": 2,
       "version_minor": 0
      },
      "text/plain": [
       "  0%|          | 0/8 [00:00<?, ?it/s]"
      ]
     },
     "metadata": {},
     "output_type": "display_data"
    },
    {
     "data": {
      "text/plain": [
       "{0: 315, 1: 90, 2: 114, 3: 51, 4: 48}"
      ]
     },
     "execution_count": 11,
     "metadata": {},
     "output_type": "execute_result"
    }
   ],
   "source": [
    "binned_gt = get_gt_bin_sizes(image_lst, gt_lst, bins)\n",
    "  \n",
    "{k: len(v) for k,v in binned_gt.items()}"
   ]
  },
  {
   "cell_type": "code",
   "execution_count": 12,
   "metadata": {},
   "outputs": [],
   "source": [
    "from scipy import ndimage \n",
    "\n",
    "def find_fusions(label_gt_m, label_gen_m):\n",
    "    \"\"\"\n",
    "    Find the fusions between the ground truth and the generated mask.\n",
    "    A fusion is defined as the number of connected components in the intersection of the two masks.\n",
    "    label_gt_m: (1, H, W)\n",
    "    label_gen_m: (N, H, W)\n",
    "    \"\"\"\n",
    "\n",
    "    intersection = label_gen_m*label_gt_m\n",
    "\n",
    "    count_fusions = [np.unique(cur_intersection) for cur_intersection in intersection]\n",
    "    count_fusions = [cur_count_fusions[cur_count_fusions != 0] for cur_count_fusions in count_fusions]\n",
    "    count_fusions = [len(cur_count_fusions) for cur_count_fusions in count_fusions]\n",
    "\n",
    "    return count_fusions\n",
    "\n",
    "def find_FN(label_gt_m, label_gen_m):\n",
    "    \"\"\"\n",
    "    Find the False Positives in generated mask when compared with gound truth.\n",
    "    label_gt_m: (N, H, W)\n",
    "    label_gen_m: (1, H, W)\n",
    "    \"\"\"\n",
    "    intersection = label_gen_m*label_gt_m\n",
    "\n",
    "    FN = np.apply_over_axes(np.sum, intersection, [1,2]).squeeze()\n",
    "    FN = (FN==0).astype(int)\n",
    "\n",
    "    return FN\n",
    "\n",
    "def find_FP(label_gt_m, label_gen_m):\n",
    "    \"\"\"\n",
    "    Find the False Positives in generated mask when compared with gound truth.\n",
    "    label_gt_m: (1, H, W)\n",
    "    label_gen_m: (N, H, W)\n",
    "    \"\"\"\n",
    "    intersection = label_gen_m*label_gt_m\n",
    "\n",
    "    FP = np.apply_over_axes(np.sum, intersection, [1,2]).squeeze()\n",
    "    FP = (FP==0).astype(int)\n",
    "\n",
    "    return FP\n",
    "\n",
    "def get_IoU_and_DICE_OLD(label_gt_m, label_gen_m):\n",
    "    \"\"\"\n",
    "    Find the IoU and DICE between the ground truth and the generated mask.\n",
    "    \"\"\"\n",
    "    intersection = label_gen_m*label_gt_m\n",
    "    union_with_intersection = label_gen_m + label_gt_m\n",
    "    union = (union_with_intersection) > 0\n",
    "\n",
    "    DICE = np.apply_over_axes(np.sum, intersection, [1,2]).squeeze() / np.apply_over_axes(np.sum, union_with_intersection, [1,2]).squeeze()\n",
    "    \n",
    "    # intersection per prediction\n",
    "    IoU = np.apply_over_axes(np.sum, intersection, [1,2]).squeeze()\n",
    "\n",
    "    union = np.apply_over_axes(np.sum, union, [1,2]).squeeze()\n",
    "\n",
    "    IoU = IoU/union\n",
    "    return IoU, DICE\n",
    "\n",
    "def get_IoU_and_DICE(label_gt_m, label_gen_m):\n",
    "    \"\"\"\n",
    "    Find the IoU and DICE between the ground truth and the generated mask.\n",
    "    \"\"\"\n",
    "    intersection = label_gen_m*label_gt_m\n",
    "    \n",
    "    # get the indices with non-zero intersection\n",
    "    non_zero_intersections = np.max(intersection, axis=(1,2))\n",
    "    A = np.argwhere(non_zero_intersections)\n",
    "\n",
    "    if A.size == 0:\n",
    "        return 0, 0\n",
    "    \n",
    "    A = A.squeeze()\n",
    "        \n",
    "    intersection = intersection[A,:,:]\n",
    "    if intersection.ndim == 2:\n",
    "        intersection = intersection[None,:,:]\n",
    "    union_with_intersection = (label_gen_m + label_gt_m)[A,:,:]\n",
    "    if union_with_intersection.ndim == 2:\n",
    "        union_with_intersection = union_with_intersection[None,:,:]\n",
    "    \n",
    "    union = (union_with_intersection) > 0\n",
    "\n",
    "    union_limits = np.max(union, axis=0)\n",
    "    \n",
    "    B = np.argwhere(union_limits)\n",
    "    (ystart, xstart), (ystop, xstop) = B.min(0), B.max(0) + 1 \n",
    "\n",
    "    union_with_intersection = union_with_intersection[:,ystart:ystop, xstart:xstop]\n",
    "    union = union[:,ystart:ystop, xstart:xstop]\n",
    "    intersection = intersection[:,ystart:ystop, xstart:xstop]\n",
    "\n",
    "    DICE = np.apply_over_axes(np.sum, intersection, [1,2]).squeeze() / np.apply_over_axes(np.sum, union_with_intersection, [1,2]).squeeze()\n",
    "    \n",
    "    # intersection per prediction\n",
    "    IoU = np.apply_over_axes(np.sum, intersection, [1,2]).squeeze()\n",
    "\n",
    "    union = np.apply_over_axes(np.sum, union, [1,2]).squeeze()\n",
    "\n",
    "    IoU = IoU/union\n",
    "\n",
    "\n",
    "    return IoU, DICE\n",
    "\n",
    "def counting_fusions_FP_FN_img(i, image_lst, gt_lst, gen_lst, all_classes, bins, conf_thresh=0.5):\n",
    "    basename = os.path.splitext(os.path.basename(image_lst[i]))[0]\n",
    "    test_b = basename\n",
    "    gt_b = os.path.splitext(os.path.basename(gt_lst[i]))[0]\n",
    "    gen_b = os.path.splitext(os.path.basename(gen_lst[i]))[0]\n",
    "\n",
    "    is_proba_map = gen_b.endswith('_proba_map')\n",
    "    if is_proba_map:\n",
    "        gen_b = gen_b[:-len('_proba_map')]\n",
    "\n",
    "    # print(test_b,'\\n', gt_b,'\\n', gen_b)\n",
    "\n",
    "    assert test_b == gt_b == gen_b\n",
    "\n",
    "    test_img = imread(image_lst[i])\n",
    "    gt_label = imread(gt_lst[i])\n",
    "    if is_proba_map:\n",
    "        # Get the binary version of the candidate label mask\n",
    "        candidate_label = np.load(gen_lst[i])\n",
    "        if np.any(candidate_label > 5):\n",
    "            candidate_label = candidate_label / 255\n",
    "        candidate_label = (candidate_label > conf_thresh).astype(int)\n",
    "    else:\n",
    "        candidate_label = imread(gen_lst[i])\n",
    "\n",
    "    \n",
    "    \n",
    "    class_fp_fn_fusions = {c:{\n",
    "                            'centroids':{},\n",
    "                            'area':{},\n",
    "                            'FP': {},\n",
    "                            'FN': {},\n",
    "                            'Fusions': {},\n",
    "                            'IoU': {},\n",
    "                            'DICE': {},      \n",
    "                           } for c in all_classes}\n",
    "    \n",
    "    for c_name, c_ids in (pbar :=tqdm(all_classes.items(), leave=False)): # foreground, penumbra, umbra\n",
    "        pbar.set_description(f\"{c_name}\")\n",
    "\n",
    "        # Get the binary version of the masks \n",
    "        gt_class_fg, candidate_class_fg = get_class_binary_mask(gt_label, candidate_label, c_ids)\n",
    "\n",
    "\n",
    "        gt_label, num_gt_label = ndimage.label(gt_class_fg)\n",
    "        gen_label, num_gen_label = ndimage.label(candidate_class_fg)\n",
    "#         print(f'{test_b}_conf{conf_thresh}: {num_gen_label}')\n",
    "        \n",
    "        \n",
    "        whole_mask_gen = np.zeros((num_gen_label, gen_label.shape[0], gen_label.shape[1]))\n",
    "        for idx, b in enumerate(np.unique(gen_label)[1:]):\n",
    "            whole_mask_gen[idx,:,:] = gen_label == b\n",
    "            \n",
    "        whole_mask_gt = np.zeros((num_gt_label, gt_label.shape[0], gt_label.shape[1]))\n",
    "        for idx, b in enumerate(np.unique(gt_label)[1:]):\n",
    "            whole_mask_gt[idx,:,:] = gt_label == b\n",
    "            \n",
    "        \n",
    "        fns     =      find_FN(whole_mask_gt[:,:], gen_label[None,:,:])\n",
    "        fps     =      find_FP(gt_label[None,:,:], whole_mask_gen[:,:])\n",
    "        fusions = find_fusions(gt_label[None,:,:], whole_mask_gen[:,:])\n",
    "        \n",
    "        if len(np.unique(gt_label)[1:])>1:\n",
    "            bestIoUs, bestDICEs = [],[]\n",
    "            for b in np.unique(gt_label)[1:]:\n",
    "                cur_gt_label = gt_label == b\n",
    "    \n",
    "                cur_IoUs,cur_DICEs = get_IoU_and_DICE(cur_gt_label, whole_mask_gen[:,:])\n",
    "                bestIoU, bestDICE = np.max(cur_IoUs),np.max(cur_DICEs)\n",
    "                bestIoUs.append(bestIoU)\n",
    "                bestDICEs.append(bestDICE)\n",
    "            ious = np.array(bestIoUs)\n",
    "            dices = np.array(bestDICEs)\n",
    "            \n",
    "        else:\n",
    "            ious = np.array([])\n",
    "            dices = np.array([])\n",
    "        \n",
    "        \n",
    "        centroids = np.array([ item.centroid for item in regionprops(gt_label)])\n",
    "        areas   =      np.apply_over_axes(np.sum, whole_mask_gt, [1,2]).squeeze()\n",
    "        \n",
    "        class_fp_fn_fusions[c_name]['FP'] = fps\n",
    "        class_fp_fn_fusions[c_name]['FN'] = fns\n",
    "        class_fp_fn_fusions[c_name]['Fusions'] = fusions\n",
    "        \n",
    "        \n",
    "        class_fp_fn_fusions[c_name]['centroids'] = centroids\n",
    "        class_fp_fn_fusions[c_name]['area'] = areas\n",
    "        class_fp_fn_fusions[c_name]['IoU'] = ious\n",
    "        class_fp_fn_fusions[c_name]['DICE'] = dices\n",
    "        \n",
    "            \n",
    "    return basename, class_fp_fn_fusions\n",
    "    \n",
    "\n",
    "def counting_fusions(image_lst, gen_lst, device='cpu', bins =[], all_classes={'foreground':[1,2], 'penumbra':[1], 'umbra':[2]}, conf_thresh=0.5, num_cpu=16):\n",
    "    fp_fn_fusions_dict =  {c: {\n",
    "#                             'FP': {},\n",
    "#                             'FN': {},\n",
    "#                             'Fusions': {}\n",
    "                           }\n",
    "                         for c,ids in all_classes.items()}\n",
    "#     print(conf_thresh)\n",
    "#     num_cpu = 2\n",
    "#     num_cpu = 16\n",
    "#     print(num_cpu)\n",
    "#     num_cpu = multiprocessing.cpu_count()\n",
    "    with concurrent.futures.ProcessPoolExecutor(max_workers=int(np.floor(0.9*num_cpu))) as executor:\n",
    "        \n",
    "        for bn, res_dict in tqdm(executor.map(counting_fusions_FP_FN_img, \n",
    "                                                  range(len(image_lst)),\n",
    "                                                  repeat(image_lst), repeat(gt_lst), repeat(gen_lst), \n",
    "                                                  repeat(all_classes), repeat(bins),\n",
    "                                                  repeat(conf_thresh),\n",
    "#                                                   [conf_thresh]*len(image_lst)\n",
    "                                                    ),\n",
    "                                                  ):\n",
    "#                 print(bn,res_dict)\n",
    "                for c in all_classes:\n",
    "                    fp_fn_fusions_dict[c][bn] = {}\n",
    "                    fp_fn_fusions_dict[c][bn]['area'] = res_dict[c]['area']\n",
    "                    fp_fn_fusions_dict[c][bn]['centroids'] = res_dict[c]['centroids']\n",
    "                \n",
    "                    fp_fn_fusions_dict[c][bn]['FP'] = res_dict[c]['FP']\n",
    "                    fp_fn_fusions_dict[c][bn]['FN'] = res_dict[c]['FN']\n",
    "                    fp_fn_fusions_dict[c][bn]['Fusions'] = res_dict[c]['Fusions']\n",
    "                    \n",
    "                    fp_fn_fusions_dict[c][bn]['IoU'] = res_dict[c]['IoU']\n",
    "                    fp_fn_fusions_dict[c][bn]['DICE'] = res_dict[c]['DICE']\n",
    "        \n",
    "        \n",
    "            \n",
    "    return fp_fn_fusions_dict\n",
    "\n",
    "\n",
    "def counting_fusions2(image_lst, gen_lst, device='cpu', bins =[], all_classes={'foreground':[1,2], 'penumbra':[1], 'umbra':[2]}, conf_thresh=0.5):\n",
    "    fp_fn_fusions_dict =  {c: {\n",
    "#                             'FP': {},\n",
    "#                             'FN': {},\n",
    "#                             'Fusions': {}\n",
    "                           }\n",
    "                         for c,ids in all_classes.items()}\n",
    "    \n",
    "    for idx in tqdm(range(len(image_lst))):\n",
    "        bn, res_dict = counting_fusions_FP_FN_img(idx, image_lst, gt_lst, gen_lst, all_classes, bins, conf_thresh)\n",
    "        for c in all_classes:\n",
    "                    fp_fn_fusions_dict[c][bn] = {}\n",
    "                    fp_fn_fusions_dict[c][bn]['area'] = res_dict[c]['area']\n",
    "                    fp_fn_fusions_dict[c][bn]['centroids'] = res_dict[c]['centroids']\n",
    "                \n",
    "                    fp_fn_fusions_dict[c][bn]['FP'] = res_dict[c]['FP']\n",
    "                    fp_fn_fusions_dict[c][bn]['FN'] = res_dict[c]['FN']\n",
    "                    fp_fn_fusions_dict[c][bn]['Fusions'] = res_dict[c]['Fusions']\n",
    "                    \n",
    "                    fp_fn_fusions_dict[c][bn]['IoU'] = res_dict[c]['IoU']\n",
    "                    fp_fn_fusions_dict[c][bn]['DICE'] = res_dict[c]['DICE']\n",
    "        \n",
    "            \n",
    "    return fp_fn_fusions_dict\n",
    "\n",
    "class NpEncoder(json.JSONEncoder):\n",
    "    def default(self, obj):\n",
    "        if isinstance(obj, np.integer):\n",
    "            return int(obj)\n",
    "        if isinstance(obj, np.int64):\n",
    "            return int(obj)\n",
    "        if isinstance(obj, np.floating):\n",
    "            return float(obj)\n",
    "        if isinstance(obj, np.ndarray):\n",
    "            return obj.tolist()\n",
    "        if isinstance(obj, np.bool_):\n",
    "            return bool(obj)\n",
    "        return super(NpEncoder, self).default(obj)\n",
    "    "
   ]
  },
  {
   "cell_type": "markdown",
   "metadata": {},
   "source": [
    "# Compute Fusions, False Positives (FPs) and Scores (DICE/IoU)\n",
    "\n",
    "SKIP TO NEXT IF JSON FILES ALREADY PRODUCED\n",
    "\n",
    "### Generators"
   ]
  },
  {
   "cell_type": "markdown",
   "metadata": {},
   "source": [
    "a) Compute Fusions\n",
    "\n",
    "The function take longer to compute the lower the threshold due to the amount of connected component in the masks to match"
   ]
  },
  {
   "cell_type": "code",
   "execution_count": 15,
   "metadata": {
    "scrolled": false
   },
   "outputs": [
    {
     "data": {
      "application/vnd.jupyter.widget-view+json": {
       "model_id": "7f87eb51c63a4787a18c918c865c79e9",
       "version_major": 2,
       "version_minor": 0
      },
      "text/plain": [
       "  0%|          | 0/9 [00:00<?, ?it/s]"
      ]
     },
     "metadata": {},
     "output_type": "display_data"
    },
    {
     "name": "stdout",
     "output_type": "stream",
     "text": [
      "0.5\n"
     ]
    },
    {
     "data": {
      "application/vnd.jupyter.widget-view+json": {
       "model_id": "8560746e2e6848bb9c9ee43e25045012",
       "version_major": 2,
       "version_minor": 0
      },
      "text/plain": [
       "0it [00:00, ?it/s]"
      ]
     },
     "metadata": {},
     "output_type": "display_data"
    },
    {
     "name": "stdout",
     "output_type": "stream",
     "text": [
      "0.5\n"
     ]
    },
    {
     "data": {
      "application/vnd.jupyter.widget-view+json": {
       "model_id": "57e0a20a01c94ee4b782674c72ddd8f8",
       "version_major": 2,
       "version_minor": 0
      },
      "text/plain": [
       "0it [00:00, ?it/s]"
      ]
     },
     "metadata": {},
     "output_type": "display_data"
    },
    {
     "name": "stdout",
     "output_type": "stream",
     "text": [
      "0.5\n"
     ]
    },
    {
     "data": {
      "application/vnd.jupyter.widget-view+json": {
       "model_id": "d3ba7402d18841d0944b7354ba5d90d9",
       "version_major": 2,
       "version_minor": 0
      },
      "text/plain": [
       "0it [00:00, ?it/s]"
      ]
     },
     "metadata": {},
     "output_type": "display_data"
    },
    {
     "name": "stdout",
     "output_type": "stream",
     "text": [
      "0.5\n"
     ]
    },
    {
     "data": {
      "application/vnd.jupyter.widget-view+json": {
       "model_id": "4acebcf9f46a4cea9da2313da3331f4b",
       "version_major": 2,
       "version_minor": 0
      },
      "text/plain": [
       "0it [00:00, ?it/s]"
      ]
     },
     "metadata": {},
     "output_type": "display_data"
    },
    {
     "name": "stdout",
     "output_type": "stream",
     "text": [
      "0.5\n"
     ]
    },
    {
     "data": {
      "application/vnd.jupyter.widget-view+json": {
       "model_id": "e9fb8d9eb8504c5c939a473d2ea995b4",
       "version_major": 2,
       "version_minor": 0
      },
      "text/plain": [
       "0it [00:00, ?it/s]"
      ]
     },
     "metadata": {},
     "output_type": "display_data"
    },
    {
     "name": "stdout",
     "output_type": "stream",
     "text": [
      "0.5\n"
     ]
    },
    {
     "data": {
      "application/vnd.jupyter.widget-view+json": {
       "model_id": "a4e9a778e4a44afd93f703e9040eec2a",
       "version_major": 2,
       "version_minor": 0
      },
      "text/plain": [
       "0it [00:00, ?it/s]"
      ]
     },
     "metadata": {},
     "output_type": "display_data"
    },
    {
     "name": "stdout",
     "output_type": "stream",
     "text": [
      "0.5\n"
     ]
    },
    {
     "data": {
      "application/vnd.jupyter.widget-view+json": {
       "model_id": "92f0af61328441449084d5337b562bbd",
       "version_major": 2,
       "version_minor": 0
      },
      "text/plain": [
       "0it [00:00, ?it/s]"
      ]
     },
     "metadata": {},
     "output_type": "display_data"
    },
    {
     "name": "stdout",
     "output_type": "stream",
     "text": [
      "0.5\n"
     ]
    },
    {
     "data": {
      "application/vnd.jupyter.widget-view+json": {
       "model_id": "7f8c9d952a8f4f968a6e46b54865f6b2",
       "version_major": 2,
       "version_minor": 0
      },
      "text/plain": [
       "0it [00:00, ?it/s]"
      ]
     },
     "metadata": {},
     "output_type": "display_data"
    },
    {
     "name": "stdout",
     "output_type": "stream",
     "text": [
      "0.5\n"
     ]
    },
    {
     "data": {
      "application/vnd.jupyter.widget-view+json": {
       "model_id": "236e1199b7b7416495530cb32d86fbd1",
       "version_major": 2,
       "version_minor": 0
      },
      "text/plain": [
       "0it [00:00, ?it/s]"
      ]
     },
     "metadata": {},
     "output_type": "display_data"
    }
   ],
   "source": [
    "# compute fusions for pseudolabels s.t. T300 -> T500\n",
    "all_classes = {\n",
    "                'foreground':[1,2],\n",
    "#                 'penumbra':[1],\n",
    "#                 'umbra':[2]\n",
    "              }\n",
    "fusions_per_generator = {t : counting_fusions(image_lst, generated_lsts[t], bins=bins, all_classes=all_classes)\n",
    "#                         for t in tqdm(gen_seg_types[:])}\n",
    "                        for t in tqdm(gen_seg_types[2:])}"
   ]
  },
  {
   "cell_type": "code",
   "execution_count": 16,
   "metadata": {},
   "outputs": [
    {
     "data": {
      "application/vnd.jupyter.widget-view+json": {
       "model_id": "2ff218e6cbbe45bb9436e8adbc2744cd",
       "version_major": 2,
       "version_minor": 0
      },
      "text/plain": [
       "  0%|          | 0/2 [00:00<?, ?it/s]"
      ]
     },
     "metadata": {},
     "output_type": "display_data"
    },
    {
     "name": "stdout",
     "output_type": "stream",
     "text": [
      "0.5\n"
     ]
    },
    {
     "data": {
      "application/vnd.jupyter.widget-view+json": {
       "model_id": "9b0e8ab6b78240fa962381104829b7b2",
       "version_major": 2,
       "version_minor": 0
      },
      "text/plain": [
       "0it [00:00, ?it/s]"
      ]
     },
     "metadata": {},
     "output_type": "display_data"
    },
    {
     "name": "stdout",
     "output_type": "stream",
     "text": [
      "0.5\n"
     ]
    },
    {
     "data": {
      "application/vnd.jupyter.widget-view+json": {
       "model_id": "232fcbf15bea4848852f47bae3985e15",
       "version_major": 2,
       "version_minor": 0
      },
      "text/plain": [
       "0it [00:00, ?it/s]"
      ]
     },
     "metadata": {},
     "output_type": "display_data"
    }
   ],
   "source": [
    "### Do the dame for T275\n",
    "all_classes = {\n",
    "                'foreground':[1,2],\n",
    "              }\n",
    "tmp_fusions_per_generator = {t : counting_fusions(image_lst, generated_lsts[t], bins=bins, all_classes=all_classes)\n",
    "                        for t in tqdm(gen_seg_types[:2])} \n",
    "fusions_per_generator.update(tmp_fusions_per_generator)\n",
    "\n",
    "### Do the dame for T250\n",
    "\n",
    "                                                  "
   ]
  },
  {
   "cell_type": "code",
   "execution_count": 17,
   "metadata": {},
   "outputs": [],
   "source": [
    "# THIS CELL MAY NOT BE USEFUL\n",
    "\n",
    "# ### Do the dame for T250 (Need to be done using different function, due to large amount of detections)\n",
    "# tmp = counting_fusions2(image_lst, generated_lsts['2023_T250_fgbg'], bins=bins, all_classes=all_classes)\n",
    "# fusions_per_generator.update({'2023_T250_fgbg': tmp})\n",
    "\n",
    "# ### Do the dame for T275\n",
    "# tmp = counting_fusions(image_lst, generated_lsts['2023_T275_fgbg'], bins=bins, all_classes=all_classes)\n",
    "# fusions_per_generator.update({'2023_T275_fgbg': tmp})"
   ]
  },
  {
   "cell_type": "code",
   "execution_count": 20,
   "metadata": {},
   "outputs": [],
   "source": [
    "with open('./SunSCC_Fusions_per_generator_fgbg_solDisk.json', 'w') as f:\n",
    "    json.dump(fusions_per_generator,f, cls=NpEncoder)"
   ]
  },
  {
   "cell_type": "markdown",
   "metadata": {},
   "source": [
    "b) Compute FPs"
   ]
  },
  {
   "cell_type": "code",
   "execution_count": 21,
   "metadata": {},
   "outputs": [
    {
     "data": {
      "application/vnd.jupyter.widget-view+json": {
       "model_id": "65f8346e866d405ab4faed83b5396b6e",
       "version_major": 2,
       "version_minor": 0
      },
      "text/plain": [
       "  0%|          | 0/11 [00:00<?, ?it/s]"
      ]
     },
     "metadata": {},
     "output_type": "display_data"
    },
    {
     "data": {
      "application/vnd.jupyter.widget-view+json": {
       "model_id": "9a9ce35f1305453c89aa1d927413ade6",
       "version_major": 2,
       "version_minor": 0
      },
      "text/plain": [
       "0it [00:00, ?it/s]"
      ]
     },
     "metadata": {},
     "output_type": "display_data"
    },
    {
     "data": {
      "application/vnd.jupyter.widget-view+json": {
       "model_id": "d8d5f3f49a424405952c68e6e208f637",
       "version_major": 2,
       "version_minor": 0
      },
      "text/plain": [
       "0it [00:00, ?it/s]"
      ]
     },
     "metadata": {},
     "output_type": "display_data"
    },
    {
     "data": {
      "application/vnd.jupyter.widget-view+json": {
       "model_id": "60a73a49ce6946e49d6201f6c77a32ac",
       "version_major": 2,
       "version_minor": 0
      },
      "text/plain": [
       "0it [00:00, ?it/s]"
      ]
     },
     "metadata": {},
     "output_type": "display_data"
    },
    {
     "data": {
      "application/vnd.jupyter.widget-view+json": {
       "model_id": "e8f096d07fe9480eb37500ec4011129a",
       "version_major": 2,
       "version_minor": 0
      },
      "text/plain": [
       "0it [00:00, ?it/s]"
      ]
     },
     "metadata": {},
     "output_type": "display_data"
    },
    {
     "data": {
      "application/vnd.jupyter.widget-view+json": {
       "model_id": "05fedd16ec484760b5b8ff1c023b1729",
       "version_major": 2,
       "version_minor": 0
      },
      "text/plain": [
       "0it [00:00, ?it/s]"
      ]
     },
     "metadata": {},
     "output_type": "display_data"
    },
    {
     "data": {
      "application/vnd.jupyter.widget-view+json": {
       "model_id": "3163dcf8d41c477694f2c03abb480a81",
       "version_major": 2,
       "version_minor": 0
      },
      "text/plain": [
       "0it [00:00, ?it/s]"
      ]
     },
     "metadata": {},
     "output_type": "display_data"
    },
    {
     "data": {
      "application/vnd.jupyter.widget-view+json": {
       "model_id": "c581f8bf7c4747cd903b18d4ca44ad05",
       "version_major": 2,
       "version_minor": 0
      },
      "text/plain": [
       "0it [00:00, ?it/s]"
      ]
     },
     "metadata": {},
     "output_type": "display_data"
    },
    {
     "data": {
      "application/vnd.jupyter.widget-view+json": {
       "model_id": "b64e698c4048452b99ae12ac4866c5a7",
       "version_major": 2,
       "version_minor": 0
      },
      "text/plain": [
       "0it [00:00, ?it/s]"
      ]
     },
     "metadata": {},
     "output_type": "display_data"
    },
    {
     "data": {
      "application/vnd.jupyter.widget-view+json": {
       "model_id": "e8ba9df375cf433892787636b66a94b1",
       "version_major": 2,
       "version_minor": 0
      },
      "text/plain": [
       "0it [00:00, ?it/s]"
      ]
     },
     "metadata": {},
     "output_type": "display_data"
    },
    {
     "data": {
      "application/vnd.jupyter.widget-view+json": {
       "model_id": "f15c1b5be8dd418d9474e1cb805170ee",
       "version_major": 2,
       "version_minor": 0
      },
      "text/plain": [
       "0it [00:00, ?it/s]"
      ]
     },
     "metadata": {},
     "output_type": "display_data"
    },
    {
     "data": {
      "application/vnd.jupyter.widget-view+json": {
       "model_id": "c5ca4669ce6b4bdea32259e906358c8c",
       "version_major": 2,
       "version_minor": 0
      },
      "text/plain": [
       "0it [00:00, ?it/s]"
      ]
     },
     "metadata": {},
     "output_type": "display_data"
    }
   ],
   "source": [
    "all_classes = {\n",
    "                'foreground':[1,2],\n",
    "#                 'penumbra':[1],\n",
    "#                 'umbra':[2]\n",
    "              }\n",
    "FP_per_generator = {t : compute_false_positives(image_lst, generated_lsts[t], bins=bins, all_classes=all_classes) \n",
    "                    for t in tqdm(gen_seg_types[:])}"
   ]
  },
  {
   "cell_type": "code",
   "execution_count": 22,
   "metadata": {},
   "outputs": [],
   "source": [
    "with open('./SunSCC_FPs_per_generator_fgbg_solDisk.json', 'w') as f:\n",
    "    json.dump(FP_per_generator,f, cls=NpEncoder)"
   ]
  },
  {
   "cell_type": "markdown",
   "metadata": {},
   "source": [
    "c) Compute scores"
   ]
  },
  {
   "cell_type": "code",
   "execution_count": 23,
   "metadata": {},
   "outputs": [
    {
     "data": {
      "application/vnd.jupyter.widget-view+json": {
       "model_id": "53ab267334c34d9e9e504992aa21be64",
       "version_major": 2,
       "version_minor": 0
      },
      "text/plain": [
       "  0%|          | 0/11 [00:00<?, ?it/s]"
      ]
     },
     "metadata": {},
     "output_type": "display_data"
    },
    {
     "data": {
      "application/vnd.jupyter.widget-view+json": {
       "model_id": "4fcfbb95112c43de8584bc03e3758435",
       "version_major": 2,
       "version_minor": 0
      },
      "text/plain": [
       "0it [00:00, ?it/s]"
      ]
     },
     "metadata": {},
     "output_type": "display_data"
    },
    {
     "data": {
      "application/vnd.jupyter.widget-view+json": {
       "model_id": "d0392ed5524947aeb3649f83b4928a64",
       "version_major": 2,
       "version_minor": 0
      },
      "text/plain": [
       "0it [00:00, ?it/s]"
      ]
     },
     "metadata": {},
     "output_type": "display_data"
    },
    {
     "data": {
      "application/vnd.jupyter.widget-view+json": {
       "model_id": "4a3e9d7411c34afea10303bc5038f988",
       "version_major": 2,
       "version_minor": 0
      },
      "text/plain": [
       "0it [00:00, ?it/s]"
      ]
     },
     "metadata": {},
     "output_type": "display_data"
    },
    {
     "data": {
      "application/vnd.jupyter.widget-view+json": {
       "model_id": "16fb353253434a659dcdcc3e66897421",
       "version_major": 2,
       "version_minor": 0
      },
      "text/plain": [
       "0it [00:00, ?it/s]"
      ]
     },
     "metadata": {},
     "output_type": "display_data"
    },
    {
     "data": {
      "application/vnd.jupyter.widget-view+json": {
       "model_id": "6658698fa5844a5bbe3aabec3f778f28",
       "version_major": 2,
       "version_minor": 0
      },
      "text/plain": [
       "0it [00:00, ?it/s]"
      ]
     },
     "metadata": {},
     "output_type": "display_data"
    },
    {
     "data": {
      "application/vnd.jupyter.widget-view+json": {
       "model_id": "02ad46ec27f1436a8a759a9bba53735d",
       "version_major": 2,
       "version_minor": 0
      },
      "text/plain": [
       "0it [00:00, ?it/s]"
      ]
     },
     "metadata": {},
     "output_type": "display_data"
    },
    {
     "data": {
      "application/vnd.jupyter.widget-view+json": {
       "model_id": "822eb5814be440058cb83a0925798a2f",
       "version_major": 2,
       "version_minor": 0
      },
      "text/plain": [
       "0it [00:00, ?it/s]"
      ]
     },
     "metadata": {},
     "output_type": "display_data"
    },
    {
     "data": {
      "application/vnd.jupyter.widget-view+json": {
       "model_id": "d3b6563f9bbe487d90225bac6eb2643d",
       "version_major": 2,
       "version_minor": 0
      },
      "text/plain": [
       "0it [00:00, ?it/s]"
      ]
     },
     "metadata": {},
     "output_type": "display_data"
    },
    {
     "data": {
      "application/vnd.jupyter.widget-view+json": {
       "model_id": "e33c98cdbe244627a2629faae943dc26",
       "version_major": 2,
       "version_minor": 0
      },
      "text/plain": [
       "0it [00:00, ?it/s]"
      ]
     },
     "metadata": {},
     "output_type": "display_data"
    },
    {
     "data": {
      "application/vnd.jupyter.widget-view+json": {
       "model_id": "cc4920ac03a04a92b3a468bfcb9c60d6",
       "version_major": 2,
       "version_minor": 0
      },
      "text/plain": [
       "0it [00:00, ?it/s]"
      ]
     },
     "metadata": {},
     "output_type": "display_data"
    },
    {
     "data": {
      "application/vnd.jupyter.widget-view+json": {
       "model_id": "5d7890de25e84754bcc14119edd91fcc",
       "version_major": 2,
       "version_minor": 0
      },
      "text/plain": [
       "0it [00:00, ?it/s]"
      ]
     },
     "metadata": {},
     "output_type": "display_data"
    }
   ],
   "source": [
    "all_classes = {\n",
    "                'foreground':[1,2],\n",
    "#                 'penumbra':[1],\n",
    "#                 'umbra':[2]\n",
    "              }\n",
    "scores_per_generator = {t : binning_sunspots3(image_lst, generated_lsts[t], bins=bins, all_classes=all_classes)\n",
    "                        for t in tqdm(gen_seg_types[:])}"
   ]
  },
  {
   "cell_type": "code",
   "execution_count": 24,
   "metadata": {},
   "outputs": [],
   "source": [
    "with open('./SunSCC_scores_per_generator_fgbg_solDisk.json', 'w') as f:\n",
    "    json.dump(scores_per_generator,f, cls=NpEncoder)"
   ]
  },
  {
   "cell_type": "markdown",
   "metadata": {},
   "source": [
    "### Predictors"
   ]
  },
  {
   "cell_type": "markdown",
   "metadata": {},
   "source": [
    "a) Compute Fusions\n",
    "\n",
    "The function take longer to compute the lower the threshold due to the amount of connected component in the masks to match"
   ]
  },
  {
   "cell_type": "code",
   "execution_count": 25,
   "metadata": {},
   "outputs": [
    {
     "data": {
      "application/vnd.jupyter.widget-view+json": {
       "model_id": "6432c149d8c14e3b9581716879edf3ac",
       "version_major": 2,
       "version_minor": 0
      },
      "text/plain": [
       "  0%|          | 0/10 [00:00<?, ?it/s]"
      ]
     },
     "metadata": {},
     "output_type": "display_data"
    },
    {
     "name": "stdout",
     "output_type": "stream",
     "text": [
      "0.5\n"
     ]
    },
    {
     "data": {
      "application/vnd.jupyter.widget-view+json": {
       "model_id": "9ddf89c521e84a8e8ddcab888ba52baa",
       "version_major": 2,
       "version_minor": 0
      },
      "text/plain": [
       "0it [00:00, ?it/s]"
      ]
     },
     "metadata": {},
     "output_type": "display_data"
    },
    {
     "name": "stdout",
     "output_type": "stream",
     "text": [
      "0.5\n"
     ]
    },
    {
     "data": {
      "application/vnd.jupyter.widget-view+json": {
       "model_id": "ba751fe1d444454294b3b8fdebb3d98a",
       "version_major": 2,
       "version_minor": 0
      },
      "text/plain": [
       "0it [00:00, ?it/s]"
      ]
     },
     "metadata": {},
     "output_type": "display_data"
    },
    {
     "name": "stdout",
     "output_type": "stream",
     "text": [
      "0.5\n"
     ]
    },
    {
     "data": {
      "application/vnd.jupyter.widget-view+json": {
       "model_id": "46d4eb48bd5249f09480f6b14e759fe3",
       "version_major": 2,
       "version_minor": 0
      },
      "text/plain": [
       "0it [00:00, ?it/s]"
      ]
     },
     "metadata": {},
     "output_type": "display_data"
    },
    {
     "name": "stdout",
     "output_type": "stream",
     "text": [
      "0.5\n"
     ]
    },
    {
     "data": {
      "application/vnd.jupyter.widget-view+json": {
       "model_id": "8af17cac10de4daba2985aff1d27c042",
       "version_major": 2,
       "version_minor": 0
      },
      "text/plain": [
       "0it [00:00, ?it/s]"
      ]
     },
     "metadata": {},
     "output_type": "display_data"
    },
    {
     "name": "stdout",
     "output_type": "stream",
     "text": [
      "0.5\n"
     ]
    },
    {
     "data": {
      "application/vnd.jupyter.widget-view+json": {
       "model_id": "a8df1f982d4c4ce582d9831f13a257b9",
       "version_major": 2,
       "version_minor": 0
      },
      "text/plain": [
       "0it [00:00, ?it/s]"
      ]
     },
     "metadata": {},
     "output_type": "display_data"
    },
    {
     "name": "stdout",
     "output_type": "stream",
     "text": [
      "0.5\n"
     ]
    },
    {
     "data": {
      "application/vnd.jupyter.widget-view+json": {
       "model_id": "c5c0fc4724c24b079549ac0d1a6cae23",
       "version_major": 2,
       "version_minor": 0
      },
      "text/plain": [
       "0it [00:00, ?it/s]"
      ]
     },
     "metadata": {},
     "output_type": "display_data"
    },
    {
     "name": "stdout",
     "output_type": "stream",
     "text": [
      "0.5\n"
     ]
    },
    {
     "data": {
      "application/vnd.jupyter.widget-view+json": {
       "model_id": "b6076a365ed44a7a877e46f1d488536a",
       "version_major": 2,
       "version_minor": 0
      },
      "text/plain": [
       "0it [00:00, ?it/s]"
      ]
     },
     "metadata": {},
     "output_type": "display_data"
    },
    {
     "name": "stdout",
     "output_type": "stream",
     "text": [
      "0.5\n"
     ]
    },
    {
     "data": {
      "application/vnd.jupyter.widget-view+json": {
       "model_id": "37cbb188eacd449eb4f06ed2c8db26bc",
       "version_major": 2,
       "version_minor": 0
      },
      "text/plain": [
       "0it [00:00, ?it/s]"
      ]
     },
     "metadata": {},
     "output_type": "display_data"
    },
    {
     "name": "stdout",
     "output_type": "stream",
     "text": [
      "0.5\n"
     ]
    },
    {
     "data": {
      "application/vnd.jupyter.widget-view+json": {
       "model_id": "3f791b774eaf4a06bce7ff589db151c1",
       "version_major": 2,
       "version_minor": 0
      },
      "text/plain": [
       "0it [00:00, ?it/s]"
      ]
     },
     "metadata": {},
     "output_type": "display_data"
    },
    {
     "name": "stdout",
     "output_type": "stream",
     "text": [
      "0.5\n"
     ]
    },
    {
     "data": {
      "application/vnd.jupyter.widget-view+json": {
       "model_id": "df330fce08a94487a8978f184e7867ab",
       "version_major": 2,
       "version_minor": 0
      },
      "text/plain": [
       "0it [00:00, ?it/s]"
      ]
     },
     "metadata": {},
     "output_type": "display_data"
    }
   ],
   "source": [
    "all_classes = {\n",
    "                'foreground':[1,2],\n",
    "#                 'penumbra':[1],\n",
    "#                 'umbra':[2]\n",
    "              }\n",
    "fusions_per_predictor = {t : counting_fusions(image_lst, pred_lsts[t], bins=bins, all_classes=all_classes)\n",
    "                        for t in tqdm(list(pred_lsts.keys()) [:])}"
   ]
  },
  {
   "cell_type": "code",
   "execution_count": 26,
   "metadata": {},
   "outputs": [],
   "source": [
    "with open('./SunSCC_Fusions_per_predictor_fgbg_solDisk.json', 'w') as f:\n",
    "    json.dump(fusions_per_predictor,f, cls=NpEncoder)"
   ]
  },
  {
   "cell_type": "markdown",
   "metadata": {},
   "source": [
    "b) Compute FPs"
   ]
  },
  {
   "cell_type": "code",
   "execution_count": 27,
   "metadata": {
    "scrolled": false
   },
   "outputs": [
    {
     "data": {
      "application/vnd.jupyter.widget-view+json": {
       "model_id": "e3b6a0742de541c791eaf67e1ca3772e",
       "version_major": 2,
       "version_minor": 0
      },
      "text/plain": [
       "  0%|          | 0/10 [00:00<?, ?it/s]"
      ]
     },
     "metadata": {},
     "output_type": "display_data"
    },
    {
     "data": {
      "application/vnd.jupyter.widget-view+json": {
       "model_id": "452274faf3924bdc97e3e4d82bdd5a68",
       "version_major": 2,
       "version_minor": 0
      },
      "text/plain": [
       "0it [00:00, ?it/s]"
      ]
     },
     "metadata": {},
     "output_type": "display_data"
    },
    {
     "data": {
      "application/vnd.jupyter.widget-view+json": {
       "model_id": "5a6d72cfda1f4326ac3fbc99941d889c",
       "version_major": 2,
       "version_minor": 0
      },
      "text/plain": [
       "0it [00:00, ?it/s]"
      ]
     },
     "metadata": {},
     "output_type": "display_data"
    },
    {
     "data": {
      "application/vnd.jupyter.widget-view+json": {
       "model_id": "582dbb09fbc6416a8d1327558ad57330",
       "version_major": 2,
       "version_minor": 0
      },
      "text/plain": [
       "0it [00:00, ?it/s]"
      ]
     },
     "metadata": {},
     "output_type": "display_data"
    },
    {
     "data": {
      "application/vnd.jupyter.widget-view+json": {
       "model_id": "67a7b44f72a44324afcc577ef3f8a42c",
       "version_major": 2,
       "version_minor": 0
      },
      "text/plain": [
       "0it [00:00, ?it/s]"
      ]
     },
     "metadata": {},
     "output_type": "display_data"
    },
    {
     "data": {
      "application/vnd.jupyter.widget-view+json": {
       "model_id": "5f1fcce93dc44d30a051b7b46b460b6f",
       "version_major": 2,
       "version_minor": 0
      },
      "text/plain": [
       "0it [00:00, ?it/s]"
      ]
     },
     "metadata": {},
     "output_type": "display_data"
    },
    {
     "data": {
      "application/vnd.jupyter.widget-view+json": {
       "model_id": "dddfd40d50bd4adbb7a2a24f8653737e",
       "version_major": 2,
       "version_minor": 0
      },
      "text/plain": [
       "0it [00:00, ?it/s]"
      ]
     },
     "metadata": {},
     "output_type": "display_data"
    },
    {
     "data": {
      "application/vnd.jupyter.widget-view+json": {
       "model_id": "e2cbeb2eb4484195bd66f70833bbac6d",
       "version_major": 2,
       "version_minor": 0
      },
      "text/plain": [
       "0it [00:00, ?it/s]"
      ]
     },
     "metadata": {},
     "output_type": "display_data"
    },
    {
     "data": {
      "application/vnd.jupyter.widget-view+json": {
       "model_id": "5bcc609764db40c6ac33dc2700435aba",
       "version_major": 2,
       "version_minor": 0
      },
      "text/plain": [
       "0it [00:00, ?it/s]"
      ]
     },
     "metadata": {},
     "output_type": "display_data"
    },
    {
     "data": {
      "application/vnd.jupyter.widget-view+json": {
       "model_id": "f13a38fd84d24659ae7cdeac52910143",
       "version_major": 2,
       "version_minor": 0
      },
      "text/plain": [
       "0it [00:00, ?it/s]"
      ]
     },
     "metadata": {},
     "output_type": "display_data"
    },
    {
     "data": {
      "application/vnd.jupyter.widget-view+json": {
       "model_id": "b3826e6224124b17b856ea03897b5243",
       "version_major": 2,
       "version_minor": 0
      },
      "text/plain": [
       "0it [00:00, ?it/s]"
      ]
     },
     "metadata": {},
     "output_type": "display_data"
    }
   ],
   "source": [
    "FP_per_predictor = {t : compute_false_positives(image_lst, pred_lsts[t], bins=bins) \n",
    "                    for t in tqdm(list(pred_lsts.keys()) [:])}"
   ]
  },
  {
   "cell_type": "code",
   "execution_count": 36,
   "metadata": {},
   "outputs": [],
   "source": [
    "with open('./SunSCC_FPs_per_predictor_fgbg_solDisk.json', 'w') as f:\n",
    "    json.dump(FP_per_predictor,f, cls=NpEncoder)"
   ]
  },
  {
   "cell_type": "markdown",
   "metadata": {},
   "source": [
    "c) Compute scores"
   ]
  },
  {
   "cell_type": "code",
   "execution_count": 29,
   "metadata": {
    "scrolled": true
   },
   "outputs": [
    {
     "data": {
      "application/vnd.jupyter.widget-view+json": {
       "model_id": "52674acc5eb943c6ae8d82c3a29cc66a",
       "version_major": 2,
       "version_minor": 0
      },
      "text/plain": [
       "  0%|          | 0/10 [00:00<?, ?it/s]"
      ]
     },
     "metadata": {},
     "output_type": "display_data"
    },
    {
     "data": {
      "application/vnd.jupyter.widget-view+json": {
       "model_id": "1f9f15f5c19c4ea19e8662332f695137",
       "version_major": 2,
       "version_minor": 0
      },
      "text/plain": [
       "0it [00:00, ?it/s]"
      ]
     },
     "metadata": {},
     "output_type": "display_data"
    },
    {
     "data": {
      "application/vnd.jupyter.widget-view+json": {
       "model_id": "72939e518217444dadacf591b75dce5a",
       "version_major": 2,
       "version_minor": 0
      },
      "text/plain": [
       "0it [00:00, ?it/s]"
      ]
     },
     "metadata": {},
     "output_type": "display_data"
    },
    {
     "data": {
      "application/vnd.jupyter.widget-view+json": {
       "model_id": "6782c8775128453eb865ff2726a0bb4b",
       "version_major": 2,
       "version_minor": 0
      },
      "text/plain": [
       "0it [00:00, ?it/s]"
      ]
     },
     "metadata": {},
     "output_type": "display_data"
    },
    {
     "data": {
      "application/vnd.jupyter.widget-view+json": {
       "model_id": "a745cdd0d2954cd4a9a41ab092ad0c1e",
       "version_major": 2,
       "version_minor": 0
      },
      "text/plain": [
       "0it [00:00, ?it/s]"
      ]
     },
     "metadata": {},
     "output_type": "display_data"
    },
    {
     "data": {
      "application/vnd.jupyter.widget-view+json": {
       "model_id": "b8f92f50db344bd88975d8ec970f08d0",
       "version_major": 2,
       "version_minor": 0
      },
      "text/plain": [
       "0it [00:00, ?it/s]"
      ]
     },
     "metadata": {},
     "output_type": "display_data"
    },
    {
     "data": {
      "application/vnd.jupyter.widget-view+json": {
       "model_id": "c524117d069e474ba86aa4b9072fd30f",
       "version_major": 2,
       "version_minor": 0
      },
      "text/plain": [
       "0it [00:00, ?it/s]"
      ]
     },
     "metadata": {},
     "output_type": "display_data"
    },
    {
     "data": {
      "application/vnd.jupyter.widget-view+json": {
       "model_id": "5dfc49183a8f46cca781441ba011e63b",
       "version_major": 2,
       "version_minor": 0
      },
      "text/plain": [
       "0it [00:00, ?it/s]"
      ]
     },
     "metadata": {},
     "output_type": "display_data"
    },
    {
     "data": {
      "application/vnd.jupyter.widget-view+json": {
       "model_id": "9e421be7443d4b539d9b31f559c7818c",
       "version_major": 2,
       "version_minor": 0
      },
      "text/plain": [
       "0it [00:00, ?it/s]"
      ]
     },
     "metadata": {},
     "output_type": "display_data"
    },
    {
     "data": {
      "application/vnd.jupyter.widget-view+json": {
       "model_id": "54a88b25f99749519e707df911cf4396",
       "version_major": 2,
       "version_minor": 0
      },
      "text/plain": [
       "0it [00:00, ?it/s]"
      ]
     },
     "metadata": {},
     "output_type": "display_data"
    },
    {
     "data": {
      "application/vnd.jupyter.widget-view+json": {
       "model_id": "73dd6bab3c7d4827abb66047a8af8719",
       "version_major": 2,
       "version_minor": 0
      },
      "text/plain": [
       "0it [00:00, ?it/s]"
      ]
     },
     "metadata": {},
     "output_type": "display_data"
    }
   ],
   "source": [
    "scores_per_predictor = {t : binning_sunspots3(image_lst, pred_lsts[t], bins=bins, all_classes=all_classes)\n",
    "                        for t in tqdm(list(pred_lsts.keys()) [:])}"
   ]
  },
  {
   "cell_type": "code",
   "execution_count": 30,
   "metadata": {},
   "outputs": [],
   "source": [
    "with open('./SunSCC_scores_per_predictor_fgbg_solDisk.json', 'w') as f:\n",
    "    json.dump(scores_per_predictor,f, cls=NpEncoder)"
   ]
  },
  {
   "cell_type": "markdown",
   "metadata": {},
   "source": [
    "In the case new entries should be adde to exiting **scores_per_predictor** or **FP_per_predictor**, use the next cell(s) "
   ]
  },
  {
   "cell_type": "code",
   "execution_count": 31,
   "metadata": {},
   "outputs": [],
   "source": [
    "# tmp_scores_per_predictor = {t : binning_sunspots3(image_lst, pred_lsts[t], bins=bins)\n",
    "#                         for t in tqdm(list(pred_lsts.keys()) [9:])}\n",
    "# scores_per_predictor.update(tmp_scores_per_predictor)"
   ]
  },
  {
   "cell_type": "code",
   "execution_count": 32,
   "metadata": {},
   "outputs": [],
   "source": [
    "# tmp_FP_per_predictor = {t : compute_false_positives(image_lst, pred_lsts[t], bins=bins) \n",
    "#                     for t in tqdm(list(pred_lsts.keys()) [9:])}\n",
    "# FP_per_predictor.update(tmp_FP_per_predictor)"
   ]
  },
  {
   "cell_type": "markdown",
   "metadata": {},
   "source": [
    "# Performance Figures\n",
    "\n",
    "### LOAD FROM JSON"
   ]
  },
  {
   "cell_type": "code",
   "execution_count": 13,
   "metadata": {},
   "outputs": [],
   "source": [
    "# with open('./SunSCC_Fusions_per_generator_fgbg_solDisk.json', 'r') as f:\n",
    "with open('./2023_Fusions_per_generator_fgbg_solDisk.json', 'r') as f:\n",
    "    fusions_per_generator = json.load(f)\n",
    "# with open('./SunSCC_Fusions_per_predictor_fgbg_solDisk.json', 'r') as f:\n",
    "with open('./2023_Fusions_per_predictor_fgbg_solDisk.json', 'r') as f:\n",
    "    fusions_per_predictor =  json.load(f)"
   ]
  },
  {
   "cell_type": "code",
   "execution_count": 14,
   "metadata": {},
   "outputs": [],
   "source": [
    "with open('./2023_scores_per_generator_fgbg_solDisk.json', 'r') as f:\n",
    "# with open('./SunSCC_scores_per_generator_fgbg_solDisk.json', 'r') as f:\n",
    "    scores_per_generator = json.load(f)\n",
    "with open('./2023_scores_per_predictor_fgbg_solDisk.json', 'r') as f:\n",
    "# with open('./SunSCC_scores_per_predictor_fgbg_solDisk.json', 'r') as f:\n",
    "    scores_per_predictor = json.load(f)"
   ]
  },
  {
   "cell_type": "code",
   "execution_count": 15,
   "metadata": {},
   "outputs": [],
   "source": [
    "# with open('./SunSCC_FPs_per_generator_fgbg_solDisk.json', 'r') as f:\n",
    "with open('./2023_FPs_per_generator_fgbg_solDisk.json', 'r') as f:\n",
    "    FP_per_generator = json.load(f)\n",
    "# with open('./SunSCC_FPs_per_predictor_fgbg_solDisk.json', 'r') as f:\n",
    "with open('./2023_FPs_per_predictor_fgbg_solDisk.json', 'r') as f:\n",
    "    FP_per_predictor = json.load(f)"
   ]
  },
  {
   "cell_type": "code",
   "execution_count": 16,
   "metadata": {},
   "outputs": [
    {
     "name": "stdout",
     "output_type": "stream",
     "text": [
      "dict_keys(['2023_T250_fgbg', '2023_T275_fgbg', '2023_T300_fgbg', '2023_T325_fgbg', '2023_T350_fgbg', '2023_T375_fgbg', '2023_T400_fgbg', '2023_T425_fgbg', '2023_T450_fgbg', '2023_T475_fgbg', '2023_T500_fgbg'])\n",
      "dict_keys(['CNN-UNet_T500_run0_0TTA', 'CNN-UNet_T500_run2_0TTA', 'CNN-UNet_T500_run3_0TTA', 'CNN-UNet_T500_run4_0TTA', 'CNN-UNet_T500_run5_0TTA', 'CNN-UNet_T475_run0_0TTA', 'CNN-UNet_T475_run2_0TTA', 'CNN-UNet_T475_run3_0TTA', 'CNN-UNet_T475_run4_0TTA', 'CNN-UNet_T475_run5_0TTA', 'CNN-UNet_T450_run0_0TTA', 'CNN-UNet_T450_run2_0TTA', 'CNN-UNet_T450_run3_0TTA', 'CNN-UNet_T450_run4_0TTA', 'CNN-UNet_T450_run5_0TTA', 'CNN-UNet_T425_run0_0TTA', 'CNN-UNet_T425_run2_0TTA', 'CNN-UNet_T425_run3_0TTA', 'CNN-UNet_T425_run4_0TTA', 'CNN-UNet_T425_run5_0TTA', 'CNN-UNet_T400_run0_0TTA', 'CNN-UNet_T400_run2_0TTA', 'CNN-UNet_T400_run3_0TTA', 'CNN-UNet_T400_run4_0TTA', 'CNN-UNet_T400_run5_0TTA', 'CNN-UNet_T375_run0_0TTA', 'CNN-UNet_T375_run2_0TTA', 'CNN-UNet_T375_run3_0TTA', 'CNN-UNet_T375_run4_0TTA', 'CNN-UNet_T375_run5_0TTA', 'CNN-UNet_T350_run0_0TTA', 'CNN-UNet_T350_run2_0TTA', 'CNN-UNet_T350_run3_0TTA', 'CNN-UNet_T350_run4_0TTA', 'CNN-UNet_T350_run5_0TTA', 'CNN-UNet_T325_run0_0TTA', 'CNN-UNet_T325_run2_0TTA', 'CNN-UNet_T325_run3_0TTA', 'CNN-UNet_T325_run4_0TTA', 'CNN-UNet_T325_run5_0TTA', 'CNN-UNet_T300_run0_0TTA', 'CNN-UNet_T300_run2_0TTA', 'CNN-UNet_T300_run3_0TTA', 'CNN-UNet_T300_run4_0TTA', 'CNN-UNet_T300_run5_0TTA', 'CNN-UNet_T425_T375_T325_run0_0TTA', 'CNN-UNet_T425_T375_T325_run2_0TTA', 'CNN-UNet_T425_T375_T325_run3_0TTA', 'CNN-UNet_T425_T375_T325_run4_0TTA', 'CNN-UNet_T425_T375_T325_run5_0TTA', 'CNN-UNet_T425_T375_T325_run6_0TTA', 'CNN-UNet_T425_T375_T325_run7_0TTA', 'CNN-UNet_T425_T375_T325_run8_0TTA', 'CNN-UNet_T425_T375_T325_run9_0TTA', 'CNN-UNet_T425_T375_T325_run10_0TTA'])\n"
     ]
    }
   ],
   "source": [
    "score_per_segmenter = {\"generators\":scores_per_generator, \"predictors\": scores_per_predictor}\n",
    "FP_per_segmenter = {\"generators\":FP_per_generator, \"predictors\": FP_per_predictor}\n",
    "\n",
    "print(score_per_segmenter[\"generators\"].keys())\n",
    "print(score_per_segmenter[\"predictors\"].keys())\n"
   ]
  },
  {
   "cell_type": "code",
   "execution_count": 17,
   "metadata": {},
   "outputs": [
    {
     "name": "stdout",
     "output_type": "stream",
     "text": [
      "dict_keys(['2023_T250_fgbg', '2023_T275_fgbg', '2023_T300_fgbg', '2023_T325_fgbg', '2023_T350_fgbg', '2023_T375_fgbg', '2023_T400_fgbg', '2023_T425_fgbg', '2023_T450_fgbg', '2023_T475_fgbg', '2023_T500_fgbg'])\n",
      "dict_keys(['2023_T300_fgbg', '2023_T325_fgbg', '2023_T350_fgbg', '2023_T375_fgbg', '2023_T400_fgbg', '2023_T425_fgbg', '2023_T450_fgbg', '2023_T475_fgbg', '2023_T500_fgbg', '2023_T275_fgbg', '2023_T250_fgbg'])\n",
      "dict_keys(['2023_T250_fgbg', '2023_T275_fgbg', '2023_T300_fgbg', '2023_T325_fgbg', '2023_T350_fgbg', '2023_T375_fgbg', '2023_T400_fgbg', '2023_T425_fgbg', '2023_T450_fgbg', '2023_T475_fgbg', '2023_T500_fgbg'])\n"
     ]
    }
   ],
   "source": [
    "print(score_per_segmenter[\"generators\"].keys())\n",
    "print(fusions_per_generator.keys())\n",
    "print(FP_per_generator.keys())"
   ]
  },
  {
   "cell_type": "code",
   "execution_count": 18,
   "metadata": {},
   "outputs": [],
   "source": [
    "def compare_generators_stats(generators_names, scores_per_generator, FP_per_generator, metric='DICE',\n",
    "                            all_classes = {'foreground':[1,2], 'penumbra':[1], 'umbra':[2]}):    \n",
    "    out_dict = {c: {i:{} for i in range(len(bins))} for c in all_classes.keys()}\n",
    "    \n",
    "    for c_name, c_ids in (pbar :=tqdm(all_classes.items(), leave=False)):\n",
    "        \n",
    "        for i, b in enumerate( bins[:]):   \n",
    "            scores = {gen_name: [item['value'] \n",
    "                                           for item in scores_per_generator[gen_name][c_name][str(i)][metric]] \n",
    "                                for gen_name in generators_names}\n",
    "            \n",
    "            for i_t in range(len(generators_names)):\n",
    "                gen_name = generators_names[i_t]\n",
    "\n",
    "                scores_fg_bg = [item['value'] \n",
    "                                    for item in scores_per_generator[gen_name][c_name][str(i)][metric] \n",
    "                                if not item['details']['misdetected']]\n",
    "\n",
    "                misdetections_fg_bg = [item['value'] \n",
    "                                           for item in scores_per_generator[gen_name][c_name][str(i)][metric] \n",
    "                                       if item['details']['misdetected']]\n",
    "\n",
    "                \n",
    "                false_positives = FP_per_generator[gen_name][c_name][str(i)][\"num_false_positives\"]\n",
    "                false_positives_area = FP_per_generator[gen_name][c_name][str(i)][\"total_pixel_area\"]\n",
    "        \n",
    "                missed = len(misdetections_fg_bg)\n",
    "        \n",
    "                tmp_scores =  np.array(scores_fg_bg)\n",
    "                mu, sigma = scipy.stats.norm.fit(tmp_scores)\n",
    "                \n",
    "                FP = false_positives\n",
    "                FN = missed\n",
    "                # TP = GT - FN\n",
    "                TP = len(binned_gt[i]) - FN\n",
    "                \n",
    "#                 print(f'TP:{TP}, FP:{FP}, FN:{TP}')\n",
    "                F1 = 2 * (TP / (2*TP + FP + FN)) if len(binned_gt[i]) > 0 else None\n",
    "\n",
    "                out_dict[c_name][i][gen_name] = {\n",
    "                            \"F1\": F1,\n",
    "                            \"num_FN\": missed,\n",
    "                            \"percent_FN\": 100* missed / len(binned_gt[i]) if len(binned_gt[i]) > 0 else None ,\n",
    "                            \"num_FP\": false_positives,\n",
    "                            \"percent_FP\": 100* false_positives / len(binned_gt[i]) if len(binned_gt[i]) > 0 else None, \n",
    "                            \"FP_area\": false_positives_area\n",
    "                            }\n",
    "                \n",
    "    return out_dict"
   ]
  },
  {
   "cell_type": "code",
   "execution_count": 19,
   "metadata": {
    "scrolled": false
   },
   "outputs": [
    {
     "data": {
      "application/vnd.jupyter.widget-view+json": {
       "model_id": "",
       "version_major": 2,
       "version_minor": 0
      },
      "text/plain": [
       "  0%|          | 0/1 [00:00<?, ?it/s]"
      ]
     },
     "metadata": {},
     "output_type": "display_data"
    },
    {
     "data": {
      "application/vnd.jupyter.widget-view+json": {
       "model_id": "",
       "version_major": 2,
       "version_minor": 0
      },
      "text/plain": [
       "  0%|          | 0/1 [00:00<?, ?it/s]"
      ]
     },
     "metadata": {},
     "output_type": "display_data"
    },
    {
     "name": "stdout",
     "output_type": "stream",
     "text": [
      "foreground [1, 2]\n",
      "[26.34920635 33.01587302 41.26984127 51.74603175 56.82539683 63.80952381\n",
      " 68.88888889 72.6984127  75.87301587 80.         84.44444444]\n"
     ]
    },
    {
     "name": "stderr",
     "output_type": "stream",
     "text": [
      "/scratch/nsayez/48019985/ipykernel_1499137/210438807.py:51: FutureWarning: Setting an item of incompatible dtype is deprecated and will raise an error in a future version of pandas. Value '83' has dtype incompatible with float64, please explicitly cast to a compatible dtype first.\n",
      "  df.loc[row] = df.loc[row].map('{:,.0f}'.format)\n",
      "/scratch/nsayez/48019985/ipykernel_1499137/210438807.py:51: FutureWarning: Setting an item of incompatible dtype is deprecated and will raise an error in a future version of pandas. Value '104' has dtype incompatible with float64, please explicitly cast to a compatible dtype first.\n",
      "  df.loc[row] = df.loc[row].map('{:,.0f}'.format)\n",
      "/scratch/nsayez/48019985/ipykernel_1499137/210438807.py:51: FutureWarning: Setting an item of incompatible dtype is deprecated and will raise an error in a future version of pandas. Value '130' has dtype incompatible with float64, please explicitly cast to a compatible dtype first.\n",
      "  df.loc[row] = df.loc[row].map('{:,.0f}'.format)\n",
      "/scratch/nsayez/48019985/ipykernel_1499137/210438807.py:51: FutureWarning: Setting an item of incompatible dtype is deprecated and will raise an error in a future version of pandas. Value '163' has dtype incompatible with float64, please explicitly cast to a compatible dtype first.\n",
      "  df.loc[row] = df.loc[row].map('{:,.0f}'.format)\n",
      "/scratch/nsayez/48019985/ipykernel_1499137/210438807.py:51: FutureWarning: Setting an item of incompatible dtype is deprecated and will raise an error in a future version of pandas. Value '179' has dtype incompatible with float64, please explicitly cast to a compatible dtype first.\n",
      "  df.loc[row] = df.loc[row].map('{:,.0f}'.format)\n",
      "/scratch/nsayez/48019985/ipykernel_1499137/210438807.py:51: FutureWarning: Setting an item of incompatible dtype is deprecated and will raise an error in a future version of pandas. Value '201' has dtype incompatible with float64, please explicitly cast to a compatible dtype first.\n",
      "  df.loc[row] = df.loc[row].map('{:,.0f}'.format)\n",
      "/scratch/nsayez/48019985/ipykernel_1499137/210438807.py:51: FutureWarning: Setting an item of incompatible dtype is deprecated and will raise an error in a future version of pandas. Value '217' has dtype incompatible with float64, please explicitly cast to a compatible dtype first.\n",
      "  df.loc[row] = df.loc[row].map('{:,.0f}'.format)\n",
      "/scratch/nsayez/48019985/ipykernel_1499137/210438807.py:51: FutureWarning: Setting an item of incompatible dtype is deprecated and will raise an error in a future version of pandas. Value '229' has dtype incompatible with float64, please explicitly cast to a compatible dtype first.\n",
      "  df.loc[row] = df.loc[row].map('{:,.0f}'.format)\n",
      "/scratch/nsayez/48019985/ipykernel_1499137/210438807.py:51: FutureWarning: Setting an item of incompatible dtype is deprecated and will raise an error in a future version of pandas. Value '239' has dtype incompatible with float64, please explicitly cast to a compatible dtype first.\n",
      "  df.loc[row] = df.loc[row].map('{:,.0f}'.format)\n",
      "/scratch/nsayez/48019985/ipykernel_1499137/210438807.py:51: FutureWarning: Setting an item of incompatible dtype is deprecated and will raise an error in a future version of pandas. Value '252' has dtype incompatible with float64, please explicitly cast to a compatible dtype first.\n",
      "  df.loc[row] = df.loc[row].map('{:,.0f}'.format)\n",
      "/scratch/nsayez/48019985/ipykernel_1499137/210438807.py:51: FutureWarning: Setting an item of incompatible dtype is deprecated and will raise an error in a future version of pandas. Value '266' has dtype incompatible with float64, please explicitly cast to a compatible dtype first.\n",
      "  df.loc[row] = df.loc[row].map('{:,.0f}'.format)\n"
     ]
    },
    {
     "data": {
      "text/html": [
       "<style type=\"text/css\">\n",
       "#T_0ffc5 caption {\n",
       "  text-align: center;\n",
       "  font-size: 120%;\n",
       "  font-weight: bold;\n",
       "}\n",
       "#T_0ffc5_row0_col0, #T_0ffc5_row0_col1, #T_0ffc5_row0_col2, #T_0ffc5_row0_col3, #T_0ffc5_row0_col4, #T_0ffc5_row0_col5, #T_0ffc5_row1_col0, #T_0ffc5_row1_col1, #T_0ffc5_row1_col2, #T_0ffc5_row1_col3, #T_0ffc5_row1_col4, #T_0ffc5_row1_col5, #T_0ffc5_row2_col0, #T_0ffc5_row2_col1, #T_0ffc5_row2_col2, #T_0ffc5_row2_col3, #T_0ffc5_row2_col4, #T_0ffc5_row2_col5, #T_0ffc5_row3_col0, #T_0ffc5_row3_col1, #T_0ffc5_row3_col2, #T_0ffc5_row3_col3, #T_0ffc5_row3_col4, #T_0ffc5_row3_col5, #T_0ffc5_row4_col0, #T_0ffc5_row4_col1, #T_0ffc5_row4_col2, #T_0ffc5_row4_col3, #T_0ffc5_row4_col4, #T_0ffc5_row4_col5, #T_0ffc5_row5_col0, #T_0ffc5_row5_col1, #T_0ffc5_row5_col2, #T_0ffc5_row5_col3, #T_0ffc5_row5_col4, #T_0ffc5_row5_col5, #T_0ffc5_row6_col0, #T_0ffc5_row6_col1, #T_0ffc5_row6_col2, #T_0ffc5_row6_col3, #T_0ffc5_row6_col4, #T_0ffc5_row6_col5, #T_0ffc5_row7_col0, #T_0ffc5_row7_col1, #T_0ffc5_row7_col2, #T_0ffc5_row7_col3, #T_0ffc5_row7_col4, #T_0ffc5_row7_col5, #T_0ffc5_row8_col0, #T_0ffc5_row8_col1, #T_0ffc5_row8_col2, #T_0ffc5_row8_col3, #T_0ffc5_row8_col4, #T_0ffc5_row8_col5, #T_0ffc5_row9_col0, #T_0ffc5_row9_col1, #T_0ffc5_row9_col2, #T_0ffc5_row9_col3, #T_0ffc5_row9_col4, #T_0ffc5_row9_col5, #T_0ffc5_row10_col0, #T_0ffc5_row10_col1, #T_0ffc5_row10_col2, #T_0ffc5_row10_col3, #T_0ffc5_row10_col4, #T_0ffc5_row10_col5 {\n",
       "  text-align: center;\n",
       "}\n",
       "</style>\n",
       "<table id=\"T_0ffc5\">\n",
       "  <caption>Bin of sunspots of size  [1, 50] -> 315 in GroudTruth</caption>\n",
       "  <thead>\n",
       "    <tr>\n",
       "      <th class=\"blank level0\" >&nbsp;</th>\n",
       "      <th id=\"T_0ffc5_level0_col0\" class=\"col_heading level0 col0\" >F1</th>\n",
       "      <th id=\"T_0ffc5_level0_col1\" class=\"col_heading level0 col1\" >num_FN</th>\n",
       "      <th id=\"T_0ffc5_level0_col2\" class=\"col_heading level0 col2\" >percent_FN</th>\n",
       "      <th id=\"T_0ffc5_level0_col3\" class=\"col_heading level0 col3\" >num_FP</th>\n",
       "      <th id=\"T_0ffc5_level0_col4\" class=\"col_heading level0 col4\" >percent_FP</th>\n",
       "      <th id=\"T_0ffc5_level0_col5\" class=\"col_heading level0 col5\" >FP_area</th>\n",
       "    </tr>\n",
       "  </thead>\n",
       "  <tbody>\n",
       "    <tr>\n",
       "      <th id=\"T_0ffc5_level0_row0\" class=\"row_heading level0 row0\" >2023_T250_fgbg</th>\n",
       "      <td id=\"T_0ffc5_row0_col0\" class=\"data row0 col0\" >0.282067</td>\n",
       "      <td id=\"T_0ffc5_row0_col1\" class=\"data row0 col1\" >83</td>\n",
       "      <td id=\"T_0ffc5_row0_col2\" class=\"data row0 col2\" >26.35</td>\n",
       "      <td id=\"T_0ffc5_row0_col3\" class=\"data row0 col3\" >1,098</td>\n",
       "      <td id=\"T_0ffc5_row0_col4\" class=\"data row0 col4\" >348.57</td>\n",
       "      <td id=\"T_0ffc5_row0_col5\" class=\"data row0 col5\" >26,736</td>\n",
       "    </tr>\n",
       "    <tr>\n",
       "      <th id=\"T_0ffc5_level0_row1\" class=\"row_heading level0 row1\" >2023_T275_fgbg</th>\n",
       "      <td id=\"T_0ffc5_row1_col0\" class=\"data row1 col0\" >0.461202</td>\n",
       "      <td id=\"T_0ffc5_row1_col1\" class=\"data row1 col1\" >104</td>\n",
       "      <td id=\"T_0ffc5_row1_col2\" class=\"data row1 col2\" >33.02</td>\n",
       "      <td id=\"T_0ffc5_row1_col3\" class=\"data row1 col3\" >389</td>\n",
       "      <td id=\"T_0ffc5_row1_col4\" class=\"data row1 col4\" >123.49</td>\n",
       "      <td id=\"T_0ffc5_row1_col5\" class=\"data row1 col5\" >9,915</td>\n",
       "    </tr>\n",
       "    <tr>\n",
       "      <th id=\"T_0ffc5_level0_row2\" class=\"row_heading level0 row2\" >2023_T300_fgbg</th>\n",
       "      <td id=\"T_0ffc5_row2_col0\" class=\"data row2 col0\" >0.543319</td>\n",
       "      <td id=\"T_0ffc5_row2_col1\" class=\"data row2 col1\" >130</td>\n",
       "      <td id=\"T_0ffc5_row2_col2\" class=\"data row2 col2\" >41.27</td>\n",
       "      <td id=\"T_0ffc5_row2_col3\" class=\"data row2 col3\" >181</td>\n",
       "      <td id=\"T_0ffc5_row2_col4\" class=\"data row2 col4\" >57.46</td>\n",
       "      <td id=\"T_0ffc5_row2_col5\" class=\"data row2 col5\" >4,835</td>\n",
       "    </tr>\n",
       "    <tr>\n",
       "      <th id=\"T_0ffc5_level0_row3\" class=\"row_heading level0 row3\" >2023_T325_fgbg</th>\n",
       "      <td id=\"T_0ffc5_row3_col0\" class=\"data row3 col0\" >0.545781</td>\n",
       "      <td id=\"T_0ffc5_row3_col1\" class=\"data row3 col1\" >163</td>\n",
       "      <td id=\"T_0ffc5_row3_col2\" class=\"data row3 col2\" >51.75</td>\n",
       "      <td id=\"T_0ffc5_row3_col3\" class=\"data row3 col3\" >90</td>\n",
       "      <td id=\"T_0ffc5_row3_col4\" class=\"data row3 col4\" >28.57</td>\n",
       "      <td id=\"T_0ffc5_row3_col5\" class=\"data row3 col5\" >2,297</td>\n",
       "    </tr>\n",
       "    <tr>\n",
       "      <th id=\"T_0ffc5_level0_row4\" class=\"row_heading level0 row4\" >2023_T350_fgbg</th>\n",
       "      <td id=\"T_0ffc5_row4_col0\" class=\"data row4 col0\" >0.548387</td>\n",
       "      <td id=\"T_0ffc5_row4_col1\" class=\"data row4 col1\" >179</td>\n",
       "      <td id=\"T_0ffc5_row4_col2\" class=\"data row4 col2\" >56.83</td>\n",
       "      <td id=\"T_0ffc5_row4_col3\" class=\"data row4 col3\" >45</td>\n",
       "      <td id=\"T_0ffc5_row4_col4\" class=\"data row4 col4\" >14.29</td>\n",
       "      <td id=\"T_0ffc5_row4_col5\" class=\"data row4 col5\" >1,119</td>\n",
       "    </tr>\n",
       "    <tr>\n",
       "      <th id=\"T_0ffc5_level0_row5\" class=\"row_heading level0 row5\" >2023_T375_fgbg</th>\n",
       "      <td id=\"T_0ffc5_row5_col0\" class=\"data row5 col0\" >0.510067</td>\n",
       "      <td id=\"T_0ffc5_row5_col1\" class=\"data row5 col1\" >201</td>\n",
       "      <td id=\"T_0ffc5_row5_col2\" class=\"data row5 col2\" >63.81</td>\n",
       "      <td id=\"T_0ffc5_row5_col3\" class=\"data row5 col3\" >18</td>\n",
       "      <td id=\"T_0ffc5_row5_col4\" class=\"data row5 col4\" >5.71</td>\n",
       "      <td id=\"T_0ffc5_row5_col5\" class=\"data row5 col5\" >376</td>\n",
       "    </tr>\n",
       "    <tr>\n",
       "      <th id=\"T_0ffc5_level0_row6\" class=\"row_heading level0 row6\" >2023_T400_fgbg</th>\n",
       "      <td id=\"T_0ffc5_row6_col0\" class=\"data row6 col0\" >0.461176</td>\n",
       "      <td id=\"T_0ffc5_row6_col1\" class=\"data row6 col1\" >217</td>\n",
       "      <td id=\"T_0ffc5_row6_col2\" class=\"data row6 col2\" >68.89</td>\n",
       "      <td id=\"T_0ffc5_row6_col3\" class=\"data row6 col3\" >12</td>\n",
       "      <td id=\"T_0ffc5_row6_col4\" class=\"data row6 col4\" >3.81</td>\n",
       "      <td id=\"T_0ffc5_row6_col5\" class=\"data row6 col5\" >284</td>\n",
       "    </tr>\n",
       "    <tr>\n",
       "      <th id=\"T_0ffc5_level0_row7\" class=\"row_heading level0 row7\" >2023_T425_fgbg</th>\n",
       "      <td id=\"T_0ffc5_row7_col0\" class=\"data row7 col0\" >0.422604</td>\n",
       "      <td id=\"T_0ffc5_row7_col1\" class=\"data row7 col1\" >229</td>\n",
       "      <td id=\"T_0ffc5_row7_col2\" class=\"data row7 col2\" >72.70</td>\n",
       "      <td id=\"T_0ffc5_row7_col3\" class=\"data row7 col3\" >6</td>\n",
       "      <td id=\"T_0ffc5_row7_col4\" class=\"data row7 col4\" >1.90</td>\n",
       "      <td id=\"T_0ffc5_row7_col5\" class=\"data row7 col5\" >118</td>\n",
       "    </tr>\n",
       "    <tr>\n",
       "      <th id=\"T_0ffc5_level0_row8\" class=\"row_heading level0 row8\" >2023_T450_fgbg</th>\n",
       "      <td id=\"T_0ffc5_row8_col0\" class=\"data row8 col0\" >0.386768</td>\n",
       "      <td id=\"T_0ffc5_row8_col1\" class=\"data row8 col1\" >239</td>\n",
       "      <td id=\"T_0ffc5_row8_col2\" class=\"data row8 col2\" >75.87</td>\n",
       "      <td id=\"T_0ffc5_row8_col3\" class=\"data row8 col3\" >2</td>\n",
       "      <td id=\"T_0ffc5_row8_col4\" class=\"data row8 col4\" >0.63</td>\n",
       "      <td id=\"T_0ffc5_row8_col5\" class=\"data row8 col5\" >40</td>\n",
       "    </tr>\n",
       "    <tr>\n",
       "      <th id=\"T_0ffc5_level0_row9\" class=\"row_heading level0 row9\" >2023_T475_fgbg</th>\n",
       "      <td id=\"T_0ffc5_row9_col0\" class=\"data row9 col0\" >0.332454</td>\n",
       "      <td id=\"T_0ffc5_row9_col1\" class=\"data row9 col1\" >252</td>\n",
       "      <td id=\"T_0ffc5_row9_col2\" class=\"data row9 col2\" >80.00</td>\n",
       "      <td id=\"T_0ffc5_row9_col3\" class=\"data row9 col3\" >1</td>\n",
       "      <td id=\"T_0ffc5_row9_col4\" class=\"data row9 col4\" >0.32</td>\n",
       "      <td id=\"T_0ffc5_row9_col5\" class=\"data row9 col5\" >18</td>\n",
       "    </tr>\n",
       "    <tr>\n",
       "      <th id=\"T_0ffc5_level0_row10\" class=\"row_heading level0 row10\" >2023_T500_fgbg</th>\n",
       "      <td id=\"T_0ffc5_row10_col0\" class=\"data row10 col0\" >0.268493</td>\n",
       "      <td id=\"T_0ffc5_row10_col1\" class=\"data row10 col1\" >266</td>\n",
       "      <td id=\"T_0ffc5_row10_col2\" class=\"data row10 col2\" >84.44</td>\n",
       "      <td id=\"T_0ffc5_row10_col3\" class=\"data row10 col3\" >1</td>\n",
       "      <td id=\"T_0ffc5_row10_col4\" class=\"data row10 col4\" >0.32</td>\n",
       "      <td id=\"T_0ffc5_row10_col5\" class=\"data row10 col5\" >44</td>\n",
       "    </tr>\n",
       "  </tbody>\n",
       "</table>\n"
      ],
      "text/plain": [
       "<pandas.io.formats.style.Styler at 0x7f6e2793b850>"
      ]
     },
     "metadata": {},
     "output_type": "display_data"
    },
    {
     "name": "stdout",
     "output_type": "stream",
     "text": [
      "[ 3.33333333  4.44444444  4.44444444  6.66666667 12.22222222 15.55555556\n",
      " 18.88888889 23.33333333 30.         34.44444444 37.77777778]\n"
     ]
    },
    {
     "name": "stderr",
     "output_type": "stream",
     "text": [
      "/scratch/nsayez/48019985/ipykernel_1499137/210438807.py:51: FutureWarning: Setting an item of incompatible dtype is deprecated and will raise an error in a future version of pandas. Value '3' has dtype incompatible with float64, please explicitly cast to a compatible dtype first.\n",
      "  df.loc[row] = df.loc[row].map('{:,.0f}'.format)\n",
      "/scratch/nsayez/48019985/ipykernel_1499137/210438807.py:51: FutureWarning: Setting an item of incompatible dtype is deprecated and will raise an error in a future version of pandas. Value '4' has dtype incompatible with float64, please explicitly cast to a compatible dtype first.\n",
      "  df.loc[row] = df.loc[row].map('{:,.0f}'.format)\n",
      "/scratch/nsayez/48019985/ipykernel_1499137/210438807.py:51: FutureWarning: Setting an item of incompatible dtype is deprecated and will raise an error in a future version of pandas. Value '4' has dtype incompatible with float64, please explicitly cast to a compatible dtype first.\n",
      "  df.loc[row] = df.loc[row].map('{:,.0f}'.format)\n",
      "/scratch/nsayez/48019985/ipykernel_1499137/210438807.py:51: FutureWarning: Setting an item of incompatible dtype is deprecated and will raise an error in a future version of pandas. Value '6' has dtype incompatible with float64, please explicitly cast to a compatible dtype first.\n",
      "  df.loc[row] = df.loc[row].map('{:,.0f}'.format)\n",
      "/scratch/nsayez/48019985/ipykernel_1499137/210438807.py:51: FutureWarning: Setting an item of incompatible dtype is deprecated and will raise an error in a future version of pandas. Value '11' has dtype incompatible with float64, please explicitly cast to a compatible dtype first.\n",
      "  df.loc[row] = df.loc[row].map('{:,.0f}'.format)\n",
      "/scratch/nsayez/48019985/ipykernel_1499137/210438807.py:51: FutureWarning: Setting an item of incompatible dtype is deprecated and will raise an error in a future version of pandas. Value '14' has dtype incompatible with float64, please explicitly cast to a compatible dtype first.\n",
      "  df.loc[row] = df.loc[row].map('{:,.0f}'.format)\n",
      "/scratch/nsayez/48019985/ipykernel_1499137/210438807.py:51: FutureWarning: Setting an item of incompatible dtype is deprecated and will raise an error in a future version of pandas. Value '17' has dtype incompatible with float64, please explicitly cast to a compatible dtype first.\n",
      "  df.loc[row] = df.loc[row].map('{:,.0f}'.format)\n",
      "/scratch/nsayez/48019985/ipykernel_1499137/210438807.py:51: FutureWarning: Setting an item of incompatible dtype is deprecated and will raise an error in a future version of pandas. Value '21' has dtype incompatible with float64, please explicitly cast to a compatible dtype first.\n",
      "  df.loc[row] = df.loc[row].map('{:,.0f}'.format)\n",
      "/scratch/nsayez/48019985/ipykernel_1499137/210438807.py:51: FutureWarning: Setting an item of incompatible dtype is deprecated and will raise an error in a future version of pandas. Value '27' has dtype incompatible with float64, please explicitly cast to a compatible dtype first.\n",
      "  df.loc[row] = df.loc[row].map('{:,.0f}'.format)\n",
      "/scratch/nsayez/48019985/ipykernel_1499137/210438807.py:51: FutureWarning: Setting an item of incompatible dtype is deprecated and will raise an error in a future version of pandas. Value '31' has dtype incompatible with float64, please explicitly cast to a compatible dtype first.\n",
      "  df.loc[row] = df.loc[row].map('{:,.0f}'.format)\n",
      "/scratch/nsayez/48019985/ipykernel_1499137/210438807.py:51: FutureWarning: Setting an item of incompatible dtype is deprecated and will raise an error in a future version of pandas. Value '34' has dtype incompatible with float64, please explicitly cast to a compatible dtype first.\n",
      "  df.loc[row] = df.loc[row].map('{:,.0f}'.format)\n"
     ]
    },
    {
     "data": {
      "text/html": [
       "<style type=\"text/css\">\n",
       "#T_e8c31 caption {\n",
       "  text-align: center;\n",
       "  font-size: 120%;\n",
       "  font-weight: bold;\n",
       "}\n",
       "#T_e8c31_row0_col0, #T_e8c31_row0_col1, #T_e8c31_row0_col2, #T_e8c31_row0_col3, #T_e8c31_row0_col4, #T_e8c31_row0_col5, #T_e8c31_row1_col0, #T_e8c31_row1_col1, #T_e8c31_row1_col2, #T_e8c31_row1_col3, #T_e8c31_row1_col4, #T_e8c31_row1_col5, #T_e8c31_row2_col0, #T_e8c31_row2_col1, #T_e8c31_row2_col2, #T_e8c31_row2_col3, #T_e8c31_row2_col4, #T_e8c31_row2_col5, #T_e8c31_row3_col0, #T_e8c31_row3_col1, #T_e8c31_row3_col2, #T_e8c31_row3_col3, #T_e8c31_row3_col4, #T_e8c31_row3_col5, #T_e8c31_row4_col0, #T_e8c31_row4_col1, #T_e8c31_row4_col2, #T_e8c31_row4_col3, #T_e8c31_row4_col4, #T_e8c31_row4_col5, #T_e8c31_row5_col0, #T_e8c31_row5_col1, #T_e8c31_row5_col2, #T_e8c31_row5_col3, #T_e8c31_row5_col4, #T_e8c31_row5_col5, #T_e8c31_row6_col0, #T_e8c31_row6_col1, #T_e8c31_row6_col2, #T_e8c31_row6_col3, #T_e8c31_row6_col4, #T_e8c31_row6_col5, #T_e8c31_row7_col0, #T_e8c31_row7_col1, #T_e8c31_row7_col2, #T_e8c31_row7_col3, #T_e8c31_row7_col4, #T_e8c31_row7_col5, #T_e8c31_row8_col0, #T_e8c31_row8_col1, #T_e8c31_row8_col2, #T_e8c31_row8_col3, #T_e8c31_row8_col4, #T_e8c31_row8_col5, #T_e8c31_row9_col0, #T_e8c31_row9_col1, #T_e8c31_row9_col2, #T_e8c31_row9_col3, #T_e8c31_row9_col4, #T_e8c31_row9_col5, #T_e8c31_row10_col0, #T_e8c31_row10_col1, #T_e8c31_row10_col2, #T_e8c31_row10_col3, #T_e8c31_row10_col4, #T_e8c31_row10_col5 {\n",
       "  text-align: center;\n",
       "}\n",
       "</style>\n",
       "<table id=\"T_e8c31\">\n",
       "  <caption>Bin of sunspots of size  [51, 100] -> 90 in GroudTruth</caption>\n",
       "  <thead>\n",
       "    <tr>\n",
       "      <th class=\"blank level0\" >&nbsp;</th>\n",
       "      <th id=\"T_e8c31_level0_col0\" class=\"col_heading level0 col0\" >F1</th>\n",
       "      <th id=\"T_e8c31_level0_col1\" class=\"col_heading level0 col1\" >num_FN</th>\n",
       "      <th id=\"T_e8c31_level0_col2\" class=\"col_heading level0 col2\" >percent_FN</th>\n",
       "      <th id=\"T_e8c31_level0_col3\" class=\"col_heading level0 col3\" >num_FP</th>\n",
       "      <th id=\"T_e8c31_level0_col4\" class=\"col_heading level0 col4\" >percent_FP</th>\n",
       "      <th id=\"T_e8c31_level0_col5\" class=\"col_heading level0 col5\" >FP_area</th>\n",
       "    </tr>\n",
       "  </thead>\n",
       "  <tbody>\n",
       "    <tr>\n",
       "      <th id=\"T_e8c31_level0_row0\" class=\"row_heading level0 row0\" >2023_T250_fgbg</th>\n",
       "      <td id=\"T_e8c31_row0_col0\" class=\"data row0 col0\" >0.520958</td>\n",
       "      <td id=\"T_e8c31_row0_col1\" class=\"data row0 col1\" >3</td>\n",
       "      <td id=\"T_e8c31_row0_col2\" class=\"data row0 col2\" >3.33</td>\n",
       "      <td id=\"T_e8c31_row0_col3\" class=\"data row0 col3\" >157</td>\n",
       "      <td id=\"T_e8c31_row0_col4\" class=\"data row0 col4\" >174.44</td>\n",
       "      <td id=\"T_e8c31_row0_col5\" class=\"data row0 col5\" >10,595</td>\n",
       "    </tr>\n",
       "    <tr>\n",
       "      <th id=\"T_e8c31_level0_row1\" class=\"row_heading level0 row1\" >2023_T275_fgbg</th>\n",
       "      <td id=\"T_e8c31_row1_col0\" class=\"data row1 col0\" >0.747826</td>\n",
       "      <td id=\"T_e8c31_row1_col1\" class=\"data row1 col1\" >4</td>\n",
       "      <td id=\"T_e8c31_row1_col2\" class=\"data row1 col2\" >4.44</td>\n",
       "      <td id=\"T_e8c31_row1_col3\" class=\"data row1 col3\" >54</td>\n",
       "      <td id=\"T_e8c31_row1_col4\" class=\"data row1 col4\" >60.00</td>\n",
       "      <td id=\"T_e8c31_row1_col5\" class=\"data row1 col5\" >3,795</td>\n",
       "    </tr>\n",
       "    <tr>\n",
       "      <th id=\"T_e8c31_level0_row2\" class=\"row_heading level0 row2\" >2023_T300_fgbg</th>\n",
       "      <td id=\"T_e8c31_row2_col0\" class=\"data row2 col0\" >0.873096</td>\n",
       "      <td id=\"T_e8c31_row2_col1\" class=\"data row2 col1\" >4</td>\n",
       "      <td id=\"T_e8c31_row2_col2\" class=\"data row2 col2\" >4.44</td>\n",
       "      <td id=\"T_e8c31_row2_col3\" class=\"data row2 col3\" >21</td>\n",
       "      <td id=\"T_e8c31_row2_col4\" class=\"data row2 col4\" >23.33</td>\n",
       "      <td id=\"T_e8c31_row2_col5\" class=\"data row2 col5\" >1,517</td>\n",
       "    </tr>\n",
       "    <tr>\n",
       "      <th id=\"T_e8c31_level0_row3\" class=\"row_heading level0 row3\" >2023_T325_fgbg</th>\n",
       "      <td id=\"T_e8c31_row3_col0\" class=\"data row3 col0\" >0.923077</td>\n",
       "      <td id=\"T_e8c31_row3_col1\" class=\"data row3 col1\" >6</td>\n",
       "      <td id=\"T_e8c31_row3_col2\" class=\"data row3 col2\" >6.67</td>\n",
       "      <td id=\"T_e8c31_row3_col3\" class=\"data row3 col3\" >8</td>\n",
       "      <td id=\"T_e8c31_row3_col4\" class=\"data row3 col4\" >8.89</td>\n",
       "      <td id=\"T_e8c31_row3_col5\" class=\"data row3 col5\" >536</td>\n",
       "    </tr>\n",
       "    <tr>\n",
       "      <th id=\"T_e8c31_level0_row4\" class=\"row_heading level0 row4\" >2023_T350_fgbg</th>\n",
       "      <td id=\"T_e8c31_row4_col0\" class=\"data row4 col0\" >0.918605</td>\n",
       "      <td id=\"T_e8c31_row4_col1\" class=\"data row4 col1\" >11</td>\n",
       "      <td id=\"T_e8c31_row4_col2\" class=\"data row4 col2\" >12.22</td>\n",
       "      <td id=\"T_e8c31_row4_col3\" class=\"data row4 col3\" >3</td>\n",
       "      <td id=\"T_e8c31_row4_col4\" class=\"data row4 col4\" >3.33</td>\n",
       "      <td id=\"T_e8c31_row4_col5\" class=\"data row4 col5\" >198</td>\n",
       "    </tr>\n",
       "    <tr>\n",
       "      <th id=\"T_e8c31_level0_row5\" class=\"row_heading level0 row5\" >2023_T375_fgbg</th>\n",
       "      <td id=\"T_e8c31_row5_col0\" class=\"data row5 col0\" >0.883721</td>\n",
       "      <td id=\"T_e8c31_row5_col1\" class=\"data row5 col1\" >14</td>\n",
       "      <td id=\"T_e8c31_row5_col2\" class=\"data row5 col2\" >15.56</td>\n",
       "      <td id=\"T_e8c31_row5_col3\" class=\"data row5 col3\" >6</td>\n",
       "      <td id=\"T_e8c31_row5_col4\" class=\"data row5 col4\" >6.67</td>\n",
       "      <td id=\"T_e8c31_row5_col5\" class=\"data row5 col5\" >462</td>\n",
       "    </tr>\n",
       "    <tr>\n",
       "      <th id=\"T_e8c31_level0_row6\" class=\"row_heading level0 row6\" >2023_T400_fgbg</th>\n",
       "      <td id=\"T_e8c31_row6_col0\" class=\"data row6 col0\" >0.884848</td>\n",
       "      <td id=\"T_e8c31_row6_col1\" class=\"data row6 col1\" >17</td>\n",
       "      <td id=\"T_e8c31_row6_col2\" class=\"data row6 col2\" >18.89</td>\n",
       "      <td id=\"T_e8c31_row6_col3\" class=\"data row6 col3\" >2</td>\n",
       "      <td id=\"T_e8c31_row6_col4\" class=\"data row6 col4\" >2.22</td>\n",
       "      <td id=\"T_e8c31_row6_col5\" class=\"data row6 col5\" >176</td>\n",
       "    </tr>\n",
       "    <tr>\n",
       "      <th id=\"T_e8c31_level0_row7\" class=\"row_heading level0 row7\" >2023_T425_fgbg</th>\n",
       "      <td id=\"T_e8c31_row7_col0\" class=\"data row7 col0\" >0.862500</td>\n",
       "      <td id=\"T_e8c31_row7_col1\" class=\"data row7 col1\" >21</td>\n",
       "      <td id=\"T_e8c31_row7_col2\" class=\"data row7 col2\" >23.33</td>\n",
       "      <td id=\"T_e8c31_row7_col3\" class=\"data row7 col3\" >1</td>\n",
       "      <td id=\"T_e8c31_row7_col4\" class=\"data row7 col4\" >1.11</td>\n",
       "      <td id=\"T_e8c31_row7_col5\" class=\"data row7 col5\" >65</td>\n",
       "    </tr>\n",
       "    <tr>\n",
       "      <th id=\"T_e8c31_level0_row8\" class=\"row_heading level0 row8\" >2023_T450_fgbg</th>\n",
       "      <td id=\"T_e8c31_row8_col0\" class=\"data row8 col0\" >0.818182</td>\n",
       "      <td id=\"T_e8c31_row8_col1\" class=\"data row8 col1\" >27</td>\n",
       "      <td id=\"T_e8c31_row8_col2\" class=\"data row8 col2\" >30.00</td>\n",
       "      <td id=\"T_e8c31_row8_col3\" class=\"data row8 col3\" >1</td>\n",
       "      <td id=\"T_e8c31_row8_col4\" class=\"data row8 col4\" >1.11</td>\n",
       "      <td id=\"T_e8c31_row8_col5\" class=\"data row8 col5\" >59</td>\n",
       "    </tr>\n",
       "    <tr>\n",
       "      <th id=\"T_e8c31_level0_row9\" class=\"row_heading level0 row9\" >2023_T475_fgbg</th>\n",
       "      <td id=\"T_e8c31_row9_col0\" class=\"data row9 col0\" >0.786667</td>\n",
       "      <td id=\"T_e8c31_row9_col1\" class=\"data row9 col1\" >31</td>\n",
       "      <td id=\"T_e8c31_row9_col2\" class=\"data row9 col2\" >34.44</td>\n",
       "      <td id=\"T_e8c31_row9_col3\" class=\"data row9 col3\" >1</td>\n",
       "      <td id=\"T_e8c31_row9_col4\" class=\"data row9 col4\" >1.11</td>\n",
       "      <td id=\"T_e8c31_row9_col5\" class=\"data row9 col5\" >54</td>\n",
       "    </tr>\n",
       "    <tr>\n",
       "      <th id=\"T_e8c31_level0_row10\" class=\"row_heading level0 row10\" >2023_T500_fgbg</th>\n",
       "      <td id=\"T_e8c31_row10_col0\" class=\"data row10 col0\" >0.767123</td>\n",
       "      <td id=\"T_e8c31_row10_col1\" class=\"data row10 col1\" >34</td>\n",
       "      <td id=\"T_e8c31_row10_col2\" class=\"data row10 col2\" >37.78</td>\n",
       "      <td id=\"T_e8c31_row10_col3\" class=\"data row10 col3\" >0</td>\n",
       "      <td id=\"T_e8c31_row10_col4\" class=\"data row10 col4\" >0.00</td>\n",
       "      <td id=\"T_e8c31_row10_col5\" class=\"data row10 col5\" >0</td>\n",
       "    </tr>\n",
       "  </tbody>\n",
       "</table>\n"
      ],
      "text/plain": [
       "<pandas.io.formats.style.Styler at 0x7f6e27887610>"
      ]
     },
     "metadata": {},
     "output_type": "display_data"
    },
    {
     "name": "stdout",
     "output_type": "stream",
     "text": [
      "[0.         0.         0.         0.         0.         0.\n",
      " 0.         0.         0.87719298 2.63157895 4.38596491]\n"
     ]
    },
    {
     "name": "stderr",
     "output_type": "stream",
     "text": [
      "/scratch/nsayez/48019985/ipykernel_1499137/210438807.py:51: FutureWarning: Setting an item of incompatible dtype is deprecated and will raise an error in a future version of pandas. Value '0' has dtype incompatible with float64, please explicitly cast to a compatible dtype first.\n",
      "  df.loc[row] = df.loc[row].map('{:,.0f}'.format)\n",
      "/scratch/nsayez/48019985/ipykernel_1499137/210438807.py:51: FutureWarning: Setting an item of incompatible dtype is deprecated and will raise an error in a future version of pandas. Value '0' has dtype incompatible with float64, please explicitly cast to a compatible dtype first.\n",
      "  df.loc[row] = df.loc[row].map('{:,.0f}'.format)\n",
      "/scratch/nsayez/48019985/ipykernel_1499137/210438807.py:51: FutureWarning: Setting an item of incompatible dtype is deprecated and will raise an error in a future version of pandas. Value '0' has dtype incompatible with float64, please explicitly cast to a compatible dtype first.\n",
      "  df.loc[row] = df.loc[row].map('{:,.0f}'.format)\n",
      "/scratch/nsayez/48019985/ipykernel_1499137/210438807.py:51: FutureWarning: Setting an item of incompatible dtype is deprecated and will raise an error in a future version of pandas. Value '0' has dtype incompatible with float64, please explicitly cast to a compatible dtype first.\n",
      "  df.loc[row] = df.loc[row].map('{:,.0f}'.format)\n",
      "/scratch/nsayez/48019985/ipykernel_1499137/210438807.py:51: FutureWarning: Setting an item of incompatible dtype is deprecated and will raise an error in a future version of pandas. Value '0' has dtype incompatible with float64, please explicitly cast to a compatible dtype first.\n",
      "  df.loc[row] = df.loc[row].map('{:,.0f}'.format)\n",
      "/scratch/nsayez/48019985/ipykernel_1499137/210438807.py:51: FutureWarning: Setting an item of incompatible dtype is deprecated and will raise an error in a future version of pandas. Value '0' has dtype incompatible with float64, please explicitly cast to a compatible dtype first.\n",
      "  df.loc[row] = df.loc[row].map('{:,.0f}'.format)\n",
      "/scratch/nsayez/48019985/ipykernel_1499137/210438807.py:51: FutureWarning: Setting an item of incompatible dtype is deprecated and will raise an error in a future version of pandas. Value '0' has dtype incompatible with float64, please explicitly cast to a compatible dtype first.\n",
      "  df.loc[row] = df.loc[row].map('{:,.0f}'.format)\n",
      "/scratch/nsayez/48019985/ipykernel_1499137/210438807.py:51: FutureWarning: Setting an item of incompatible dtype is deprecated and will raise an error in a future version of pandas. Value '0' has dtype incompatible with float64, please explicitly cast to a compatible dtype first.\n",
      "  df.loc[row] = df.loc[row].map('{:,.0f}'.format)\n",
      "/scratch/nsayez/48019985/ipykernel_1499137/210438807.py:51: FutureWarning: Setting an item of incompatible dtype is deprecated and will raise an error in a future version of pandas. Value '1' has dtype incompatible with float64, please explicitly cast to a compatible dtype first.\n",
      "  df.loc[row] = df.loc[row].map('{:,.0f}'.format)\n",
      "/scratch/nsayez/48019985/ipykernel_1499137/210438807.py:51: FutureWarning: Setting an item of incompatible dtype is deprecated and will raise an error in a future version of pandas. Value '3' has dtype incompatible with float64, please explicitly cast to a compatible dtype first.\n",
      "  df.loc[row] = df.loc[row].map('{:,.0f}'.format)\n",
      "/scratch/nsayez/48019985/ipykernel_1499137/210438807.py:51: FutureWarning: Setting an item of incompatible dtype is deprecated and will raise an error in a future version of pandas. Value '5' has dtype incompatible with float64, please explicitly cast to a compatible dtype first.\n",
      "  df.loc[row] = df.loc[row].map('{:,.0f}'.format)\n"
     ]
    },
    {
     "data": {
      "text/html": [
       "<style type=\"text/css\">\n",
       "#T_0ab5b caption {\n",
       "  text-align: center;\n",
       "  font-size: 120%;\n",
       "  font-weight: bold;\n",
       "}\n",
       "#T_0ab5b_row0_col0, #T_0ab5b_row0_col1, #T_0ab5b_row0_col2, #T_0ab5b_row0_col3, #T_0ab5b_row0_col4, #T_0ab5b_row0_col5, #T_0ab5b_row1_col0, #T_0ab5b_row1_col1, #T_0ab5b_row1_col2, #T_0ab5b_row1_col3, #T_0ab5b_row1_col4, #T_0ab5b_row1_col5, #T_0ab5b_row2_col0, #T_0ab5b_row2_col1, #T_0ab5b_row2_col2, #T_0ab5b_row2_col3, #T_0ab5b_row2_col4, #T_0ab5b_row2_col5, #T_0ab5b_row3_col0, #T_0ab5b_row3_col1, #T_0ab5b_row3_col2, #T_0ab5b_row3_col3, #T_0ab5b_row3_col4, #T_0ab5b_row3_col5, #T_0ab5b_row4_col0, #T_0ab5b_row4_col1, #T_0ab5b_row4_col2, #T_0ab5b_row4_col3, #T_0ab5b_row4_col4, #T_0ab5b_row4_col5, #T_0ab5b_row5_col0, #T_0ab5b_row5_col1, #T_0ab5b_row5_col2, #T_0ab5b_row5_col3, #T_0ab5b_row5_col4, #T_0ab5b_row5_col5, #T_0ab5b_row6_col0, #T_0ab5b_row6_col1, #T_0ab5b_row6_col2, #T_0ab5b_row6_col3, #T_0ab5b_row6_col4, #T_0ab5b_row6_col5, #T_0ab5b_row7_col0, #T_0ab5b_row7_col1, #T_0ab5b_row7_col2, #T_0ab5b_row7_col3, #T_0ab5b_row7_col4, #T_0ab5b_row7_col5, #T_0ab5b_row8_col0, #T_0ab5b_row8_col1, #T_0ab5b_row8_col2, #T_0ab5b_row8_col3, #T_0ab5b_row8_col4, #T_0ab5b_row8_col5, #T_0ab5b_row9_col0, #T_0ab5b_row9_col1, #T_0ab5b_row9_col2, #T_0ab5b_row9_col3, #T_0ab5b_row9_col4, #T_0ab5b_row9_col5, #T_0ab5b_row10_col0, #T_0ab5b_row10_col1, #T_0ab5b_row10_col2, #T_0ab5b_row10_col3, #T_0ab5b_row10_col4, #T_0ab5b_row10_col5 {\n",
       "  text-align: center;\n",
       "}\n",
       "</style>\n",
       "<table id=\"T_0ab5b\">\n",
       "  <caption>Bin of sunspots of size  [101, 400] -> 114 in GroudTruth</caption>\n",
       "  <thead>\n",
       "    <tr>\n",
       "      <th class=\"blank level0\" >&nbsp;</th>\n",
       "      <th id=\"T_0ab5b_level0_col0\" class=\"col_heading level0 col0\" >F1</th>\n",
       "      <th id=\"T_0ab5b_level0_col1\" class=\"col_heading level0 col1\" >num_FN</th>\n",
       "      <th id=\"T_0ab5b_level0_col2\" class=\"col_heading level0 col2\" >percent_FN</th>\n",
       "      <th id=\"T_0ab5b_level0_col3\" class=\"col_heading level0 col3\" >num_FP</th>\n",
       "      <th id=\"T_0ab5b_level0_col4\" class=\"col_heading level0 col4\" >percent_FP</th>\n",
       "      <th id=\"T_0ab5b_level0_col5\" class=\"col_heading level0 col5\" >FP_area</th>\n",
       "    </tr>\n",
       "  </thead>\n",
       "  <tbody>\n",
       "    <tr>\n",
       "      <th id=\"T_0ab5b_level0_row0\" class=\"row_heading level0 row0\" >2023_T250_fgbg</th>\n",
       "      <td id=\"T_0ab5b_row0_col0\" class=\"data row0 col0\" >0.735484</td>\n",
       "      <td id=\"T_0ab5b_row0_col1\" class=\"data row0 col1\" >0</td>\n",
       "      <td id=\"T_0ab5b_row0_col2\" class=\"data row0 col2\" >0.00</td>\n",
       "      <td id=\"T_0ab5b_row0_col3\" class=\"data row0 col3\" >82</td>\n",
       "      <td id=\"T_0ab5b_row0_col4\" class=\"data row0 col4\" >71.93</td>\n",
       "      <td id=\"T_0ab5b_row0_col5\" class=\"data row0 col5\" >16,268</td>\n",
       "    </tr>\n",
       "    <tr>\n",
       "      <th id=\"T_0ab5b_level0_row1\" class=\"row_heading level0 row1\" >2023_T275_fgbg</th>\n",
       "      <td id=\"T_0ab5b_row1_col0\" class=\"data row1 col0\" >0.811388</td>\n",
       "      <td id=\"T_0ab5b_row1_col1\" class=\"data row1 col1\" >0</td>\n",
       "      <td id=\"T_0ab5b_row1_col2\" class=\"data row1 col2\" >0.00</td>\n",
       "      <td id=\"T_0ab5b_row1_col3\" class=\"data row1 col3\" >53</td>\n",
       "      <td id=\"T_0ab5b_row1_col4\" class=\"data row1 col4\" >46.49</td>\n",
       "      <td id=\"T_0ab5b_row1_col5\" class=\"data row1 col5\" >10,423</td>\n",
       "    </tr>\n",
       "    <tr>\n",
       "      <th id=\"T_0ab5b_level0_row2\" class=\"row_heading level0 row2\" >2023_T300_fgbg</th>\n",
       "      <td id=\"T_0ab5b_row2_col0\" class=\"data row2 col0\" >0.930612</td>\n",
       "      <td id=\"T_0ab5b_row2_col1\" class=\"data row2 col1\" >0</td>\n",
       "      <td id=\"T_0ab5b_row2_col2\" class=\"data row2 col2\" >0.00</td>\n",
       "      <td id=\"T_0ab5b_row2_col3\" class=\"data row2 col3\" >17</td>\n",
       "      <td id=\"T_0ab5b_row2_col4\" class=\"data row2 col4\" >14.91</td>\n",
       "      <td id=\"T_0ab5b_row2_col5\" class=\"data row2 col5\" >3,066</td>\n",
       "    </tr>\n",
       "    <tr>\n",
       "      <th id=\"T_0ab5b_level0_row3\" class=\"row_heading level0 row3\" >2023_T325_fgbg</th>\n",
       "      <td id=\"T_0ab5b_row3_col0\" class=\"data row3 col0\" >0.946058</td>\n",
       "      <td id=\"T_0ab5b_row3_col1\" class=\"data row3 col1\" >0</td>\n",
       "      <td id=\"T_0ab5b_row3_col2\" class=\"data row3 col2\" >0.00</td>\n",
       "      <td id=\"T_0ab5b_row3_col3\" class=\"data row3 col3\" >13</td>\n",
       "      <td id=\"T_0ab5b_row3_col4\" class=\"data row3 col4\" >11.40</td>\n",
       "      <td id=\"T_0ab5b_row3_col5\" class=\"data row3 col5\" >2,708</td>\n",
       "    </tr>\n",
       "    <tr>\n",
       "      <th id=\"T_0ab5b_level0_row4\" class=\"row_heading level0 row4\" >2023_T350_fgbg</th>\n",
       "      <td id=\"T_0ab5b_row4_col0\" class=\"data row4 col0\" >0.978541</td>\n",
       "      <td id=\"T_0ab5b_row4_col1\" class=\"data row4 col1\" >0</td>\n",
       "      <td id=\"T_0ab5b_row4_col2\" class=\"data row4 col2\" >0.00</td>\n",
       "      <td id=\"T_0ab5b_row4_col3\" class=\"data row4 col3\" >5</td>\n",
       "      <td id=\"T_0ab5b_row4_col4\" class=\"data row4 col4\" >4.39</td>\n",
       "      <td id=\"T_0ab5b_row4_col5\" class=\"data row4 col5\" >1,086</td>\n",
       "    </tr>\n",
       "    <tr>\n",
       "      <th id=\"T_0ab5b_level0_row5\" class=\"row_heading level0 row5\" >2023_T375_fgbg</th>\n",
       "      <td id=\"T_0ab5b_row5_col0\" class=\"data row5 col0\" >0.995633</td>\n",
       "      <td id=\"T_0ab5b_row5_col1\" class=\"data row5 col1\" >0</td>\n",
       "      <td id=\"T_0ab5b_row5_col2\" class=\"data row5 col2\" >0.00</td>\n",
       "      <td id=\"T_0ab5b_row5_col3\" class=\"data row5 col3\" >1</td>\n",
       "      <td id=\"T_0ab5b_row5_col4\" class=\"data row5 col4\" >0.88</td>\n",
       "      <td id=\"T_0ab5b_row5_col5\" class=\"data row5 col5\" >172</td>\n",
       "    </tr>\n",
       "    <tr>\n",
       "      <th id=\"T_0ab5b_level0_row6\" class=\"row_heading level0 row6\" >2023_T400_fgbg</th>\n",
       "      <td id=\"T_0ab5b_row6_col0\" class=\"data row6 col0\" >1.000000</td>\n",
       "      <td id=\"T_0ab5b_row6_col1\" class=\"data row6 col1\" >0</td>\n",
       "      <td id=\"T_0ab5b_row6_col2\" class=\"data row6 col2\" >0.00</td>\n",
       "      <td id=\"T_0ab5b_row6_col3\" class=\"data row6 col3\" >0</td>\n",
       "      <td id=\"T_0ab5b_row6_col4\" class=\"data row6 col4\" >0.00</td>\n",
       "      <td id=\"T_0ab5b_row6_col5\" class=\"data row6 col5\" >0</td>\n",
       "    </tr>\n",
       "    <tr>\n",
       "      <th id=\"T_0ab5b_level0_row7\" class=\"row_heading level0 row7\" >2023_T425_fgbg</th>\n",
       "      <td id=\"T_0ab5b_row7_col0\" class=\"data row7 col0\" >1.000000</td>\n",
       "      <td id=\"T_0ab5b_row7_col1\" class=\"data row7 col1\" >0</td>\n",
       "      <td id=\"T_0ab5b_row7_col2\" class=\"data row7 col2\" >0.00</td>\n",
       "      <td id=\"T_0ab5b_row7_col3\" class=\"data row7 col3\" >0</td>\n",
       "      <td id=\"T_0ab5b_row7_col4\" class=\"data row7 col4\" >0.00</td>\n",
       "      <td id=\"T_0ab5b_row7_col5\" class=\"data row7 col5\" >0</td>\n",
       "    </tr>\n",
       "    <tr>\n",
       "      <th id=\"T_0ab5b_level0_row8\" class=\"row_heading level0 row8\" >2023_T450_fgbg</th>\n",
       "      <td id=\"T_0ab5b_row8_col0\" class=\"data row8 col0\" >0.995595</td>\n",
       "      <td id=\"T_0ab5b_row8_col1\" class=\"data row8 col1\" >1</td>\n",
       "      <td id=\"T_0ab5b_row8_col2\" class=\"data row8 col2\" >0.88</td>\n",
       "      <td id=\"T_0ab5b_row8_col3\" class=\"data row8 col3\" >0</td>\n",
       "      <td id=\"T_0ab5b_row8_col4\" class=\"data row8 col4\" >0.00</td>\n",
       "      <td id=\"T_0ab5b_row8_col5\" class=\"data row8 col5\" >0</td>\n",
       "    </tr>\n",
       "    <tr>\n",
       "      <th id=\"T_0ab5b_level0_row9\" class=\"row_heading level0 row9\" >2023_T475_fgbg</th>\n",
       "      <td id=\"T_0ab5b_row9_col0\" class=\"data row9 col0\" >0.986667</td>\n",
       "      <td id=\"T_0ab5b_row9_col1\" class=\"data row9 col1\" >3</td>\n",
       "      <td id=\"T_0ab5b_row9_col2\" class=\"data row9 col2\" >2.63</td>\n",
       "      <td id=\"T_0ab5b_row9_col3\" class=\"data row9 col3\" >0</td>\n",
       "      <td id=\"T_0ab5b_row9_col4\" class=\"data row9 col4\" >0.00</td>\n",
       "      <td id=\"T_0ab5b_row9_col5\" class=\"data row9 col5\" >0</td>\n",
       "    </tr>\n",
       "    <tr>\n",
       "      <th id=\"T_0ab5b_level0_row10\" class=\"row_heading level0 row10\" >2023_T500_fgbg</th>\n",
       "      <td id=\"T_0ab5b_row10_col0\" class=\"data row10 col0\" >0.977578</td>\n",
       "      <td id=\"T_0ab5b_row10_col1\" class=\"data row10 col1\" >5</td>\n",
       "      <td id=\"T_0ab5b_row10_col2\" class=\"data row10 col2\" >4.39</td>\n",
       "      <td id=\"T_0ab5b_row10_col3\" class=\"data row10 col3\" >0</td>\n",
       "      <td id=\"T_0ab5b_row10_col4\" class=\"data row10 col4\" >0.00</td>\n",
       "      <td id=\"T_0ab5b_row10_col5\" class=\"data row10 col5\" >0</td>\n",
       "    </tr>\n",
       "  </tbody>\n",
       "</table>\n"
      ],
      "text/plain": [
       "<pandas.io.formats.style.Styler at 0x7f6e277bb670>"
      ]
     },
     "metadata": {},
     "output_type": "display_data"
    },
    {
     "name": "stdout",
     "output_type": "stream",
     "text": [
      "[0. 0. 0. 0. 0. 0. 0. 0. 0. 0. 0.]\n"
     ]
    },
    {
     "name": "stderr",
     "output_type": "stream",
     "text": [
      "/scratch/nsayez/48019985/ipykernel_1499137/210438807.py:51: FutureWarning: Setting an item of incompatible dtype is deprecated and will raise an error in a future version of pandas. Value '0' has dtype incompatible with float64, please explicitly cast to a compatible dtype first.\n",
      "  df.loc[row] = df.loc[row].map('{:,.0f}'.format)\n",
      "/scratch/nsayez/48019985/ipykernel_1499137/210438807.py:51: FutureWarning: Setting an item of incompatible dtype is deprecated and will raise an error in a future version of pandas. Value '0' has dtype incompatible with float64, please explicitly cast to a compatible dtype first.\n",
      "  df.loc[row] = df.loc[row].map('{:,.0f}'.format)\n",
      "/scratch/nsayez/48019985/ipykernel_1499137/210438807.py:51: FutureWarning: Setting an item of incompatible dtype is deprecated and will raise an error in a future version of pandas. Value '0' has dtype incompatible with float64, please explicitly cast to a compatible dtype first.\n",
      "  df.loc[row] = df.loc[row].map('{:,.0f}'.format)\n",
      "/scratch/nsayez/48019985/ipykernel_1499137/210438807.py:51: FutureWarning: Setting an item of incompatible dtype is deprecated and will raise an error in a future version of pandas. Value '0' has dtype incompatible with float64, please explicitly cast to a compatible dtype first.\n",
      "  df.loc[row] = df.loc[row].map('{:,.0f}'.format)\n",
      "/scratch/nsayez/48019985/ipykernel_1499137/210438807.py:51: FutureWarning: Setting an item of incompatible dtype is deprecated and will raise an error in a future version of pandas. Value '0' has dtype incompatible with float64, please explicitly cast to a compatible dtype first.\n",
      "  df.loc[row] = df.loc[row].map('{:,.0f}'.format)\n",
      "/scratch/nsayez/48019985/ipykernel_1499137/210438807.py:51: FutureWarning: Setting an item of incompatible dtype is deprecated and will raise an error in a future version of pandas. Value '0' has dtype incompatible with float64, please explicitly cast to a compatible dtype first.\n",
      "  df.loc[row] = df.loc[row].map('{:,.0f}'.format)\n",
      "/scratch/nsayez/48019985/ipykernel_1499137/210438807.py:51: FutureWarning: Setting an item of incompatible dtype is deprecated and will raise an error in a future version of pandas. Value '0' has dtype incompatible with float64, please explicitly cast to a compatible dtype first.\n",
      "  df.loc[row] = df.loc[row].map('{:,.0f}'.format)\n",
      "/scratch/nsayez/48019985/ipykernel_1499137/210438807.py:51: FutureWarning: Setting an item of incompatible dtype is deprecated and will raise an error in a future version of pandas. Value '0' has dtype incompatible with float64, please explicitly cast to a compatible dtype first.\n",
      "  df.loc[row] = df.loc[row].map('{:,.0f}'.format)\n",
      "/scratch/nsayez/48019985/ipykernel_1499137/210438807.py:51: FutureWarning: Setting an item of incompatible dtype is deprecated and will raise an error in a future version of pandas. Value '0' has dtype incompatible with float64, please explicitly cast to a compatible dtype first.\n",
      "  df.loc[row] = df.loc[row].map('{:,.0f}'.format)\n",
      "/scratch/nsayez/48019985/ipykernel_1499137/210438807.py:51: FutureWarning: Setting an item of incompatible dtype is deprecated and will raise an error in a future version of pandas. Value '0' has dtype incompatible with float64, please explicitly cast to a compatible dtype first.\n",
      "  df.loc[row] = df.loc[row].map('{:,.0f}'.format)\n",
      "/scratch/nsayez/48019985/ipykernel_1499137/210438807.py:51: FutureWarning: Setting an item of incompatible dtype is deprecated and will raise an error in a future version of pandas. Value '0' has dtype incompatible with float64, please explicitly cast to a compatible dtype first.\n",
      "  df.loc[row] = df.loc[row].map('{:,.0f}'.format)\n"
     ]
    },
    {
     "data": {
      "text/html": [
       "<style type=\"text/css\">\n",
       "#T_f0fb9 caption {\n",
       "  text-align: center;\n",
       "  font-size: 120%;\n",
       "  font-weight: bold;\n",
       "}\n",
       "#T_f0fb9_row0_col0, #T_f0fb9_row0_col1, #T_f0fb9_row0_col2, #T_f0fb9_row0_col3, #T_f0fb9_row0_col4, #T_f0fb9_row0_col5, #T_f0fb9_row1_col0, #T_f0fb9_row1_col1, #T_f0fb9_row1_col2, #T_f0fb9_row1_col3, #T_f0fb9_row1_col4, #T_f0fb9_row1_col5, #T_f0fb9_row2_col0, #T_f0fb9_row2_col1, #T_f0fb9_row2_col2, #T_f0fb9_row2_col3, #T_f0fb9_row2_col4, #T_f0fb9_row2_col5, #T_f0fb9_row3_col0, #T_f0fb9_row3_col1, #T_f0fb9_row3_col2, #T_f0fb9_row3_col3, #T_f0fb9_row3_col4, #T_f0fb9_row3_col5, #T_f0fb9_row4_col0, #T_f0fb9_row4_col1, #T_f0fb9_row4_col2, #T_f0fb9_row4_col3, #T_f0fb9_row4_col4, #T_f0fb9_row4_col5, #T_f0fb9_row5_col0, #T_f0fb9_row5_col1, #T_f0fb9_row5_col2, #T_f0fb9_row5_col3, #T_f0fb9_row5_col4, #T_f0fb9_row5_col5, #T_f0fb9_row6_col0, #T_f0fb9_row6_col1, #T_f0fb9_row6_col2, #T_f0fb9_row6_col3, #T_f0fb9_row6_col4, #T_f0fb9_row6_col5, #T_f0fb9_row7_col0, #T_f0fb9_row7_col1, #T_f0fb9_row7_col2, #T_f0fb9_row7_col3, #T_f0fb9_row7_col4, #T_f0fb9_row7_col5, #T_f0fb9_row8_col0, #T_f0fb9_row8_col1, #T_f0fb9_row8_col2, #T_f0fb9_row8_col3, #T_f0fb9_row8_col4, #T_f0fb9_row8_col5, #T_f0fb9_row9_col0, #T_f0fb9_row9_col1, #T_f0fb9_row9_col2, #T_f0fb9_row9_col3, #T_f0fb9_row9_col4, #T_f0fb9_row9_col5, #T_f0fb9_row10_col0, #T_f0fb9_row10_col1, #T_f0fb9_row10_col2, #T_f0fb9_row10_col3, #T_f0fb9_row10_col4, #T_f0fb9_row10_col5 {\n",
       "  text-align: center;\n",
       "}\n",
       "</style>\n",
       "<table id=\"T_f0fb9\">\n",
       "  <caption>Bin of sunspots of size  [401, 800] -> 51 in GroudTruth</caption>\n",
       "  <thead>\n",
       "    <tr>\n",
       "      <th class=\"blank level0\" >&nbsp;</th>\n",
       "      <th id=\"T_f0fb9_level0_col0\" class=\"col_heading level0 col0\" >F1</th>\n",
       "      <th id=\"T_f0fb9_level0_col1\" class=\"col_heading level0 col1\" >num_FN</th>\n",
       "      <th id=\"T_f0fb9_level0_col2\" class=\"col_heading level0 col2\" >percent_FN</th>\n",
       "      <th id=\"T_f0fb9_level0_col3\" class=\"col_heading level0 col3\" >num_FP</th>\n",
       "      <th id=\"T_f0fb9_level0_col4\" class=\"col_heading level0 col4\" >percent_FP</th>\n",
       "      <th id=\"T_f0fb9_level0_col5\" class=\"col_heading level0 col5\" >FP_area</th>\n",
       "    </tr>\n",
       "  </thead>\n",
       "  <tbody>\n",
       "    <tr>\n",
       "      <th id=\"T_f0fb9_level0_row0\" class=\"row_heading level0 row0\" >2023_T250_fgbg</th>\n",
       "      <td id=\"T_f0fb9_row0_col0\" class=\"data row0 col0\" >0.829268</td>\n",
       "      <td id=\"T_f0fb9_row0_col1\" class=\"data row0 col1\" >0</td>\n",
       "      <td id=\"T_f0fb9_row0_col2\" class=\"data row0 col2\" >0.00</td>\n",
       "      <td id=\"T_f0fb9_row0_col3\" class=\"data row0 col3\" >21</td>\n",
       "      <td id=\"T_f0fb9_row0_col4\" class=\"data row0 col4\" >41.18</td>\n",
       "      <td id=\"T_f0fb9_row0_col5\" class=\"data row0 col5\" >11,875</td>\n",
       "    </tr>\n",
       "    <tr>\n",
       "      <th id=\"T_f0fb9_level0_row1\" class=\"row_heading level0 row1\" >2023_T275_fgbg</th>\n",
       "      <td id=\"T_f0fb9_row1_col0\" class=\"data row1 col0\" >0.918919</td>\n",
       "      <td id=\"T_f0fb9_row1_col1\" class=\"data row1 col1\" >0</td>\n",
       "      <td id=\"T_f0fb9_row1_col2\" class=\"data row1 col2\" >0.00</td>\n",
       "      <td id=\"T_f0fb9_row1_col3\" class=\"data row1 col3\" >9</td>\n",
       "      <td id=\"T_f0fb9_row1_col4\" class=\"data row1 col4\" >17.65</td>\n",
       "      <td id=\"T_f0fb9_row1_col5\" class=\"data row1 col5\" >6,139</td>\n",
       "    </tr>\n",
       "    <tr>\n",
       "      <th id=\"T_f0fb9_level0_row2\" class=\"row_heading level0 row2\" >2023_T300_fgbg</th>\n",
       "      <td id=\"T_f0fb9_row2_col0\" class=\"data row2 col0\" >0.944444</td>\n",
       "      <td id=\"T_f0fb9_row2_col1\" class=\"data row2 col1\" >0</td>\n",
       "      <td id=\"T_f0fb9_row2_col2\" class=\"data row2 col2\" >0.00</td>\n",
       "      <td id=\"T_f0fb9_row2_col3\" class=\"data row2 col3\" >6</td>\n",
       "      <td id=\"T_f0fb9_row2_col4\" class=\"data row2 col4\" >11.76</td>\n",
       "      <td id=\"T_f0fb9_row2_col5\" class=\"data row2 col5\" >3,348</td>\n",
       "    </tr>\n",
       "    <tr>\n",
       "      <th id=\"T_f0fb9_level0_row3\" class=\"row_heading level0 row3\" >2023_T325_fgbg</th>\n",
       "      <td id=\"T_f0fb9_row3_col0\" class=\"data row3 col0\" >1.000000</td>\n",
       "      <td id=\"T_f0fb9_row3_col1\" class=\"data row3 col1\" >0</td>\n",
       "      <td id=\"T_f0fb9_row3_col2\" class=\"data row3 col2\" >0.00</td>\n",
       "      <td id=\"T_f0fb9_row3_col3\" class=\"data row3 col3\" >0</td>\n",
       "      <td id=\"T_f0fb9_row3_col4\" class=\"data row3 col4\" >0.00</td>\n",
       "      <td id=\"T_f0fb9_row3_col5\" class=\"data row3 col5\" >0</td>\n",
       "    </tr>\n",
       "    <tr>\n",
       "      <th id=\"T_f0fb9_level0_row4\" class=\"row_heading level0 row4\" >2023_T350_fgbg</th>\n",
       "      <td id=\"T_f0fb9_row4_col0\" class=\"data row4 col0\" >1.000000</td>\n",
       "      <td id=\"T_f0fb9_row4_col1\" class=\"data row4 col1\" >0</td>\n",
       "      <td id=\"T_f0fb9_row4_col2\" class=\"data row4 col2\" >0.00</td>\n",
       "      <td id=\"T_f0fb9_row4_col3\" class=\"data row4 col3\" >0</td>\n",
       "      <td id=\"T_f0fb9_row4_col4\" class=\"data row4 col4\" >0.00</td>\n",
       "      <td id=\"T_f0fb9_row4_col5\" class=\"data row4 col5\" >0</td>\n",
       "    </tr>\n",
       "    <tr>\n",
       "      <th id=\"T_f0fb9_level0_row5\" class=\"row_heading level0 row5\" >2023_T375_fgbg</th>\n",
       "      <td id=\"T_f0fb9_row5_col0\" class=\"data row5 col0\" >1.000000</td>\n",
       "      <td id=\"T_f0fb9_row5_col1\" class=\"data row5 col1\" >0</td>\n",
       "      <td id=\"T_f0fb9_row5_col2\" class=\"data row5 col2\" >0.00</td>\n",
       "      <td id=\"T_f0fb9_row5_col3\" class=\"data row5 col3\" >0</td>\n",
       "      <td id=\"T_f0fb9_row5_col4\" class=\"data row5 col4\" >0.00</td>\n",
       "      <td id=\"T_f0fb9_row5_col5\" class=\"data row5 col5\" >0</td>\n",
       "    </tr>\n",
       "    <tr>\n",
       "      <th id=\"T_f0fb9_level0_row6\" class=\"row_heading level0 row6\" >2023_T400_fgbg</th>\n",
       "      <td id=\"T_f0fb9_row6_col0\" class=\"data row6 col0\" >1.000000</td>\n",
       "      <td id=\"T_f0fb9_row6_col1\" class=\"data row6 col1\" >0</td>\n",
       "      <td id=\"T_f0fb9_row6_col2\" class=\"data row6 col2\" >0.00</td>\n",
       "      <td id=\"T_f0fb9_row6_col3\" class=\"data row6 col3\" >0</td>\n",
       "      <td id=\"T_f0fb9_row6_col4\" class=\"data row6 col4\" >0.00</td>\n",
       "      <td id=\"T_f0fb9_row6_col5\" class=\"data row6 col5\" >0</td>\n",
       "    </tr>\n",
       "    <tr>\n",
       "      <th id=\"T_f0fb9_level0_row7\" class=\"row_heading level0 row7\" >2023_T425_fgbg</th>\n",
       "      <td id=\"T_f0fb9_row7_col0\" class=\"data row7 col0\" >1.000000</td>\n",
       "      <td id=\"T_f0fb9_row7_col1\" class=\"data row7 col1\" >0</td>\n",
       "      <td id=\"T_f0fb9_row7_col2\" class=\"data row7 col2\" >0.00</td>\n",
       "      <td id=\"T_f0fb9_row7_col3\" class=\"data row7 col3\" >0</td>\n",
       "      <td id=\"T_f0fb9_row7_col4\" class=\"data row7 col4\" >0.00</td>\n",
       "      <td id=\"T_f0fb9_row7_col5\" class=\"data row7 col5\" >0</td>\n",
       "    </tr>\n",
       "    <tr>\n",
       "      <th id=\"T_f0fb9_level0_row8\" class=\"row_heading level0 row8\" >2023_T450_fgbg</th>\n",
       "      <td id=\"T_f0fb9_row8_col0\" class=\"data row8 col0\" >1.000000</td>\n",
       "      <td id=\"T_f0fb9_row8_col1\" class=\"data row8 col1\" >0</td>\n",
       "      <td id=\"T_f0fb9_row8_col2\" class=\"data row8 col2\" >0.00</td>\n",
       "      <td id=\"T_f0fb9_row8_col3\" class=\"data row8 col3\" >0</td>\n",
       "      <td id=\"T_f0fb9_row8_col4\" class=\"data row8 col4\" >0.00</td>\n",
       "      <td id=\"T_f0fb9_row8_col5\" class=\"data row8 col5\" >0</td>\n",
       "    </tr>\n",
       "    <tr>\n",
       "      <th id=\"T_f0fb9_level0_row9\" class=\"row_heading level0 row9\" >2023_T475_fgbg</th>\n",
       "      <td id=\"T_f0fb9_row9_col0\" class=\"data row9 col0\" >1.000000</td>\n",
       "      <td id=\"T_f0fb9_row9_col1\" class=\"data row9 col1\" >0</td>\n",
       "      <td id=\"T_f0fb9_row9_col2\" class=\"data row9 col2\" >0.00</td>\n",
       "      <td id=\"T_f0fb9_row9_col3\" class=\"data row9 col3\" >0</td>\n",
       "      <td id=\"T_f0fb9_row9_col4\" class=\"data row9 col4\" >0.00</td>\n",
       "      <td id=\"T_f0fb9_row9_col5\" class=\"data row9 col5\" >0</td>\n",
       "    </tr>\n",
       "    <tr>\n",
       "      <th id=\"T_f0fb9_level0_row10\" class=\"row_heading level0 row10\" >2023_T500_fgbg</th>\n",
       "      <td id=\"T_f0fb9_row10_col0\" class=\"data row10 col0\" >1.000000</td>\n",
       "      <td id=\"T_f0fb9_row10_col1\" class=\"data row10 col1\" >0</td>\n",
       "      <td id=\"T_f0fb9_row10_col2\" class=\"data row10 col2\" >0.00</td>\n",
       "      <td id=\"T_f0fb9_row10_col3\" class=\"data row10 col3\" >0</td>\n",
       "      <td id=\"T_f0fb9_row10_col4\" class=\"data row10 col4\" >0.00</td>\n",
       "      <td id=\"T_f0fb9_row10_col5\" class=\"data row10 col5\" >0</td>\n",
       "    </tr>\n",
       "  </tbody>\n",
       "</table>\n"
      ],
      "text/plain": [
       "<pandas.io.formats.style.Styler at 0x7f6e27760eb0>"
      ]
     },
     "metadata": {},
     "output_type": "display_data"
    },
    {
     "name": "stdout",
     "output_type": "stream",
     "text": [
      "[0. 0. 0. 0. 0. 0. 0. 0. 0. 0. 0.]\n"
     ]
    },
    {
     "name": "stderr",
     "output_type": "stream",
     "text": [
      "/scratch/nsayez/48019985/ipykernel_1499137/210438807.py:51: FutureWarning: Setting an item of incompatible dtype is deprecated and will raise an error in a future version of pandas. Value '0' has dtype incompatible with float64, please explicitly cast to a compatible dtype first.\n",
      "  df.loc[row] = df.loc[row].map('{:,.0f}'.format)\n",
      "/scratch/nsayez/48019985/ipykernel_1499137/210438807.py:51: FutureWarning: Setting an item of incompatible dtype is deprecated and will raise an error in a future version of pandas. Value '0' has dtype incompatible with float64, please explicitly cast to a compatible dtype first.\n",
      "  df.loc[row] = df.loc[row].map('{:,.0f}'.format)\n",
      "/scratch/nsayez/48019985/ipykernel_1499137/210438807.py:51: FutureWarning: Setting an item of incompatible dtype is deprecated and will raise an error in a future version of pandas. Value '0' has dtype incompatible with float64, please explicitly cast to a compatible dtype first.\n",
      "  df.loc[row] = df.loc[row].map('{:,.0f}'.format)\n",
      "/scratch/nsayez/48019985/ipykernel_1499137/210438807.py:51: FutureWarning: Setting an item of incompatible dtype is deprecated and will raise an error in a future version of pandas. Value '0' has dtype incompatible with float64, please explicitly cast to a compatible dtype first.\n",
      "  df.loc[row] = df.loc[row].map('{:,.0f}'.format)\n",
      "/scratch/nsayez/48019985/ipykernel_1499137/210438807.py:51: FutureWarning: Setting an item of incompatible dtype is deprecated and will raise an error in a future version of pandas. Value '0' has dtype incompatible with float64, please explicitly cast to a compatible dtype first.\n",
      "  df.loc[row] = df.loc[row].map('{:,.0f}'.format)\n",
      "/scratch/nsayez/48019985/ipykernel_1499137/210438807.py:51: FutureWarning: Setting an item of incompatible dtype is deprecated and will raise an error in a future version of pandas. Value '0' has dtype incompatible with float64, please explicitly cast to a compatible dtype first.\n",
      "  df.loc[row] = df.loc[row].map('{:,.0f}'.format)\n",
      "/scratch/nsayez/48019985/ipykernel_1499137/210438807.py:51: FutureWarning: Setting an item of incompatible dtype is deprecated and will raise an error in a future version of pandas. Value '0' has dtype incompatible with float64, please explicitly cast to a compatible dtype first.\n",
      "  df.loc[row] = df.loc[row].map('{:,.0f}'.format)\n",
      "/scratch/nsayez/48019985/ipykernel_1499137/210438807.py:51: FutureWarning: Setting an item of incompatible dtype is deprecated and will raise an error in a future version of pandas. Value '0' has dtype incompatible with float64, please explicitly cast to a compatible dtype first.\n",
      "  df.loc[row] = df.loc[row].map('{:,.0f}'.format)\n",
      "/scratch/nsayez/48019985/ipykernel_1499137/210438807.py:51: FutureWarning: Setting an item of incompatible dtype is deprecated and will raise an error in a future version of pandas. Value '0' has dtype incompatible with float64, please explicitly cast to a compatible dtype first.\n",
      "  df.loc[row] = df.loc[row].map('{:,.0f}'.format)\n",
      "/scratch/nsayez/48019985/ipykernel_1499137/210438807.py:51: FutureWarning: Setting an item of incompatible dtype is deprecated and will raise an error in a future version of pandas. Value '0' has dtype incompatible with float64, please explicitly cast to a compatible dtype first.\n",
      "  df.loc[row] = df.loc[row].map('{:,.0f}'.format)\n",
      "/scratch/nsayez/48019985/ipykernel_1499137/210438807.py:51: FutureWarning: Setting an item of incompatible dtype is deprecated and will raise an error in a future version of pandas. Value '0' has dtype incompatible with float64, please explicitly cast to a compatible dtype first.\n",
      "  df.loc[row] = df.loc[row].map('{:,.0f}'.format)\n"
     ]
    },
    {
     "data": {
      "text/html": [
       "<style type=\"text/css\">\n",
       "#T_d6934 caption {\n",
       "  text-align: center;\n",
       "  font-size: 120%;\n",
       "  font-weight: bold;\n",
       "}\n",
       "#T_d6934_row0_col0, #T_d6934_row0_col1, #T_d6934_row0_col2, #T_d6934_row0_col3, #T_d6934_row0_col4, #T_d6934_row0_col5, #T_d6934_row1_col0, #T_d6934_row1_col1, #T_d6934_row1_col2, #T_d6934_row1_col3, #T_d6934_row1_col4, #T_d6934_row1_col5, #T_d6934_row2_col0, #T_d6934_row2_col1, #T_d6934_row2_col2, #T_d6934_row2_col3, #T_d6934_row2_col4, #T_d6934_row2_col5, #T_d6934_row3_col0, #T_d6934_row3_col1, #T_d6934_row3_col2, #T_d6934_row3_col3, #T_d6934_row3_col4, #T_d6934_row3_col5, #T_d6934_row4_col0, #T_d6934_row4_col1, #T_d6934_row4_col2, #T_d6934_row4_col3, #T_d6934_row4_col4, #T_d6934_row4_col5, #T_d6934_row5_col0, #T_d6934_row5_col1, #T_d6934_row5_col2, #T_d6934_row5_col3, #T_d6934_row5_col4, #T_d6934_row5_col5, #T_d6934_row6_col0, #T_d6934_row6_col1, #T_d6934_row6_col2, #T_d6934_row6_col3, #T_d6934_row6_col4, #T_d6934_row6_col5, #T_d6934_row7_col0, #T_d6934_row7_col1, #T_d6934_row7_col2, #T_d6934_row7_col3, #T_d6934_row7_col4, #T_d6934_row7_col5, #T_d6934_row8_col0, #T_d6934_row8_col1, #T_d6934_row8_col2, #T_d6934_row8_col3, #T_d6934_row8_col4, #T_d6934_row8_col5, #T_d6934_row9_col0, #T_d6934_row9_col1, #T_d6934_row9_col2, #T_d6934_row9_col3, #T_d6934_row9_col4, #T_d6934_row9_col5, #T_d6934_row10_col0, #T_d6934_row10_col1, #T_d6934_row10_col2, #T_d6934_row10_col3, #T_d6934_row10_col4, #T_d6934_row10_col5 {\n",
       "  text-align: center;\n",
       "}\n",
       "</style>\n",
       "<table id=\"T_d6934\">\n",
       "  <caption>Bin of sunspots of size  [801, inf] -> 48 in GroudTruth</caption>\n",
       "  <thead>\n",
       "    <tr>\n",
       "      <th class=\"blank level0\" >&nbsp;</th>\n",
       "      <th id=\"T_d6934_level0_col0\" class=\"col_heading level0 col0\" >F1</th>\n",
       "      <th id=\"T_d6934_level0_col1\" class=\"col_heading level0 col1\" >num_FN</th>\n",
       "      <th id=\"T_d6934_level0_col2\" class=\"col_heading level0 col2\" >percent_FN</th>\n",
       "      <th id=\"T_d6934_level0_col3\" class=\"col_heading level0 col3\" >num_FP</th>\n",
       "      <th id=\"T_d6934_level0_col4\" class=\"col_heading level0 col4\" >percent_FP</th>\n",
       "      <th id=\"T_d6934_level0_col5\" class=\"col_heading level0 col5\" >FP_area</th>\n",
       "    </tr>\n",
       "  </thead>\n",
       "  <tbody>\n",
       "    <tr>\n",
       "      <th id=\"T_d6934_level0_row0\" class=\"row_heading level0 row0\" >2023_T250_fgbg</th>\n",
       "      <td id=\"T_d6934_row0_col0\" class=\"data row0 col0\" >0.932039</td>\n",
       "      <td id=\"T_d6934_row0_col1\" class=\"data row0 col1\" >0</td>\n",
       "      <td id=\"T_d6934_row0_col2\" class=\"data row0 col2\" >0.00</td>\n",
       "      <td id=\"T_d6934_row0_col3\" class=\"data row0 col3\" >7</td>\n",
       "      <td id=\"T_d6934_row0_col4\" class=\"data row0 col4\" >14.58</td>\n",
       "      <td id=\"T_d6934_row0_col5\" class=\"data row0 col5\" >7,265</td>\n",
       "    </tr>\n",
       "    <tr>\n",
       "      <th id=\"T_d6934_level0_row1\" class=\"row_heading level0 row1\" >2023_T275_fgbg</th>\n",
       "      <td id=\"T_d6934_row1_col0\" class=\"data row1 col0\" >0.989691</td>\n",
       "      <td id=\"T_d6934_row1_col1\" class=\"data row1 col1\" >0</td>\n",
       "      <td id=\"T_d6934_row1_col2\" class=\"data row1 col2\" >0.00</td>\n",
       "      <td id=\"T_d6934_row1_col3\" class=\"data row1 col3\" >1</td>\n",
       "      <td id=\"T_d6934_row1_col4\" class=\"data row1 col4\" >2.08</td>\n",
       "      <td id=\"T_d6934_row1_col5\" class=\"data row1 col5\" >1,001</td>\n",
       "    </tr>\n",
       "    <tr>\n",
       "      <th id=\"T_d6934_level0_row2\" class=\"row_heading level0 row2\" >2023_T300_fgbg</th>\n",
       "      <td id=\"T_d6934_row2_col0\" class=\"data row2 col0\" >1.000000</td>\n",
       "      <td id=\"T_d6934_row2_col1\" class=\"data row2 col1\" >0</td>\n",
       "      <td id=\"T_d6934_row2_col2\" class=\"data row2 col2\" >0.00</td>\n",
       "      <td id=\"T_d6934_row2_col3\" class=\"data row2 col3\" >0</td>\n",
       "      <td id=\"T_d6934_row2_col4\" class=\"data row2 col4\" >0.00</td>\n",
       "      <td id=\"T_d6934_row2_col5\" class=\"data row2 col5\" >0</td>\n",
       "    </tr>\n",
       "    <tr>\n",
       "      <th id=\"T_d6934_level0_row3\" class=\"row_heading level0 row3\" >2023_T325_fgbg</th>\n",
       "      <td id=\"T_d6934_row3_col0\" class=\"data row3 col0\" >1.000000</td>\n",
       "      <td id=\"T_d6934_row3_col1\" class=\"data row3 col1\" >0</td>\n",
       "      <td id=\"T_d6934_row3_col2\" class=\"data row3 col2\" >0.00</td>\n",
       "      <td id=\"T_d6934_row3_col3\" class=\"data row3 col3\" >0</td>\n",
       "      <td id=\"T_d6934_row3_col4\" class=\"data row3 col4\" >0.00</td>\n",
       "      <td id=\"T_d6934_row3_col5\" class=\"data row3 col5\" >0</td>\n",
       "    </tr>\n",
       "    <tr>\n",
       "      <th id=\"T_d6934_level0_row4\" class=\"row_heading level0 row4\" >2023_T350_fgbg</th>\n",
       "      <td id=\"T_d6934_row4_col0\" class=\"data row4 col0\" >1.000000</td>\n",
       "      <td id=\"T_d6934_row4_col1\" class=\"data row4 col1\" >0</td>\n",
       "      <td id=\"T_d6934_row4_col2\" class=\"data row4 col2\" >0.00</td>\n",
       "      <td id=\"T_d6934_row4_col3\" class=\"data row4 col3\" >0</td>\n",
       "      <td id=\"T_d6934_row4_col4\" class=\"data row4 col4\" >0.00</td>\n",
       "      <td id=\"T_d6934_row4_col5\" class=\"data row4 col5\" >0</td>\n",
       "    </tr>\n",
       "    <tr>\n",
       "      <th id=\"T_d6934_level0_row5\" class=\"row_heading level0 row5\" >2023_T375_fgbg</th>\n",
       "      <td id=\"T_d6934_row5_col0\" class=\"data row5 col0\" >1.000000</td>\n",
       "      <td id=\"T_d6934_row5_col1\" class=\"data row5 col1\" >0</td>\n",
       "      <td id=\"T_d6934_row5_col2\" class=\"data row5 col2\" >0.00</td>\n",
       "      <td id=\"T_d6934_row5_col3\" class=\"data row5 col3\" >0</td>\n",
       "      <td id=\"T_d6934_row5_col4\" class=\"data row5 col4\" >0.00</td>\n",
       "      <td id=\"T_d6934_row5_col5\" class=\"data row5 col5\" >0</td>\n",
       "    </tr>\n",
       "    <tr>\n",
       "      <th id=\"T_d6934_level0_row6\" class=\"row_heading level0 row6\" >2023_T400_fgbg</th>\n",
       "      <td id=\"T_d6934_row6_col0\" class=\"data row6 col0\" >1.000000</td>\n",
       "      <td id=\"T_d6934_row6_col1\" class=\"data row6 col1\" >0</td>\n",
       "      <td id=\"T_d6934_row6_col2\" class=\"data row6 col2\" >0.00</td>\n",
       "      <td id=\"T_d6934_row6_col3\" class=\"data row6 col3\" >0</td>\n",
       "      <td id=\"T_d6934_row6_col4\" class=\"data row6 col4\" >0.00</td>\n",
       "      <td id=\"T_d6934_row6_col5\" class=\"data row6 col5\" >0</td>\n",
       "    </tr>\n",
       "    <tr>\n",
       "      <th id=\"T_d6934_level0_row7\" class=\"row_heading level0 row7\" >2023_T425_fgbg</th>\n",
       "      <td id=\"T_d6934_row7_col0\" class=\"data row7 col0\" >1.000000</td>\n",
       "      <td id=\"T_d6934_row7_col1\" class=\"data row7 col1\" >0</td>\n",
       "      <td id=\"T_d6934_row7_col2\" class=\"data row7 col2\" >0.00</td>\n",
       "      <td id=\"T_d6934_row7_col3\" class=\"data row7 col3\" >0</td>\n",
       "      <td id=\"T_d6934_row7_col4\" class=\"data row7 col4\" >0.00</td>\n",
       "      <td id=\"T_d6934_row7_col5\" class=\"data row7 col5\" >0</td>\n",
       "    </tr>\n",
       "    <tr>\n",
       "      <th id=\"T_d6934_level0_row8\" class=\"row_heading level0 row8\" >2023_T450_fgbg</th>\n",
       "      <td id=\"T_d6934_row8_col0\" class=\"data row8 col0\" >1.000000</td>\n",
       "      <td id=\"T_d6934_row8_col1\" class=\"data row8 col1\" >0</td>\n",
       "      <td id=\"T_d6934_row8_col2\" class=\"data row8 col2\" >0.00</td>\n",
       "      <td id=\"T_d6934_row8_col3\" class=\"data row8 col3\" >0</td>\n",
       "      <td id=\"T_d6934_row8_col4\" class=\"data row8 col4\" >0.00</td>\n",
       "      <td id=\"T_d6934_row8_col5\" class=\"data row8 col5\" >0</td>\n",
       "    </tr>\n",
       "    <tr>\n",
       "      <th id=\"T_d6934_level0_row9\" class=\"row_heading level0 row9\" >2023_T475_fgbg</th>\n",
       "      <td id=\"T_d6934_row9_col0\" class=\"data row9 col0\" >1.000000</td>\n",
       "      <td id=\"T_d6934_row9_col1\" class=\"data row9 col1\" >0</td>\n",
       "      <td id=\"T_d6934_row9_col2\" class=\"data row9 col2\" >0.00</td>\n",
       "      <td id=\"T_d6934_row9_col3\" class=\"data row9 col3\" >0</td>\n",
       "      <td id=\"T_d6934_row9_col4\" class=\"data row9 col4\" >0.00</td>\n",
       "      <td id=\"T_d6934_row9_col5\" class=\"data row9 col5\" >0</td>\n",
       "    </tr>\n",
       "    <tr>\n",
       "      <th id=\"T_d6934_level0_row10\" class=\"row_heading level0 row10\" >2023_T500_fgbg</th>\n",
       "      <td id=\"T_d6934_row10_col0\" class=\"data row10 col0\" >1.000000</td>\n",
       "      <td id=\"T_d6934_row10_col1\" class=\"data row10 col1\" >0</td>\n",
       "      <td id=\"T_d6934_row10_col2\" class=\"data row10 col2\" >0.00</td>\n",
       "      <td id=\"T_d6934_row10_col3\" class=\"data row10 col3\" >0</td>\n",
       "      <td id=\"T_d6934_row10_col4\" class=\"data row10 col4\" >0.00</td>\n",
       "      <td id=\"T_d6934_row10_col5\" class=\"data row10 col5\" >0</td>\n",
       "    </tr>\n",
       "  </tbody>\n",
       "</table>\n"
      ],
      "text/plain": [
       "<pandas.io.formats.style.Styler at 0x7f6e2763ec50>"
      ]
     },
     "metadata": {},
     "output_type": "display_data"
    },
    {
     "data": {
      "application/vnd.jupyter.widget-view+json": {
       "model_id": "1df4e846c9274261bd2d1812d518bc9d",
       "version_major": 2,
       "version_minor": 0
      },
      "image/png": "[encoded data removed]",
      "text/html": [
       "\n",
       "            <div style=\"display: inline-block;\">\n",
       "                <div class=\"jupyter-widgets widget-label\" style=\"text-align: center;\">\n",
       "                    Figure\n",
       "                </div>\n",
       "                <img src='data:image/png;base64,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' width=500.0/>\n",
       "            </div>\n",
       "        "
      ],
      "text/plain": [
       "Canvas(toolbar=Toolbar(toolitems=[('Home', 'Reset original view', 'home', 'home'), ('Back', 'Back to previous …"
      ]
     },
     "metadata": {},
     "output_type": "display_data"
    },
    {
     "data": {
      "application/vnd.jupyter.widget-view+json": {
       "model_id": "bbd547f5636943febbdae8079e5aa193",
       "version_major": 2,
       "version_minor": 0
      },
      "image/png": "[encoded data removed]",
      "text/html": [
       "\n",
       "            <div style=\"display: inline-block;\">\n",
       "                <div class=\"jupyter-widgets widget-label\" style=\"text-align: center;\">\n",
       "                    Figure\n",
       "                </div>\n",
       "                <img src='data:image/png;base64,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' width=500.0/>\n",
       "            </div>\n",
       "        "
      ],
      "text/plain": [
       "Canvas(toolbar=Toolbar(toolitems=[('Home', 'Reset original view', 'home', 'home'), ('Back', 'Back to previous …"
      ]
     },
     "metadata": {},
     "output_type": "display_data"
    },
    {
     "data": {
      "application/vnd.jupyter.widget-view+json": {
       "model_id": "f65350d5bbaa43198f16ba3c7540c69d",
       "version_major": 2,
       "version_minor": 0
      },
      "image/png": "[encoded data removed]",
      "text/html": [
       "\n",
       "            <div style=\"display: inline-block;\">\n",
       "                <div class=\"jupyter-widgets widget-label\" style=\"text-align: center;\">\n",
       "                    Figure\n",
       "                </div>\n",
       "                <img src='data:image/png;base64,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' width=500.0/>\n",
       "            </div>\n",
       "        "
      ],
      "text/plain": [
       "Canvas(toolbar=Toolbar(toolitems=[('Home', 'Reset original view', 'home', 'home'), ('Back', 'Back to previous …"
      ]
     },
     "metadata": {},
     "output_type": "display_data"
    },
    {
     "data": {
      "application/vnd.jupyter.widget-view+json": {
       "model_id": "88bc45dee74845c89f287cabfaff5a6e",
       "version_major": 2,
       "version_minor": 0
      },
      "image/png": "[encoded data removed]",
      "text/html": [
       "\n",
       "            <div style=\"display: inline-block;\">\n",
       "                <div class=\"jupyter-widgets widget-label\" style=\"text-align: center;\">\n",
       "                    Figure\n",
       "                </div>\n",
       "                <img src='data:image/png;base64,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' width=500.0/>\n",
       "            </div>\n",
       "        "
      ],
      "text/plain": [
       "Canvas(toolbar=Toolbar(toolitems=[('Home', 'Reset original view', 'home', 'home'), ('Back', 'Back to previous …"
      ]
     },
     "metadata": {},
     "output_type": "display_data"
    },
    {
     "data": {
      "application/vnd.jupyter.widget-view+json": {
       "model_id": "071e40fa0db1470987a55ef4c5fa5867",
       "version_major": 2,
       "version_minor": 0
      },
      "image/png": "[encoded data removed]",
      "text/html": [
       "\n",
       "            <div style=\"display: inline-block;\">\n",
       "                <div class=\"jupyter-widgets widget-label\" style=\"text-align: center;\">\n",
       "                    Figure\n",
       "                </div>\n",
       "                <img src='data:image/png;base64,iVBORw0KGgoAAAANSUhEUgAAAfQAAAH0CAYAAADL1t+KAAAAOXRFWHRTb2Z0d2FyZQBNYXRwbG90bGliIHZlcnNpb24zLjguNCwgaHR0cHM6Ly9tYXRwbG90bGliLm9yZy8fJSN1AAAACXBIWXMAAA9hAAAPYQGoP6dpAABgkUlEQVR4nO3deXwM9/8H8NfuJtlNRBLkpJEEcQR1hETcIRq0irqqVBw9XKVNi2gVaVVQZ0vcopRWq3XUTVxfqnVVW3UTR1UOV4KQsPv5/ZFflpWEJLPJTmZfz8djH+ycr52d7Huuz4xKCCFAREREJZra0gGIiIhIOhZ0IiIiBWBBJyIiUgAWdCIiIgVgQSciIlIAFnQiIiIFYEEnIiJSABZ0IiIiBWBBJyIiUgAWdCIiIgVgQSciIlIAFnQiIiIFYEEnIiJSABZ0IiIiBbCagq5SqTB+/HiLzHvLli2oW7cudDodVCoVbt++bZEc9Njy5ctRvXp12NrawsXFRdK0WrZsiZYtW5ollxS+vr5QqVRQqVQYOnSopeMUiq+vL/r27Vvo8b/88ktUqlQJGo0GdevWBQC4uLiU+OVSWHJZNy1t/PjxUKlUlo5htHTpUqhUKhw+fNis0y2xBT17gTz5cnd3R2hoKDZv3mzpeEY3btxA9+7dYW9vjzlz5mD58uUoVaqUpWNZ3IkTJzB+/HhcvHix2Od96tQp9O3bF5UrV8bChQuxYMGCYs9QVJo1a4bly5cjIiLCpHtqaipGjhwJf39/2Nvbw8fHBwMGDMDly5dzTOPq1avo3r07XFxc4OTkhI4dO+LChQs5hps7dy66deuGihUrQqVSSSrE5rBt2zaMHDkSTZo0QVxcHCZOnAgAWLBgAZYvX27RbM9y/vx548Z+bj/wR44cwSuvvAJPT084OjrixRdfxFdffQW9Xm+BtFkSEhIwdOhQVK1aFQ4ODnBwcEBAQACGDBmCv/76y2K58iO7uD/vZY4NodjYWCxdulTydPLLptjmVEQ+++wz+Pn5QQiBpKQkLF26FO3bt8cvv/yCV155xTjc/fv3YWNT/B/30KFDuHPnDj7//HOEhYUV+/zl6sSJE4iOjkbLli3h6+tbrPPevXs3DAYDZs2ahSpVqkie3rZt28yQyjwqVaqE3r17m3QzGAxo06YNTpw4gcGDB6Nq1ao4d+4cYmNjsXXrVpw8eRKlS5cGANy9exehoaFITU3Fxx9/DFtbW8yYMQMtWrTAsWPHUK5cOeN0J0+ejDt37iAoKAjXrl0zS/7Tp09DrS7cfsbOnTuhVquxePFi2NnZGbt3794dAPDmm2+aJaO5ffDBB7CxsUFGRkaOfkeOHEHjxo3h7++PUaNGwcHBAZs3b8bw4cNx/vx5zJo165nTLop1c8OGDejRowdsbGzQq1cv1KlTB2q1GqdOncLPP/+MuXPnIiEhAT4+Pmaftzm89tprJn/3d+/exaBBg9C5c2e89tprxu4eHh6S5xUbGwtXV9di29gt8QW9Xbt2aNCggfH9gAED4OHhge+++86koOt0OkvEQ3JyMgBIPqxL5mPu7+TJ4iFHv/32Gw4dOoTZs2djyJAhxu7VqlVD//79sWPHDnTu3BlA1g/Q2bNncfDgQTRs2BBA1t9YrVq1MG3aNONeLwDs2bPHuHfu6OholqxarbbQ4yYnJ8Pe3r5Ivo979+4hKSkJlSpVMut0t27diq1bt2LkyJGYMGFCjv7z588HAOzduxdly5YFALz77rto0aIFli5d+tyCbu5lcf78ebz++uvw8fFBfHw8vLy8TPpPnjwZsbGxz90ou3fvnsWOVL744ot48cUXje+vX7+OQYMG4cUXX8yxMfykBw8ewM7OrtAbnMVBvskKycXFBfb29jn2xp8+h5592OXcuXPo27cvXFxc4OzsjH79+iE9PT1f8/rxxx8RGBgIe3t7uLq6onfv3rh69aqxf8uWLY2HPhs2bPjcw5J37tzB+++/D19fX2i1Wri7u6NNmzY4evSocZi8zjE+fa5s9+7dUKlU+OGHH/DFF1/ghRdegE6nQ+vWrXHu3DmTcc+ePYsuXbrA09MTOp0OL7zwAl5//XWkpqaaLL+hQ4dixYoVqFatGnQ6HQIDA7F3794cWf744w+0a9cOTk5OcHR0ROvWrfHbb78Z+y9duhTdunUDAISGhhoPce3evRsAcPjwYYSHh8PV1RX29vbw8/ND//7981xuT4qNjUXNmjWh1WpRvnx5DBkyxOSaBV9fX4wbNw4A4Obm9txrKxITE9GvXz+88MIL0Gq18PLyQseOHU1OFTy97J88l/30K/szAlmHtvv37w8PDw9otVrUrFkTS5YsydfnLIi0tDQAOfc4sn+M7e3tjd1Wr16Nhg0bGos5AFSvXh2tW7fGDz/8YDK+j4+P2c9LPr1+Z59a279/PyIjI+Hm5oZSpUqhc+fOSElJMQ6nUqkQFxeHe/fuGZe1OQ91pqSkoEqVKmjVqhVWrlyJBw8eSJ7mw4cPMXz4cAwfPhyVK1fOdZi0tDTodLocG59eXl4m31tepPwu5GbKlCm4d+8e4uLichRzALCxscGwYcPg7e1t7Na3b184Ojri/PnzaN++PUqXLo1evXoByCrsH374Iby9vaHValGtWjVMnToVQgjj+BcvXszz+8zt73ffvn1o2LAhdDodKleubNwoKojs5fT9999jzJgxqFChAhwcHJCWlpbn+fjsdTX7t8HX1xf//PMP9uzZk+dh/IyMjGeu1wVV4vfQU1NTcf36dQghkJycjK+//hp379595pbWk7p37w4/Pz/ExMTg6NGjWLRoEdzd3TF58uRnjrd06VL069cPDRs2RExMDJKSkjBr1izs378ff/zxB1xcXPDJJ5+gWrVqWLBggfHUQF5/uAAwcOBArF69GkOHDkVAQABu3LiBffv24eTJk6hfv36Blku2SZMmQa1W46OPPkJqaiqmTJmCXr164ffffwcAZGZmIjw8HBkZGXjvvffg6emJq1evYsOGDbh9+zacnZ2N09qzZw9WrVqFYcOGQavVIjY2Fm3btsXBgwdRq1YtAMA///yDZs2awcnJCSNHjoStrS3mz5+Pli1bYs+ePQgODkbz5s0xbNgwfPXVV/j4449Ro0YNAECNGjWQnJyMl156CW5uboiKioKLiwsuXryIn3/++bmfdfz48YiOjkZYWBgGDRqE06dPY+7cuTh06BD2798PW1tbzJw5E8uWLcOaNWswd+5c4znJvHTp0gX//PMP3nvvPfj6+iI5ORnbt2/H5cuX8zxVMHPmTNy9e9ek24wZM0wOWSclJaFRo0bGDSU3Nzds3rwZAwYMQFpaGt5///3nft78atCgAUqVKoVPP/0UZcuWRbVq1XDu3DmMHDkSDRs2NJ4KMhgM+Ouvv3LdeAoKCsK2bdtw584d4+H54vTee++hTJkyGDduHC5evIiZM2di6NChWLVqFYCsixwXLFiAgwcPYtGiRQCAxo0bm23+Xl5emDp1KuLi4tCrVy+4uLigV69eGDBgAOrVq1eoac6cORO3bt3CmDFj8ly/W7ZsiVWrVuHdd99FZGSk8ZD7zz//jC+//LLQn+d5vwt52bBhA6pUqYLg4OACze/Ro0cIDw9H06ZNMXXqVDg4OEAIgVdffRW7du3CgAEDULduXWzduhUjRozA1atXMWPGjAJ/rr///tv4+zF+/Hg8evQI48aNK/Th888//xx2dnb46KOPkJGRUaAjHjNnzsR7770HR0dHfPLJJwByblQ/b70uMFFCxcXFCQA5XlqtVixdujTH8ADEuHHjjO/HjRsnAIj+/fubDNe5c2dRrly5Z847MzNTuLu7i1q1aon79+8bu2/YsEEAEGPHjs2R89ChQ8/9TM7OzmLIkCHPHMbHx0dERETk6N6iRQvRokUL4/tdu3YJAKJGjRoiIyPD2H3WrFkCgPj777+FEEL88ccfAoD48ccfnznf7OV7+PBhY7dLly4JnU4nOnfubOzWqVMnYWdnJ86fP2/s9t9//4nSpUuL5s2bG7v9+OOPAoDYtWuXyXzWrFmT7+X1pOTkZGFnZydeeuklodfrjd1nz54tAIglS5YYu2V/9ykpKc+c5q1btwQA8eWXXz5zuKeX/dN++OEHAUB89tlnxm4DBgwQXl5e4vr16ybDvv7668LZ2Vmkp6c/c565yWvdECJr3fTy8jL5WwkPDxd37twxDpOSkpIjZ7Y5c+YIAOLUqVO5Tr9UqVJ5zlvKZ8j++wkLCxMGg8HY/YMPPhAajUbcvn3b2C0iIkKUKlUqz2kDeO7fV34cPHhQDBw4ULi4uAgAol69emLOnDni1q1b+Z7GtWvXROnSpcX8+fOFEHn/Tjx69EgMHTpU2NraGr83jUYj5s6dm6/5FPZ3ITepqakCgOjUqVOOfrdu3RIpKSnG15Prb0REhAAgoqKiTMZZu3atACAmTJhg0r1r165CpVKJc+fOCSGESEhIEABEXFxcjvk+/bveqVMnodPpxKVLl4zdTpw4ITQajcir3GWv909OJ3s5VapUKcffYvbvx9Oyv8OEhARjt5o1a+b621CQ9bogSvwh9zlz5mD79u3Yvn07vv32W4SGhuKtt97K1x4dkLVX/KRmzZrhxo0bxsOUuTl8+DCSk5MxePBgk3PzL7/8MqpXr46NGzcW6rO4uLjg999/x3///Veo8XPTr18/k63KZs2aAYDxquXsPfCtW7c+91RDSEgIAgMDje8rVqyIjh07YuvWrdDr9dDr9di2bRs6depkcq7Ry8sLb7zxBvbt2/fM5Qo8Pq+9YcMGPHz4MN+fc8eOHcjMzMT7779vco7r7bffhpOTU6G+k+zzsbt378atW7cKPD6QdfFf//790bFjR4wZMwYAIITATz/9hA4dOkAIgevXrxtf4eHhSE1NNTnNYg5ubm6oV68evvjiC6xduxbjx4/H//73P/Tr1884zP379wHkfh47ez3PHqa4vfPOOyaHOZs1awa9Xo9Lly4Ve5aGDRti7ty5uHbtGlasWIGyZcti6NCh8PLyQu/evXNtOfC0UaNGoVKlSnjrrbeeOZxGo0HlypURHh6Ob775BqtWrUKHDh3w3nvvYe3atYX+DM/7XchN9t9ubtdLtGzZEm5ubsbXnDlzcgwzaNAgk/ebNm2CRqPBsGHDTLp/+OGHEEIUuLWSXq/H1q1b0alTJ1SsWNHYvUaNGggPDy/QtLJFRETk69RGYZl7vS7xBT0oKAhhYWEICwtDr169sHHjRgQEBGDo0KHIzMx87vhPfvEAUKZMGQB45g949sKuVq1ajn7Vq1cv9JcxZcoUHD9+HN7e3ggKCsL48eOf+QeWH8/7fH5+foiMjMSiRYvg6uqK8PBwzJkzx+T8eTZ/f/8c3apWrYr09HSkpKQgJSUF6enpuS6XGjVqwGAw4MqVK8/M26JFC3Tp0gXR0dFwdXVFx44dERcXl+sVwE/K6zuxs7NDpUqVCvWdaLVaTJ48GZs3b4aHhweaN2+OKVOmIDExMV/jp6Wl4bXXXkOFChWwbNky4x9uSkoKbt++jQULFpj8CLq5uRkLbPaFe+Zw4cIFhIaGon///vj444/RsWNHjBs3DrGxsVi9erXxhzP7hyu3ZZ19zrgof9yepTB/p4WRmJho8nrWBoxOp8Mbb7yBLVu2YNasWTAYDFixYsVzN8Z+++03LF++HDNmzHjuBVaTJk3C5MmT8d1336FPnz7o3r071qxZg6ZNm2LIkCF49OhRoT5nYZbnky0hnjZ//nzjTlVubGxs8MILL5h0u3TpEsqXL5/jFE72KbiC/s2mpKTg/v37uf5O5fablB9+fn6FGi+/zL1el/iC/jS1Wo3Q0FBcu3YNZ8+efe7wGo0m1+7iiYsyikv37t1x4cIFfP311yhfvjy+/PJL1KxZ02RLNa+LkPJqk5qfzzdt2jT89ddf+Pjjj3H//n0MGzYMNWvWxL///ivh0xSOSqXC6tWrceDAAQwdOtR44VhgYGCuPyRF7f3338eZM2cQExMDnU6HTz/9FDVq1MAff/zx3HH79u2L//77D2vXroWTk5Oxu8FgAAD07t3beHTp6VeTJk3M9hmWLl2KBw8emLT6AIBXX30VALB//34AQNmyZaHVanNtgpbdrXz58mbLVRDF9Xfq5eVl8nrWucyTJ09i5MiR8Pb2xrBhw+Dv74/p06cjNDT0mfMYOXIkmjVrBj8/P1y8eBEXL17E9evXAWQt5yf38GNjY9GqVasce8Wvvvoq/vvvv0Lfx6Ewy9PZ2RleXl44fvx4jn7BwcEICwvLc73VarWFvjq8oL955pTbBqw585h7vS7xF8XlJnurtagKQHb7ytOnT6NVq1Ym/U6fPi2p/aWXlxcGDx6MwYMHIzk5GfXr18cXX3yBdu3aAcjagsvtTnOXLl2S1KSmdu3aqF27NsaMGYNff/0VTZo0wbx580ya0uS2gXTmzBk4ODjAzc0NAODg4IDTp0/nGO7UqVNQq9XGq1+fd3V0o0aN0KhRI3zxxRdYuXIlevXqhe+//z7PQ5RPfidPLofMzEwkJCRIugdA5cqV8eGHH+LDDz/E2bNnUbduXUybNi3PvREga89q7dq1+Pnnn1G9enWTfm5ubihdujT0en2x3JsgKSkJQogcPzjZpzSy/17UajVq166d681Nfv/9d1SqVMkiF8QVp+3bt5u8r1mzpsn71NRUrFq1CkuWLMHvv/8OR0dH9OjRA2+99RYaNWqUr3lcvnwZly5dynXv79VXX4Wzs7PxbzwpKSnXQvH0d1dcXn75ZSxatAgHDx5EUFCQpGn5+Phgx44dOS60PHXqlLE/8Hiv9enfvaf34N3c3GBvb5/r71Ruv0mF9WSeJ1sf5HZEobjvTqe4PfSHDx9i27ZtsLOzMx66MbcGDRrA3d0d8+bNMzk8uXnzZpw8eRIvv/xygaep1+tzHOZ2d3dH+fLlTeZRuXJl/PbbbyanEzZs2PDcQ9l5SUtLy/GjULt2bajV6hyHXg8cOGByOPHKlStYt24dXnrpJWg0Gmg0Grz00ktYt26dyZ5DUlISVq5ciaZNmxr3VLPboD79R3rr1q0cW6fZt/B81mH3sLAw2NnZ4auvvjIZf/HixUhNTS3Ud5Kenp6jeVLlypVRunTpZ2bZsWMHxowZg08++QSdOnXK0V+j0aBLly746aefct3bkdJsJTdVq1aFECJHs7PvvvsOAEyu0u7atSsOHTpkUtRPnz6NnTt3GpsaKln26bvsV3bTrDt37qB3797w8vLCu+++C5VKhUWLFuHatWtYtGhRvos5kHXnujVr1pi83nvvPQDA1KlTsWLFCuOwVatWxfbt23Hjxg1jN71ejx9++AGlS5d+ZquZojBy5Eg4ODigf//+SEpKytG/IHuW7du3h16vx+zZs026z5gxAyqVyrgT4+TkBFdX1xxNZGNjY03eazQahIeHY+3atSZHOU6ePImtW7fmO9fzZC/zJ/Pcu3cP33zzTY5hS5UqVay3+i7xe+ibN282btElJydj5cqVOHv2LKKiokwOc5qTra0tJk+ejH79+qFFixbo2bOnsdmar68vPvjggwJP886dO3jhhRfQtWtX1KlTB46OjtixYwcOHTqEadOmGYd76623sHr1arRt2xbdu3fH+fPn8e233xb6D3vnzp0YOnQounXrhqpVq+LRo0dYvny5seg8qVatWggPDzdptgYA0dHRxmEmTJiA7du3o2nTphg8eDBsbGwwf/58ZGRkYMqUKcbh6tatC41Gg8mTJyM1NRVardbYxjc2NhadO3dG5cqVcefOHSxcuBBOTk5o3759np/Dzc0No0ePRnR0NNq2bYtXX30Vp0+fRmxsLBo2bJjvZoxPOnPmDFq3bo3u3bsjICAANjY2WLNmDZKSkvD666/nOV7Pnj3h5uYGf3//HHvxbdq0gYeHByZNmoRdu3YhODgYb7/9NgICAnDz5k0cPXoUO3bswM2bNwucNy99+/bF1KlT8e677+KPP/5AzZo1jU00a9asabypDAAMHjwYCxcuxMsvv4yPPvoItra2mD59Ojw8PPDhhx+aTPeXX37Bn3/+CSBrQ/qvv/4yHtF59dVXjc0BL168CD8/P0RERBTrbTDN6caNG9i6dSsGDhyIAQMG5NhzL4iXXnopR7fsH/0WLVqY3CgrKioKvXv3RnBwMN555x3Y29vju+++w5EjRzBhwgTY2toWOkdh+Pv7Y+XKlejZsyeqVatmvFOcEAIJCQlYuXIl1Gp1jvPluenQoQNCQ0PxySef4OLFi6hTpw62bduGdevW4f333zf5TXvrrbcwadIkvPXWW2jQoAH27t2LM2fO5JhmdHQ0tmzZgmbNmmHw4MF49OgRvv76a9SsWdNst6R96aWXULFiRQwYMAAjRoyARqPBkiVL4ObmluOCyMDAQMydOxcTJkxAlSpV4O7unuOorlkV6tp4Gcit2ZpOpxN169YVc+fONWkKIETezdaebrqUW9ODvKxatUrUq1dPaLVaUbZsWdGrVy/x77//5jq95zXDysjIECNGjBB16tQRpUuXFqVKlRJ16tQRsbGxOYadNm2aqFChgtBqtaJJkybi8OHDeTZPebo52tNNQC5cuCD69+8vKleuLHQ6nShbtqwIDQ0VO3bsMBkP/9/k59tvvxX+/v5Cq9WKevXq5Wh2JoQQR48eFeHh4cLR0VE4ODiI0NBQ8euvv+YYbuHChaJSpUrGJiW7du0SR48eFT179hQVK1YUWq1WuLu7i1deecWkudyzzJ49W1SvXl3Y2toKDw8PMWjQoBzNifLbbO369etiyJAhonr16qJUqVLC2dlZBAcHix9++MFkuKeX/dPr5ZOvJ5dXUlKSGDJkiPD29ha2trbC09NTtG7dWixYsCBfn/Vpz2q29u+//4r+/fsLPz8/YWdnJ7y8vMTbb7+d6zK4cuWK6Nq1q3BychKOjo7ilVdeEWfPns0xXHZzpNxeTzYx+vvvv3NttpSfz5DX30/2+v3k8izKZmuZmZkmzbzM7Vm/E1u2bBEtWrQQrq6uws7OTtSuXVvMmzcvX9Mt7O/C85w7d04MGjRIVKlSReh0OmFvby+qV68uBg4cKI4dO2Yy7LO+lzt37ogPPvhAlC9fXtja2gp/f3/x5Zdf5vj9Tk9PFwMGDBDOzs6idOnSonv37iI5OTnH77oQQuzZs0cEBgYKOzs7UalSJTFv3rw8m5oJ8exma3k15z1y5IgIDg4WdnZ2omLFimL69Om51o7ExETx8ssvi9KlSwsAxu+iIOt1QaiEsMDVX1TiqFQqDBkyJMfhMZIPX19fhISE4Ouvv4a9vb1sHgIUGxuLkSNH4vz582a5P3ZB3bx5EwaDAW5ublyHSdEUdw6dyJp9//33cHNzw6hRoywdxWjXrl0YNmyYRYo5kPXAmuyLNomUrMSfQyeiLCtWrDC2m37yXtqW9uOPP1p0/uvWrTNeFS6n5UJkbizoRAphzrbrStKiRQtLRyAqFmY55L5371506NAB5cuXh0qlytctCXfv3o369etDq9WiSpUqJfbqV2shhOC5RyIiGTNLQb937x7q1KmT6/17c5OQkICXX34ZoaGhOHbsGN5//3289dZbZm0rSEREZE3MfpW7SqXCmjVrcr2hRrZRo0Zh48aNJjfVeP3113H79m1s2bLFnHGIiIisgkXOoR84cCDHLS/Dw8Of+QzojIwMk7tzGQwG3Lx5E+XKlSv22+sRERGZmxACd+7cQfny5Qt173uLFPTExMQcTVg8PDyQlpaG+/fv53pD/JiYGJM7khERESnRlStX8nW3vaeVmKvcR48ejcjISOP71NRUVKxYEVeuXCmyW7xa0q7Lu/Dxvo8hYHpGRIWsoxETm05EaMWspzoJIXD34V3cfnAbtzJu4daDW7idcRu3Hvz//zNv49b9x//eyryFR4aCP9TBQeOAMroysFXb4uKdi88d/s0ab8LHqfAPqimsS2mXsPzk8ucOx3y5Yz5p5JxPztkA5eSb03oOAj0CCzz9tLQ0eHt7F/ohSBYp6J6enjlu7J+UlAQnJ6c8n7es1Wqh1WpzdHdyclJcQdcb9Pj65NdQ2+d9yOWzPz7D8gvLjQX8oeFh/iauAqAFNNDAwcYBZXVlUVZXFmV0ZUz+zf5/GV0ZlNOVQxldGWg1WmO+8J/CkZyenGODI2sWKng4eGBks5HQqHN/PGBR0hv0iE+OZz7mY74SlE1J+ZpXbi4pX2FPI1ukoIeEhGDTpk0m3bZv346QkBBLxJGdo8lHkZSe80lGT8o0ZOL0LdNHAjrYOJgU4KeLs/Ffbda/OhtdofJp1BpEBUUhcnckVFCZrNjZRxBGBY2yyB8c8zEf85XMbMwnnVmucr979y7OnTsHIOtRjNOnT0doaCjKli2LihUrYvTo0bh69SqWLVsGIKvZWq1atTBkyBD0798fO3fuxLBhw7Bx40aEh4fna55paWlwdnZGamqq4vbQl/y9BDOOznjucP1q9kO4X7jkAl1YOy7twKSDk0w2PjwdPDEqaBTCfIr+Od/Pw3zSMJ80cs4n52yA9eaTWtfMUtB3796N0NDQHN2zH5fYt29fXLx4Ebt37zYZ54MPPsCJEyfwwgsv4NNPP0Xfvn3zPU8lFvSjSUex5PgS7Pl3T76GXxK+BA09GxZxqmfTG/Q4mnwUKekpcHNwQ333+hbbOs0N80nDfNLIOZ+cswHWmU8WBd0SlFLQDcKAvf/uxZLjS/BH8h/G7lqNFhn6jFzHyT5Ps6XLFlmt4ERkOQaDAZmZmZaOQc9ga2sLjSbv32ypda3EXOWuNA8ND7E5YTPijsfh3O2s0xW2alt0rNIRfWv2xdlbZxG5O+uqfrmdpyEiecnMzERCQgIMBoOlo9BzuLi4wNPTs0jun8KCXszSH6bj57M/Y9mJZbh27xoAwNHWEd2rdUfvGr3h5pD1mEcfJx9Mbzk9x3kaDwcP2ZxHIiLLE0Lg2rVr0Gg08Pb2LtQNSajoCSGQnp6O5ORkAICXl5fZ58GCXkxuPbiF7059h5WnViI1IxUAUE5XDm8GvInu1bqjtF3OdodhPmEI9Q6V9XkkIrKsR48eIT09HeXLl4eDg4Ol49AzZDfLTk5Ohru7+zMPvxcGC3oR++/uf1h2Yhl+Pvsz7j/6/2dVl/ZGv1r98GrlV41tu/OiUWssfuEbEcmXXq8HANjZ2Vk4CeVH9kbXw4cPWdBLirO3ziLueBw2J2zGI5F1V7YaZWugf+3+aFOxDfeyicis+EyLkqEovycWdDP7I/kPLP57sUnTs2CvYAyoNQCNvBrxj46IiIoEC7oZGIQB//v3f1h8fLGx6ZkKKoT5hGFArQGo6VrTwgmJiEjpeDmkBA8ND/HL+V/QZX0XDN05FH8k/wFbtS26+HfB+k7rMb3ldBZzIioR9AaBA+dvYN2xqzhw/gb0hqK9RUnfvn2hUqlyvM6dO2fsN2nSJJNx1q5dWyxHOVUqFdauXVvk8zE37qEXQvrDdKw5twbf/PONselZKdtS6F6tO96s8aax6RkRUUmw5fg1RP9yAtdSHxi7eTnrMK5DANrWMn/zqmxt27ZFXFycSTc3t6zfT51Oh8mTJ+Pdd99FmTJlJM9Lr9dDpVIpulmfcj9ZEbj94DbmHpuL8J/CMengJFy7dw3ldOUwvP5wbOu6DZGBkSzmRFSibDl+DYO+PWpSzAEgMfUBBn17FFuOXyuyeWu1Wnh6epq8sq/8DgsLg6enJ2JiYgo17aVLl8LFxQXr169HQEAAtFotLl++jEOHDqFNmzZwdXWFs7MzWrRogaNHjxrH8/X1BQB07twZKpXK+B4A1q1bh/r160On06FSpUqIjo7Go0cFfxR1UeEeOp5/T95rd69h2Yll+OnsTyZNz/rW7IuOVTo+t+kZEVFxEULg/kN9vobVGwTGrf8nlweBAgJZT1sev/4EmlRxhUb9/EPd9rYasx0S12g0mDhxIt544w0MGzYML7zwQoGnkZ6ejsmTJ2PRokUoV64c3N3dceHCBURERODrr7+GEALTpk1D+/btcfbsWZQuXRqHDh2Cu7s74uLi0LZtW+MGxv/+9z/06dMHX331FZo1a4bz58/jnXfeAQCMGzfOLJ9ZKqsv6Lk9NcfDwQNRQVHwdfJF3D9x2HRhE5ueEVGJcP+hHgFjt5plWgJAYtoD1B6/LV/Dn/gsHA52+S8rGzZsgKOjo/F9u3bt8OOPPxrfd+7cGXXr1sW4ceOwePHifE8328OHDxEbG4s6deoYu7Vq1cpkmAULFsDFxQV79uzBK6+8Yjzkn32L1mzR0dGIiopCREQEAKBSpUr4/PPPMXLkSBZ0OdhxaQcid0fmeFB9UnoSPtj9gUm3YK9g9K/VHyFeIWx6RkRkBqGhoZg7d67xfalSpXIMM3nyZLRq1QofffRRgadvZ2eHF1980aRbUlISxowZg927dyM5ORl6vR7p6em4fPnyM6f1559/Yv/+/fjiiy+M3fR6PR48eID09HRZ3KXPagu63qDHpIOTchTzp4VVDMOA2gNQy7VWMSUjIio8e1sNTnwWnq9hDybcRN+4Q88dbmm/hgjyK5uveRdEqVKlUKVKlWcO07x5c4SHh2P06NEFesQ2kHWr1ad3wCIiInDjxg3MmjULPj4+0Gq1CAkJee6T6u7evYvo6Gi89tprOfrpdLoC5SoqVlvQjyYfNTnMnpc3arzBYk5EJYZKpcr3Ye9m/m7wctYhMfVBrrs2KgCezjo083fL1zn0ojJp0iTUrVsX1apVkzyt/fv3IzY2Fu3btwcAXLlyBdevXzcZxtbW1nhL3Wz169fH6dOnn7sBYklWe5V7SnqKWYcjIippNGoVxnUIAAA8Xa6z34/rEGDRYg4AtWvXRq9evfDVV19Jnpa/vz+WL1+OkydP4vfff0evXr2MD03J5uvri/j4eCQmJuLWrVsAgLFjx2LZsmWIjo7GP//8g5MnT+L777/HmDFjJGcyF6st6PltXsZmaESkZG1reWFu7/rwdDY9bOzprMPc3vWLtB16QXz22Wdmed774sWLcevWLdSvXx9vvvkmhg0bBnd3d5Nhpk2bhu3bt8Pb2xv16tUDAISHh2PDhg3Ytm0bGjZsiEaNGmHGjBnw8fGRnMlcVEKIor0dUBFJS0uDs7MzUlNT4eTkVODx9QY9wn8KR3J6cq7n0VVQwcPBA1u6bOHV7EQkWw8ePEBCQgL8/PwkncvVGwQOJtxE8p0HcC+tQ5BfWYvvmSvRs74vqXXNavfQNWoNooKiAGQV7ydlvx8VNIrFnIisgkatQkjlcuhYtwJCKpdjMS+BrLagA0CYTximt5wOdwfTwy0eDh6Y3nI6wnzCLJSMiIiepV27dnB0dMz1NXHiREvHswirvco9W5hPGEK9Q595pzgiIpKXRYsW4f79+7n2K1v2+U3slMjqCzqQdfi9oWdDS8cgIqJ8qlChgqUjyI5VH3InIiJSChZ0IiIiBWBBJyIiUgAWdCIiIgVgQSciIlIAFnQiIiIFYEEnIiLAoAcS/gf8vTrrX4P++eNI0LdvX6hUqhyvc+fOmfSzs7NDlSpV8Nlnn+HRo0dFmkmlUmHt2rVFOo+ixHboRETW7sR6YMsoIO2/x92cygNtJwMBrxbZbNu2bYu4uDiTbm5ubib9MjIysGnTJgwZMgS2trYYPXp0geah1+uhUqmgVit//1X5n5CIiPJ2Yj3wQx/TYg4Aadeyup9YX2Sz1mq18PT0NHlpNBqTfj4+Phg0aBDCwsKwfv3zsyxduhQuLi5Yv349AgICoNVqcfnyZRw6dAht2rSBq6srnJ2d0aJFCxw9etQ4nq+vLwCgc+fOUKlUxvcAsG7dOtSvXx86nQ6VKlVCdHR0kR8tKAwWdCIiJRECyLyXv9eDNGDzSCCXJ04au20ZlTVcfqZXhA/vtLe3R2ZmZr6GTU9Px+TJk7Fo0SL8888/cHd3x507dxAREYF9+/bht99+g7+/P9q3b487d+4AAA4dOgQAiIuLw7Vr14zv//e//6FPnz4YPnw4Tpw4gfnz52Pp0qX44osviuaDSsBD7kRESvIwHZhY3kwTE1l77pO88zf4x/8BdqXyPfUNGzbA0dHR+L5du3b48ccfTRMIgfj4eGzduhXvvfdevqb78OFDxMbGok6dOsZurVq1MhlmwYIFcHFxwZ49e/DKK68YD/W7uLjA09PTOFx0dDSioqIQEREBAKhUqRI+//xzjBw5EuPGjcv3Zy0OLOhERGQRoaGhmDt3rvF9qVKPNwayi/3Dhw9hMBjwxhtvYPz48fmarp2dHV588UWTbklJSRgzZgx2796N5ORk6PV6pKen4/Lly8+c1p9//on9+/eb7JHr9Xo8ePAA6enpcHBwyFem4sCCTkSkJLYOWXvK+XHpV2BF1+cP12s14NM4f/MugFKlSqFKlSq59ssu9nZ2dihfvjxsbPJfruzt7aFSmT7PPSIiAjdu3MCsWbPg4+MDrVaLkJCQ5x7Gv3v3LqKjo/Haa6/l6KfT6fKdqTiwoBMRKYlKlf/D3pVbZV3NnnYNuZ9HV2X1r9wKKOZHSj+r2BfG/v37ERsbi/bt2wMArly5guvXr5sMY2trC73etLle/fr1cfr0abNmKSos6ERE1kqtyWqa9kMfACqYFvX/38NtO6nYi3lR8Pf3x/Lly9GgQQOkpaVhxIgRsLe3NxnG19cX8fHxaNKkCbRaLcqUKYOxY8filVdeQcWKFdG1a1eo1Wr8+eefOH78OCZMmGChT5M7XuVORGTNAl4Fui8DnLxMuzuVz+pehO3Qi9PixYtx69Yt1K9fH2+++SaGDRsGd3d3k2GmTZuG7du3w9vbG/Xq1QMAhIeHY8OGDdi2bRsaNmyIRo0aYcaMGfDx8bHEx3gmlRBF2M6gCKWlpcHZ2RmpqalwcnKydBwiIot48OABEhIS4OfnJ+2crkGfdU79bhLg6JF1zlwBe+Zy86zvS2pd4yF3IiLKKt5+zSydgiTgIXciIiox2rVrB0dHx1xfEydOtHQ8i+IeOhERlRiLFi3C/fv3c+1XtmzZYk4jLyzoRERUYlSoUMHSEWSLh9yJiIgUgAWdiIhIAVjQiYiIFIAFnYiISAFY0ImIiBSABZ2IiEgBWNCJiAh6gx6HEg9h04VNOJR4CHqD/vkjSdC3b1+oVKocr3PnzgEA9u7diw4dOqB8+fJQqVRYu3ZtkeZRArZDJyKycjsu7cCkg5OQlJ5k7Obh4IGooCiE+YQV2Xzbtm2LuLg4k25ubm4AgHv37qFOnTro379/rs8itzQhBPR6fYGe017UuIdORGTFdlzagcjdkSbFHACS05MRuTsSOy7tKLJ5a7VaeHp6mrw0mqwHwrRr1w4TJkxA586d8z29P//8E6GhoShdujScnJwQGBiIw4cPG/vv378fLVu2hIODA8qUKYPw8HDcunULAJCRkWF8AptOp0PTpk1x6NAh47i7d++GSqXC5s2bERgYCK1Wi3379sFgMCAmJgZ+fn6wt7dHnTp1sHr1ajMtoYKRz6YFERFJJoTA/Ue53xr1aXqDHjEHYyCQ86Gb2d0mHZyEYM9gaPLx5DV7G3uoVKqCBTajXr16oV69epg7dy40Gg2OHTsGW1tbAMCxY8fQunVr9O/fH7NmzYKNjQ127doFvT7r1MLIkSPx008/4ZtvvoGPjw+mTJmC8PBwnDt3zuSWslFRUZg6dSoqVaqEMmXKICYmBt9++y3mzZsHf39/7N27F71794abmxtatGhRrJ/fbAV9zpw5+PLLL5GYmIg6derg66+/RlBQUJ7Dz5w5E3PnzsXly5fh6uqKrl27IiYmRtrj/4iIrNz9R/cRvDLYbNNLSk9C4+8b52vY39/4HQ62Dvme9oYNG+Do6Gh8365dO/z4448Fzpjt8uXLGDFiBKpXrw4A8Pf3N/abMmUKGjRogNjYWGO3mjVrAsg6vD937lwsXboU7dq1AwAsXLgQ27dvx+LFizFixAjjOJ999hnatGkDIGuvfuLEidixYwdCQkIAAJUqVcK+ffswf/78klnQV61ahcjISMybNw/BwcGYOXMmwsPDcfr06RwPkAeAlStXIioqCkuWLEHjxo1x5swZ4wUS06dPN0ckIiKSudDQUMydO9f4vlSpUpKmFxkZibfeegvLly9HWFgYunXrhsqVKwPI2kPv1q1bruOdP38eDx8+RJMmTYzdbG1tERQUhJMnT5oM26BBA+P/z507h/T0dGOBz5aZmYl69epJ+iyFYZaCPn36dLz99tvo168fAGDevHnYuHEjlixZgqioqBzD//rrr2jSpAneeOMNAICvry969uyJ33//3RxxiIislr2NPX5/I3+/pUeSjmBw/ODnDhfbOhaBHoH5mndBlCpVClWqVCnQOM8yfvx4vPHGG9i4cSM2b96McePG4fvvv0fnzp1hb1+wbHl5cqPj7t27AICNGzfmeGiMVqs1y/wKQvJFcZmZmThy5AjCwh5fCalWqxEWFoYDBw7kOk7jxo1x5MgRHDx4EABw4cIFbNq0Ce3bt5cah4jIqqlUKjjYOuTr1bh8Y3g4eECF3M97q6CCp4MnGpdvnK/pWfL8ebaqVavigw8+wLZt2/Daa68Zr6J/8cUXER8fn+s4lStXhp2dHfbv32/s9vDhQxw6dAgBAQF5zisgIABarRaXL19GlSpVTF7e3t7m/WD5IHkP/fr169Dr9fDw8DDp7uHhgVOnTuU6zhtvvIHr16+jadOmEELg0aNHGDhwID7++OM855ORkYGMjAzj+7S0NKnRiYismkatQVRQFCJ3R0IFlcnFcdlFflTQqHxdEGdud+/eNbZJB4CEhAQcO3YMZcuWRcWKFXMMf//+fYwYMQJdu3aFn58f/v33Xxw6dAhdunQBAIwePRq1a9fG4MGDMXDgQNjZ2WHXrl3o1q0bXF1dMWjQIIwYMcI4/SlTpiA9PR0DBgzIM2Pp0qXx0Ucf4YMPPoDBYEDTpk2RmpqK/fv3w8nJCREREeZfMM9gkWZru3fvxsSJExEbG4ujR4/i559/xsaNG/H555/nOU5MTAycnZ2NL0ts/RARKU2YTximt5wOdwfT6508HDwwveX0Im2H/iyHDx9GvXr1jOeiIyMjUa9ePYwdOzbX4TUaDW7cuIE+ffqgatWq6N69O9q1a4fo6GgAWXvu27Ztw59//omgoCCEhIRg3bp1xnbkkyZNQpcuXfDmm2+ifv36OHfuHLZu3YoyZco8M+fnn3+OTz/9FDExMahRowbatm2LjRs3ws/Pz4xLI39UQoic7RUKIDMzEw4ODli9ejU6depk7B4REYHbt29j3bp1OcZp1qwZGjVqhC+//NLY7dtvv8U777yDu3fvQq3OuZ2R2x66t7c3UlNT4eTkJOUjEBGVWA8ePEBCQgL8/PwktRLSG/Q4mnwUKekpcHNwQ333+hbZM1e6Z31faWlpcHZ2LnRdk3zI3c7ODoGBgYiPjzcWdIPBgPj4eAwdOjTXcdLT03MU7eybCeS1faHVai1ykQERkTXQqDVo6NnQ0jFIArNc5R4ZGYmIiAg0aNAAQUFBmDlzJu7du2e86r1Pnz6oUKECYmJiAAAdOnTA9OnTUa9ePQQHB+PcuXP49NNP0aFDB2NhJyIiovwzS0Hv0aMHUlJSMHbsWCQmJqJu3brYsmWL8UK5y5cvm+yRjxkzBiqVCmPGjMHVq1fh5uaGDh064IsvvjBHHCIiIqsj+Ry6pUg910BEpATmOodOxaMoz6Hz4SxEREQKwIJORKQAJfRgq9Upyu+JBZ2IqATLvpA4MzPTwkkoP9LT0wHA+BQ4c+LjU4mISjAbGxs4ODggJSUFtra2ud7HgyxPCIH09HQkJyfDxcWlSFp0saATEZVgKpUKXl5eSEhIwKVLlywdh57DxcUFnp6eRTJtFnQiohLOzs4O/v7+POwuc7a2tkV6rxUWdCIiBVCr1Wy2ZuV4soWIiEgBWNCJiIgUgAWdiIhIAVjQiYiIFIAFnYiISAFY0ImIiBSABZ2IiEgBWNCJiIgUgAWdiIhIAVjQiYiIFIAFnYiISAFY0ImIiBSABZ2IiEgBWNCJiIgUgAWdiIhIAVjQiYiIFIAFnYiISAFY0ImIiBSABZ2IiEgBWNCJiIgUgAWdiIhIAVjQiYiIFIAFnYiISAFY0ImIiBSABZ2IiEgBWNCJiIgUgAWdiIhIAVjQiYiIFIAFnYiISAFY0ImIiBSABZ2IiEgBWNCJiIgUgAWdiIhIAVjQiYiIFIAFnYiISAFY0ImIiBSABZ2IiEgBWNCJiIgUgAWdiIhIAVjQiYiIFIAFnYiISAFY0ImIiBSABZ2IiEgBWNCJiIgUgAWdiIhIAVjQiYiIFIAFnYiISAHMVtDnzJkDX19f6HQ6BAcH4+DBg88c/vbt2xgyZAi8vLyg1WpRtWpVbNq0yVxxiIiIrIqNOSayatUqREZGYt68eQgODsbMmTMRHh6O06dPw93dPcfwmZmZaNOmDdzd3bF69WpUqFABly5dgouLizniEBERWR2VEEJInUhwcDAaNmyI2bNnAwAMBgO8vb3x3nvvISoqKsfw8+bNw5dffolTp07B1ta2UPNMS0uDs7MzUlNT4eTkJCk/ERGRpUmta5IPuWdmZuLIkSMICwt7PFG1GmFhYThw4ECu46xfvx4hISEYMmQIPDw8UKtWLUycOBF6vT7P+WRkZCAtLc3kRURERFkkF/Tr169Dr9fDw8PDpLuHhwcSExNzHefChQtYvXo19Ho9Nm3ahE8//RTTpk3DhAkT8pxPTEwMnJ2djS9vb2+p0YmIiBTDIle5GwwGuLu7Y8GCBQgMDESPHj3wySefYN68eXmOM3r0aKSmphpfV65cKcbERERE8ib5ojhXV1doNBokJSWZdE9KSoKnp2eu43h5ecHW1hYajcbYrUaNGkhMTERmZibs7OxyjKPVaqHVaqXGJSIiUiTJe+h2dnYIDAxEfHy8sZvBYEB8fDxCQkJyHadJkyY4d+4cDAaDsduZM2fg5eWVazEnIiKiZzPLIffIyEgsXLgQ33zzDU6ePIlBgwbh3r176NevHwCgT58+GD16tHH4QYMG4ebNmxg+fDjOnDmDjRs3YuLEiRgyZIg54hAREVkds7RD79GjB1JSUjB27FgkJiaibt262LJli/FCucuXL0Otfrzt4O3tja1bt+KDDz7Aiy++iAoVKmD48OEYNWqUOeIQERFZHbO0Q7cEtkMnIiIlsXg7dCIiIrI8FnQiIiIFYEEnIiJSABZ0IiIiBWBBJyIiUgAWdCIiIgVgQSciIlIAFnQiIiIFYEEnIiJSABZ0IiIiBWBBJyIiUgAWdCIiIgVgQSciIlIAFnQiIiIFYEEnIiJSABZ0IiIiBWBBJyIiUgAWdCIiIgVgQSciIlIAFnQiIiIFYEEnIiJSABZ0IiIiBWBBJyIiUgAWdCIiIgVgQSciIlIAFnQiIiIFYEEnIiJSABZ0IiIiBWBBJyIiUgAWdCIiIgVgQSciIlIAFnQiIiIFYEEnIiJSABZ0IiIiBWBBJyIiUgAWdCIiIgVgQSciIlIAFnQiIiIFYEEnIiJSABZ0IiIiBWBBJyIiUgAWdCIiIgVgQSciIlIAFnQiIiIFYEEnIiJSABZ0IiIiBWBBJyIiUgAWdCIiIgVgQSciIlIAFnQiIiIFYEEnIiJSABZ0IiIiBWBBJyIiUgCzFfQ5c+bA19cXOp0OwcHBOHjwYL7G+/7776FSqdCpUydzRSEiIrI6Zinoq1atQmRkJMaNG4ejR4+iTp06CA8PR3Jy8jPHu3jxIj766CM0a9bMHDGIiIisllkK+vTp0/H222+jX79+CAgIwLx58+Dg4IAlS5bkOY5er0evXr0QHR2NSpUqmSMGERGR1ZJc0DMzM3HkyBGEhYU9nqhajbCwMBw4cCDP8T777DO4u7tjwIABUiMQERFZPRupE7h+/Tr0ej08PDxMunt4eODUqVO5jrNv3z4sXrwYx44dy/d8MjIykJGRYXyflpZWqLxERERKVOxXud+5cwdvvvkmFi5cCFdX13yPFxMTA2dnZ+PL29u7CFMSERGVLJL30F1dXaHRaJCUlGTSPSkpCZ6enjmGP3/+PC5evIgOHToYuxkMhqwwNjY4ffo0KleunGO80aNHIzIy0vg+LS2NRZ2IiOj/SS7odnZ2CAwMRHx8vLHpmcFgQHx8PIYOHZpj+OrVq+Pvv/826TZmzBjcuXMHs2bNyrNIa7VaaLVaqXGJiIgUSXJBB4DIyEhERESgQYMGCAoKwsyZM3Hv3j3069cPANCnTx9UqFABMTEx0Ol0qFWrlsn4Li4uAJCjOxEREeWPWQp6jx49kJKSgrFjxyIxMRF169bFli1bjBfKXb58GWo1b0pHRERUVFRCCGHpEIWRlpYGZ2dnpKamwsnJydJxiIiIJJFa17jbTEREpAAs6ERERArAgk5ERKQALOhEREQKwIJORESkACzoRERECsCCTkREpAAs6ERERArAgk5ERKQALOhEREQKwIJORESkACzoRERECsCCTkREpAAs6ERERArAgk5ERKQALOhEREQKwIJORESkACzoRERECsCCTkREpAAs6ERERArAgk5ERKQALOhEREQKwIJORESkACzoRERECsCCTkREpAAs6ERERArAgk5ERKQALOhEREQKwIJORESkACzoRERECsCCTkREpAAs6ERERArAgk5ERKQALOhEREQKwIJORESkACzoRERECsCCTkREpAAs6ERERArAgk5ERKQALOhEREQKwIJORESkACzoRERECsCCTkREpAAs6ERERArAgk5ERKQALOhEREQKwIJORESkACzoRERECsCCTkREpAAs6ERERArAgk5ERKQALOhEREQKwIJORESkACzoRERECmC2gj5nzhz4+vpCp9MhODgYBw8ezHPYhQsXolmzZihTpgzKlCmDsLCwZw5PREREz2aWgr5q1SpERkZi3LhxOHr0KOrUqYPw8HAkJyfnOvzu3bvRs2dP7Nq1CwcOHIC3tzdeeuklXL161RxxiIiIrI5KCCGkTiQ4OBgNGzbE7NmzAQAGgwHe3t547733EBUV9dzx9Xo9ypQpg9mzZ6NPnz75mmdaWhqcnZ2RmpoKJycnSfmJiIgsTWpdk7yHnpmZiSNHjiAsLOzxRNVqhIWF4cCBA/maRnp6Oh4+fIiyZcvmOUxGRgbS0tJMXkRERJRFckG/fv069Ho9PDw8TLp7eHggMTExX9MYNWoUypcvb7JR8LSYmBg4OzsbX97e3pJyExERKYnFr3KfNGkSvv/+e6xZswY6nS7P4UaPHo3U1FTj68qVK8WYkoiISN5spE7A1dUVGo0GSUlJJt2TkpLg6en5zHGnTp2KSZMmYceOHXjxxRefOaxWq4VWq5Ual4iISJEk76Hb2dkhMDAQ8fHxxm4GgwHx8fEICQnJc7wpU6bg888/x5YtW9CgQQOpMYiIiKya5D10AIiMjERERAQaNGiAoKAgzJw5E/fu3UO/fv0AAH369EGFChUQExMDAJg8eTLGjh2LlStXwtfX13iu3dHREY6OjuaIREREZFXMUtB79OiBlJQUjB07FomJiahbty62bNlivFDu8uXLUKsfHwyYO3cuMjMz0bVrV5PpjBs3DuPHjzdHJCIiIqtilnbolsB26EREpCQWb4dORERElseCTkREpAAs6ERERArAgk5ERKQALOhEREQKwIJORESkAGZph17iGfTApV+Bu0mAowfg0xhQayydioiIKN9Y0E+sB7aMAtL+e9zNqTzQdjIQ8KrlchERERWAdR9yP7Ee+KGPaTEHgLRrWd1PrLdMLiIiogKy3oJu0GftmSO3G+X9f7ctUVnDERERyZz1FvRLv+bcMzchgLSrWcMRERHJnPUW9LtJzx+mIMMRERFZkPUWdEcP8w5HRERkQdZb0H0aZ13NDlXewzhVyBqOiIhI5qy3oKs1WU3TAORZ1Et7AsJQbJGIiIgKy3oLOpDVzrz7MsDJy7S7QzlAbQNcPQKs7gfoH1omHxERUT6phBC5tduSPakPgjeR253izu8Cvu8J6DOBgE5Al8WAhvfhISKioiG1rrFCAVmH3/2amXbzDwN6rABW9QJOrAVUauC1hSzqREQkS9Z9yP15qr4EdF8OqG2Bf34G1g7kjWaIiEiWWNCfp1pboPs3WefU//4RWDuIRZ2IiGSHBT0/qr8MdFuaVdT/WgWsG8qiTkREssKCnl81OgBdlwAqDfDnSmD9MMDAJm1ERCQPLOgFEdAR6LIoq6gf+xbYMJxFnYiIZIEFvaBqvQa8tiDrqvejy4CNkSzqRERkcSzohVG7K9BpHgAVcCQO2PQRUDKb8xMRkUKwoBdWnR5Ap7kAVMDhxcDmkSzqRERkMSzoUtTtCXScDUAFHFwAbBnNok5ERBbBgi5Vvd7Aq19l/f/3ucC2MSzqRERU7FjQzaF+H+CVmVn/PzAb2D6WRZ2IiIoVC7q5NOgHvDwt6/+/fgXER7OoExFRsWFBN6eGbwHtp2b9f98MYOcEFnUiIioWLOjmFvQ20HZy1v//NxXYHWPZPEREZBVY0ItCo4FA+MSs/++ZDOyebNk8RESkeCzoRSVkCNDm86z/754I7P3SsnmIiEjRWNCLUpNhQNj4rP/vnAD8b7pF4xARkXKxoBe1ph8ArT7N+n98NLB/lmXzEBGRIrGgF4fmHwGhn2T9f/tY4NfZls1DRESKw4JeXFqMBFpEZf1/2yfAgVjL5iEiIkVhQS9OLaOA5iOy/r91NPD7fMvmISIixWBBL04qVdah96aRWe83jwQOLrRsJiIiUgQW9OKmUgGtxwJNhme93/QRcHiJZTMREVGJx4JuCSoVEBYNhAzNer/hA+DIN5bNREREJRoLuqWoVMBLE4BGg7Pe/zIc+ONby2YiIqISiwXdklSqrFvEBg8EIIB1Q4FjKy2dioiISiAWdEtTqYC2k4CGbwMQwNrBwJ+rLJ2KiIhKGBZ0OVCpgPZfAg36I6uoDwT++tHSqYiIqASxsXQA+n8qFdB+GmDQA0e/Ada8A6jVQEAn4NKvwN0kwNED8GkMqDWWTktERDLDgi4najXwykxA6LMukFv9FmD/IXD/1uNhnMpnPW894FWLxSQiIvnhIXe5UauBDl8DPs0AGEyLOQCkXQN+6AOcWG+ReEREJE8s6LIkgFvn8+4HAFuisg7PExERgQVdni79CqT994wBBJB2FTi/q9giERGRvPEcuhzdTcrfcCu6AGV8AbcagHt1wD0AcKsOuFYFbHVFGpGIiOSFBV2OHD3yP+yti1mvM5sfd1OpgTJ+gHuNrALvXiPrVa4KYKM1d1oiIpIBsxX0OXPm4Msvv0RiYiLq1KmDr7/+GkFBQXkO/+OPP+LTTz/FxYsX4e/vj8mTJ6N9+/bmilMgeoPAwYSbSL7zAO6ldQjyKwuNWmWRLACymqY5lc+6AC77nLkJVVb/t3YCN84AyaeAlJNA8v+/HtwGbp7Pep3a8MRoGqBc5cdF3u3/9+rLVQY0toWKqn/0CKd+34r7t67CvkwFVA8Oh8ZGPtuJzCcN80kj53xyzgYwX2GohBC5VYwCWbVqFfr06YN58+YhODgYM2fOxI8//ojTp0/D3d09x/C//vormjdvjpiYGLzyyitYuXIlJk+ejKNHj6JWrVr5mmdaWhqcnZ2RmpoKJyenQmffcvwaon85gWupD4zdvJx1GNchAG1reRV6upKdWA/xQx8ICJMLHQwAVFBB1X1Z7k3XhMg6ZJ98Ekg59bjIp5wCMtJyn5faNmvv3b266eH7Mn6AJu8V9I+t36D8gWh44IaxWxLK4b+QcagXHlG4z21GzCcN80kj53xyzgZYbz6pdc0sBT04OBgNGzbE7NmzAQAGgwHe3t547733EBUVlWP4Hj164N69e9iw4fHeY6NGjVC3bl3MmzcvX/M0R0HfcvwaBn17NMc+cPa++dze9S1W1Lccv4a1K+dhrO0ylFfdNHb/T5TDZw/fRKc3BhYsmxBZF9qlnDTdo085DWTezX0cjV3W+Xi36k8U+xpAGV/8sf1b1Pl1GADgyYMZhv9fmH82/sqif3h/bP2G+SRgPmnknE/O2QDrzmfxgp6ZmQkHBwesXr0anTp1MnaPiIjA7du3sW7duhzjVKxYEZGRkXj//feN3caNG4e1a9fizz//zNd8pX5wvUGg6eSdJnvmT1IB8HDSYXtk82I//K43CIRN34OktAyoYUCQ+hTccRvJcMFBQ3UIqM2XTQio0v6FKuUU1NdPQZ1yCqqUk1DfOAvVw/TcR9Fo8Uj/CDZCD1UuszcI4KaqDHRvb4LmGXv4RUWvf4QHC9uhrLiN3BYP8zGfteaTczal5EtWlYPbmDOFOvxu8YL+33//oUKFCvj1118REhJi7D5y5Ejs2bMHv//+e45x7Ozs8M0336Bnz57GbrGxsYiOjkZSUu5XeGdkZCAjI8P4PjU1FRUrVsSVK1cK9cEPXriJ/t8cKvB41kIFA8qrrqOK6iqqqK6hsvoq/FVX4ae6Bp3qkaXjERHJ1snQxajRKLzA46WlpcHb2xu3b9+Gs7NzgceXzxUGzxETE4Po6Ogc3b29vS2QxjpcBvCbpUMQEZU0k7pLGv3OnTuWKeiurq7QaDQ59qyTkpLg6emZ6zienp4FGh4ARo8ejcjISON7g8GAmzdvoly5clDldty3gLK3jAq7x1+U5JwNYD6pmE8a5is8OWcDrC+fEAJ37txB+fLlCzW+5IJuZ2eHwMBAxMfHG8+hGwwGxMfHY+jQobmOExISgvj4eJNz6Nu3bzc5ZP80rVYLrda0DbWLi4vU+Dk4OTnJcsUB5J0NYD6pmE8a5is8OWcDrCtfYfbMs5nlkHtkZCQiIiLQoEEDBAUFYebMmbh37x769esHAOjTpw8qVKiAmJgYAMDw4cPRokULTJs2DS+//DK+//57HD58GAsWLDBHHCIiIqtjloLeo0cPpKSkYOzYsUhMTETdunWxZcsWeHhk3fHs8uXLUKsft6Zu3LgxVq5ciTFjxuDjjz+Gv78/1q5dm+826ERERGTKbBfFDR06NM9D7Lt3787RrVu3bujWrZu5Zi+ZVqvFuHHjchzWlwM5ZwOYTyrmk4b5Ck/O2QDmKyiz3FiGiIiILIuPTyUiIlIAFnQiIiIFYEEnIiJSABZ0IiIiBWBBJyIiUoAScy/3opCWlvvzwVUqFbRaLezs7Io5kSk555NzNoD5pGI+aeScT87ZAOaTRFgxlUol1Gp1nq+KFSuKsWPHCr1ez3wlKBvzMR/zlcxszCeNVe+hL126FJ988gn69u2LoKAgAMDBgwfxzTffYMyYMUhJScHUqVOh1Wrx8ccfM18JycZ8zMd8JTMb80lU7JsQMtKqVSuxatWqHN1XrVolWrVqJYQQYtmyZaJatWrFHU0IIe98cs4mBPNJxXzSyDmfnLMJwXxSWHVB1+l04syZMzm6nzlzRtjb2wshhLhw4YLx/8VNzvnknE0I5pOK+aSRcz45ZxOC+aSw6qvcvb29sXjx4hzdFy9eDG9vbwDAjRs3UKZMmeKOBkDe+eScDWA+qZhPGjnnk3M2gPmksOpz6FOnTkW3bt2wefNmNGzYEABw+PBhnDp1CqtXrwYAHDp0CD169GC+EpSN+ZiP+UpmNuaTxuofzpKQkID58+fjzJkzAIBq1arh3Xffha+vr2WD/T8555NzNoD5pGI+aeScT87ZAOYrLKsv6EREREpg1YfcAeDWrVtYvHgxTp48CQAICAhAv379ULZsWQsnyyLnfHLOBjCfVMwnjZzzyTkbwHyFZdV76Hv37kWHDh3g7OyMBg0aAACOHDmC27dv45dffkHz5s2ZrwRmYz7mY76SmY35JCr26+plpFatWuLtt98Wjx49MnZ79OiReOedd0StWrUsmCyLnPPJOZsQzCcV80kj53xyziYE80lh1QVdp9OJU6dO5eh+6tQpodPpLJDIlJzzyTmbEMwnFfNJI+d8cs4mBPNJYdXt0OvXr288B/KkkydPok6dOhZIZErO+eScDWA+qZhPGjnnk3M2gPmksLqL4v766y/j/4cNG4bhw4fj3LlzaNSoEQDgt99+w5w5czBp0iTmK0HZmI/5mK9kZmM+87G6i+LUajVUKhWe97FVKhX0en0xpXpMzvnknA1gPqmYTxo555NzNoD5zMXq9tATEhIsHeGZ5JxPztkA5pOK+aSRcz45ZwOYz1ysbg+diIhIiaxuD/1J69evz7W7SqWCTqdDlSpV4OfnV8ypHpNzPjlnA5hPKuaTRs755JwNYD5JLHBlvWyoVCqhVquFSqUyeWV3U6vVonnz5uLmzZvMV4KyMR/zMV/JzMZ80lh1s7Xt27ejYcOG2L59O1JTU5Gamort27cjODgYGzZswN69e3Hjxg189NFHzFeCsjEf8zFfyczGfBIV+yaEjNSsWVPs378/R/d9+/aJgIAAIYQQ27dvF97e3sUdTQgh73xyziYE80nFfNLIOZ+cswnBfFJY9R76+fPn4eTklKO7k5MTLly4AADw9/fH9evXizsaAHnnk3M2gPmkYj5p5JxPztkA5pPCqgt6YGAgRowYgZSUFGO3lJQUjBw50vjg+rNnz8Lb25v5SlA25mM+5iuZ2ZhPomI/JiAjJ0+eFNWqVRN2dnaicuXKonLlysLOzk5Ur15dnD59WgghxJo1a8SyZcuYrwRlYz7mY76SmY35pLH6dugGgwHbtm3DmTNnAADVqlVDmzZtoFbL4+CFnPPJORvAfFIxnzRyzifnbADzFVqxb0JYWJkyZURKSooQQoh+/fqJtLQ0CycyJed8cs4mBPNJxXzSyDmfnLMJwXzmIo/NnWKUmZmJtLQ0AMA333yDBw8eWDiRKTnnk3M2gPmkYj5p5JxPztkA5jMXq7tTXEhICDp16oTAwEAIITBs2DDY29vnOuySJUuKOZ2888k5G8B8UjGfNHLOJ+dsAPOZi9UV9G+//RYzZszA+fPnoVKpkJqaKqutLTnnk3M2gPmkYj5p5JxPztkA5jMXq74ozs/PD4cPH0a5cuUsHSVXcs4n52wA80nFfNLIOZ+cswHMJ4XVnUN/UkJCQr6+lNq1a+PKlSvFkMiUnPPJORvAfFIxnzRyzifnbADzSWHVBT2/Ll68iIcPH1o6Rp7knE/O2QDmk4r5pJFzPjlnA5gvNyzoRERECsCCTkREpAAs6ERERArAgk5ERKQALOhEREQKwIKeD/Pnz4eHh4elY+RJzvnknA1gPqmYTxo555NzNoD5cmO1N5a5fv06lixZggMHDiAxMREA4OnpicaNG6Nv375wc3OzcMLH7t27hx9++AHnzp2Dl5cXevbsadGbGnDZScPlJw2XX+Fx2Ukj9+VnlQX90KFDCA8Ph4ODA8LCwoxbUUlJSYiPj0d6ejq2bt2KBg0aWCRfQEAA9u3bh7Jly+LKlSto3rw5bt26hapVq+L8+fOwsbHBb7/9Bj8/v2LPxmUnDZefNFx+hcdlJ43clx8A63t8qhBCBAcHi3feeUcYDIYc/QwGg3jnnXdEo0aNLJAsi0qlEklJSUIIIXr16iUaN24sbt++LYQQ4s6dOyIsLEz07NnTItm47KTh8pOGy6/wuOykkfvyE0IIqyzoOp1OnDx5Ms/+J0+eFDqdrhgTmXpyxa5UqZLYtm2bSf/9+/cLb29vS0TjspOIy08aLr/C47KTRu7LTwgrfB46kHXO4+DBg3n2P3jwoMUvtlCpVACABw8ewMvLy6RfhQoVkJKSYolYXHYScflJw+VXeFx20pSE5Wd1j08FgI8++gjvvPMOjhw5gtatW+c4F7Jw4UJMnTrVohlbt24NGxsbpKWl4fTp06hVq5ax36VLlyx2cQiXnTRcftJw+RUel500JWH5WWVBHzJkCFxdXTFjxgzExsZCr9cDADQaDQIDA7F06VJ0797dYvnGjRtn8t7R0dHk/S+//IJmzZoVZyQjLjtpuPyk4fIrPC47aeS+/AArvcr9SQ8fPsT169cBAK6urrC1tbVwopKDy04aLj9puPwKj8tOGrkuP6sv6CRNRkYGAECr1Vo4CVkjrn9kKXJc96zyorjk5GST98eOHUNERASaNGmCrl27Yvfu3ZYJ9v9q166Nzz//HFeuXLFojrxs374d7du3R5kyZeDg4AAHBweUKVMG7du3x44dOywdD3/++ScmTJiA2NhY41Z0trS0NPTv399CybjumQPXv8Lhuied3Nc9q2y2plarjc0j9u/fL2xtbUWLFi3EiBEjRJs2bYSNjY3Ys2ePxfKpVCpRrlw5odFoRHh4uFi9erV4+PChxfI8aenSpcLGxka8/vrrIi4uTmzatEls2rRJxMXFiZ49ewpbW1uxbNkyi+XbunWrsLOzEzVr1hQVK1YU5cqVEzt37jT2T0xMFGq12mL5uO5Jw/Wv8LjuSSP3dU8IK22H/mR7xzZt2oj+/fub9B8+fLho1aqVJaIJIbLyXb16VaxZs0Z06NBB2NjYCDc3N/Hhhx+KEydOWCyXEEL4+/uL2bNn59l/zpw5okqVKsWYyFRISIj4+OOPhRBZN3uYPHmycHR0FJs3bxZCWL6gc92Thutf4XHdk0bu654QLOjCy8tLHDhwwKT/8ePHhaurqyWiCSFM8wkhxH///ScmTpwo/P39hVqtFiEhIWLx4sUWyabVasWpU6fy7H/q1CmL3lzByclJnDt3zqTbihUrRKlSpcQvv/wiq4LOda/guP4VHtc9aeS+7glhpTeWAYA7d+4gLS0NOp0ux0UNOp0O6enpFkr2+OYK2by8vDB69GicOXMG8fHxqFy5MoYNG2aRbDVr1sTixYvz7L9kyRIEBAQUYyJTWq0Wt2/fNun2xhtvYNGiRejRowfWrFljmWBP4LpXeFz/pOG6V3hyX/cAK22HDgBVq1YFAAghcPjwYdSrV8/Y759//kH58uUtFQ3iGQ0PWrZsiZYtWyItLa0YEz02bdo0vPLKK9iyZUuuDyi4cOECNm7caJFsAFC3bl3s2rULgYGBJt1ff/11CCEQERFhoWSPcd0rPK5/0nDdKzy5r3uAlRb0Xbt2mbx/+haDCQkJeOedd4ozkomIiAjY29s/cxgnJ6diSmOqZcuWOH78OObOnYvffvvN5BGC7dq1w8CBA+Hr62uRbAAwaNAg7N27N9d+PXv2hBACCxcuLOZUj3Hdk4brX+Fx3ZNG7usewHboREREimC159DJvJKSknD58mVLx8gT80kj93zR0dE52nzLiZzzyTkbIP98Dx8+tHSExyxzLZ7lzZkzR7Ru3Vp069ZN7Nixw6RfSkqK8PPzs1CyLHLNl5aWJnr16iUqVqwo+vTpIzIyMsTgwYOFSqUSarVaNG/eXKSmplokG/MpP19qamqO1+3bt4Wtra34/fffjd2Yr2RlKwn5Vq1aJTIyMozvv/76a1GxYkWhVqtFuXLlRHR0tMWyZbPKgj5r1izh4OAghgwZInr37i3s7OzExIkTjf0t3bRJzvmGDh0qqlevLr766ivRsmVL0bFjR1GrVi2xb98+sWfPHhEQEGBsh8t8zGduarU611f2Bkf2v8xXsrKVlHzZzeqWLFkidDqdGDt2rNi4caOYMGGCKFWqlFi4cKHF8glhpQU9ICBArFixwvh+//79ws3NTXz66adCCMsXdDnn8/b2Nt756urVq0KlUolffvnF2H/Dhg2iWrVqFskmBPNJJfd8FSpUEC+//LLYuXOn2L17t9i9e7fYtWuX0Gg0Ii4uztiN+UpWtpKQ78l28kFBQWLKlCkm/WNjY0W9evUsEc3IKgu6vb29SEhIMOn2999/Cw8PDxEVFWXxgi7nfFqtVly+fNn43sHBQZw+fdr4/uLFi8LBwcES0YQQzCeV3PPduHFDdOrUSYSGhop///3X2N3Gxkb8888/FsuVTc755JxNCPnnU6lUIjk5WQghhKurqzh27JhJ/3PnzonSpUtbIpqRVV4U5+rqmuMBALVq1cLOnTsRFxeHkSNHWihZFjnnK1euHFJSUozvO3bsCBcXF+P7u3fvWvTpQ8wnjdzzlS1bFmvWrEG3bt0QFBSE7777zmJZciPnfHLOBsg/HwBs2bIF69evz/UmPA8ePMhxc5xiZ9HNCQvp2bOneP/993Ptd/z4ceHm5mbRPXQ552vbtq2YN29env3j4uJE48aNizGRKeaTRu75nvTPP/+IOnXqiJ49e8pmL+5Jcs4n52xCyDOfSqUyeU2YMMGk/6JFiyx+yN0qbywTFRWFI0eO5NqvZs2a2LlzJ3766adiTvWYnPOtWLECanXeB3Y8PDzwxRdfFGMiU8wnjdzzPSkgIAAHDx5EVFQUatWq9dybkhQ3OeeTczZAnvkMBsMz+3t4eCAmJqaY0uTBopsTFhIdHS3u3btn6Rh5knM+OWcTgvmkYj5p5JxPztmEYD5zsMo7xWk0Gly7dg3u7u6WjpIrOeeTczaA+aRiPmnknE/O2QDmMwervChO7tswcs4n52wA80nFfNLIOZ+cswHMZw5WWdCBnI/qkxs555NzNoD5pGI+aeScT87ZAOaTyioPuavVajg7Oz/3y7l582YxJTIl53xyzgYwn1TMJ42c88k5G8B85mCVV7kDWTf8d3Z2tnSMPMk5n5yzAcwnFfNJI+d8cs4GMJ9UVruHnpiYKNuLG+ScT87ZAOaTivmkkXM+OWcDmM8crPIcuuzPg8g4n5yzAcwnFfNJI+d8cs4GMJ85WGVBL+hBiX///fe5NxUwJznnk3M2gPmkYj5p5JxPztkA5jMHqzzkXlBOTk44duwYKlWqZOkouZJzPjlnA5hPKuaTRs755JwNYL7cWOUeekHJfZtHzvnknA1gPqmYTxo555NzNoD5csOCTkREpAAs6ERERArAgk5ERKQALOj5IPfmCnLOJ+dsAPNJxXzSyDmfnLMBzJcbFvR84MUXhSfnbADzScV80sg5n5yzAcyXGzZby4crV66gfPny0Gg0lo6SKznnk3M2gPmkYj5p5JxPztkA5suN1e6hL1q0CBEREYiLiwMArFq1CjVq1EClSpUwbtw4k2G9vb2LfaWRcz45Z2M+5mO+kpmN+cxAWKEZM2aIUqVKiddee014eXmJCRMmiHLlyokJEyaI6Oho4eTkJObPn898JSwb8zEf85XMbMxnHlZZ0KtXry5WrFghhBDi6NGjwsbGRixatMjYf9GiRSIwMNBS8WSdT87ZhGA+qZhPGjnnk3M2IZjPHKyyoNvb24tLly4Z32u1WnH8+HHj+7NnzwoXFxdLRBNCyDufnLMJwXxSMZ80cs4n52xCMJ85WOU5dAcHB9y7d8/43s3NDY6OjibDPHr0qLhjGck5n5yzAcwnFfNJI+d8cs4GMJ85WGVBr169Ov766y/j+ytXrsDHx8f4/tSpU/D19bVAsixyzifnbADzScV80sg5n5yzAcxnDjYWnbuFTJ48GaVKlcqz/+XLl/Huu+8WYyJTcs4n52wA80nFfNLIOZ+cswHMZw5sh05ERKQAVnnInYiISGmstqDHxsYiLCwM3bt3R3x8vEm/69evF+tD6XMj53xyzgYwn1TMJ42c88k5G8B8UlllQf/qq68wYsQIVK9eHVqtFu3bt0dMTIyxv16vx6VLl5ivhGVjPuZjvpKZjfnMxKKN5iwkICDAeIMAIYTYv3+/cHNzE59++qkQQojExEShVqstFU/W+eScTQjmk4r5pJFzPjlnE4L5zMEqC7q9vb1ISEgw6fb3338LDw8PERUVZfEvRs755JxNCOaTivmkkXM+OWcTgvnMwSqbrbm6uuLKlSsmbQZr1aqFnTt3olWrVvjvv/8sFw7yzifnbADzScV80sg5n5yzAcxnFhbdnLCQnj17ivfffz/XfsePHxdubm4W3dKScz45ZxOC+aRiPmnknE/O2YRgPnOwyj30qKgoHDlyJNd+NWvWxM6dO/HTTz8Vc6rH5JxPztkA5pOK+aSRcz45ZwOYzxx4YxkiIiIFsMo99GwHDx7EgQMHkJiYCADw9PRESEgIgoKCLJwsi5zzyTkbwHxSMZ80cs4n52wA80li0QP+FpKUlCSaNGkiVCqV8PHxEUFBQSIoKEj4+PgIlUolmjZtKpKSkpivhGVjPuZjvpKZjfnMwyoLepcuXURISIg4depUjn6nTp0SjRs3Fl27drVAsixyzifnbEIwn1TMJ42c88k5mxDMZw5WWdAdHR3F0aNH8+x/+PBh4ejoWIyJTMk5n5yzCcF8UjGfNHLOJ+dsQjCfOVjlrV+1Wi3S0tLy7H/nzh1otdpiTGRKzvnknA1gPqmYTxo555NzNoD5zMKimxMWMnjwYOHj4yN+/vlnkZqaauyempoqfv75Z+Hr6yuGDh3KfCUsG/MxH/OVzGzMZx5WWdAfPHggBg4cKOzs7IRarRY6nU7odDqhVquFnZ2dGDRokHjw4AHzlbBszMd8zFcyszGfeVh1O/S0tDQcOXLEpPlBYGAgnJycLJwsi5zzyTkbwHxSMZ80cs4n52wA80lh1QWdiIhIKazyojgAuH//Pvbt24cTJ07k6PfgwQMsW7bMAqkek3M+OWcDmE8q5pNGzvnknA1gPsksesDfQk6fPm28GYBarRbNmzcXV69eNfa39GPw5JxPztmYj/mYr2RmYz7zsMo99FGjRqFWrVpITk7G6dOnUbp0aTRt2hSXL1+2dDQA8s4n52wA80nFfNLIOZ+cswHMZxYW3ZywEHd3d/HXX38Z3xsMBjFw4EBRsWJFcf78eYtvack5n5yzMR/zMV/JzMZ85mGVe+j379+Hjc3j59KoVCrMnTsXHTp0QIsWLXDmzBkLppN3PjlnA5hPKuaTRs755JwNYD5zsMqnrVWvXh2HDx9GjRo1TLrPnj0bAPDqq69aIpaRnPPJORvAfFIxnzRyzifnbADzmYVFjw9YyMSJE0W7du3y7D9o0CChUqmKMZEpOeeTczYhmE8q5pNGzvnknE0I5jMHtkMnIiJSAKs8h05ERKQ0LOhEREQKwIJORESkACzoRERECsCCTkREpAAs6ERERArAgk5ERKQALOhEREQKwIJORESkACzoRERECsCCTkREpAAs6ERERArAgk5ERKQA/wf/KqiC9sl9rwAAAABJRU5ErkJggg==' width=500.0/>\n",
       "            </div>\n",
       "        "
      ],
      "text/plain": [
       "Canvas(toolbar=Toolbar(toolitems=[('Home', 'Reset original view', 'home', 'home'), ('Back', 'Back to previous …"
      ]
     },
     "metadata": {},
     "output_type": "display_data"
    }
   ],
   "source": [
    "import scipy\n",
    "import pandas as pd\n",
    "from IPython.display import display\n",
    "\n",
    "seg_to_compare = gen_seg_types\n",
    "\n",
    "int_format = [\"num_FN\", \"num_FP\", \"FP_area\"]\n",
    "float_format = [\"percent_FN\",\"percent_FP\"]\n",
    "\n",
    "all_classes = {'foreground':[1,2], \n",
    "#                'penumbra':[1], \n",
    "#                'umbra':[2]\n",
    "              }\n",
    "bins_stats = compare_generators_stats(seg_to_compare, score_per_segmenter[\"generators\"], FP_per_segmenter[\"generators\"], metric=\"DICE\", all_classes=all_classes)\n",
    "\n",
    "all_classes = {\n",
    "    'foreground':[1,2], \n",
    "#     'penumbra':[1],\n",
    "#     'umbra':[2]\n",
    "              }\n",
    "for c_name, c_ids in (pbar :=tqdm(all_classes.items(), leave=False)):\n",
    "    print(c_name,c_ids)\n",
    "    for i in range(len(bins)):\n",
    "        df = pd.DataFrame.from_dict(bins_stats[c_name][i])#.astype(float)\n",
    "        \n",
    "        #F1 \n",
    "        F1 = df.transpose()[\"F1\"].to_numpy()\n",
    "    \n",
    "        # Roc curves\n",
    "        FN_rate = df.transpose()[\"percent_FN\"].to_numpy()\n",
    "        print(FN_rate)\n",
    "        FP_rate = df.transpose()[\"percent_FP\"].to_numpy()\n",
    "        \n",
    "        #plot FP and FN rates along their index in a single plot, add a legend, set ticks vertically\n",
    "        fig, ax = plt.subplots(nrows=1, ncols=1, figsize=(5, 5))\n",
    "        ax.set_title(f\"Bin of sunspots of size  {bins[i]} -> {len(binned_gt[i])} in GroudTruth\")\n",
    "        ax.plot( seg_to_compare, FN_rate*0.01, marker='o')\n",
    "        ax.plot( seg_to_compare, FP_rate*0.01, marker='o')\n",
    "        ax.plot( seg_to_compare, F1, marker='o')\n",
    "        ax.legend(['FN_rate', 'FP_rate', 'F1 score'])\n",
    "        ax.set_ylim([0,1])\n",
    "        # set x_label vertically\n",
    "        for tick in ax.get_xticklabels():\n",
    "            tick.set_rotation(90)\n",
    "        fig.tight_layout()\n",
    "        \n",
    "        for row in df.index:\n",
    "            if row in float_format:\n",
    "                df.loc[row] = df.loc[row].map('{:,.2f}'.format)\n",
    "            elif row in int_format:\n",
    "                df.loc[row] = df.loc[row].map('{:,.0f}'.format)\n",
    "\n",
    "        styler = df.transpose().style\n",
    "        styles = [dict(selector=\"caption\", props=[(\"text-align\", \"center\"),\n",
    "                                              (\"font-size\", \"120%\"),\n",
    "                                              (\"font-weight\", \"bold\")])]\n",
    "        styler.set_caption(f\"Bin of sunspots of size  {bins[i]} -> {len(binned_gt[i])} in GroudTruth\").set_table_styles(styles)\n",
    "        styler.set_properties(**{'text-align': 'center'})\n",
    "        display(styler)\n",
    "    #     display(df.transpose())\n",
    "    \n",
    "\n",
    "    "
   ]
  },
  {
   "cell_type": "code",
   "execution_count": 52,
   "metadata": {
    "scrolled": false
   },
   "outputs": [
    {
     "name": "stdout",
     "output_type": "stream",
     "text": [
      "['2023_T250_fgbg', '2023_T275_fgbg', '2023_T300_fgbg', '2023_T325_fgbg', '2023_T350_fgbg', '2023_T375_fgbg', '2023_T400_fgbg', '2023_T425_fgbg', '2023_T450_fgbg', '2023_T475_fgbg', '2023_T500_fgbg']\n"
     ]
    },
    {
     "data": {
      "application/vnd.jupyter.widget-view+json": {
       "model_id": "",
       "version_major": 2,
       "version_minor": 0
      },
      "text/plain": [
       "  0%|          | 0/1 [00:00<?, ?it/s]"
      ]
     },
     "metadata": {},
     "output_type": "display_data"
    },
    {
     "data": {
      "application/vnd.jupyter.widget-view+json": {
       "model_id": "",
       "version_major": 2,
       "version_minor": 0
      },
      "text/plain": [
       "  0%|          | 0/1 [00:00<?, ?it/s]"
      ]
     },
     "metadata": {},
     "output_type": "display_data"
    },
    {
     "data": {
      "application/vnd.jupyter.widget-view+json": {
       "model_id": "",
       "version_major": 2,
       "version_minor": 0
      },
      "text/plain": [
       "  0%|          | 0/1 [00:00<?, ?it/s]"
      ]
     },
     "metadata": {},
     "output_type": "display_data"
    },
    {
     "name": "stderr",
     "output_type": "stream",
     "text": [
      "/scratch/nsayez/48019985/ipykernel_1499137/1518082902.py:155: FutureWarning: Series.__getitem__ treating keys as positions is deprecated. In a future version, integer keys will always be treated as labels (consistent with DataFrame behavior). To access a value by position, use `ser.iloc[pos]`\n",
      "  ax[a,b].axhline(y=(df4.iloc[0])[0], color='g', linestyle='--')\n",
      "/scratch/nsayez/48019985/ipykernel_1499137/1518082902.py:155: FutureWarning: Series.__getitem__ treating keys as positions is deprecated. In a future version, integer keys will always be treated as labels (consistent with DataFrame behavior). To access a value by position, use `ser.iloc[pos]`\n",
      "  ax[a,b].axhline(y=(df4.iloc[0])[0], color='g', linestyle='--')\n",
      "/scratch/nsayez/48019985/ipykernel_1499137/1518082902.py:155: FutureWarning: Series.__getitem__ treating keys as positions is deprecated. In a future version, integer keys will always be treated as labels (consistent with DataFrame behavior). To access a value by position, use `ser.iloc[pos]`\n",
      "  ax[a,b].axhline(y=(df4.iloc[0])[0], color='g', linestyle='--')\n",
      "/scratch/nsayez/48019985/ipykernel_1499137/1518082902.py:155: FutureWarning: Series.__getitem__ treating keys as positions is deprecated. In a future version, integer keys will always be treated as labels (consistent with DataFrame behavior). To access a value by position, use `ser.iloc[pos]`\n",
      "  ax[a,b].axhline(y=(df4.iloc[0])[0], color='g', linestyle='--')\n",
      "/scratch/nsayez/48019985/ipykernel_1499137/1518082902.py:155: FutureWarning: Series.__getitem__ treating keys as positions is deprecated. In a future version, integer keys will always be treated as labels (consistent with DataFrame behavior). To access a value by position, use `ser.iloc[pos]`\n",
      "  ax[a,b].axhline(y=(df4.iloc[0])[0], color='g', linestyle='--')\n"
     ]
    },
    {
     "data": {
      "application/vnd.jupyter.widget-view+json": {
       "model_id": "84a071ab559e43beb585689919c986a9",
       "version_major": 2,
       "version_minor": 0
      },
      "image/png": "[encoded data removed]",
      "text/html": [
       "\n",
       "            <div style=\"display: inline-block;\">\n",
       "                <div class=\"jupyter-widgets widget-label\" style=\"text-align: center;\">\n",
       "                    Figure\n",
       "                </div>\n",
       "                <img src='data:image/png;base64,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' width=1200.0/>\n",
       "            </div>\n",
       "        "
      ],
      "text/plain": [
       "Canvas(toolbar=Toolbar(toolitems=[('Home', 'Reset original view', 'home', 'home'), ('Back', 'Back to previous …"
      ]
     },
     "metadata": {},
     "output_type": "display_data"
    }
   ],
   "source": [
    "##### import scipy\n",
    "import pandas as pd\n",
    "import seaborn as sns\n",
    "\n",
    "gen_to_compare = [k for k,v in score_per_segmenter['generators'].items()]#[2:]\n",
    "print(gen_to_compare)\n",
    "bins_stats_gen = compare_generators_stats(gen_to_compare, score_per_segmenter[\"generators\"], FP_per_segmenter[\"generators\"], metric=\"DICE\", all_classes=all_classes)\n",
    "names_gen = []\n",
    "th_vals_gen = []\n",
    "num_th_gen = []\n",
    "for seg in score_per_segmenter[\"generators\"].keys():\n",
    "    reg_finder = re.search('2023_(.*)_fgbg', seg)\n",
    "    names_gen.append(f'{reg_finder.group(1).split(\"_\")}')\n",
    "    \n",
    "    reg_finder2 = re.findall('T([0-9]+)', reg_finder.group(1))\n",
    "    th_vals_gen.append([int(x) for x in reg_finder2])\n",
    "    num_th_gen.append(len(reg_finder2))\n",
    "\n",
    "####################################\n",
    "seg_to_compare = [k for k,v in score_per_segmenter['predictors'].items()]\n",
    "show_names = []\n",
    "th_vals = []\n",
    "run_numbers = []\n",
    "num_ttas = []\n",
    "for seg in seg_to_compare:\n",
    "    reg_finder = re.search('CNN-UNet_(.*)_run(.+)_(.)TTA', seg)\n",
    "    show_names.append(f'CNN-{reg_finder.group(1).split(\"_\")}')\n",
    "    run_numbers.append(reg_finder.group(2))\n",
    "    num_ttas.append(reg_finder.group(3))\n",
    "    \n",
    "    reg_finder2 = re.findall('T([0-9]+)', reg_finder.group(1))\n",
    "    th_vals.append([int(x) for x in reg_finder2])\n",
    "\n",
    "num_TH = [len(n.split(',')) for n in show_names]\n",
    "# print(run_numbers)\n",
    "# print(num_TH)\n",
    "# print(show_names)\n",
    "# print(num_ttas)\n",
    "####################################\n",
    "\n",
    "# seg_to_compare_TTA = [k for k,v in score_per_segmenter['predictors_TTA'].items()]\n",
    "# show_names_TTA = []\n",
    "# th_vals_TTA = []\n",
    "# run_numbers_TTA = []\n",
    "# num_ttas_TTA = []\n",
    "# confidence_TTA = []\n",
    "# for seg in seg_to_compare_TTA:\n",
    "#     reg_finder = re.search('CNN-UNet_(.*)_run(.+)_(.)TTA_conf(.*)', seg)\n",
    "#     show_names_TTA.append(f'CNN-{reg_finder.group(1).split(\"_\")}_conf{reg_finder.group(4)}')\n",
    "#     run_numbers_TTA.append(reg_finder.group(2))\n",
    "#     num_ttas_TTA.append(reg_finder.group(3))\n",
    "#     confidences_pred_TTA.append(float(reg_finder.group(4)) )\n",
    "    \n",
    "#     reg_finder2 = re.findall('T([0-9]+)', reg_finder.group(1))\n",
    "#     th_vals_TTA.append([int(x) for x in reg_finder2])\n",
    "\n",
    "# num_TH_TTA = [len(n.split(',')) for n in show_names_TTA]\n",
    "# # print(run_numbers_TTA)\n",
    "# # print(num_TH_TTA)\n",
    "# # print(show_names_TTA)\n",
    "####################################@\n",
    "index_lists = [[index for (index, item) in enumerate(num_TH) if item == i] for i in [1,2,3]]\n",
    "\n",
    "int_format = [\"num_FN\", \"num_FP\", \"FP_area\"]\n",
    "float_format = [\"percent_FN\",\"percent_FP\"]\n",
    "\n",
    "all_classes = {\n",
    "    'foreground':[1,2], \n",
    "#     'penumbra':[1],\n",
    "#     'umbra':[2]\n",
    "              }\n",
    "\n",
    "bins_stats_pred = compare_generators_stats(seg_to_compare, score_per_segmenter[\"predictors\"], FP_per_segmenter[\"predictors\"], metric=\"DICE\",all_classes=all_classes)\n",
    "# bins_stats_pred_TTA = compare_generators_stats(seg_to_compare_TTA, score_per_segmenter[\"predictors_TTA\"], FP_per_segmenter[\"predictors_TTA\"], metric=\"DICE\",all_classes=all_classes)\n",
    "\n",
    "sns.set_style(style='whitegrid')\n",
    "nrows = 2\n",
    "# nrows = 3\n",
    "ncols = 3\n",
    "fig, ax = plt.subplots(nrows=nrows, ncols=ncols, figsize=(4*ncols, 3*nrows))\n",
    "\n",
    "for c_name, c_ids in (pbar :=tqdm(all_classes.items(), leave=False)):\n",
    "#     print(c_name,c_ids)\n",
    "    # for i in range(len(bins)-1):\n",
    "    for i in range(len(bins)):\n",
    "        a,b = i//ncols, i%ncols\n",
    "        \n",
    "        df = pd.DataFrame.from_dict(bins_stats_pred[c_name][i])#.astype(float)\n",
    "        df2 = df.transpose()\n",
    "\n",
    "        df2['run_name'] = show_names\n",
    "        df2['run_number'] = run_numbers\n",
    "        df2['num_th'] = num_TH\n",
    "        df2['num_tta'] = num_ttas\n",
    "        df2['th0_val'] = [int(np.median(t)) for t in th_vals]\n",
    "\n",
    "        \n",
    "        for f in int_format:\n",
    "            df2[f]=df2[f].astype(int)\n",
    "        for f in float_format:\n",
    "            df2[f]=df2[f].astype(float)\n",
    "        for f in ['F1','th0_val','num_tta','num_th','run_number']:\n",
    "            df2[f] = pd.to_numeric(df2[f])\n",
    "        df2.index = range(len(th_vals))\n",
    "        df2[\"percent_FN\"] = 0.01*df2[\"percent_FN\"]\n",
    "        df2[\"percent_FP\"] = 0.01*df2[\"percent_FP\"]\n",
    "        \n",
    "        #F1 \n",
    "        F1 = df.transpose()[\"F1\"].to_numpy()\n",
    "    \n",
    "        # Roc curves\n",
    "        FN_rate = df.transpose()[\"percent_FN\"].to_numpy()\n",
    "        FP_rate = df.transpose()[\"percent_FP\"].to_numpy()\n",
    "    \n",
    "        # show the F1 scores of single-thresholds\n",
    "        df3 = df2.loc[df2['num_th'] == 1]\n",
    "\n",
    "\n",
    "        ########## Compare Thresholding with CNN-1threshold\n",
    "        df_gen = pd.DataFrame.from_dict(bins_stats_gen[c_name][i]) \n",
    "        df_gen = df_gen.transpose() \n",
    "        df_gen['name'] = names_gen\n",
    "        df_gen['th0_val'] = [np.median(t) for t in th_vals_gen]\n",
    "        \n",
    "        for f in int_format:\n",
    "            df_gen[f]=df_gen[f].astype(int)\n",
    "        for f in float_format:\n",
    "            df_gen[f]=df_gen[f].astype(float)\n",
    "            \n",
    "        g = sns.lineplot(\n",
    "            data=df_gen,\n",
    "            x=\"th0_val\", y=\"F1\",\n",
    "            ax=ax[a,b],\n",
    "            color='orange',\n",
    "            label='Thresholding'\n",
    "        )\n",
    "        g.set_ylim([0,1.1])\n",
    "        \n",
    "        g = sns.lineplot(\n",
    "                    data=df3,\n",
    "                    x=\"th0_val\", y=\"F1\",\n",
    "#                     ci=None,\n",
    "                    errorbar=None,\n",
    "                    ax=ax[a,b],\n",
    "                    color='blue',\n",
    "                    label='CNN-1 Threshold'\n",
    "                )\n",
    "        \n",
    "        ######## Add CNN-Multithreshold\n",
    "        \n",
    "        df4 = df2.loc[df2['num_th'] > 1]#.drop(['B', 'C'], axis=1)\n",
    "        df4 = df4.loc[df4['run_number'] > 3]\n",
    "        \n",
    "        df4 = df4.groupby(['run_name']).mean()  \n",
    "        ax[a,b].axhline(y=(df4.iloc[0])[0], color='g', linestyle='--')   \n",
    "#         ax[a,b].axhline(y=df4['F1'][0], color='g', linestyle='--')        \n",
    "        ax[a,b].get_legend().remove()\n",
    "        ax[a,b].set_title(f'Bin {i}: F1 score')\n",
    "        ax[a,b].set_xlabel('Threshold value')\n",
    "        ax[a,b].set_ylabel('')\n",
    "\n",
    "\n",
    "        fig.tight_layout()\n",
    "        \n",
    "\n",
    "ax[-1,-1].remove()\n",
    "# ax[-1,-2].remove()\n",
    "\n",
    "orange_line = mlines.Line2D([], [], color='orange', marker='None', linestyle='-',\n",
    "                          markersize=10, label='Thresholding')\n",
    "blue_line = mlines.Line2D([], [], color='blue', marker='None', linestyle='-',\n",
    "                          markersize=10, label='CNN-1 Threshold')\n",
    "green_cross = mlines.Line2D([], [], color='green',  linestyle='--',\n",
    "                          markersize=10, label='CNN-3 Thresholds')\n",
    "\n",
    "fig.legend(handles=[orange_line, blue_line, green_cross],loc='lower right', bbox_to_anchor=(.85, .1) )\n",
    "    \n",
    "plt.savefig(f\"F1Score_All_bins.pdf\", format=\"pdf\", bbox_inches=\"tight\")\n",
    "    "
   ]
  },
  {
   "cell_type": "code",
   "execution_count": 80,
   "metadata": {
    "scrolled": false
   },
   "outputs": [
    {
     "data": {
      "application/vnd.jupyter.widget-view+json": {
       "model_id": "bf791d989b324df28651883e384bb6a2",
       "version_major": 2,
       "version_minor": 0
      },
      "image/png": "[encoded data removed]",
      "text/html": [
       "\n",
       "            <div style=\"display: inline-block;\">\n",
       "                <div class=\"jupyter-widgets widget-label\" style=\"text-align: center;\">\n",
       "                    Figure\n",
       "                </div>\n",
       "                <img src='data:image/png;base64,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' width=500.0/>\n",
       "            </div>\n",
       "        "
      ],
      "text/plain": [
       "Canvas(toolbar=Toolbar(toolitems=[('Home', 'Reset original view', 'home', 'home'), ('Back', 'Back to previous …"
      ]
     },
     "metadata": {},
     "output_type": "display_data"
    }
   ],
   "source": [
    "import seaborn as sns\n",
    "import re \n",
    "import itertools\n",
    "import matplotlib.lines as mlines\n",
    "sns.set_style(style='whitegrid')\n",
    "\n",
    "def compute_fps_fusions_matches(big_dict, gen, c_name):\n",
    "    FPs = []\n",
    "    FNs = []\n",
    "    Matches = []\n",
    "    Fusions = []\n",
    "    Fusions_V2 = []\n",
    "    \n",
    "    for img_key, img_stats in big_dict[gen][c_name].items():\n",
    "        cur_img_FP = np.sum(img_stats['FP'])\n",
    "        cur_img_FN = np.sum(img_stats['FN'])\n",
    "        cur_img_Fusions = np.sum([v for v in img_stats['Fusions'] if v > 1])\n",
    "        cur_img_Fusions_V2 = np.sum([1 for v in img_stats['Fusions'] if v > 1])\n",
    "        cur_img_Matches = np.sum([1 for v in img_stats['Fusions'] if v == 1])\n",
    "\n",
    "        FPs.append(cur_img_FP)\n",
    "        FNs.append(cur_img_FN)\n",
    "        Matches.append(cur_img_Matches)\n",
    "        Fusions.append(cur_img_Fusions)\n",
    "        Fusions_V2.append(cur_img_Fusions_V2)\n",
    "        \n",
    "    return {'tot_FPs': np.sum(FPs), 'tot_FNs': np.sum(FNs), 'tot_Matches': np.sum(Matches), \n",
    "            'tot_Fusions': np.sum(Fusions), 'tot_Fusions_V2': np.sum(Fusions_V2),\n",
    "           'FPs': FPs, 'Matches': Matches, 'Fusions': Fusions, 'Fusions_V2': Fusions_V2}\n",
    "        \n",
    "names_gen = []\n",
    "th_vals_gen = []\n",
    "num_th_gen = []\n",
    "for seg in fusions_per_generator.keys():\n",
    "    reg_finder = re.search('2023_(.*)_fgbg', seg)\n",
    "    names_gen.append(f'{reg_finder.group(1).split(\"_\")}')\n",
    "    \n",
    "    reg_finder2 = re.findall('T([0-9]+)', reg_finder.group(1))\n",
    "    th_vals_gen.append([int(x) for x in reg_finder2])\n",
    "    num_th_gen.append(len(reg_finder2))\n",
    "\n",
    "####################################\n",
    "\n",
    "names_pred = []\n",
    "th_vals_pred = []\n",
    "run_numbers_pred = []\n",
    "num_ttas_pred = []\n",
    "num_th_pred = []\n",
    "for seg in fusions_per_predictor.keys():\n",
    "    reg_finder = re.search('CNN-UNet_(.*)_run(.+)_(.)TTA', seg)\n",
    "    names_pred.append(f'CNN-{reg_finder.group(1).split(\"_\")}')\n",
    "    run_numbers_pred.append(reg_finder.group(2))\n",
    "    num_ttas_pred.append(reg_finder.group(3))\n",
    "    \n",
    "    reg_finder2 = re.findall('T([0-9]+)', reg_finder.group(1))\n",
    "    th_vals_pred.append([int(x) for x in reg_finder2])\n",
    "    num_th_pred.append(len(reg_finder2))\n",
    "\n",
    "####################################\n",
    "\n",
    "# names_pred_TTA = []\n",
    "# th_vals_pred_TTA = []\n",
    "# run_numbers_pred_TTA = []\n",
    "# num_ttas_pred_TTA = []\n",
    "# num_th_pred_TTA = []\n",
    "# confidences_pred_TTA = []\n",
    "# for seg in fusions_per_predictor_TTA.keys():\n",
    "# #     print(seg)\n",
    "#     reg_finder = re.search('CNN-UNet_(.*)_run(.+)_(.)TTA_conf(.*)', seg)\n",
    "#     names_pred_TTA.append(f'{reg_finder.group(1).split(\"_\")}_conf{reg_finder.group(4)}')\n",
    "#     run_numbers_pred_TTA.append(reg_finder.group(2))\n",
    "#     num_ttas_pred_TTA.append(reg_finder.group(3))\n",
    "#     confidences_pred_TTA.append(float(reg_finder.group(4)) )\n",
    "    \n",
    "#     reg_finder2 = re.findall('T([0-9]+)', reg_finder.group(1))\n",
    "#     th_vals_pred_TTA.append([int(x) for x in reg_finder2])\n",
    "#     num_th_pred_TTA.append(len(reg_finder2))\n",
    "\n",
    "\n",
    "new_stats_gen = { k: compute_fps_fusions_matches(fusions_per_generator, k, 'foreground') for k, v  in fusions_per_generator.items()}\n",
    "new_stats_pred = { k: compute_fps_fusions_matches(fusions_per_predictor, k, 'foreground') for k, v  in fusions_per_predictor.items()}\n",
    "# new_stats_pred_TTA = { k: deepcopy(compute_fps_fusions_matches(fusions_per_predictor_TTA, k, 'foreground')) \n",
    "#                                   for k, v  in fusions_per_predictor_TTA.items()}\n",
    "\n",
    "df_fus_miss_gen = pd.DataFrame(new_stats_gen).transpose()\n",
    "df_fus_miss_pred = pd.DataFrame(new_stats_pred).transpose()\n",
    "# df_fus_miss_pred_TTA = pd.DataFrame(new_stats_pred_TTA).transpose()\n",
    "\n",
    "for f in ['tot_FPs','tot_FNs','tot_Fusions','tot_Fusions_V2','tot_Matches']:\n",
    "    df_fus_miss_gen[f]=df_fus_miss_gen[f].astype(int)\n",
    "    df_fus_miss_pred[f]=df_fus_miss_pred[f].astype(int)\n",
    "#     df_fus_miss_pred_TTA[f]=df_fus_miss_pred_TTA[f].astype(int)\n",
    "    \n",
    "df_fus_miss_gen['name'] = names_gen\n",
    "df_fus_miss_pred['name'] = names_pred\n",
    "df_fus_miss_pred['run_number'] = run_numbers_pred\n",
    "df_fus_miss_pred['num_ttas'] = num_ttas_pred\n",
    "df_fus_miss_pred['num_th'] = num_th_pred\n",
    "\n",
    "# df_fus_miss_pred_TTA['name'] = names_pred_TTA\n",
    "# df_fus_miss_pred_TTA['run_number'] = run_numbers_pred_TTA\n",
    "# df_fus_miss_pred_TTA['num_ttas'] = num_ttas_pred_TTA\n",
    "# df_fus_miss_pred_TTA['num_th'] = num_th_pred_TTA\n",
    "# df_fus_miss_pred_TTA['confidence'] = confidences_pred_TTA\n",
    "\n",
    "df_fus_miss_pred = df_fus_miss_pred.groupby(['name']).mean(numeric_only=True)\n",
    "\n",
    "fig_fus_miss, ax_fus_miss = plt.subplots(nrows=1, ncols=1, figsize=(5, 4))\n",
    "sns.set_style(\"darkgrid\")\n",
    "g_l = sns.lineplot(\n",
    "            data=df_fus_miss_gen,\n",
    "            x=\"tot_FNs\", y=\"tot_Fusions_V2\",\n",
    "            ax=ax_fus_miss,\n",
    "            color='orange',\n",
    "            label='Thresholding'\n",
    "    )\n",
    "\n",
    "tmp = pd.DataFrame(bins_stats_gen[c_name][0])\n",
    "for entry in tmp:\n",
    "    coord = df_fus_miss_gen.loc[entry]\n",
    "    x, y=coord['tot_FNs' ],coord['tot_Fusions_V2']\n",
    "    f1 = tmp[entry]['F1']\n",
    "    t = 'F1: {:.2f}'.format(f1)\n",
    "    ax_fus_miss.text(x+3,y+1, t, size=8, c='orange')\n",
    "\n",
    "marker = itertools.cycle([  'D', 'v', '<', 'o', '>','^', '8', 's', 'p', 'X', 'X', 'D', 'd', 'P', 'X'])\n",
    "markers = [next(marker) for i in df_fus_miss_gen[\"name\"].unique()]\n",
    "# print(markers)\n",
    "sns.scatterplot(data=df_fus_miss_gen,\n",
    "                x='tot_FNs', y='tot_Fusions_V2', \n",
    "                style='name',\n",
    "                s=110,\n",
    "                color='orange',\n",
    "                markers = markers,\n",
    "               )\n",
    "\n",
    "p_l = sns.lineplot(\n",
    "            data=df_fus_miss_pred.loc[df_fus_miss_pred['num_th'] == 1],\n",
    "            x=\"tot_FNs\", y=\"tot_Fusions_V2\",\n",
    "            ax=ax_fus_miss,\n",
    "            color='blue'\n",
    "    )\n",
    "\n",
    "marker_CNN = itertools.cycle([  'D', 'v', '<', 'o', '>','^', '8', 's', 'p', 'X', 'X', 'D', 'd', 'P', 'X'])\n",
    "markers_CNN = [next(marker_CNN) for i in df_fus_miss_pred.loc[df_fus_miss_pred['num_th'] == 1].index]\n",
    "\n",
    "p_s = sns.scatterplot(data=df_fus_miss_pred.loc[df_fus_miss_pred['num_th'] == 1],\n",
    "                x='tot_FNs', y='tot_Fusions_V2', \n",
    "                style='name',\n",
    "                s=110,\n",
    "                markers=markers_CNN,\n",
    "                color='blue',\n",
    "                ax=ax_fus_miss,\n",
    "               )\n",
    "\n",
    "tmp = pd.DataFrame(bins_stats_pred[c_name][0])\n",
    "\n",
    "tmp2 = tmp.transpose()\n",
    "tmp2[\"run_name\"] = names_pred\n",
    "tmp2[\"num_th\"] = num_th_pred\n",
    "\n",
    "tmp3 = tmp2.loc[tmp2['num_th'] == 1]\n",
    "tmp4 = tmp3.groupby('run_name').mean()\n",
    "\n",
    "for entry in tmp4.transpose():\n",
    "    coord = df_fus_miss_pred.loc[entry]\n",
    "    x, y=coord['tot_FNs' ],coord['tot_Fusions_V2']\n",
    "    f1 = tmp4.transpose()[entry]['F1']\n",
    "    t = 'F1: {:.2f}'.format(f1)\n",
    "    ax_fus_miss.text(x+3,y+1, t, size=8, c='blue')\n",
    "    \n",
    "\n",
    "tmp3 = tmp2.loc[tmp2['num_th'] == 3]\n",
    "tmp4 = tmp3.groupby('run_name').mean()\n",
    "\n",
    "for entry in tmp4.transpose():\n",
    "    coord = df_fus_miss_pred.loc[entry]\n",
    "    x, y=coord['tot_FNs' ],coord['tot_Fusions_V2']\n",
    "    f1 = tmp4.transpose()[entry]['F1']\n",
    "    t = 'F1: {:.2f}'.format(f1)\n",
    "    ax_fus_miss.text(x-3,y-2, t, size=8, c='g', va='top', ha='right')\n",
    "\n",
    "p_s3 = sns.scatterplot(data=df_fus_miss_pred.loc[df_fus_miss_pred['num_th'] == 3],\n",
    "                x='tot_FNs', y='tot_Fusions_V2', \n",
    "                s=300,\n",
    "                marker='*',\n",
    "                color='green'\n",
    "               )\n",
    "\n",
    "# pal1 = sns.color_palette('Greens', df_fus_miss_pred.count().iloc[0])\n",
    "# pal2 = sns.color_palette('Blues', df_fus_miss_pred.count().iloc[0])\n",
    "# # pal1 = sns.color_palette('Greens', df_fus_miss_pred_TTA.count()[0])\n",
    "# # pal2 = sns.color_palette('Blues', df_fus_miss_pred_TTA.count()[0])\n",
    "\n",
    "ax_fus_miss.set_xlabel('Number of non-detected sunspots')\n",
    "ax_fus_miss.set_ylabel('Number of Fusions')\n",
    "\n",
    "ax_fus_miss.legend([],[], frameon=False)\n",
    "\n",
    "ax_fus_miss.patch.set_edgecolor('black')  \n",
    "# ax_fus_miss.patch.set_linewidth('1') \n",
    "\n",
    "ax_fus_miss.set_xlim([50, 370])\n",
    "ax_fus_miss.set_ylim([10, 80])\n",
    "\n",
    "orange_line = mlines.Line2D([], [], color='orange', marker='None', linestyle='-',\n",
    "                          markersize=10, label='Thresholding')\n",
    "blue_line = mlines.Line2D([], [], color='blue', marker='None', linestyle='-',\n",
    "                          markersize=10, label='CNN-1 Threshold')\n",
    "green_cross = mlines.Line2D([], [], color='green', marker='*', linestyle='None',\n",
    "                          markersize=10, label='CNN-3 Thresholds')\n",
    "\n",
    "# fig_fus_miss.legend([g_l, p_l, p_s3] , labels=['Thresholding','CNN-1 Threshold', 'CNN-3 Threshold'])\n",
    "\n",
    "\n",
    "ax_fus_miss.legend(handles=[orange_line, blue_line, green_cross])\n",
    "\n",
    "\n",
    "ax_fus_miss.set_title('Misdetections versus Fusions trade-off')\n",
    "\n",
    "\n",
    "# fig_fus_miss.tight_layout()\n",
    "\n",
    "plt.savefig(\"UndetectedVSFusions.pdf\", format=\"pdf\", bbox_inches=\"tight\")\n",
    "plt.show()\n",
    "\n",
    "a = df_fus_miss_gen['tot_FNs'][:-2]\n",
    "b = df_fus_miss_pred.loc[df_fus_miss_pred['num_th'] == 1]['tot_FNs']\n",
    "c = a-b.values\n",
    "d = c / a.values\n",
    "# print(a)\n",
    "# print(b)\n",
    "# print(c)\n",
    "# print(d)\n",
    "\n",
    "# print()\n",
    "\n",
    "a = df_fus_miss_gen['tot_Fusions_V2'][:-2]\n",
    "b = df_fus_miss_pred.loc[df_fus_miss_pred['num_th'] == 1]['tot_Fusions_V2']\n",
    "c = b-a.values\n",
    "d = c / a.values\n",
    "# print(a)\n",
    "# print(b)\n",
    "# print(c)\n",
    "# print(d)\n",
    "\n",
    "\n"
   ]
  },
  {
   "cell_type": "markdown",
   "metadata": {},
   "source": [
    "# Look at distribution of False positives among Test images"
   ]
  },
  {
   "cell_type": "code",
   "execution_count": null,
   "metadata": {
    "scrolled": true
   },
   "outputs": [],
   "source": [
    "# Distribution of FPs along images\n",
    "def get_FP_distribution(seg_to_compare, FP_per_segmenter):\n",
    "    \n",
    "    distributions = {}\n",
    "    \n",
    "    for seg in tqdm(seg_to_compare):\n",
    "        cur_FPs = FP_per_segmenter[seg]\n",
    "        \n",
    "        cur_class_FPs = cur_FPs['foreground']\n",
    "        cur_images = {}\n",
    "\n",
    "        for b, bin_FPs  in cur_class_FPs.items():\n",
    "            for FP in bin_FPs['false_positives']:\n",
    "\n",
    "                if FP['image'] not in cur_images:\n",
    "                    cur_images[FP['image']] = 0\n",
    "\n",
    "                cur_images[FP['image']] += 1\n",
    "\n",
    "        distributions[seg] = cur_images\n",
    "\n",
    "    return distributions\n",
    "\n",
    "distros = get_FP_distribution(seg_to_compare, FP_per_segmenter['predictors'])\n",
    "\n",
    "for k,v in distros.items():\n",
    "    all_im_distro = {os.path.basename(test_im).split('.')[0] :0 for test_im in gt_lst }\n",
    "    for  im , num_fp in v.items():\n",
    "        all_im_distro[im] += num_fp\n",
    "        \n",
    "    plt.figure(figsize=(5,2))\n",
    "    plt.title(k)\n",
    "    plt.xticks(range(len(all_im_distro.keys())),rotation=90)\n",
    "    plt.bar(range(len(all_im_distro.keys())), all_im_distro.values(), .5, color='g')\n",
    "    plt.tight_layout()\n",
    "        \n",
    "    "
   ]
  },
  {
   "cell_type": "code",
   "execution_count": null,
   "metadata": {},
   "outputs": [],
   "source": []
  }
 ],
 "metadata": {
  "kernelspec": {
   "display_name": "Python 3 (ipykernel)",
   "language": "python",
   "name": "python3"
  },
  "language_info": {
   "codemirror_mode": {
    "name": "ipython",
    "version": 3
   },
   "file_extension": ".py",
   "mimetype": "text/x-python",
   "name": "python",
   "nbconvert_exporter": "python",
   "pygments_lexer": "ipython3",
   "version": "3.10.14"
  },
  "vscode": {
   "interpreter": {
    "hash": "ce394780a46863705f4bd951221470256d662bb5725b1c2ce0c5daa445587e9d"
   }
  }
 },
 "nbformat": 4,
 "nbformat_minor": 4
}
