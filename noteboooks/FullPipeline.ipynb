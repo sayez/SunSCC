{
 "cells": [
  {
   "cell_type": "markdown",
   "metadata": {},
   "source": [
    "\n",
    "# Load the Target image\n",
    "\n",
    "# 1) Segmentation Part\n",
    "\n",
    "Load the Segmentation model\n",
    "\n",
    "Predict the segmentation on the whole image\n",
    "\n",
    "# 2) Clustering\n",
    "\n",
    "Call the clustering on the segmentation mask of the image using MeanShift Utilities set up with the best w_max / h pair\n",
    "\n",
    "# 3) Classification\n",
    "Crop the groups in the image\n",
    "\n",
    "Create batch(es) from the crops\n",
    "\n",
    "Load ensemble of classifiers\n",
    "\n",
    "Compute majority votes.\n",
    "\n"
   ]
  }
 ],
 "metadata": {
  "language_info": {
   "name": "python"
  }
 },
 "nbformat": 4,
 "nbformat_minor": 2
}
