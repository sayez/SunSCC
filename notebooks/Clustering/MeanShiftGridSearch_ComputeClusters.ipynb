{
 "cells": [
  {
   "cell_type": "markdown",
   "metadata": {},
   "source": [
    "#### In order to compute the clusters in all the images in the USET Dataset, please the computation scripts:\n",
    "\n",
    "\n",
    "**1)** Find clusters in each images using meanshift: \n",
    "\n",
    "    ROOT/scripts/clustering_compute_huge_dicts_launcher.sh\n",
    "\n",
    "    This scripts runs one job for each combination of maximal longitudinal elongation $w_{max}$ and the latitudinal elongation $h$ of the kernels to use.\n",
    "\n",
    "\n",
    "\n",
    "**2)** From the clusters found, compute the matchings between the bboxes obtained using MeanShift (ms_bboxes) and the bboxes of the USET Catalog (gt_bboxes):\n",
    "\n",
    "    ROOT/scripts/clustering_compute_image_outdicts_launcher.sh\n",
    "\n",
    "    This script performs matchings for each $w_{max}$/$h$ pair\n",
    "\n",
    "\n",
    "Once finished, use notebook **MeanShiftGridSearch_Evaluation.ipynb** to assess performances of each clustering to recover results in publication.\n"
   ]
  }
 ],
 "metadata": {
  "kernelspec": {
   "display_name": "Python 3 (ipykernel)",
   "language": "python",
   "name": "python3"
  },
  "language_info": {
   "codemirror_mode": {
    "name": "ipython",
    "version": 3
   },
   "file_extension": ".py",
   "mimetype": "text/x-python",
   "name": "python",
   "nbconvert_exporter": "python",
   "pygments_lexer": "ipython3",
   "version": "3.10.14"
  }
 },
 "nbformat": 4,
 "nbformat_minor": 2
}
