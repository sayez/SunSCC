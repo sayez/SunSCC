{
 "cells": [
  {
   "cell_type": "code",
   "execution_count": 1,
   "metadata": {},
   "outputs": [
    {
     "name": "stderr",
     "output_type": "stream",
     "text": [
      "WARNING: AstropyDeprecationWarning: The private astropy._erfa module has been made into its own package, pyerfa, which is a dependency of astropy and can be imported directly using \"import erfa\" [astropy._erfa]\n"
     ]
    }
   ],
   "source": [
    "import os\n",
    "import numpy as np\n",
    "import glob\n",
    "import json\n",
    "\n",
    "import matplotlib.patches as patches\n",
    "\n",
    "from astropy.io import fits\n",
    "from astropy.wcs import WCS\n",
    "from astropy.wcs.utils import skycoord_to_pixel\n",
    "from astropy.coordinates import SkyCoord\n",
    "import astropy.units as u\n",
    "from astropy.coordinates import Angle\n",
    "\n",
    "from sunpy.coordinates import frames\n",
    "import sunpy.map as sunmap\n",
    "\n",
    "import skimage.io as io\n",
    "\n",
    "import MeanShift as MS\n",
    "\n",
    "from copy import deepcopy\n",
    "import pandas as pd\n",
    "\n",
    "import clustering_utilities as c_utils\n",
    "import tracking_utilities as t_utils\n",
    "\n",
    "import importlib\n",
    "importlib.reload(c_utils)\n",
    "\n",
    "import ipywidgets as widgets\n",
    "import matplotlib.pyplot as plt\n",
    "import seaborn as sns\n",
    "\n",
    "import panel as pn\n",
    "\n",
    "from sklearn.model_selection import ParameterGrid\n",
    "import concurrent.futures\n",
    "from itertools import repeat\n",
    "import multiprocessing\n",
    "\n",
    "from tqdm.notebook import tqdm\n",
    "\n",
    "from datetime import datetime, timedelta\n",
    "\n",
    "%matplotlib ipympl\n",
    "\n",
    "%load_ext autoreload\n",
    "%autoreload 2\n",
    "\n"
   ]
  },
  {
   "cell_type": "code",
   "execution_count": 2,
   "metadata": {},
   "outputs": [
    {
     "name": "stdout",
     "output_type": "stream",
     "text": [
      "3.4.3\n"
     ]
    }
   ],
   "source": [
    "import matplotlib\n",
    "print(matplotlib.__version__)\n"
   ]
  },
  {
   "cell_type": "code",
   "execution_count": 3,
   "metadata": {},
   "outputs": [
    {
     "name": "stdout",
     "output_type": "stream",
     "text": [
      "3150\n"
     ]
    }
   ],
   "source": [
    "# wl_dir = \"/globalscratch/users/n/s/nsayez/deepsun_bioblue/ManualAnnotation/image\"\n",
    "# wl_dir = \"/globalscratch/users/n/s/nsayez/Classification_dataset/2002-2019/all\"  \n",
    "wl_dir = \"/globalscratch/users/n/s/nsayez/Classification_dataset/2002-2019_2/all\"  \n",
    "# wl_dir = \"/Users/nielssayez/Documents/Deepsun/Classification_dataset/2002-2019/all\"  \n",
    "# wl_dir = \"/Users/nielssayez/Documents/Deepsun/Classification_dataset/ManualAnnotation/\"  \n",
    "wl_list = sorted(glob.glob(os.path.join(wl_dir, '**/*.FTS'),recursive=True))\n",
    "wl_basenames = [ os.path.basename(wl) for wl in wl_list ]\n",
    "\n",
    "# masks_dir = '/globalscratch/users/n/s/nsayez/deepsun_bioblue/ManualAnnotation/GroundTruth'\n",
    "# masks_dir = '/globalscratch/users/n/s/nsayez/Classification_dataset/2002-2019/feb2023/T425-T375-T325_fgbg'\n",
    "masks_dir = '/globalscratch/users/n/s/nsayez/Classification_dataset/2002-2019_2/T425-T375-T325_fgbg'\n",
    "# masks_dir = '/globalscratch/users/n/s/nsayez/Classification_dataset/2002-2019/T400-T350-Alternating_pen_um'\n",
    "# masks_dir = '/Users/nielssayez/Documents/Deepsun/Classification_dataset/ManualAnnotation/GroundTruth'\n",
    "\n",
    "sqlite_db_path = \"/globalscratch/users/n/s/nsayez/Classification_dataset/drawings_sqlite.sqlite\"\n",
    "# sqlite_db_path = \"/Users/nielssayez/Documents/Deepsun/Classification_dataset/drawings_sqlite.sqlite\"\n",
    "database = sqlite_db_path\n",
    "print(len(wl_list), )"
   ]
  },
  {
   "cell_type": "code",
   "execution_count": 4,
   "metadata": {},
   "outputs": [],
   "source": [
    "# rotten_list = [ ]\n",
    "rotten_list = [                    \n",
    "                    69,75,93,94,201,203,311,315,337,341,\n",
    "                    403,409,420,441,613,615,668,726,743,\n",
    "                    755,778,779,976,996,\n",
    "                        \n",
    "                    1036,1066,1081,1138,1255,1296,1337,1379,1398,1471,\n",
    "                    1688,1735,1823,1925,1958,1989,1990,1995,\n",
    "    \n",
    "                    2018,2030,2073,2078,2104,2139,2151,2204,2205,2206,2230,2300,\n",
    "                    2312,2325,2327,2349,2376,2452,2460,2461,2559,2673,2778,\n",
    "                    2790,2793,2826,2836,2894,2897,2962,\n",
    "    \n",
    "                    3035,3142,3172,3178,3196,3217,3224,3242,3292,3296,\n",
    "                    3312,3317,3335,3353,3389,3390,3415,3431,3510,3535,\n",
    "                    3551,3571,3614,3664,3720,\n",
    "              ]"
   ]
  },
  {
   "cell_type": "code",
   "execution_count": 5,
   "metadata": {},
   "outputs": [],
   "source": [
    "# root_dir = \"/globalscratch/users/n/s/nsayez/Classification_dataset\"\n",
    "# tmp = root_dir+'/ManualAnnotation/wl_list2dbGroups_Classification.json'\n",
    "\n",
    "\n",
    "# root_dir = '/globalscratch/users/n/s/nsayez/Classification_dataset/2002-2019/feb2023'\n",
    "root_dir = '/globalscratch/users/n/s/nsayez/Classification_dataset/2002-2019_2'\n",
    "tmp = root_dir+'/wl_list2dbGroups_Classification.json'"
   ]
  },
  {
   "cell_type": "code",
   "execution_count": 6,
   "metadata": {},
   "outputs": [],
   "source": [
    "huge_db_dict = { }\n",
    "with open(tmp, 'r') as f:\n",
    "    huge_db_dict = json.load(f)"
   ]
  },
  {
   "cell_type": "code",
   "execution_count": 7,
   "metadata": {},
   "outputs": [
    {
     "name": "stdout",
     "output_type": "stream",
     "text": [
      "3150\n",
      "{'group_list': [{'id': 164028, 'Latitude': 0.125985, 'Longitude': 1.413721, 'posx': 151.0, 'posy': 680.0, 'Lcm': -55.31, 'Zurich': 'J', 'McIntosh': 'Hax', 'angle': 57.08, 'area_px': 86.0, 'area_muHem': 103.43}, {'id': 164029, 'Latitude': 0.177233, 'Longitude': 1.204326, 'posx': 200.0, 'posy': 622.0, 'Lcm': -43.31, 'Zurich': 'D', 'McIntosh': 'Dao', 'angle': 45.38, 'area_px': 332.0, 'area_muHem': 316.74}, {'id': 164030, 'Latitude': -0.050828, 'Longitude': 0.8324, 'posx': 378.0, 'posy': 652.0, 'Lcm': -22.0, 'Zurich': 'A', 'McIntosh': 'Axx', 'angle': 22.04, 'area_px': 7.0, 'area_muHem': 4.95}, {'id': 164031, 'Latitude': -0.251044, 'Longitude': 1.076417, 'posx': 335.0, 'posy': 786.0, 'Lcm': -35.99, 'Zurich': 'C', 'McIntosh': 'Cro', 'angle': 36.57, 'area_px': 44.0, 'area_muHem': 36.03}, {'id': 164032, 'Latitude': -0.374039, 'Longitude': 1.620676, 'posx': 238.0, 'posy': 915.0, 'Lcm': -67.17, 'Zurich': 'H', 'McIntosh': 'Hkx', 'angle': 67.81, 'area_px': 133.0, 'area_muHem': 229.49}, {'id': 164033, 'Latitude': -0.213791, 'Longitude': 0.671058, 'posx': 482.0, 'posy': 690.0, 'Lcm': -12.76, 'Zurich': 'B', 'McIntosh': 'Bxo', 'angle': 14.6, 'area_px': 13.0, 'area_muHem': 8.8}, {'id': 164034, 'Latitude': -0.397315, 'Longitude': 0.57118, 'posx': 565.0, 'posy': 747.0, 'Lcm': -7.04, 'Zurich': 'A', 'McIntosh': 'Axx', 'angle': 19.07, 'area_px': 8.0, 'area_muHem': 5.54}, {'id': 164035, 'Latitude': -0.269384, 'Longitude': 0.449911, 'posx': 589.0, 'posy': 668.0, 'Lcm': -0.09, 'Zurich': 'B', 'McIntosh': 'Bxi', 'angle': 10.85, 'area_px': 43.0, 'area_muHem': 28.65}, {'id': 164036, 'Latitude': 0.070699, 'Longitude': 0.255704, 'posx': 604.0, 'posy': 478.0, 'Lcm': 11.04, 'Zurich': 'D', 'McIntosh': 'Dao', 'angle': 14.45, 'area_px': 441.0, 'area_muHem': 298.25}, {'id': 164037, 'Latitude': 0.182822, 'Longitude': 0.094555, 'posx': 649.0, 'posy': 399.0, 'Lcm': 20.27, 'Zurich': 'H', 'McIntosh': 'Hkx', 'angle': 25.24, 'area_px': 285.0, 'area_muHem': 206.47}, {'id': 164038, 'Latitude': -0.275895, 'Longitude': 6.052989, 'posx': 864.0, 'posy': 552.0, 'Lcm': -321.12, 'Zurich': 'C', 'McIntosh': 'Cai', 'angle': 39.42, 'area_px': 103.0, 'area_muHem': 91.08}, {'id': 164039, 'Latitude': 0.210016, 'Longitude': 5.667912, 'posx': 880.0, 'posy': 296.0, 'Lcm': -299.06, 'Zurich': 'D', 'McIntosh': 'Dao', 'angle': 62.54, 'area_px': 126.0, 'area_muHem': 178.77}, {'id': 164040, 'Latitude': 0.216487, 'Longitude': 5.465024, 'posx': 917.0, 'posy': 284.0, 'Lcm': -287.43, 'Zurich': 'D', 'McIntosh': 'Dro', 'angle': 73.74, 'area_px': 27.0, 'area_muHem': 64.53}], 'dr_radius_mm': 126.0, 'dr_radius_px': 493.0, 'dr_center_mm': [141.0, 157.5], 'dr_center_px': [551.0, 586.0], 'wl_date': '2002-04-24T16:07:00', 'dr_date': '2002-04-24T08:50:00'}\n"
     ]
    }
   ],
   "source": [
    "print(len(huge_db_dict.keys()))\n",
    "print(huge_db_dict[list(huge_db_dict.keys())[0]])"
   ]
  },
  {
   "cell_type": "code",
   "execution_count": 8,
   "metadata": {},
   "outputs": [],
   "source": [
    "huge_dict = { }\n",
    "\n"
   ]
  },
  {
   "cell_type": "code",
   "execution_count": 9,
   "metadata": {},
   "outputs": [],
   "source": [
    "def add_rejected_to_distributions(distributions, rejected_class):\n",
    "    '''\n",
    "    Add rejected to distributions according to the class\n",
    "    '''\n",
    "    if rejected_class not in distributions:\n",
    "        distributions[rejected_class] = 0\n",
    "    distributions[rejected_class] += 1\n",
    "\n",
    "    return\n",
    "\n",
    "def matching_in_wl(basename, huge_dict, ax= None):\n",
    "    cur_image_dict = huge_dict[basename]\n",
    "    \n",
    "    angle = cur_image_dict[\"SOLAR_P0\"]\n",
    "    deltashapeX = cur_image_dict[\"deltashapeX\"]\n",
    "    deltashapeY = cur_image_dict[\"deltashapeY\"]\n",
    "    \n",
    "    drawing_radius_px = huge_db_dict[basename][\"dr_radius_px\"]\n",
    "    \n",
    "    group_list = cur_image_dict['db']\n",
    "    \n",
    "    ms_dict = cur_image_dict['meanshift']\n",
    "    \n",
    "#     print(ms_dict)\n",
    "    \n",
    "    centroids = np.array(ms_dict[\"centroids\"])\n",
    "    centroids_px = np.array(ms_dict[\"centroids_px\"])\n",
    "    \n",
    "    \n",
    "    ms_centroids, ms_members = centroids_px, ms_dict['groups_px']\n",
    "#     print('ms_members', ms_members)\n",
    "    \n",
    "    db_classes = [{\"Zurich\":item['Zurich'], \"McIntosh\":item['McIntosh'] } for item in group_list]\n",
    "    db_bboxes = [np.array(item['bbox_wl']) for item in group_list]\n",
    "\n",
    "\n",
    "    db_centers_px = np.array([[(b[2]+b[0])/2,(b[3]+b[1])/2] for b in db_bboxes])\n",
    "    \n",
    "    ########\n",
    "    \n",
    "    if ax is None:\n",
    "        fig, ax = plt.subplots(figsize=(5,5))\n",
    "        \n",
    "    for i, bbox in enumerate(db_bboxes):\n",
    "        ax.scatter(bbox[0],bbox[1])\n",
    "        linestyle = '-'\n",
    "        ax.add_patch(patches.Rectangle((bbox[0],bbox[1]),bbox[2]-bbox[0],bbox[3]-bbox[1],linewidth=1,edgecolor='b',facecolor='none', linestyle=linestyle))\n",
    "    \n",
    "    for g in ms_members:\n",
    "        g = np.array(g)\n",
    "        ax.scatter(g[:,1],g[:,0])\n",
    "    ax.set_xlim(0,2048)\n",
    "    ax.set_ylim(0,2048)\n",
    "\n",
    "    for c in ms_centroids:\n",
    "        ax.scatter(c[0],c[1], c='r', marker='x')\n",
    "    # ax.invert_xaxis()\n",
    "    # fig.show()\n",
    "    ########\n",
    "        \n",
    "    # check that current bbox is does not overlap any\n",
    "    isolated_bboxes_bool = np.array(c_utils.get_intersecting_db_bboxes(db_bboxes)) == 0\n",
    "    isolated_bboxes_indices = np.where(isolated_bboxes_bool == True)[0]\n",
    "#     print(\"isolated_bboxes_bool\",isolated_bboxes_bool)\n",
    "#     print(isolated_bboxes_indices)\n",
    "    \n",
    "    cur_rejected_class_distibutions = { \n",
    "            'noMS_but_DB': {},\n",
    "            'singleMS_multipleDB': {}, \n",
    "            'num_oneDBbbox_multipleMSoverlap_ambiguity':{},\n",
    "            # 'noDB_but_MS': {},\n",
    "        }\n",
    "    cur_out_stats = {\n",
    "        # General info\n",
    "        'num_DB_groups':len(db_bboxes),\n",
    "        'num_MS_groups':len(centroids_px),\n",
    "        'num_DB_isolated_groups':len(isolated_bboxes_indices),\n",
    "        'num_DB_overlaping_bboxes':len(db_bboxes) - len(isolated_bboxes_indices),\n",
    "        # MS with DB matching info\n",
    "        \"num_MSmatchesDB\":0,\n",
    "        # MS with DB rejection info\n",
    "        \"num_noMS_but_DB_reject\":0,\n",
    "        \"num_singleMS_multipleDB_reject\":0,\n",
    "        \"num_oneDBbbox_multipleMSoverlap_ambiguity_reject\":0,\n",
    "        # MS with DB no match info\n",
    "        \"num_noDB_but_MS\":0,\n",
    "        }\n",
    "    cur_out_groups = []\n",
    "    for i, (db_bbox, db_center, db_class) in enumerate(\n",
    "                                            zip([db_bboxes[a] for a in isolated_bboxes_indices.tolist() ],\n",
    "                                                [db_centers_px[a] for a in isolated_bboxes_indices.tolist()],\n",
    "                                                [db_classes[a] for a in isolated_bboxes_indices.tolist()],\n",
    "                                            )):\n",
    "        \n",
    "        \n",
    "        \n",
    "        intersect = c_utils.contains_ms_groups(db_bbox, db_center, ms_centroids, ms_members)\n",
    "        \n",
    "        if sum(intersect) == 0: # Il n'y a eu aucune détection dans cette zone\n",
    "            cur_out_stats['num_noMS_but_DB_reject'] += 1\n",
    "            cause = 'noMS_but_DB'\n",
    "            add_rejected_to_distributions(cur_rejected_class_distibutions[cause], db_class[\"McIntosh\"][0])\n",
    "            pass\n",
    "        elif sum(intersect) == 1: # il n'y a de l'overlap qu'avec un seul groupe meanshift            \n",
    "#             print('hit')\n",
    "            idx = intersect.index(True)\n",
    "#             print(idx)\n",
    "            # vérifier que le groupe meanshift n'intersecte aucune autre bbox\n",
    "            num_intersections = np.sum(c_utils.count_group_intersections(ms_members[idx], db_bboxes))\n",
    "            if num_intersections > 1:\n",
    "                cur_out_stats['num_singleMS_multipleDB_reject'] += 1\n",
    "                cause = 'singleMS_multipleDB'\n",
    "                add_rejected_to_distributions(cur_rejected_class_distibutions[cause], db_class[\"McIntosh\"][0])\n",
    "                continue\n",
    "            \n",
    "            Rmm = huge_db_dict[basename]['dr_radius_mm']\n",
    "            R_pixel = huge_db_dict[basename]['dr_radius_px']\n",
    "            sun_center = huge_db_dict[basename]['dr_center_px']\n",
    "            dr_pixpos = np.array([group_list[i]['posx'], group_list[i]['posy']])\n",
    "            \n",
    "            angular_excentricity =  c_utils.get_angle2(dr_pixpos, R_pixel, sun_center)\n",
    "            \n",
    "            cur_group_dict={\n",
    "                            \"centroid_px\": centroids_px[idx],\n",
    "                            \"centroid_Lat\": centroids[idx][0],\n",
    "                            \"centroid_Lon\": centroids[idx][1],\n",
    "                            \"angular_excentricity_rad\": angular_excentricity,\n",
    "                            \"angular_excentricity_deg\": np.rad2deg(angular_excentricity),\n",
    "                            \"Zurich\":   db_class[\"Zurich\"],\n",
    "                            \"McIntosh\": db_class[\"McIntosh\"],\n",
    "                            \"members\": ms_members[idx],\n",
    "                            \"members_mean_px\": np.mean(ms_members[idx], axis=0),\n",
    "                        }\n",
    "            \n",
    "            \n",
    "            cur_out_groups.append(cur_group_dict)\n",
    "            cur_out_stats['num_MSmatchesDB'] += 1\n",
    "\n",
    "        else: # db_bbox intersecte plusieurs groupes meanshift\n",
    "            cur_out_stats['num_oneDBbbox_multipleMSoverlap_ambiguity_reject'] += 1\n",
    "            cause = 'num_oneDBbbox_multipleMSoverlap_ambiguity'\n",
    "            add_rejected_to_distributions(cur_rejected_class_distibutions[cause], db_class[\"McIntosh\"][0])\n",
    "            pass\n",
    "\n",
    "    if len(centroids>0):\n",
    "        # print(centroids)\n",
    "        # print()\n",
    "        # count the number of MS groups that do not have any overlap with the DB\n",
    "        num_intersections_per_group = [np.sum(c_utils.count_group_intersections(ms_members[idx], db_bboxes)) for idx in range(len(ms_members))]\n",
    "        num_MS_without_DB_overlap = len(np.where(np.array(num_intersections_per_group) == 0)[0])\n",
    "        cur_out_stats['num_noDB_but_MS'] = num_MS_without_DB_overlap\n",
    "    \n",
    "    # print(cur_rejected_class_distibutions)\n",
    "    cur_out_stats['rejected_class_distributions'] = deepcopy(cur_rejected_class_distibutions)\n",
    "            \n",
    "\n",
    "    return cur_out_groups, cur_out_stats,  cur_rejected_class_distibutions\n"
   ]
  },
  {
   "cell_type": "code",
   "execution_count": 10,
   "metadata": {
    "scrolled": false
   },
   "outputs": [
    {
     "name": "stdout",
     "output_type": "stream",
     "text": [
      "red\n",
      "green\n",
      "blue\n",
      "orange\n",
      "purple\n",
      "brown\n",
      "pink\n",
      "gray\n",
      "olive\n",
      "cyan\n",
      "magenta\n",
      "yellow\n",
      "red\n",
      "green\n",
      "blue\n",
      "orange\n",
      "purple\n",
      "brown\n",
      "pink\n",
      "gray\n",
      "red\n",
      "green\n",
      "blue\n",
      "orange\n",
      "purple\n",
      "brown\n",
      "pink\n",
      "gray\n",
      "olive\n",
      "cyan\n",
      "magenta\n",
      "yellow\n",
      "red\n",
      "green\n",
      "blue\n",
      "orange\n",
      "purple\n",
      "brown\n",
      "pink\n",
      "gray\n"
     ]
    },
    {
     "data": {
      "application/vnd.jupyter.widget-view+json": {
       "model_id": "7ad0323e839a4981b21e4ace80ac1d82",
       "version_major": 2,
       "version_minor": 0
      },
      "text/plain": [
       "HBox(children=(VBox(children=(FloatSlider(value=0.1, description='look_distance', max=0.1, min=0.1), FloatSlid…"
      ]
     },
     "metadata": {},
     "output_type": "display_data"
    },
    {
     "data": {
      "application/vnd.jupyter.widget-view+json": {
       "model_id": "ea2cc9cde15e408899247ccbd7b9cea0",
       "version_major": 2,
       "version_minor": 0
      },
      "text/plain": [
       "HBox(children=(HBox(children=(Textarea(value='UPH20110413081253\\n{\\n    \"num_DB_groups\": 5,\\n    \"num_DB_isola…"
      ]
     },
     "metadata": {},
     "output_type": "display_data"
    }
   ],
   "source": [
    "import matplotlib\n",
    "colors = ['tab:blue','tab:orange','tab:green','tab:red',\n",
    "          'tab:purple','tab:brown','tab:pink',\n",
    "          'tab:olive','tab:cyan']\n",
    "\n",
    "\n",
    "def rotate_pt_around_center(point, rotation_pt, angle):\n",
    "    '''\n",
    "    @param point: (x,y) tuple of the point to rotate\n",
    "    @param rotation_pt: (x,y) tuple of the point to rotate around\n",
    "    @param angle: angle to rotate in degrees\n",
    "    '''\n",
    "    angle = np.deg2rad(angle)\n",
    "    x, y = point\n",
    "    x0, y0 = rotation_pt\n",
    "    x1 = x0 + np.cos(angle) * (x - x0) - np.sin(angle) * (y - y0)\n",
    "    y1 = y0 + np.sin(angle) * (x - x0) + np.cos(angle) * (y - y0)\n",
    "    return x1, y1\n",
    "\n",
    "\n",
    "def new_refresh(value):\n",
    "#     print('new_refresh',1)\n",
    "#     print('here')\n",
    "    look_distance = look_distance_slider.value\n",
    "    kernel_bandwidthLon = kernel_bandwidthLon_slider.value\n",
    "    kernel_bandwidthLat = kernel_bandwidthLat_slider.value\n",
    "    n_iterations = n_iterations_slider.value\n",
    "    \n",
    "#     print('new_refresh',1)\n",
    "    basename = os.path.basename(wl_list[img_slider.value]).split(\".\")[0]\n",
    "###########\n",
    "    huge_dict = {}\n",
    "    result_key, result_dict =  c_utils.process_one_image( wl_list[img_slider.value],\n",
    "                                huge_db_dict,\n",
    "                                huge_dict,\n",
    "                                wl_list,\n",
    "                                rotten_list,\n",
    "                                masks_dir,\n",
    "                                look_distance,\n",
    "                                kernel_bandwidthLon,\n",
    "                                kernel_bandwidthLat,\n",
    "                                n_iterations,\n",
    "                                input_type=input_type\n",
    "                            )\n",
    "    \n",
    "#     print(basename, result_key)\n",
    "#     print(result_dict)\n",
    "    \n",
    "    huge_dict[result_key] = result_dict\n",
    "#     print(huge_dict)\n",
    "    ax3[2].clear()\n",
    "    matchings, matchings_stats, rejects_distrib = matching_in_wl(basename,huge_dict,ax3[2])\n",
    "    # print(matchings)\n",
    "    # print(matchings_stats)\n",
    "    # print(rejects_distrib)\n",
    "    matchings_ta.value =  result_key + '\\n' + json.dumps(matchings_stats,sort_keys=True, indent=4)\n",
    "\n",
    "##################\n",
    "    cur_db_dict = huge_db_dict[basename]\n",
    "    date = cur_db_dict[\"wl_date\"] \n",
    "\n",
    "    m, h = t_utils.open_and_add_celestial(wl_list[img_slider.value])\n",
    "    corrected = False\n",
    "    if not 'DATE-OBS' in h:\n",
    "        # print('corrected')\n",
    "        m, h = t_utils.open_and_add_celestial2(wl_list[img_slider.value], date_obs=date)\n",
    "        corrected = True\n",
    "    # print('radius =', h['SOLAR_R'])\n",
    "    \n",
    "    \n",
    "#     mask = io.imread(os.path.join(masks_dir,basename+\".png\"))\n",
    "    \n",
    "    if input_type == \"mask\":\n",
    "        mask = io.imread(os.path.join(masks_dir,basename+\".png\"))\n",
    "    elif input_type == \"confidence_map\":\n",
    "        mask = np.load(os.path.join(masks_dir,basename+\"_proba_map.npy\"))\n",
    "    mask2 = mask.copy()\n",
    "    mask2[mask2>0] = 1\n",
    "    \n",
    "    flip_time = \"2003-03-08T00:00:00\"\n",
    "    should_flip = (datetime.fromisoformat(date) - datetime.fromisoformat(flip_time)) < timedelta(0)\n",
    "    if should_flip:\n",
    "        m = sunmap.Map(np.flip(m.data,axis=0), h)      \n",
    "        mask = np.flip(mask,axis=0)\n",
    "        mask2 = np.flip(mask2,axis=0)\n",
    "\n",
    "\n",
    "    cur_db_dict = huge_db_dict[basename]\n",
    "    group_list = cur_db_dict[\"group_list\"]\n",
    "    drawing_radius_px = cur_db_dict[\"dr_radius_px\"]\n",
    "    date = cur_db_dict[\"wl_date\"]\n",
    "    \n",
    "    Rmm = cur_db_dict[\"dr_radius_mm\"]\n",
    "\n",
    "    sunspots_sk, sunspots_areas_muHem = c_utils.get_sunspots4(h,m, mask2, Rmm, sky_coords=True)\n",
    "    sunspots_pixel, sunspots_areas = c_utils.get_sunspots4(h, m, mask2, Rmm, sky_coords=False)\n",
    "#     sunspots_sk, sunspots_areas = c_utils.get_sunspots3(h,m, mask2, sky_coords=True)\n",
    "#     sunspots_pixel, _ = c_utils.get_sunspots3(h, m, mask2, sky_coords=False)\n",
    "\n",
    "    wcs2 = WCS(h)\n",
    "    \n",
    "    if sunspots_pixel is not None:\n",
    "\n",
    "\n",
    "        sk_Lon = sunspots_sk.lon.rad\n",
    "        sk_Lat = sunspots_sk.lat.rad\n",
    "        sk_LatLon = np.stack((sk_Lat,sk_Lon),axis=1)\n",
    "\n",
    "        sunspots_areas_muHem = np.array(sunspots_areas_muHem)\n",
    "#         print(sunspots_sk)\n",
    "#         print(sunspots_pixel)\n",
    "#         print(sunspots_areas_muHem)\n",
    "\n",
    "\n",
    "        nan_indexes = np.unique(np.argwhere(np.isnan(sk_LatLon))[:,0])\n",
    "#         print('nan_indexes', nan_indexes)\n",
    "        clean = (~np.isnan(sk_Lon) & ~np.isnan(sk_Lat))\n",
    "        if len(nan_indexes) > 0:\n",
    "            sunspots_sk = sunspots_sk[clean]\n",
    "            sunspots_areas = (np.array(sunspots_areas)[clean]).tolist()\n",
    "            sunspots_areas_muHem = np.array(sunspots_areas_muHem)[clean]\n",
    "            sunspots_pixel = sunspots_pixel[clean]\n",
    "            sk_LatLon = sk_LatLon[clean]\n",
    "#             print(len(sk_LatLon),len(sunspots_areas_muHem))\n",
    "\n",
    "\n",
    "\n",
    "        global ms_model\n",
    "    #     print(sunspots_sk.radius.km[0])\n",
    "        ms_model = MS.Mean_Shift(look_distance, kernel_bandwidthLon, kernel_bandwidthLat, sunspots_sk.radius.km[0], n_iterations, max_scaled_area_muHem=200)\n",
    "\n",
    "    #     ms_model.fit(sk_LatLon, sunspots_areas)\n",
    "        ms_model.fit(sk_LatLon, sunspots_areas_muHem)\n",
    "        \n",
    "#         print(ms_model.history)\n",
    "\n",
    "        ms_centroids = ms_model.centroids\n",
    "\n",
    "        sk_sequ_meanshift = SkyCoord(ms_centroids[:,1]*u.rad, ms_centroids[:,0]*u.rad , frame=frames.HeliographicCarrington,\n",
    "                            obstime=m.date, observer=\"earth\")\n",
    "\n",
    "        pix_centers_meanshift = np.array(skycoord_to_pixel(sk_sequ_meanshift, wcs2, origin=0)).T.tolist()\n",
    "\n",
    "        ms_classifications = ms_model.predict(sk_LatLon)\n",
    "#         print(ms_classifications.shape, np.unique(ms_classifications))\n",
    "\n",
    "        ms_group_sunspots = [(sk_LatLon[ms_classifications == c].tolist()) for c in np.unique(ms_classifications)] \n",
    "        ms_group_sunspots_px = [sunspots_pixel[ms_classifications == c].tolist() for c in np.unique(ms_classifications)]\n",
    "\n",
    "        ms_group_sunspots_areas = [sunspots_areas_muHem[ms_classifications == c].tolist() for c in np.unique(ms_classifications)]\n",
    "        # print(len(ms_group_sunspots))\n",
    "\n",
    "    #latitude and longitudes in radians\n",
    "    extreme_values = -np.pi, np.pi, 0, 2*np.pi\n",
    "\n",
    "    dr_obstime = date+'.000'  \n",
    "    all_sks = []\n",
    "    all_pixels = []\n",
    "    for item in group_list:\n",
    "        cur_sk = SkyCoord(item[\"Longitude\"]*u.rad, item[\"Latitude\"]*u.rad , frame=frames.HeliographicCarrington,\n",
    "                      obstime=dr_obstime, observer=\"earth\") \n",
    "        coords_wl = skycoord_to_pixel(cur_sk, wcs2, origin=0)\n",
    "        all_sks.append(cur_sk)\n",
    "        all_pixels.append(coords_wl)\n",
    "\n",
    "    bboxes, bboxes_wl, rectangles, rectangles_wl = c_utils.grouplist2bboxes_and_rectangles(group_list, \n",
    "                                                                                   drawing_radius_px,\n",
    "                                                                                   h[\"SOLAR_R\"],\n",
    "                                                                                   all_pixels)\n",
    "\n",
    "    # rotated_bboxes = [plt.Rectangle((bbox_wl[0], bbox_wl[1]),\n",
    "    #                                 bbox_wl[2]-bbox_wl[0], bbox_wl[3]-bbox_wl[1],\n",
    "    #                               color='b', fill=False,) for bbox_wl in bboxes_wl]\n",
    "    #                             #   color='b', fill=False, angle=h[\"SOLAR_R\"]) for bbox_wl in bboxes_wl]\n",
    "                                \n",
    "    rotated_bbox_ref = [ rotate_pt_around_center((bbox_wl[0], bbox_wl[1]), \n",
    "                                                (bbox_wl[0]+(bbox_wl[2] - bbox_wl[0] )/2 , \n",
    "                                                    bbox_wl[1]+(bbox_wl[3] - bbox_wl[1] )/2), \n",
    "                                                -h[\"SOLAR_R\"]) for bbox_wl in bboxes_wl]\n",
    "    rotated_bboxes = [plt.Rectangle((rotated_bbox_ref[i][0], rotated_bbox_ref[i][1]),\n",
    "                                                 bbox_wl[3]-bbox_wl[1], bbox_wl[2]-bbox_wl[0],\n",
    "                                                angle=-h[\"SOLAR_R\"],color='b', fill=False,) \n",
    "                                        for i,bbox_wl in enumerate(bboxes_wl)]\n",
    "                                                                                   \n",
    "    # print(sk_LatLon.shape)\n",
    "    ax3[0].clear(), ax3[1].clear()#, ax3[2].clear()\n",
    "    ax3[0].set_title(basename)\n",
    "    ax3[0].imshow(m.data,cmap='gray')\n",
    "    ax3[0].imshow(mask,cmap='jet',alpha=0.5)\n",
    "    for i, r in enumerate(rotated_bboxes):\n",
    "        ax3[0].add_patch(r)\n",
    "        if info_cb.value:\n",
    "            ax3[0].text(rotated_bbox_ref[i][0], rotated_bbox_ref[i][1], \n",
    "                          f' {group_list[i][\"McIntosh\"]} : {group_list[i][\"area_muHem\"]}',color='b')\n",
    "    ax3[0].invert_yaxis()\n",
    "\n",
    "    ax3[1].imshow(m.data,cmap='gray')\n",
    "    ax3[1].invert_yaxis()\n",
    "    \n",
    "    ax3[1].set_title(f'angle: {h[\"SOLAR_P0\"]}, should_flip: {should_flip}')\n",
    "    if sunspots_pixel is not None:\n",
    "        for i in range(len(ms_group_sunspots)):\n",
    "            c = colors[np.unique(ms_classifications)[i]%len(colors)]\n",
    "            # c = colors[ms_classifications[i]%len(colors)]\n",
    "            cur = np.array(ms_group_sunspots_px[i])\n",
    "            ms_centers = pix_centers_meanshift[i]\n",
    "            ax3[1].scatter(ms_centers[0],ms_centers[1], s=10, c=c, marker='x')\n",
    "            ax3[1].scatter(cur[:,1], cur[:,0], color=c, s=2)\n",
    "    #         print(ms_group_sunspots_areas[i])\n",
    "            if info_cb.value:\n",
    "                for j in range(len(cur)):\n",
    "                    ax3[1].text(cur[j,1], cur[j,0],  '%.2f' % ms_group_sunspots_areas[i][j] ,va='top',c=c)\n",
    "\n",
    "    #     ax3[2].scatter(ms_centroids[:,1], ms_centroids[:,0], s=1)\n",
    "    #     ax3[2].set_ylim(extreme_values[0], extreme_values[1])\n",
    "    #     ax3[2].set_xlim(extreme_values[2], extreme_values[3])\n",
    "\n",
    "        # ax5[1].scatter(sk_LatLon[:,1], sk_LatLon[:,0], s=1)\n",
    "        # ax5[1].set_xlim(0, 2*np.pi)\n",
    "        # ax5[1].set_ylim(-np.pi/2, np.pi/2)\n",
    "\n",
    "    \n",
    "    \n",
    "    hist_refresh(None)\n",
    "#create a list of matplotlib colors\n",
    "colors = [ \"red\", \"green\", \"blue\", \"orange\", \"purple\", \"brown\", \"pink\", \"gray\", \"olive\", \"cyan\", \"magenta\", \"yellow\"] \n",
    "\n",
    "def hist_refresh(change):\n",
    "    # if (xlims0, ylims0) != (0, 1):\n",
    "    xlims0 = ax5.get_xlim()\n",
    "    ylims0 = ax5.get_ylim()\n",
    "    # print(xlims0, ylims0)\n",
    "    \n",
    "    look_distance = look_distance_slider.value\n",
    "    kernel_bandwidthLon = kernel_bandwidthLon_slider.value\n",
    "    kernel_bandwidthLat = kernel_bandwidthLat_slider.value\n",
    "    n_iterations = n_iterations_slider.value\n",
    "\n",
    "    global ms_model\n",
    "    \n",
    "        \n",
    "    # print(ms_model.history)\n",
    "    step = hist_slider.value\n",
    "    ax5.clear()\n",
    "    # ax5.set_title('History step {}'.format(step))\n",
    "    if ms_model is not None:\n",
    "        for i in range(len(ms_model.history[step])):\n",
    "            cur_width = ms_model.get_area_weighted_ellipsis_width( ms_model.areas[i], ms_model.areas)\n",
    "            cur_height = kernel_bandwidthLat\n",
    "            cur_color = colors[i%len(colors)]\n",
    "            # if (ms_model.data[i][0] <= 0.28 and ms_model.data[i][0] >= 0.25) and (ms_model.data[i][1] >= 1.45 and ms_model.data[i][1] <= 1.48):\n",
    "            #     print(cur_width, cur_height)\n",
    "            ellipsis = matplotlib.patches.Ellipse((ms_model.history[step][i,1], ms_model.history[step][i,0]), 2*cur_width, 2*cur_height, fill=False, color=cur_color)\n",
    "            # ellipsis = matplotlib.patches.Ellipse((ms_model.history[step][i,1], ms_model.history[step][i,0]), 2*cur_width, 2*cur_height, fill=False, color='red')\n",
    "            # ellipsis = matplotlib.patches.Ellipse((ms_model.history[step][i,1], ms_model.history[step][i,0]), 2*kernel_bandwidthLon, 2*kernel_bandwidthLat, fill=False, color='red')\n",
    "            ax5.add_patch(ellipsis)\n",
    "        # ax5.scatter(ms_model.history[0][:,1], ms_model.history[0][:,0], s=4, marker='X', c='g')\n",
    "        # ax5.scatter(ms_model.history[step][:,1], ms_model.history[step][:,0], s=3)\n",
    "        \n",
    "        for j in range(len(ms_model.history[0])):\n",
    "            cur_color = colors[j%len(colors)]\n",
    "            print(cur_color)\n",
    "            ax5.scatter(ms_model.history[0][j,1], ms_model.history[0][j,0], s=20, marker='o', color=cur_color, alpha = 0.5)\n",
    "\n",
    "        for i in range(len(ms_model.history[step])):\n",
    "            cur_color = colors[i%len(colors)]\n",
    "            ax5.scatter(ms_model.history[step][i,1], ms_model.history[step][i,0], s=30, marker='+', c=cur_color)\n",
    "\n",
    "    ax5.set_ylim(-np.pi/2, np.pi/2)\n",
    "    ax5.set_xlim(0, 2*np.pi)\n",
    "    ax5.set_xlabel('Longitude [rad]')\n",
    "    ax5.set_ylabel('Latitude [rad]')\n",
    "    # ax5.set_xlim(np.min(ms_model.data[:,1]), np.max(ms_model.data[:,1]))\n",
    "    if (xlims0, ylims0) != ((0., 1.),(0., 1.)):\n",
    "        ax5.set_xlim(xlims0)\n",
    "        ax5.set_ylim(ylims0)\n",
    "    \n",
    "\n",
    "# look_distance = .1 # How far to look for neighbours.\n",
    "# kernel_bandwidthLon = .2  # Longitude Kernel parameter.\n",
    "# kernel_bandwidthLat = .1  # Latitude Kernel parameter.\n",
    "# n_iterations = 20 # Number of iterations\n",
    "# input_type = 'confidence_map'\n",
    "input_type = 'mask'\n",
    "    \n",
    "ms_model = None\n",
    "# 830, 536, 509, 24, 31, 183\n",
    "#30\n",
    "# img_slider = widgets.IntSlider(min=0, max=len(wl_list)-1, step=1, value=24, description='Image')\n",
    "#début des problèmes 349\n",
    "img_slider = widgets.IntSlider(min=0, max=len(wl_list)-1, step=1, value=2183, description='Image')\n",
    "# img_slider = widgets.IntSlider(min=0, max=len(wl_list)-1, step=1, value=1505, description='Image')\n",
    "info_cb = widgets.Checkbox(value=False, description='Info', disabled=False, indent=False)\n",
    "\n",
    "max_n_iterations = 20\n",
    "look_distance_slider = widgets.FloatSlider(min=.1,max=.1, description='look_distance')\n",
    "kernel_bandwidthLon_slider = widgets.FloatSlider(min=.35,max=.45,step=.05, description='kernel_bandwidthLon')\n",
    "kernel_bandwidthLat_slider = widgets.FloatSlider(min=.08,max=.2,step=.02, description='kernel_bandwidthLat')\n",
    "n_iterations_slider = widgets.IntSlider(min=20,max=max_n_iterations, description='look_distance')\n",
    "\n",
    "img_slider.observe(new_refresh, 'value')\n",
    "info_cb.observe(new_refresh, 'value')\n",
    "\n",
    "look_distance_slider.observe(new_refresh,'value')\n",
    "kernel_bandwidthLon_slider.observe(new_refresh,'value')\n",
    "kernel_bandwidthLat_slider.observe(new_refresh,'value')\n",
    "n_iterations_slider.observe(new_refresh,'value')\n",
    "\n",
    "hist_slider = widgets.IntSlider(min=0, max=max_n_iterations-1, step=1, value=0, description='History')\n",
    "hist_slider.observe(hist_refresh, 'value')\n",
    "\n",
    "matchings_ta = widgets.Textarea(description='Matchings', value='',layout=widgets.Layout(height=\"100%\", width=\"100%\"))\n",
    "def matchings_refresh(change):\n",
    "    matchings_ta.rows = matchings_ta.value.count('\\n') + 1\n",
    "matchings_ta.observe(matchings_refresh, 'value')\n",
    "\n",
    "plt.ioff()\n",
    "fig3,ax3 = plt.subplots(1,3,figsize=(9,3))\n",
    "fig5,ax5 = plt.subplots(1,1,figsize=(5,2.5))\n",
    "fig3.tight_layout()\n",
    "# print('ICI1')\n",
    "new_refresh(None)\n",
    "# print('ICI2')\n",
    "hist_refresh(None)\n",
    "plt.ion()\n",
    "\n",
    "rotten_list = [\n",
    "    \n",
    "    37,38,39,40,52, 64,65,69,70,\n",
    "    \n",
    "    72,97,99,100,101,102,103,104,142,159,160,161,169,187,190,210,211,212,218,264,300,312,314,316,319,322,327,339,\n",
    "    343,353,356,387,408,413,414,418,424,425,448,473,474,493,512,508,611,614,666,675,696,726,330,747,750,758,\n",
    "    761,784,804,823,832,840,855,914,935,940,948,990,1013,\n",
    "    \n",
    "    1025,1039,1040,1089,1172,1303,1332,1345,1397,1409,1413,1414,1421,1440,1444,1468,1469,1488,1576,1646,1692,\n",
    "    1735,1815,1840,1867,1893,1900,1905,1919,1924,1925,1930,1953,1969,1992,\n",
    "    \n",
    "    2007,2039,2043,2045,2049,2050,2078,2121,2133,2143,2185,2208,2220,2254,2266,2272,2298,2344,3262,3274,2375,\n",
    "    2445,2454,2468,2492,2494,2495,2500,2501,2503,2516,2518,2536,2568,2574,2598,2604,2633,2635,2749,2763,2815,\n",
    "    2818,2820,2821,2834,2835,2851,2857,2867,2896,2899,2848,2951,2952,2956,2964,2980,2981,2994,\n",
    "    \n",
    "    3018,3092,3093,3097,3099,3101,3106,3118,3122,3123,3124,3140,3148\n",
    "    \n",
    "    \n",
    "]\n",
    "\n",
    "\n",
    "\n",
    "display(widgets.HBox([widgets.VBox([look_distance_slider,\n",
    "                          kernel_bandwidthLon_slider,\n",
    "                          kernel_bandwidthLat_slider,\n",
    "                          n_iterations_slider,img_slider, info_cb], layout=widgets.Layout(width='25%',object_position='bottom') ),\n",
    "                      fig3.canvas]))\n",
    "# display(widgets.HBox([matchings_ta, widgets.VBox([widgets.HBox([hist_slider]), fig5.canvas])]))\n",
    "display(widgets.HBox([widgets.HBox([matchings_ta],layout=widgets.Layout(width='50%')), \n",
    "                      widgets.HBox([widgets.VBox([widgets.HBox([hist_slider]), fig5.canvas])])\n",
    "                     ]))\n",
    "# display(matchings_ta)\n",
    "\n",
    "# text_area_input = pn.widgets.input.TextAreaInput(name='Text Area Input', placeholder='Enter a string here...')\n",
    "# display(text_area_input)"
   ]
  },
  {
   "cell_type": "code",
   "execution_count": 11,
   "metadata": {},
   "outputs": [],
   "source": [
    "param_grid_values = {\n",
    "    'look_distance' : [0.1],\n",
    "    # 'kernel_bandwidthLon' : [ 0.05 , 0.1, 0.15, .2,.21,.22,.23,.24,.25, .3,.35,.45],\n",
    "    # 'kernel_bandwidthLat' : [.08,],\n",
    "    'kernel_bandwidthLon' : [ 0.1, 0.15, .2, .25, .3, .35, .4, .45, .5, .55, .6, .65, .7, .75],\n",
    "#     'kernel_bandwidthLon' : [ .25],\n",
    "#     'kernel_bandwidthLat' : [ 0.02, 0.04 , 0.06, .08, .1, .12, .16, .18, .2],\n",
    "    'kernel_bandwidthLat' : [ 0.02, 0.04 , 0.06, .08, .1, .12],\n",
    "    # 'kernel_bandwidthLat' : [ 0.05 , 0.06, 0.07, .08, .09, .1, .11, .12],\n",
    "    'n_iterations' : [20],\n",
    "}\n",
    "\n",
    "param_grid = ParameterGrid(param_grid_values)\n",
    "num_cpu = 20\n",
    "# num_cpu = 30\n",
    "input_type = \"mask\"\n",
    "\n",
    "grid_huge_dict = {str(i): {} for i,_ in enumerate(param_grid)}"
   ]
  },
  {
   "cell_type": "code",
   "execution_count": null,
   "metadata": {
    "scrolled": true
   },
   "outputs": [],
   "source": [
    "\n",
    "for i, params in tqdm(enumerate(param_grid)):\n",
    "    # if i > 0:\n",
    "    #     break\n",
    "    print(i, params)\n",
    "    look_distance = params['look_distance']  # How far to look for neighbours.\n",
    "    kernel_bandwidthLon = params['kernel_bandwidthLon']  # Longitude Kernel parameter.\n",
    "    kernel_bandwidthLat = params['kernel_bandwidthLat']  # Latitude Kernel parameter.\n",
    "    n_iterations = params['n_iterations'] # Number of iterations\n",
    "\n",
    "    \n",
    "    cur_huge_dict = { } if str(i) not in grid_huge_dict else grid_huge_dict[str(i)]\n",
    "    print(len(list(cur_huge_dict.keys())))    \n",
    "#     grid_huge_dict[i] = {'a':0}\n",
    "\n",
    "\n",
    "    with concurrent.futures.ProcessPoolExecutor(max_workers=int(num_cpu)) as executor:\n",
    "        for result_key, result_dict in tqdm(executor.map(c_utils.process_one_image, \n",
    "                                                            wl_list[:],\n",
    "                                                            repeat(huge_db_dict),\n",
    "                                                            repeat(cur_huge_dict),\n",
    "                                                            repeat(wl_list),\n",
    "                                                            repeat(rotten_list),\n",
    "                                                            repeat(masks_dir),\n",
    "                                                            repeat(look_distance),\n",
    "                                                            repeat(kernel_bandwidthLon),\n",
    "                                                            repeat(kernel_bandwidthLat),\n",
    "                                                            repeat(n_iterations),\n",
    "                                                            repeat(input_type)\n",
    "                                                            )):\n",
    "            # print(result_key)\n",
    "            if not len(list(result_dict.keys())) == 0:\n",
    "                print('here')\n",
    "#                 cur_huge_dict[result_key] = deepcopy(result_dict)\n",
    "                grid_huge_dict[str(i)][result_key] = deepcopy(result_dict)\n",
    "\n",
    "#     grid_huge_dict[i] = deepcopy(cur_huge_dict)\n",
    "\n",
    "\n",
    "\n",
    "\n",
    "    \n",
    "    "
   ]
  },
  {
   "cell_type": "code",
   "execution_count": 11,
   "metadata": {},
   "outputs": [],
   "source": [
    "class NpEncoder(json.JSONEncoder):\n",
    "    def default(self, obj):\n",
    "        if isinstance(obj, np.integer):\n",
    "            return int(obj)\n",
    "        if isinstance(obj, np.int64):\n",
    "            return int(obj)\n",
    "        if isinstance(obj, np.floating):\n",
    "            return float(obj)\n",
    "        if isinstance(obj, np.ndarray):\n",
    "            return obj.tolist()\n",
    "        if isinstance(obj, np.bool_):\n",
    "            return bool(obj)\n",
    "        return super(NpEncoder, self).default(obj)"
   ]
  },
  {
   "cell_type": "code",
   "execution_count": 9,
   "metadata": {},
   "outputs": [
    {
     "ename": "NameError",
     "evalue": "name 'grid_huge_dict' is not defined",
     "output_type": "error",
     "traceback": [
      "\u001b[0;31m---------------------------------------------------------------------------\u001b[0m",
      "\u001b[0;31mNameError\u001b[0m                                 Traceback (most recent call last)",
      "Input \u001b[0;32mIn [9]\u001b[0m, in \u001b[0;36m<cell line: 18>\u001b[0;34m()\u001b[0m\n\u001b[1;32m     17\u001b[0m tmp \u001b[38;5;241m=\u001b[39m \u001b[38;5;124m'\u001b[39m\u001b[38;5;124m./grid_search_huge_dict_2002-19.json\u001b[39m\u001b[38;5;124m'\u001b[39m\n\u001b[1;32m     18\u001b[0m \u001b[38;5;28;01mwith\u001b[39;00m \u001b[38;5;28mopen\u001b[39m(tmp, \u001b[38;5;124m'\u001b[39m\u001b[38;5;124mw\u001b[39m\u001b[38;5;124m'\u001b[39m) \u001b[38;5;28;01mas\u001b[39;00m f:\n\u001b[0;32m---> 19\u001b[0m     json\u001b[38;5;241m.\u001b[39mdump(\u001b[43mgrid_huge_dict\u001b[49m, f, \u001b[38;5;28mcls\u001b[39m\u001b[38;5;241m=\u001b[39mNpEncoder)\n",
      "\u001b[0;31mNameError\u001b[0m: name 'grid_huge_dict' is not defined"
     ]
    }
   ],
   "source": [
    "\n",
    "    \n",
    "    \n",
    "import json \n",
    "tmp = './grid_search_huge_dict_2002-19.json'\n",
    "with open(tmp, 'w') as f:\n",
    "    json.dump(grid_huge_dict, f, cls=NpEncoder)"
   ]
  },
  {
   "cell_type": "code",
   "execution_count": 16,
   "metadata": {},
   "outputs": [],
   "source": [
    "param_grid_values = {\n",
    "    'look_distance' : [0.1],\n",
    "    # 'kernel_bandwidthLon' : [ 0.05 , 0.1, 0.15, .2,.21,.22,.23,.24,.25, .3,.35,.45],\n",
    "    'kernel_bandwidthLat' : [.08,],\n",
    "#     'kernel_bandwidthLon' : [ 0.1, 0.15, .2, .25, .3, .35, .4, .45, .5, .55, .6, .65, .7, .75],\n",
    "    'kernel_bandwidthLon' : [ .35],\n",
    "#     'kernel_bandwidthLat' : [ 0.02, 0.04 , 0.06, .08, .1, .12, .16, .18, .2],\n",
    "    'kernel_bandwidthLat' : [ .08,],\n",
    "#     'kernel_bandwidthLat' : [ 0.02, 0.04 , 0.06, .08, .1, .12],\n",
    "    # 'kernel_bandwidthLat' : [ 0.05 , 0.06, 0.07, .08, .09, .1, .11, .12],\n",
    "    'n_iterations' : [20],\n",
    "}\n",
    "\n",
    "param_grid = ParameterGrid(param_grid_values)\n",
    "\n",
    "import json \n",
    "tmp2 = './grid_search_huge_dict.json'\n",
    "with open(tmp2, 'r') as f:\n",
    "    grid_huge_dict = json.load(f)"
   ]
  },
  {
   "cell_type": "code",
   "execution_count": 14,
   "metadata": {},
   "outputs": [
    {
     "data": {
      "text/plain": [
       "{'look_distance': [0.1],\n",
       " 'kernel_bandwidthLat': [0.08],\n",
       " 'kernel_bandwidthLon': [0.35],\n",
       " 'n_iterations': [20]}"
      ]
     },
     "execution_count": 14,
     "metadata": {},
     "output_type": "execute_result"
    }
   ],
   "source": [
    "param_grid_values"
   ]
  },
  {
   "cell_type": "markdown",
   "metadata": {},
   "source": [
    "# Functions"
   ]
  },
  {
   "cell_type": "code",
   "execution_count": 12,
   "metadata": {},
   "outputs": [],
   "source": [
    "import cv2\n",
    "from matplotlib import pyplot as plt\n",
    "import matplotlib.patches as patches\n",
    "\n",
    "def compute_IoUs(db_bboxes, ms_bboxes):\n",
    "    '''Compute IoUs between all bboxes in db_bboxes and ms_bboxes.'''\n",
    "    db_bboxes = np.array(db_bboxes)\n",
    "    ms_bboxes = np.array(ms_bboxes)\n",
    "    # print(db_bboxes.shape)\n",
    "    # print(ms_bboxes.shape)\n",
    "\n",
    "    # if db_bboxes is single bbox, convert to 2D array.\n",
    "    if db_bboxes.ndim == 1:\n",
    "        db_bboxes = np.array([db_bboxes])\n",
    "    # if ms_bboxes is single bbox, convert to 2D array.\n",
    "    if ms_bboxes.ndim == 1:\n",
    "        ms_bboxes = np.array([ms_bboxes])\n",
    "\n",
    "    # if db_bboxes is empty, return empty 2D array.\n",
    "    if db_bboxes.size == 0:\n",
    "        return np.array([[]])\n",
    "\n",
    "    # print(db_bboxes.shape)\n",
    "    # print(ms_bboxes.shape)\n",
    "    # db_bboxes has shape (N, 4) and ms_bboxes has shape (M, 4).\n",
    "    # each element has the form [x1, y1, x2, y2].\n",
    "    # We want to compute IoUs between all N and M boxes.\n",
    "    db_bboxes = db_bboxes.astype(np.float)\n",
    "    ms_bboxes = ms_bboxes.astype(np.float)\n",
    "    # print(db_bboxes.shape)\n",
    "    # print(ms_bboxes.shape)\n",
    "\n",
    "    # Compute areas of all db_bboxes and ms_bboxes.\n",
    "    area_db = (db_bboxes[:, 2] - db_bboxes[:, 0]) * (db_bboxes[:, 3] - db_bboxes[:, 1])\n",
    "    area_ms = (ms_bboxes[:, 2] - ms_bboxes[:, 0]) * (ms_bboxes[:, 3] - ms_bboxes[:, 1])\n",
    "    # print(area_db.shape, area_ms.shape)\n",
    "\n",
    "    # compute intersections\n",
    "    # intersections has shape (N, M) and intersections[i, j] is the intersection\n",
    "    # between db_bboxes[i] and ms_bboxes[j].\n",
    "    intersections = np.zeros((db_bboxes.shape[0], ms_bboxes.shape[0]))\n",
    "    for i in range(db_bboxes.shape[0]):\n",
    "        for j in range(ms_bboxes.shape[0]):\n",
    "            x1 = max(db_bboxes[i, 0], ms_bboxes[j, 0])\n",
    "            y1 = max(db_bboxes[i, 1], ms_bboxes[j, 1])\n",
    "            x2 = min(db_bboxes[i, 2], ms_bboxes[j, 2])\n",
    "            y2 = min(db_bboxes[i, 3], ms_bboxes[j, 3])\n",
    "            intersections[i, j] = max(x2 - x1, 0) * max(y2 - y1, 0)\n",
    "    # print(intersections.shape)\n",
    "    # print(intersections)\n",
    "\n",
    "    # compute unions\n",
    "    unions = area_db[:, np.newaxis] + area_ms[np.newaxis, :] - intersections\n",
    "\n",
    "    # compute IoUs\n",
    "    ious = intersections / unions\n",
    "\n",
    "\n",
    "    return ious\n",
    "\n",
    "def compute_distances(db_bboxes, ms_bboxes):\n",
    "    '''Compute distances between all bboxes in db_bboxes and ms_bboxes.'''\n",
    "    db_bboxes = np.array(db_bboxes)\n",
    "    ms_bboxes = np.array(ms_bboxes)\n",
    "\n",
    "    # if db_bboxes is single bbox, convert to 2D array.\n",
    "    if db_bboxes.ndim == 1:\n",
    "        db_bboxes = np.array([db_bboxes])\n",
    "    # if ms_bboxes is single bbox, convert to 2D array.\n",
    "    if ms_bboxes.ndim == 1:\n",
    "        ms_bboxes = np.array([ms_bboxes])\n",
    "\n",
    "    # if db_bboxes is empty, return empty 2D array.\n",
    "    if db_bboxes.size == 0:\n",
    "        return np.array([[]])\n",
    "\n",
    "    # db_bboxes has shape (N, 4) and ms_bboxes has shape (M, 4).\n",
    "    # each element has the form [x1, y1, x2, y2].\n",
    "    # We want to compute distances between all N and M boxes.\n",
    "    db_bboxes = db_bboxes.astype(np.float)\n",
    "    ms_bboxes = ms_bboxes.astype(np.float)\n",
    "\n",
    "    # Compute centers of all db_bboxes and ms_bboxes.\n",
    "    center_db = (db_bboxes[:, 2:] + db_bboxes[:, :2]) / 2\n",
    "    center_ms = (ms_bboxes[:, 2:] + ms_bboxes[:, :2]) / 2\n",
    "    # print('here')\n",
    "    # print(center_db.shape)\n",
    "    # print(center_ms.shape)\n",
    "\n",
    "    distances = np.repeat( center_ms[ np.newaxis,:,:], center_db.shape[0], axis=0)\n",
    "\n",
    "    # print(distances.shape)\n",
    "\n",
    "    distances = np.sqrt(np.sum((distances - center_db[:,np.newaxis,:])**2, axis=2))\n",
    "\n",
    "    # print(distances.shape)\n",
    "    # print(distances)\n",
    "\n",
    "    return distances\n",
    "\n",
    "\n",
    "def find_closest_ms_bbox(db_bboxes, ms_bboxes, maximum_distance=300):\n",
    "    '''Find the closest ms_bbox to db_bbox.'''\n",
    "    ious = compute_IoUs(db_bboxes, ms_bboxes)\n",
    "    distances = compute_distances(db_bboxes, ms_bboxes)\n",
    "    \n",
    "\n",
    "    # if ious is empty, closest_ms_bbox is empty.\n",
    "    if (ious.size == 0) and (distances.size == 0):\n",
    "        closest_ms_bbox = np.array([])\n",
    "        closest_ms_bbox_idx = np.array([])\n",
    "        \n",
    "        closest_db_bbox = np.array([])\n",
    "        closest_db_bbox_idx = np.array([])\n",
    "    else:\n",
    "        # Find the closest ms_bbox to each db_bbox.\n",
    "        closest_ms_bbox = np.min(distances, axis=1)\n",
    "        closest_ms_bbox_idx = np.argmin(distances, axis=1)\n",
    "        # print(\"closest_ms_bbox_idx\", closest_ms_bbox_idx)\n",
    "        \n",
    "        \n",
    "        # Find the closest db_bbox to each ms_bbox.\n",
    "        closest_db_bbox = np.min(distances.T, axis=1)\n",
    "        closest_db_bbox_idx = np.argmin(distances.T, axis=1)\n",
    "    \n",
    "    # print(closest_ms_bbox.shape)\n",
    "    # print(closest_ms_bbox_idx.shape)\n",
    "    # print(closest_ms_bbox)\n",
    "    # print(closest_ms_bbox_idx)\n",
    "\n",
    "    # replace the closest ms_bbox with -1 if it is too far away.\n",
    "    closest_ms_bbox[closest_ms_bbox > maximum_distance] = -1\n",
    "    closest_ms_bbox_idx[closest_ms_bbox == -1 ] = -1\n",
    "     \n",
    "    # replace the closest db_bbox with -1 if it is too far away.\n",
    "    closest_db_bbox[closest_db_bbox > maximum_distance] = -1\n",
    "    closest_db_bbox_idx[closest_db_bbox == -1 ] = -1\n",
    "\n",
    "    # count the number of db_bboxes that are too far away.\n",
    "    db_too_far = closest_ms_bbox == -1\n",
    "    num_db_too_far = np.sum(db_too_far)\n",
    "    db_too_far_idx = np.where(db_too_far)[0]\n",
    "    # count the number of ms_bboxes that are too far away.\n",
    "    ms_too_far = closest_db_bbox == -1\n",
    "    num_ms_too_far = np.sum(ms_too_far)\n",
    "    ms_too_far_idx = np.where(ms_too_far)[0]\n",
    "    \n",
    "\n",
    "    # get the ious of the closest ms_bbox to each db_bbox.\n",
    "    closest_ms_bbox_iou = np.array([ious[i,closest_ms_bbox_idx[i]] for i in range(len(db_bboxes))])\n",
    "    closest_ms_bbox_iou[closest_ms_bbox == -1] = -1\n",
    "\n",
    "\n",
    "    multiDB_singleMS_idx = []\n",
    "    num_multiDB_singleMS = 0\n",
    "    # if two db_bboxes have the same closest ms_bbox, keep the one with the highest IoU.\n",
    "    for i in np.unique(closest_ms_bbox_idx):\n",
    "        if i == -1:\n",
    "            continue\n",
    "        # get the indexes of the db_bboxes that have the same closest ms_bbox.\n",
    "        idx = np.where(closest_ms_bbox_idx == i)[0]\n",
    "        if len(idx) > 1:\n",
    "            # keep the db_bbox with the highest IoU.\n",
    "            highest_iou_idx = np.argmax(closest_ms_bbox_iou[idx])\n",
    "            # add the indexes of the other db_bboxes to multiDB_singleMS.\n",
    "            multiDB_singleMS_idx.extend(idx[np.arange(len(idx)) != highest_iou_idx])\n",
    "\n",
    "            # set the closest ms_bbox of the other db_bboxes to -1.\n",
    "            closest_ms_bbox_idx[idx[np.arange(len(idx)) != highest_iou_idx]] = -1\n",
    "            closest_ms_bbox[idx[np.arange(len(idx)) != highest_iou_idx]] = -1\n",
    "            closest_ms_bbox_iou[idx[np.arange(len(idx)) != highest_iou_idx]] = -1\n",
    "            # get the number of indexes that were set to -1.\n",
    "            num_multiDB_singleMS += len(idx) - 1\n",
    "    assert num_multiDB_singleMS == len(multiDB_singleMS_idx)\n",
    "    multiDB_singleMS_idx = np.array(multiDB_singleMS_idx)\n",
    "    \n",
    "\n",
    "    # get the indexes of the ms_bboxes that appear as the closest ms_bbox to some db_bbox.\n",
    "    ms_bbox_idx = np.unique(closest_ms_bbox_idx)\n",
    "    \n",
    "    # remove the -1 index.\n",
    "    ms_bbox_idx = ms_bbox_idx[ms_bbox_idx != -1]\n",
    "    # print(\"ms_bbox_idx\", ms_bbox_idx)\n",
    "\n",
    "    # print(closest_ms_bbox, closest_ms_bbox_idx)\n",
    "    # print(ms_bbox_idx)\n",
    "    \n",
    "    candidates_indexes = np.array(range(len(ms_bboxes)))\n",
    "    unmatched_ms = np.setdiff1d(candidates_indexes, ms_bbox_idx)\n",
    "\n",
    "    if (ious.size == 0) and (distances.size == 0):\n",
    "        bad_ms = np.array([])\n",
    "    else:   \n",
    "        # get the ms_bboxes in unmatched_ms that have iou > 0. with some db_bbox.\n",
    "        bad_ms = unmatched_ms[np.max(ious[:, unmatched_ms], axis=0) > 0.]\n",
    "\n",
    "    # remove bad_ms from unmatched_ms.\n",
    "    unmatched_ms = np.setdiff1d(unmatched_ms, bad_ms)\n",
    "\n",
    "    # unmatched_db contains: \n",
    "    # 1) the indexes of the db_bboxes that are too far away from any ms_bbox. \n",
    "    # 2) the indexes of the db_bboxes that have the same closest ms_bbox as another db_bbox but that have a lower IoU.\n",
    "    unmatched_db = np.where(closest_ms_bbox == -1)[0]\n",
    "\n",
    "    # print(\"unmatched_db\", unmatched_db)\n",
    "    # print(\"multiDB_singleMS\", multiDB_singleMS)\n",
    "    # print(\"db_too_far\", db_too_far)\n",
    "\n",
    "\n",
    "    # 2 types of 'rejected'  db bboxes (candidate too far + candidate better matched by another db bbox) : \n",
    "    # Make sure that the number of unmatched db + multiDB_singleMS is equal to the number of too far db.\n",
    "    assert len(unmatched_db) == num_db_too_far + num_multiDB_singleMS\n",
    "#     assert len(unmatched_ms) == num_ms_too_far +\n",
    "    \n",
    "    # Make sure that the number of unmatched db + ms_bbox_idx (number of 1 to 1 matches) is equal to the number of db_bboxes.\n",
    "    assert len(unmatched_db) + len(ms_bbox_idx) == len(db_bboxes)\n",
    "    # Make sure that the number of bad ms + unmatched ms + ms_bbox_idx is equal to the number of ms_bboxes.\n",
    "    assert len(unmatched_ms) + len(bad_ms) + len(ms_bbox_idx) == len(ms_bboxes)\n",
    "\n",
    "    matched_db = np.where(closest_ms_bbox != -1)[0]\n",
    "    matches = closest_ms_bbox_idx\n",
    "\n",
    "    \n",
    "    return  (ious, distances, \n",
    "            unmatched_ms, bad_ms, ms_too_far_idx, \n",
    "            unmatched_db, multiDB_singleMS_idx, db_too_far_idx, \n",
    "            matched_db, matches)\n",
    "\n",
    "def find_matchings_one_image(cur_huge_dict, basename, wl_dir, mask_dir, input_type, show=False):\n",
    "        cur_image_dict = cur_huge_dict[basename]\n",
    "        \n",
    "        angle = cur_image_dict[\"SOLAR_P0\"]\n",
    "        deltashapeX = cur_image_dict[\"deltashapeX\"]\n",
    "        deltashapeY = cur_image_dict[\"deltashapeY\"]\n",
    "        \n",
    "        drawing_radius_px = huge_db_dict[basename][\"dr_radius_px\"]\n",
    "        \n",
    "        group_list = cur_image_dict['db']\n",
    "        \n",
    "        ms_dict = cur_image_dict['meanshift']\n",
    "\n",
    "        ms_members = ms_dict['groups_px']\n",
    "\n",
    "        # print('ms_dict: ', ms_dict)\n",
    "        \n",
    "        centroids = np.array(ms_dict[\"centroids\"])\n",
    "        centroids_px = np.array(ms_dict[\"centroids_px\"])\n",
    "        \n",
    "        db_classes = [{\"Zurich\":item['Zurich'], \"McIntosh\":item['McIntosh'] } for item in group_list]\n",
    "        # Attention: bbox_wl is in the form [lat1, Lon1, lat2, Lon2] -> [y1, x1, y2, x2]\n",
    "        # x1 is \n",
    "        db_bboxes = [np.array(item['bbox_wl']) for item in group_list]\n",
    "        db_centers_px = np.array([[(b[2]+b[0])/2,(b[3]+b[1])/2] for b in db_bboxes])\n",
    "\n",
    "        # open the image\n",
    "        image = np.array(io.imread(os.path.join(wl_dir, basename + '.FTS')))\n",
    "        image = c_utils.rotate_CV_bound(image, angle, interpolation=cv2.INTER_NEAREST)\n",
    "        image = image[deltashapeX//2:image.shape[0]-deltashapeX//2,\n",
    "                            deltashapeY//2:image.shape[1]-deltashapeY//2]\n",
    "\n",
    "        # open the mask\n",
    "        # mask = np.array(io.imread(os.path.join(masks_dir, basename + '.png')))\n",
    "        if input_type == \"mask\":\n",
    "            mask = io.imread(os.path.join(masks_dir,basename+\".png\"))\n",
    "        elif input_type == \"confidence_map\":\n",
    "#             print(\"here\")\n",
    "            mask = np.load(os.path.join(masks_dir,basename+\"_proba_map.npy\"))\n",
    "            mask[mask>0] = 1   \n",
    "            \n",
    "        msk = c_utils.expand_small_spots(mask)\n",
    "\n",
    "        # rotate the mask\n",
    "        mask = c_utils.rotate_CV_bound(mask, angle, interpolation=cv2.INTER_NEAREST)\n",
    "        mask = mask[deltashapeX//2:mask.shape[0]-deltashapeX//2,\n",
    "                            deltashapeY//2:mask.shape[1]-deltashapeY//2] \n",
    "\n",
    "        group_masks = [c_utils.get_mask_from_coords(mask, members) for members in ms_dict['groups_px']]\n",
    "         \n",
    "        try:\n",
    "            groups_bboxes = [c_utils.get_bbox_from_mask(mask) for mask in group_masks]\n",
    "            groups_bboxes = [(b[1], b[0], b[3], b[2]) for b in groups_bboxes]\n",
    "        except:\n",
    "            print(\"il y a un souci\")\n",
    "            print(basename)\n",
    "            print(centroids)\n",
    "        \n",
    "            raise\n",
    "\n",
    "        res = find_closest_ms_bbox(db_bboxes, groups_bboxes)\n",
    "        ious, distances, unmatched_ms, bad_ms, ms_too_far, unmatched_db, multiDB_singleMS, db_too_far, matched_db, matches = res\n",
    "        \n",
    "        unmatched_ms = unmatched_ms.tolist()\n",
    "        unmatched_db = unmatched_db.tolist()\n",
    "        bad_ms = bad_ms.tolist()\n",
    "        multiDB_singleMS = multiDB_singleMS.tolist()\n",
    "        db_too_far = db_too_far.tolist()\n",
    "        ms_too_far = ms_too_far.tolist()\n",
    "        \n",
    "\n",
    "        cur_out_stats = {\n",
    "            # General info\n",
    "            'num_DB_groups':len(db_bboxes),\n",
    "            'num_MS_groups':len(centroids_px),\n",
    "\n",
    "            'matches':matches,\n",
    "\n",
    "            # MS with DB matching info\n",
    "            'unmatched_db':unmatched_db,\n",
    "            'multiDB_singleMS': multiDB_singleMS,\n",
    "            'db_too_far':db_too_far,\n",
    "\n",
    "\n",
    "            'unmatched_ms':unmatched_ms,\n",
    "            'bad_ms':bad_ms,\n",
    "            'ms_too_far': ms_too_far,\n",
    "\n",
    "            \"ious\":ious.tolist(),\n",
    "            \"distances\":distances.tolist()\n",
    "\n",
    "            }\n",
    "        \n",
    "        Rmm = huge_db_dict[basename]['dr_radius_mm']\n",
    "        R_pixel = huge_db_dict[basename]['dr_radius_px']\n",
    "        sun_center = huge_db_dict[basename]['dr_center_px']\n",
    "        \n",
    "        cur_out_groups = []\n",
    "        for i, match in enumerate(matches):\n",
    "            # print('i: ', i, 'match: ', match)\n",
    "            if match != -1:\n",
    "                db_class = db_classes[i]\n",
    "\n",
    "                for pt in ms_members[match]:\n",
    "                    # print('pt: ', pt)\n",
    "                    assert c_utils.contains_sunspot(groups_bboxes[match],pt), \"pt: {} not in bbox: {}\".format(pt, groups_bboxes[match])\n",
    "\n",
    "\n",
    "                dr_pixpos = np.array([group_list[i]['posx'], group_list[i]['posy']])\n",
    "                \n",
    "                angular_excentricity =  c_utils.get_angle2(dr_pixpos, R_pixel, sun_center)\n",
    "                \n",
    "                cur_group_dict={\n",
    "                                \"centroid_px\": centroids_px[match],\n",
    "                                \"centroid_Lat\": centroids[match][0],\n",
    "                                \"centroid_Lon\": centroids[match][1],\n",
    "                                \"angular_excentricity_rad\": angular_excentricity,\n",
    "                                \"angular_excentricity_deg\": np.rad2deg(angular_excentricity),\n",
    "                                \"Zurich\":   db_class[\"Zurich\"],\n",
    "                                \"McIntosh\": db_class[\"McIntosh\"],\n",
    "                                \"members\": ms_members[match],\n",
    "                                \"members_mean_px\": np.mean(ms_members[match], axis=0),\n",
    "                            }\n",
    "                \n",
    "                \n",
    "                cur_out_groups.append(cur_group_dict)\n",
    "\n",
    "\n",
    "\n",
    "        out_groups = {}\n",
    "        if len(cur_out_groups) > 0:\n",
    "            out_groups = { \"angle\": angle,\n",
    "                                        \"deltashapeX\":deltashapeX,\n",
    "                                        \"deltashapeY\":deltashapeY,\n",
    "                                        \"groups\": cur_out_groups,\n",
    "                                    }\n",
    "\n",
    "\n",
    "        ############## SHOW THE RESULTS ################\n",
    "        if show:\n",
    "            print('unmatched db: ', unmatched_db)\n",
    "            print('multiDB_singleMS: ', multiDB_singleMS)\n",
    "            print('db_too_far: ', db_too_far)\n",
    "\n",
    "            print('unmatched ms', unmatched_ms)\n",
    "            print('bad_ms: ', bad_ms)\n",
    "\n",
    "            # if ious in not empty\n",
    "            if ious.size != 0:\n",
    "                # get the best iou for each db_bbox\n",
    "                best_ious = np.max(ious, axis=1)\n",
    "                best_ious_idx = np.argmax(ious, axis=1)\n",
    "            # show the mask\n",
    "            # plt.figure()\n",
    "            fig, ax = plt.subplots(1,1, figsize=(5,5))\n",
    "            ax.imshow(image,cmap='gray')\n",
    "            ax.imshow(mask, alpha=0.5)\n",
    "            # show the db_bboxes\n",
    "            for i, bbox in enumerate(db_bboxes):\n",
    "                linestyle = '-'\n",
    "                if i in unmatched_db:\n",
    "                    linestyle = '--'\n",
    "                ax.add_patch(patches.Rectangle((bbox[0],bbox[1]),bbox[2]-bbox[0],bbox[3]-bbox[1],linewidth=1,edgecolor='b',facecolor='none', linestyle=linestyle))\n",
    "                #format best iou to .2f\n",
    "                b=best_ious[i]\n",
    "                b = \"{:.2f}\".format(b)\n",
    "                ax.text(bbox[0],bbox[1], b, color='b')\n",
    "            # show the groups_bboxes\n",
    "            for i, bbox in enumerate(groups_bboxes):\n",
    "                color = 'g'\n",
    "                if i in bad_ms:\n",
    "                    color = 'r'\n",
    "                elif i in unmatched_ms:\n",
    "                    color = 'y'\n",
    "                ax.add_patch(patches.Rectangle((bbox[0],bbox[1]), bbox[2]-bbox[0], bbox[3]-bbox[1],linewidth=1,edgecolor=color,facecolor='none'))\n",
    "                if i in bad_ms:\n",
    "                    ax.text(bbox[0],bbox[1], 'bad', color='r')\n",
    "\n",
    "            for i, match in enumerate(matches):\n",
    "                if match != -1:\n",
    "                    ax.plot([db_bboxes[i][0], groups_bboxes[match][0]], [db_bboxes[i][1], groups_bboxes[match][1]], color='g')\n",
    "            \n",
    "            plt.show()\n",
    "\n",
    "        return basename, out_groups, cur_out_stats\n"
   ]
  },
  {
   "cell_type": "markdown",
   "metadata": {},
   "source": [
    "# Nouvelle méthode de comptage de TP et FN"
   ]
  },
  {
   "cell_type": "code",
   "execution_count": 22,
   "metadata": {},
   "outputs": [],
   "source": [
    "import json \n",
    "tmp = './grid_image_out_dict2.json'\n",
    "with open(tmp, 'w') as f:\n",
    "    json.dump(grid_image_out_dict, f, cls=NpEncoder)\n",
    "tmp = './grid_image_out_dict_stats2.json'\n",
    "with open(tmp, 'w') as f:\n",
    "    json.dump(grid_image_out_dict_stats, f, cls=NpEncoder)"
   ]
  },
  {
   "cell_type": "code",
   "execution_count": 13,
   "metadata": {},
   "outputs": [
    {
     "name": "stdout",
     "output_type": "stream",
     "text": [
      "84\n",
      "dict_keys(['0', '1', '2', '3', '4', '5', '6', '7', '8', '9', '10', '11', '12', '13', '14', '15', '16', '17', '18', '19', '20', '21', '22', '23', '24', '25', '26', '27', '28', '29', '30', '31', '32', '33', '34', '35', '36', '37', '38', '39', '40', '41', '42', '43', '44', '45', '46', '47', '48', '49', '50', '51', '52', '53', '54', '55', '56', '57', '58', '59', '60', '61', '62', '63', '64', '65', '66', '67', '68', '69', '70', '71', '72', '73', '74', '75', '76', '77', '78', '79', '80', '81', '82', '83'])\n",
      "84\n",
      "dict_keys(['0', '1', '2', '3', '4', '5', '6', '7', '8', '9', '10', '11', '12', '13', '14', '15', '16', '17', '18', '19', '20', '21', '22', '23', '24', '25', '26', '27', '28', '29', '30', '31', '32', '33', '34', '35', '36', '37', '38', '39', '40', '41', '42', '43', '44', '45', '46', '47', '48', '49', '50', '51', '52', '53', '54', '55', '56', '57', '58', '59', '60', '61', '62', '63', '64', '65', '66', '67', '68', '69', '70', '71', '72', '73', '74', '75', '76', '77', '78', '79', '80', '81', '82', '83'])\n"
     ]
    }
   ],
   "source": [
    "tmp2 = './grid_image_out_dict2.json'\n",
    "with open(tmp2, 'r') as f:\n",
    "    grid_image_out_dict = json.load(f)\n",
    "tmp2 = './grid_image_out_dict_stats2.json'\n",
    "with open(tmp2, 'r') as f:\n",
    "    grid_image_out_dict_stats = json.load(f)\n",
    "\n",
    "print(len(grid_image_out_dict))\n",
    "print(grid_image_out_dict.keys())\n",
    "print(len(grid_image_out_dict_stats))\n",
    "print(grid_image_out_dict_stats.keys())"
   ]
  },
  {
   "cell_type": "code",
   "execution_count": 14,
   "metadata": {
    "scrolled": true
   },
   "outputs": [
    {
     "ename": "NameError",
     "evalue": "name 'cur_huge_dict' is not defined",
     "output_type": "error",
     "traceback": [
      "\u001b[0;31m---------------------------------------------------------------------------\u001b[0m",
      "\u001b[0;31mNameError\u001b[0m                                 Traceback (most recent call last)",
      "Input \u001b[0;32mIn [14]\u001b[0m, in \u001b[0;36m<cell line: 1>\u001b[0;34m()\u001b[0m\n\u001b[0;32m----> 1\u001b[0m \u001b[38;5;28mprint\u001b[39m(\u001b[38;5;28mlist\u001b[39m(\u001b[43mcur_huge_dict\u001b[49m\u001b[38;5;241m.\u001b[39mkeys())[:])\n\u001b[1;32m      2\u001b[0m \u001b[38;5;28mprint\u001b[39m()\n\u001b[1;32m      3\u001b[0m \u001b[38;5;28mprint\u001b[39m(wl_dir)\n",
      "\u001b[0;31mNameError\u001b[0m: name 'cur_huge_dict' is not defined"
     ]
    }
   ],
   "source": [
    "print(list(cur_huge_dict.keys())[:])\n",
    "print()\n",
    "print(wl_dir)\n",
    "print(masks_dir)\n",
    "print(input_type)\n",
    "print(show)"
   ]
  },
  {
   "cell_type": "code",
   "execution_count": 18,
   "metadata": {
    "scrolled": false
   },
   "outputs": [
    {
     "data": {
      "application/vnd.jupyter.widget-view+json": {
       "model_id": "52af48807aa4425f957dfb8d7adf6093",
       "version_major": 2,
       "version_minor": 0
      },
      "text/plain": [
       "0it [00:00, ?it/s]"
      ]
     },
     "metadata": {},
     "output_type": "display_data"
    },
    {
     "name": "stdout",
     "output_type": "stream",
     "text": [
      "0 {'kernel_bandwidthLat': 0.08, 'kernel_bandwidthLon': 0.35, 'look_distance': 0.1, 'n_iterations': 20}\n",
      "cur_dict_2002-19_dist0.1_Lon0.35_lat0.08_iter20.json\n"
     ]
    },
    {
     "data": {
      "application/vnd.jupyter.widget-view+json": {
       "model_id": "186a82096016476fb25731bb4ebfa262",
       "version_major": 2,
       "version_minor": 0
      },
      "text/plain": [
       "0it [00:00, ?it/s]"
      ]
     },
     "metadata": {},
     "output_type": "display_data"
    },
    {
     "name": "stdout",
     "output_type": "stream",
     "text": [
      "il y a un souci\n",
      "UPH20020424160712\n",
      "[[-1.4253026   4.83547862]\n",
      " [-1.09247329  0.72597214]\n",
      " [-0.61633114  1.65385455]\n",
      " [-0.51818533  1.95031579]\n",
      " [-0.36382902  1.62707913]\n",
      " [-0.27493048  0.47727966]\n",
      " [-0.24746782  1.10254169]\n",
      " [-0.22808715  0.66157459]\n",
      " [-0.18240187  1.89199828]\n",
      " [ 0.16808046  0.25863839]\n",
      " [ 0.1849908   1.2200027 ]\n",
      " [ 0.18746656  0.08924538]\n",
      " [ 0.1990925   5.64325923]\n",
      " [ 0.21406713  5.44660203]\n",
      " [ 0.23233274  0.72213837]\n",
      " [ 1.02138304  1.67071476]]\n",
      "il y a un souci\n",
      "UPH20020427094522\n",
      "[[-0.29370982  6.04161915]\n",
      " [-0.16415706  1.29068314]\n",
      " [ 0.07858173  0.28114037]\n",
      " [ 0.20015943  0.0639768 ]\n",
      " [ 0.21289656  5.58437773]\n",
      " [ 0.23160884  6.07792489]\n",
      " [ 0.52092379  0.62975058]\n",
      " [ 0.53234301  4.61078865]\n",
      " [ 0.92223714  5.74547774]\n",
      " [ 1.02188899  1.03517208]\n",
      " [ 1.35315494  0.48461629]]\n",
      "il y a un souci\n",
      "UPH20020428170429\n",
      "[[-1.39270956  4.05804618]\n",
      " [-1.23364673  5.67914648]\n",
      " [-0.556701    0.94172172]\n",
      " [-0.16441495  0.96301111]\n",
      " [ 0.10065892  0.38853537]\n",
      " [ 0.20247049  0.10830652]\n",
      " [ 0.2192853   5.57754678]\n",
      " [ 0.22282394  6.14604984]\n",
      " [ 0.2842579   0.36800986]\n",
      " [ 0.99396609  0.74911944]\n",
      " [ 1.34927128  0.22080915]]\n"
     ]
    },
    {
     "ename": "ValueError",
     "evalue": "zero-size array to reduction operation minimum which has no identity",
     "output_type": "error",
     "traceback": [
      "\u001b[0;31m---------------------------------------------------------------------------\u001b[0m",
      "\u001b[0;31m_RemoteTraceback\u001b[0m                          Traceback (most recent call last)",
      "\u001b[0;31m_RemoteTraceback\u001b[0m: \n\"\"\"\nTraceback (most recent call last):\n  File \"/home/ucl/elen/nsayez/miniconda3/envs/new-bioblue/lib/python3.8/concurrent/futures/process.py\", line 239, in _process_worker\n    r = call_item.fn(*call_item.args, **call_item.kwargs)\n  File \"/home/ucl/elen/nsayez/miniconda3/envs/new-bioblue/lib/python3.8/concurrent/futures/process.py\", line 198, in _process_chunk\n    return [fn(*args) for args in chunk]\n  File \"/home/ucl/elen/nsayez/miniconda3/envs/new-bioblue/lib/python3.8/concurrent/futures/process.py\", line 198, in <listcomp>\n    return [fn(*args) for args in chunk]\n  File \"/scratch/nsayez/40312847/ipykernel_2274230/3985326030.py\", line 280, in find_matchings_one_image\n    groups_bboxes = [c_utils.get_bbox_from_mask(mask) for mask in group_masks]\n  File \"/scratch/nsayez/40312847/ipykernel_2274230/3985326030.py\", line 280, in <listcomp>\n    groups_bboxes = [c_utils.get_bbox_from_mask(mask) for mask in group_masks]\n  File \"/auto/home/users/n/s/nsayez/bio-blueprints/notebooks/Classification_generatedataset/clustering_utilities.py\", line 1033, in get_bbox_from_mask\n    return np.min(x), np.min(y), np.max(x), np.max(y)\n  File \"<__array_function__ internals>\", line 5, in amin\n  File \"/home/ucl/elen/nsayez/miniconda3/envs/new-bioblue/lib/python3.8/site-packages/numpy/core/fromnumeric.py\", line 2879, in amin\n    return _wrapreduction(a, np.minimum, 'min', axis, None, out,\n  File \"/home/ucl/elen/nsayez/miniconda3/envs/new-bioblue/lib/python3.8/site-packages/numpy/core/fromnumeric.py\", line 86, in _wrapreduction\n    return ufunc.reduce(obj, axis, dtype, out, **passkwargs)\nValueError: zero-size array to reduction operation minimum which has no identity\n\"\"\"",
      "\nThe above exception was the direct cause of the following exception:\n",
      "\u001b[0;31mValueError\u001b[0m                                Traceback (most recent call last)",
      "Input \u001b[0;32mIn [18]\u001b[0m, in \u001b[0;36m<cell line: 14>\u001b[0;34m()\u001b[0m\n\u001b[1;32m     30\u001b[0m         cur_huge_dict \u001b[38;5;241m=\u001b[39m json\u001b[38;5;241m.\u001b[39mload(f)\n\u001b[1;32m     33\u001b[0m     \u001b[38;5;28;01mwith\u001b[39;00m concurrent\u001b[38;5;241m.\u001b[39mfutures\u001b[38;5;241m.\u001b[39mProcessPoolExecutor(max_workers\u001b[38;5;241m=\u001b[39m\u001b[38;5;28mint\u001b[39m(num_cpu)) \u001b[38;5;28;01mas\u001b[39;00m executor:\n\u001b[0;32m---> 34\u001b[0m         \u001b[38;5;28;01mfor\u001b[39;00m result_key, result_dict, result_dict_stats \u001b[38;5;129;01min\u001b[39;00m tqdm(executor\u001b[38;5;241m.\u001b[39mmap(find_matchings_one_image, \n\u001b[1;32m     35\u001b[0m                                                             repeat(cur_huge_dict),\n\u001b[1;32m     36\u001b[0m                                                             \u001b[38;5;28mlist\u001b[39m(cur_huge_dict\u001b[38;5;241m.\u001b[39mkeys())[:],\n\u001b[1;32m     37\u001b[0m                                                             repeat(wl_dir),\n\u001b[1;32m     38\u001b[0m                                                             repeat(masks_dir),\n\u001b[1;32m     39\u001b[0m                                                             repeat(input_type),\n\u001b[1;32m     40\u001b[0m                                                             repeat(show)\n\u001b[1;32m     41\u001b[0m                                                             )):\n\u001b[1;32m     42\u001b[0m             \u001b[38;5;66;03m# print(result_key)\u001b[39;00m\n\u001b[1;32m     43\u001b[0m \u001b[38;5;66;03m#             print(result_dict_stats[\"ms_too_far\"])\u001b[39;00m\n\u001b[1;32m     44\u001b[0m             image_out_dict[result_key] \u001b[38;5;241m=\u001b[39m result_dict\n\u001b[1;32m     45\u001b[0m             image_out_dict_stats[result_key] \u001b[38;5;241m=\u001b[39m result_dict_stats\n",
      "File \u001b[0;32m~/miniconda3/envs/new-bioblue/lib/python3.8/site-packages/tqdm/notebook.py:259\u001b[0m, in \u001b[0;36mtqdm_notebook.__iter__\u001b[0;34m(self)\u001b[0m\n\u001b[1;32m    257\u001b[0m \u001b[38;5;28;01mtry\u001b[39;00m:\n\u001b[1;32m    258\u001b[0m     it \u001b[38;5;241m=\u001b[39m \u001b[38;5;28msuper\u001b[39m(tqdm_notebook, \u001b[38;5;28mself\u001b[39m)\u001b[38;5;241m.\u001b[39m\u001b[38;5;21m__iter__\u001b[39m()\n\u001b[0;32m--> 259\u001b[0m     \u001b[38;5;28;01mfor\u001b[39;00m obj \u001b[38;5;129;01min\u001b[39;00m it:\n\u001b[1;32m    260\u001b[0m         \u001b[38;5;66;03m# return super(tqdm...) will not catch exception\u001b[39;00m\n\u001b[1;32m    261\u001b[0m         \u001b[38;5;28;01myield\u001b[39;00m obj\n\u001b[1;32m    262\u001b[0m \u001b[38;5;66;03m# NB: except ... [ as ...] breaks IPython async KeyboardInterrupt\u001b[39;00m\n",
      "File \u001b[0;32m~/miniconda3/envs/new-bioblue/lib/python3.8/site-packages/tqdm/std.py:1195\u001b[0m, in \u001b[0;36mtqdm.__iter__\u001b[0;34m(self)\u001b[0m\n\u001b[1;32m   1192\u001b[0m time \u001b[38;5;241m=\u001b[39m \u001b[38;5;28mself\u001b[39m\u001b[38;5;241m.\u001b[39m_time\n\u001b[1;32m   1194\u001b[0m \u001b[38;5;28;01mtry\u001b[39;00m:\n\u001b[0;32m-> 1195\u001b[0m     \u001b[38;5;28;01mfor\u001b[39;00m obj \u001b[38;5;129;01min\u001b[39;00m iterable:\n\u001b[1;32m   1196\u001b[0m         \u001b[38;5;28;01myield\u001b[39;00m obj\n\u001b[1;32m   1197\u001b[0m         \u001b[38;5;66;03m# Update and possibly print the progressbar.\u001b[39;00m\n\u001b[1;32m   1198\u001b[0m         \u001b[38;5;66;03m# Note: does not call self.update(1) for speed optimisation.\u001b[39;00m\n",
      "File \u001b[0;32m~/miniconda3/envs/new-bioblue/lib/python3.8/concurrent/futures/process.py:484\u001b[0m, in \u001b[0;36m_chain_from_iterable_of_lists\u001b[0;34m(iterable)\u001b[0m\n\u001b[1;32m    478\u001b[0m \u001b[38;5;28;01mdef\u001b[39;00m \u001b[38;5;21m_chain_from_iterable_of_lists\u001b[39m(iterable):\n\u001b[1;32m    479\u001b[0m     \u001b[38;5;124;03m\"\"\"\u001b[39;00m\n\u001b[1;32m    480\u001b[0m \u001b[38;5;124;03m    Specialized implementation of itertools.chain.from_iterable.\u001b[39;00m\n\u001b[1;32m    481\u001b[0m \u001b[38;5;124;03m    Each item in *iterable* should be a list.  This function is\u001b[39;00m\n\u001b[1;32m    482\u001b[0m \u001b[38;5;124;03m    careful not to keep references to yielded objects.\u001b[39;00m\n\u001b[1;32m    483\u001b[0m \u001b[38;5;124;03m    \"\"\"\u001b[39;00m\n\u001b[0;32m--> 484\u001b[0m     \u001b[38;5;28;01mfor\u001b[39;00m element \u001b[38;5;129;01min\u001b[39;00m iterable:\n\u001b[1;32m    485\u001b[0m         element\u001b[38;5;241m.\u001b[39mreverse()\n\u001b[1;32m    486\u001b[0m         \u001b[38;5;28;01mwhile\u001b[39;00m element:\n",
      "File \u001b[0;32m~/miniconda3/envs/new-bioblue/lib/python3.8/concurrent/futures/_base.py:619\u001b[0m, in \u001b[0;36mExecutor.map.<locals>.result_iterator\u001b[0;34m()\u001b[0m\n\u001b[1;32m    616\u001b[0m \u001b[38;5;28;01mwhile\u001b[39;00m fs:\n\u001b[1;32m    617\u001b[0m     \u001b[38;5;66;03m# Careful not to keep a reference to the popped future\u001b[39;00m\n\u001b[1;32m    618\u001b[0m     \u001b[38;5;28;01mif\u001b[39;00m timeout \u001b[38;5;129;01mis\u001b[39;00m \u001b[38;5;28;01mNone\u001b[39;00m:\n\u001b[0;32m--> 619\u001b[0m         \u001b[38;5;28;01myield\u001b[39;00m \u001b[43mfs\u001b[49m\u001b[38;5;241;43m.\u001b[39;49m\u001b[43mpop\u001b[49m\u001b[43m(\u001b[49m\u001b[43m)\u001b[49m\u001b[38;5;241;43m.\u001b[39;49m\u001b[43mresult\u001b[49m\u001b[43m(\u001b[49m\u001b[43m)\u001b[49m\n\u001b[1;32m    620\u001b[0m     \u001b[38;5;28;01melse\u001b[39;00m:\n\u001b[1;32m    621\u001b[0m         \u001b[38;5;28;01myield\u001b[39;00m fs\u001b[38;5;241m.\u001b[39mpop()\u001b[38;5;241m.\u001b[39mresult(end_time \u001b[38;5;241m-\u001b[39m time\u001b[38;5;241m.\u001b[39mmonotonic())\n",
      "File \u001b[0;32m~/miniconda3/envs/new-bioblue/lib/python3.8/concurrent/futures/_base.py:444\u001b[0m, in \u001b[0;36mFuture.result\u001b[0;34m(self, timeout)\u001b[0m\n\u001b[1;32m    442\u001b[0m     \u001b[38;5;28;01mraise\u001b[39;00m CancelledError()\n\u001b[1;32m    443\u001b[0m \u001b[38;5;28;01melif\u001b[39;00m \u001b[38;5;28mself\u001b[39m\u001b[38;5;241m.\u001b[39m_state \u001b[38;5;241m==\u001b[39m FINISHED:\n\u001b[0;32m--> 444\u001b[0m     \u001b[38;5;28;01mreturn\u001b[39;00m \u001b[38;5;28;43mself\u001b[39;49m\u001b[38;5;241;43m.\u001b[39;49m\u001b[43m__get_result\u001b[49m\u001b[43m(\u001b[49m\u001b[43m)\u001b[49m\n\u001b[1;32m    445\u001b[0m \u001b[38;5;28;01melse\u001b[39;00m:\n\u001b[1;32m    446\u001b[0m     \u001b[38;5;28;01mraise\u001b[39;00m \u001b[38;5;167;01mTimeoutError\u001b[39;00m()\n",
      "File \u001b[0;32m~/miniconda3/envs/new-bioblue/lib/python3.8/concurrent/futures/_base.py:389\u001b[0m, in \u001b[0;36mFuture.__get_result\u001b[0;34m(self)\u001b[0m\n\u001b[1;32m    387\u001b[0m \u001b[38;5;28;01mif\u001b[39;00m \u001b[38;5;28mself\u001b[39m\u001b[38;5;241m.\u001b[39m_exception:\n\u001b[1;32m    388\u001b[0m     \u001b[38;5;28;01mtry\u001b[39;00m:\n\u001b[0;32m--> 389\u001b[0m         \u001b[38;5;28;01mraise\u001b[39;00m \u001b[38;5;28mself\u001b[39m\u001b[38;5;241m.\u001b[39m_exception\n\u001b[1;32m    390\u001b[0m     \u001b[38;5;28;01mfinally\u001b[39;00m:\n\u001b[1;32m    391\u001b[0m         \u001b[38;5;66;03m# Break a reference cycle with the exception in self._exception\u001b[39;00m\n\u001b[1;32m    392\u001b[0m         \u001b[38;5;28mself\u001b[39m \u001b[38;5;241m=\u001b[39m \u001b[38;5;28;01mNone\u001b[39;00m\n",
      "\u001b[0;31mValueError\u001b[0m: zero-size array to reduction operation minimum which has no identity"
     ]
    }
   ],
   "source": [
    "%matplotlib inline\n",
    "grid_image_out_dict = { }\n",
    "grid_image_out_dict_stats = { }\n",
    "num_cpu = 1\n",
    "show=False\n",
    "\n",
    "# input_type = \"mask\"\n",
    "input_type = \"confidence_map\"\n",
    "\n",
    "#####\n",
    "param_optim_folder = '/globalscratch/users/n/s/nsayez/Classification_dataset/2002-2019_2/param_optimization'\n",
    "#####\n",
    "\n",
    "for param_idx, params in tqdm(enumerate(param_grid)):\n",
    "    print(param_idx, params)\n",
    "\n",
    "    image_out_dict = {}\n",
    "    image_out_dict_stats = {}\n",
    "\n",
    "#     {'kernel_bandwidthLat': 0.12, 'kernel_bandwidthLon': 0.45, 'look_distance': 0.1, 'n_iterations': 20}\n",
    "\n",
    "#     cur_huge_dict = deepcopy(grid_huge_dict[str(param_idx)])\n",
    "    fn = f'cur_dict_2002-19_dist{params[\"look_distance\"]}_Lon{params[\"kernel_bandwidthLon\"]}_lat{params[\"kernel_bandwidthLat\"]}_iter{params[\"n_iterations\"]}.json'  \n",
    "    print(fn)\n",
    "    \n",
    "#     raise\n",
    "    \n",
    "    cur_huge_dict_filename = os.path.join(param_optim_folder,fn)\n",
    "    with open(cur_huge_dict_filename,'r') as f:\n",
    "        cur_huge_dict = json.load(f)\n",
    "        \n",
    "\n",
    "    with concurrent.futures.ProcessPoolExecutor(max_workers=int(num_cpu)) as executor:\n",
    "        for result_key, result_dict, result_dict_stats in tqdm(executor.map(find_matchings_one_image, \n",
    "                                                            repeat(cur_huge_dict),\n",
    "                                                            list(cur_huge_dict.keys())[:],\n",
    "                                                            repeat(wl_dir),\n",
    "                                                            repeat(masks_dir),\n",
    "                                                            repeat(input_type),\n",
    "                                                            repeat(show)\n",
    "                                                            )):\n",
    "            # print(result_key)\n",
    "#             print(result_dict_stats[\"ms_too_far\"])\n",
    "            image_out_dict[result_key] = result_dict\n",
    "            image_out_dict_stats[result_key] = result_dict_stats\n",
    "            # image_out_dict_stats[result_key] = result_dict['stats']\n",
    "#             break\n",
    "   \n",
    "        \n",
    "        \n",
    "\n",
    "    print('num_images: ', len(list(image_out_dict.keys())))\n",
    "    num_groups = 0\n",
    "    for k,v in image_out_dict.items():\n",
    "        # print(k,v)\n",
    "        if v:\n",
    "            num_groups += len(v['groups'])\n",
    "    print(\"num_groups: \",num_groups)\n",
    "    # print(image_out_dict)\n",
    "\n",
    "    grid_image_out_dict[param_idx] = deepcopy(image_out_dict)\n",
    "    grid_image_out_dict_stats[param_idx] = deepcopy(image_out_dict_stats)\n",
    "\n",
    "#     break           \n"
   ]
  },
  {
   "cell_type": "code",
   "execution_count": 17,
   "metadata": {},
   "outputs": [
    {
     "ename": "KeyError",
     "evalue": "'0'",
     "output_type": "error",
     "traceback": [
      "\u001b[0;31m---------------------------------------------------------------------------\u001b[0m",
      "\u001b[0;31mKeyError\u001b[0m                                  Traceback (most recent call last)",
      "Input \u001b[0;32mIn [17]\u001b[0m, in \u001b[0;36m<cell line: 67>\u001b[0;34m()\u001b[0m\n\u001b[1;32m     67\u001b[0m \u001b[38;5;28;01mfor\u001b[39;00m param_idx, params \u001b[38;5;129;01min\u001b[39;00m \u001b[38;5;28menumerate\u001b[39m(param_grid):\n\u001b[1;32m     68\u001b[0m     param_idx\u001b[38;5;241m=\u001b[39m \u001b[38;5;28mstr\u001b[39m(param_idx)\n\u001b[0;32m---> 69\u001b[0m     image_out_dict \u001b[38;5;241m=\u001b[39m \u001b[43mgrid_image_out_dict\u001b[49m\u001b[43m[\u001b[49m\u001b[43mparam_idx\u001b[49m\u001b[43m]\u001b[49m\n\u001b[1;32m     70\u001b[0m     image_out_dict_stats \u001b[38;5;241m=\u001b[39m grid_image_out_dict_stats[param_idx]\n\u001b[1;32m     72\u001b[0m     \u001b[38;5;66;03m# General info\u001b[39;00m\n",
      "\u001b[0;31mKeyError\u001b[0m: '0'"
     ]
    }
   ],
   "source": [
    "import collections\n",
    "from collections import Counter\n",
    "\n",
    "cur_out_stats = {\n",
    "    # # General info\n",
    "    # 'num_DB_groups': 0,\n",
    "    # 'num_MS_groups': 0,\n",
    "    # 'num_DB_isolated_groups': 0,\n",
    "    # 'num_DB_overlaping_bboxes': 0,\n",
    "    # # MS with DB matching info\n",
    "    # \"num_MSmatchesDB\":0,\n",
    "    # # MS with DB rejection info\n",
    "    # \"num_noMS_but_DB_reject\":0,\n",
    "    # \"num_singleMS_multipleDB_reject\":0,\n",
    "    # \"num_oneDBbbox_multipleMSoverlap_ambiguity_reject\":0,\n",
    "    # # MS with DB no match info\n",
    "    # \"num_noDB_but_MS\":0,\n",
    "            # General info\n",
    "            'num_DB_groups':0,\n",
    "            'num_MS_groups':0,\n",
    "\n",
    "            'matches':0,\n",
    "\n",
    "            # MS with DB matching info\n",
    "            'unmatched_db':0,\n",
    "            'multiDB_singleMS': 0,\n",
    "            'db_too_far':0,\n",
    "\n",
    "\n",
    "            'unmatched_ms':0,\n",
    "            'bad_ms':0,\n",
    "            'ms_too_far':0,\n",
    "\n",
    "            \"ious\":0,\n",
    "            \"distances\":0\n",
    "\n",
    "    }\n",
    "\n",
    "stats_keys = cur_out_stats.keys()\n",
    "\n",
    "should_check =  list(stats_keys) + [\n",
    "                                        'num_rejects_all',\n",
    "                                        'num_optimizable_rejects',\n",
    "                                        'rate_optimizable_rejects',\n",
    "                                    ]\n",
    "\n",
    "gridsearch_dict_per_img = { k : np.zeros((len(param_grid_values['kernel_bandwidthLon']), \n",
    "                                   len(param_grid_values['kernel_bandwidthLat']),\n",
    "                                    len(wl_list)\n",
    "                                   ))\n",
    "                    for k in should_check}\n",
    "\n",
    "should_check_global = list(stats_keys) + [\n",
    "                                            'num_rejects_all',\n",
    "                                            'num_optimizable_rejects',\n",
    "                                            'rate_optimizable_rejects',\n",
    "                                         ]\n",
    "gridsearch_dict_total = { k : np.zeros((len(param_grid_values['kernel_bandwidthLon']), \n",
    "                                   len(param_grid_values['kernel_bandwidthLat'])\n",
    "                                   ))\n",
    "                    for k in should_check_global}\n",
    "\n",
    "# grid_search_reject_distribs = { k : {} for param_idx, params in enumerate(param_grid)}\n",
    "grid_search_reject_distribs = {}\n",
    "\n",
    "\n",
    "for param_idx, params in enumerate(param_grid):\n",
    "    param_idx= str(param_idx)\n",
    "    image_out_dict = grid_image_out_dict[param_idx]\n",
    "    image_out_dict_stats = grid_image_out_dict_stats[param_idx]\n",
    "    \n",
    "    # General info\n",
    "    num_DB_groups_per_image = np.array([item['num_DB_groups'] for k,item in image_out_dict_stats.items()])\n",
    "    num_MS_groups_per_image = np.array([item['num_MS_groups'] for k,item in image_out_dict_stats.items()])\n",
    "\n",
    "    diff_num_groups = num_DB_groups_per_image - num_MS_groups_per_image # should be shown on histogram , closer to 0 is better\n",
    "\n",
    "\n",
    "    # matches\n",
    "    num_MSmatchesDB = np.array([len(np.where(v['matches'] != -1)[0]) for k,v in image_out_dict_stats.items()])\n",
    "    \n",
    "    num_unmatched_db = np.array([len(v['unmatched_db']) for k,v in image_out_dict_stats.items()])\n",
    "    num_multiDB_singleMS = np.array([len(v['multiDB_singleMS']) for k,v in image_out_dict_stats.items()])\n",
    "    num_db_too_far = np.array([len(v['db_too_far']) for k,v in image_out_dict_stats.items()])\n",
    "\n",
    "\n",
    "    num_unmatchedMS = np.array([len(v['unmatched_ms']) for k,v in image_out_dict_stats.items()])\n",
    "    num_badMS = np.array([len(v['bad_ms']) for k,v in image_out_dict_stats.items()])\n",
    "    num_ms_too_far = np.array([len(v['ms_too_far']) for k,v in image_out_dict_stats.items()])\n",
    "    \n",
    "  \n",
    "    num_optimizable_rejects = num_badMS + num_multiDB_singleMS \n",
    "    num_rejects_all = num_optimizable_rejects + num_db_too_far\n",
    "\n",
    "    # get indices of current params\n",
    "    kernel_bandwidthLon_idx = param_grid_values['kernel_bandwidthLon'].index(params['kernel_bandwidthLon'])\n",
    "    kernel_bandwidthLat_idx = param_grid_values['kernel_bandwidthLat'].index(params['kernel_bandwidthLat'])\n",
    "    ############################\n",
    "    # Fill per-image dictinnary \n",
    "    ############################\n",
    "\n",
    "    # number of DB groups\n",
    "    gridsearch_dict_per_img['num_DB_groups'][kernel_bandwidthLon_idx,kernel_bandwidthLat_idx] = num_DB_groups_per_image\n",
    "    # number of MS groups\n",
    "    gridsearch_dict_per_img['num_MS_groups'][kernel_bandwidthLon_idx,kernel_bandwidthLat_idx] = num_MS_groups_per_image\n",
    "\n",
    "    # number of matches\n",
    "    # print(num_MSmatchesDB.shape)\n",
    "    # print(num_MSmatchesDB)\n",
    "    gridsearch_dict_per_img['matches'][kernel_bandwidthLon_idx,kernel_bandwidthLat_idx] = num_MSmatchesDB\n",
    "    # number of unmatched DB groups\n",
    "    gridsearch_dict_per_img['unmatched_db'][kernel_bandwidthLon_idx,kernel_bandwidthLat_idx] = num_unmatched_db\n",
    "    # number of multi DB groups matched to single MS group\n",
    "    gridsearch_dict_per_img['multiDB_singleMS'][kernel_bandwidthLon_idx,kernel_bandwidthLat_idx] = num_multiDB_singleMS\n",
    "    # number of DB groups too far from MS group\n",
    "    gridsearch_dict_per_img['db_too_far'][kernel_bandwidthLon_idx,kernel_bandwidthLat_idx] = num_db_too_far\n",
    "    # number of unmatched MS groups\n",
    "    gridsearch_dict_per_img['unmatched_ms'][kernel_bandwidthLon_idx,kernel_bandwidthLat_idx] = num_unmatchedMS\n",
    "    # number of bad MS groups\n",
    "    gridsearch_dict_per_img['bad_ms'][kernel_bandwidthLon_idx,kernel_bandwidthLat_idx] = num_badMS\n",
    "    # number of MS groups too far from DB group\n",
    "    gridsearch_dict_per_img['ms_too_far'][kernel_bandwidthLon_idx,kernel_bandwidthLat_idx] = num_ms_too_far\n",
    "\n",
    "\n",
    "    gridsearch_dict_per_img['num_optimizable_rejects'][kernel_bandwidthLon_idx,kernel_bandwidthLat_idx] = num_optimizable_rejects\n",
    "    gridsearch_dict_per_img['num_rejects_all'][kernel_bandwidthLon_idx,kernel_bandwidthLat_idx] = num_rejects_all\n",
    "     \n",
    "    ############################\n",
    "    # Fill total dictionnary\n",
    "    ############################\n",
    "    # number of DB groups\n",
    "    gridsearch_dict_total['num_DB_groups'][kernel_bandwidthLon_idx,kernel_bandwidthLat_idx] = np.sum(num_DB_groups_per_image)\n",
    "    # number of MS groups\n",
    "    gridsearch_dict_total['num_MS_groups'][kernel_bandwidthLon_idx,kernel_bandwidthLat_idx] = np.sum(num_MS_groups_per_image)\n",
    "\n",
    "    # number of matches\n",
    "    gridsearch_dict_total['matches'][kernel_bandwidthLon_idx,kernel_bandwidthLat_idx] = np.sum(num_MSmatchesDB)\n",
    "    # number of unmatched DB groups\n",
    "    gridsearch_dict_total['unmatched_db'][kernel_bandwidthLon_idx,kernel_bandwidthLat_idx] = np.sum(num_unmatched_db)\n",
    "    # number of multi DB groups matched to single MS group\n",
    "    gridsearch_dict_total['multiDB_singleMS'][kernel_bandwidthLon_idx,kernel_bandwidthLat_idx] = np.sum(num_multiDB_singleMS)\n",
    "    # number of DB groups too far from MS group\n",
    "    gridsearch_dict_total['db_too_far'][kernel_bandwidthLon_idx,kernel_bandwidthLat_idx] = np.sum(num_db_too_far)\n",
    "    # number of unmatched MS groups\n",
    "    gridsearch_dict_total['unmatched_ms'][kernel_bandwidthLon_idx,kernel_bandwidthLat_idx] = np.sum(num_unmatchedMS)\n",
    "    # number of bad MS groups\n",
    "    gridsearch_dict_total['bad_ms'][kernel_bandwidthLon_idx,kernel_bandwidthLat_idx] = np.sum(num_badMS)\n",
    "    # number of MS groups too far from DB group\n",
    "    gridsearch_dict_total['ms_too_far'][kernel_bandwidthLon_idx,kernel_bandwidthLat_idx] = np.sum(num_ms_too_far)\n",
    "    \n",
    "    \n",
    "\n",
    "    gridsearch_dict_total['num_optimizable_rejects'][kernel_bandwidthLon_idx,kernel_bandwidthLat_idx] = np.sum(num_optimizable_rejects)\n",
    "    gridsearch_dict_total['num_rejects_all'][kernel_bandwidthLon_idx,kernel_bandwidthLat_idx] = np.sum(num_rejects_all)\n",
    "\n",
    "#     break\n",
    "    \n",
    "\n",
    "# gridsearch = { k : pd.DataFrame(v) }\n"
   ]
  },
  {
   "cell_type": "code",
   "execution_count": 33,
   "metadata": {},
   "outputs": [
    {
     "data": {
      "application/vnd.jupyter.widget-view+json": {
       "model_id": "3e7cd799932c47be9c14d331ec189557",
       "version_major": 2,
       "version_minor": 0
      },
      "text/plain": [
       "Canvas(toolbar=Toolbar(toolitems=[('Home', 'Reset original view', 'home', 'home'), ('Back', 'Back to previous …"
      ]
     },
     "metadata": {},
     "output_type": "display_data"
    },
    {
     "name": "stdout",
     "output_type": "stream",
     "text": [
      "[[11. 12. 12. 12. 12. 12. 12. 12. 12. 12. 11. 11. 11. 11.]\n",
      " [12. 12. 12. 12. 12. 12. 12. 11. 11. 11. 11. 11. 11. 11.]\n",
      " [12. 12. 12. 12. 12. 11. 11. 11. 11. 11. 10. 10.  9.  9.]\n",
      " [12. 12. 12. 12. 11. 10.  9.  9.  8.  8.  8.  8.  7.  7.]\n",
      " [11. 11. 11.  9.  8.  7.  6.  6.  6.  6.  6.  6.  6.  6.]\n",
      " [11. 10.  7.  7.  7.  6.  6.  6.  6.  6.  6.  6.  6.  5.]]\n",
      "[[3. 3. 3. 3. 3. 3. 3. 3. 3. 3. 3. 3. 3. 3.]\n",
      " [3. 3. 3. 3. 3. 3. 3. 3. 3. 3. 3. 3. 3. 3.]\n",
      " [3. 3. 3. 3. 3. 3. 3. 3. 3. 3. 3. 3. 3. 3.]\n",
      " [3. 3. 3. 3. 3. 3. 3. 3. 3. 3. 3. 3. 3. 3.]\n",
      " [3. 3. 3. 3. 3. 3. 3. 3. 3. 3. 3. 3. 3. 3.]\n",
      " [3. 3. 3. 3. 3. 3. 3. 3. 3. 3. 3. 3. 3. 2.]]\n",
      "[[8. 9. 9. 9. 9. 9. 9. 9. 9. 9. 8. 8. 8. 8.]\n",
      " [9. 9. 9. 9. 9. 9. 9. 8. 8. 8. 8. 8. 8. 8.]\n",
      " [9. 9. 9. 9. 9. 8. 8. 8. 8. 8. 7. 7. 6. 6.]\n",
      " [9. 9. 9. 9. 8. 7. 6. 6. 5. 5. 5. 5. 4. 4.]\n",
      " [8. 8. 8. 6. 5. 4. 3. 3. 3. 3. 3. 3. 3. 3.]\n",
      " [8. 7. 4. 4. 4. 3. 3. 3. 3. 3. 3. 3. 3. 3.]]\n"
     ]
    },
    {
     "data": {
      "application/vnd.jupyter.widget-view+json": {
       "model_id": "0ecf61775c38492e8d7e6521602945c2",
       "version_major": 2,
       "version_minor": 0
      },
      "text/plain": [
       "Canvas(toolbar=Toolbar(toolitems=[('Home', 'Reset original view', 'home', 'home'), ('Back', 'Back to previous …"
      ]
     },
     "metadata": {},
     "output_type": "display_data"
    }
   ],
   "source": [
    "%matplotlib ipympl\n",
    "# accuracy\n",
    "# all_isolated = gridsearch_dict_total['num_DB_isolated_groups'] \n",
    "# all_overlapping = gridsearch_dict_total['num_DB_overlaping_bboxes'] \n",
    "\n",
    "# print('all_isolated: ', all_isolated[0,0],'all_overlapping: ' ,all_overlapping[0,0])\n",
    "# all_noMS_but_DB = gridsearch_dict_total['num_noMS_but_DB_reject']\n",
    "\n",
    "all_groups = gridsearch_dict_total['num_DB_groups']\n",
    "\n",
    "all_too_far = gridsearch_dict_total['db_too_far']\n",
    "\n",
    "to_count = all_groups - all_too_far\n",
    "\n",
    "all_optimizable_rejects = gridsearch_dict_total['num_optimizable_rejects']\n",
    "\n",
    "all_matches = gridsearch_dict_total['matches']\n",
    "\n",
    "all_unmatched_ms = gridsearch_dict_total['unmatched_ms']\n",
    "all_ms_too_far = gridsearch_dict_total['ms_too_far']\n",
    "\n",
    "\n",
    "\n",
    "accuracy = all_matches / (all_matches + all_optimizable_rejects )\n",
    "\n",
    "accuracy_df = pd.DataFrame(accuracy)\n",
    "accuracy_df.columns = param_grid_values['kernel_bandwidthLat']\n",
    "accuracy_df.index = param_grid_values['kernel_bandwidthLon']\n",
    "accuracy_df = accuracy_df.transpose()\n",
    "\n",
    "\n",
    "fig_, ax_ = plt.subplots(1,1, figsize=(8*1,5*1))\n",
    "ax_ = sns.heatmap(accuracy_df, ax=ax_, annot=True)\n",
    "# ax_ = sns.heatmap(accuracy_df, ax=ax_, vmin=0, annot=True)\n",
    "ax_.set_title('Accuracy')\n",
    "ax_.set_ylabel('kernel_bandwidthLat')\n",
    "ax_.set_xlabel('kernel_bandwidthLon')\n",
    "\n",
    "fig_.tight_layout()\n",
    "\n",
    "\n",
    "############\n",
    "print(all_unmatched_ms.T)\n",
    "print(all_ms_too_far.T)\n",
    "print((all_unmatched_ms - all_ms_too_far).T)\n",
    "\n",
    "accuracy = all_matches / (all_matches + all_optimizable_rejects + (all_unmatched_ms - all_ms_too_far)  )\n",
    "accuracy_df = pd.DataFrame(accuracy)\n",
    "accuracy_df.columns = param_grid_values['kernel_bandwidthLat']\n",
    "accuracy_df.index = param_grid_values['kernel_bandwidthLon']\n",
    "accuracy_df = accuracy_df.transpose()\n",
    "\n",
    "fig2_, ax2_ = plt.subplots(1,1, figsize=(8*1,5*1))\n",
    "ax2_ = sns.heatmap(accuracy_df, ax=ax2_, annot=True)\n",
    "# ax2_ = sns.heatmap(accuracy_df, ax=ax_, vmin=0, annot=True)\n",
    "ax2_.set_title('Accuracy')\n",
    "ax2_.set_ylabel('kernel_bandwidthLat')\n",
    "ax2_.set_xlabel('kernel_bandwidthLon')\n",
    "\n",
    "fig2_.tight_layout()\n"
   ]
  },
  {
   "cell_type": "markdown",
   "metadata": {},
   "source": [
    "# Ancienne méthode de comptage"
   ]
  },
  {
   "cell_type": "code",
   "execution_count": 25,
   "metadata": {
    "scrolled": true
   },
   "outputs": [
    {
     "name": "stdout",
     "output_type": "stream",
     "text": [
      "0 {'kernel_bandwidthLat': 0.02, 'kernel_bandwidthLon': 0.05, 'look_distance': 0.1, 'n_iterations': 20}\n"
     ]
    },
    {
     "data": {
      "application/vnd.jupyter.widget-view+json": {
       "model_id": "58fdc039ad2f4ed8b3fab317d623fff3",
       "version_major": 2,
       "version_minor": 0
      },
      "text/plain": [
       "  0%|          | 0/36 [00:00<?, ?it/s]"
      ]
     },
     "metadata": {},
     "output_type": "display_data"
    },
    {
     "name": "stdout",
     "output_type": "stream",
     "text": [
      "num_images:  33\n",
      "num_groups:  94\n",
      "1 {'kernel_bandwidthLat': 0.02, 'kernel_bandwidthLon': 0.1, 'look_distance': 0.1, 'n_iterations': 20}\n"
     ]
    },
    {
     "data": {
      "application/vnd.jupyter.widget-view+json": {
       "model_id": "f096b2da0dcc4106abf4880babed246a",
       "version_major": 2,
       "version_minor": 0
      },
      "text/plain": [
       "  0%|          | 0/36 [00:00<?, ?it/s]"
      ]
     },
     "metadata": {},
     "output_type": "display_data"
    },
    {
     "name": "stdout",
     "output_type": "stream",
     "text": [
      "num_images:  33\n",
      "num_groups:  92\n",
      "2 {'kernel_bandwidthLat': 0.02, 'kernel_bandwidthLon': 0.15, 'look_distance': 0.1, 'n_iterations': 20}\n"
     ]
    },
    {
     "data": {
      "application/vnd.jupyter.widget-view+json": {
       "model_id": "c203fefa037846f3bc8638a379d4b580",
       "version_major": 2,
       "version_minor": 0
      },
      "text/plain": [
       "  0%|          | 0/36 [00:00<?, ?it/s]"
      ]
     },
     "metadata": {},
     "output_type": "display_data"
    },
    {
     "name": "stdout",
     "output_type": "stream",
     "text": [
      "num_images:  33\n",
      "num_groups:  93\n",
      "3 {'kernel_bandwidthLat': 0.02, 'kernel_bandwidthLon': 0.2, 'look_distance': 0.1, 'n_iterations': 20}\n"
     ]
    },
    {
     "data": {
      "application/vnd.jupyter.widget-view+json": {
       "model_id": "93fd58b043244e078ed7368606af6864",
       "version_major": 2,
       "version_minor": 0
      },
      "text/plain": [
       "  0%|          | 0/36 [00:00<?, ?it/s]"
      ]
     },
     "metadata": {},
     "output_type": "display_data"
    },
    {
     "name": "stdout",
     "output_type": "stream",
     "text": [
      "num_images:  32\n",
      "num_groups:  94\n",
      "4 {'kernel_bandwidthLat': 0.02, 'kernel_bandwidthLon': 0.25, 'look_distance': 0.1, 'n_iterations': 20}\n"
     ]
    },
    {
     "data": {
      "application/vnd.jupyter.widget-view+json": {
       "model_id": "12e7f89e467f406ba2e856493bae7759",
       "version_major": 2,
       "version_minor": 0
      },
      "text/plain": [
       "  0%|          | 0/36 [00:00<?, ?it/s]"
      ]
     },
     "metadata": {},
     "output_type": "display_data"
    },
    {
     "name": "stdout",
     "output_type": "stream",
     "text": [
      "num_images:  32\n",
      "num_groups:  95\n",
      "5 {'kernel_bandwidthLat': 0.02, 'kernel_bandwidthLon': 0.3, 'look_distance': 0.1, 'n_iterations': 20}\n"
     ]
    },
    {
     "data": {
      "application/vnd.jupyter.widget-view+json": {
       "model_id": "bb8dfb39e922430bb1a8fd85baf56c38",
       "version_major": 2,
       "version_minor": 0
      },
      "text/plain": [
       "  0%|          | 0/36 [00:00<?, ?it/s]"
      ]
     },
     "metadata": {},
     "output_type": "display_data"
    },
    {
     "name": "stdout",
     "output_type": "stream",
     "text": [
      "num_images:  32\n",
      "num_groups:  96\n",
      "6 {'kernel_bandwidthLat': 0.02, 'kernel_bandwidthLon': 0.35, 'look_distance': 0.1, 'n_iterations': 20}\n"
     ]
    },
    {
     "data": {
      "application/vnd.jupyter.widget-view+json": {
       "model_id": "3ead83750b17413faf5c60826b8e76e2",
       "version_major": 2,
       "version_minor": 0
      },
      "text/plain": [
       "  0%|          | 0/36 [00:00<?, ?it/s]"
      ]
     },
     "metadata": {},
     "output_type": "display_data"
    },
    {
     "name": "stdout",
     "output_type": "stream",
     "text": [
      "num_images:  32\n",
      "num_groups:  94\n",
      "7 {'kernel_bandwidthLat': 0.02, 'kernel_bandwidthLon': 0.45, 'look_distance': 0.1, 'n_iterations': 20}\n"
     ]
    },
    {
     "data": {
      "application/vnd.jupyter.widget-view+json": {
       "model_id": "f88158c2b31946ec9c1992a0da0f5655",
       "version_major": 2,
       "version_minor": 0
      },
      "text/plain": [
       "  0%|          | 0/36 [00:00<?, ?it/s]"
      ]
     },
     "metadata": {},
     "output_type": "display_data"
    },
    {
     "name": "stdout",
     "output_type": "stream",
     "text": [
      "num_images:  32\n",
      "num_groups:  95\n",
      "8 {'kernel_bandwidthLat': 0.02, 'kernel_bandwidthLon': 0.5, 'look_distance': 0.1, 'n_iterations': 20}\n"
     ]
    },
    {
     "data": {
      "application/vnd.jupyter.widget-view+json": {
       "model_id": "30ed317df91f46a4b01d9044e3333c40",
       "version_major": 2,
       "version_minor": 0
      },
      "text/plain": [
       "  0%|          | 0/36 [00:00<?, ?it/s]"
      ]
     },
     "metadata": {},
     "output_type": "display_data"
    },
    {
     "name": "stdout",
     "output_type": "stream",
     "text": [
      "num_images:  32\n",
      "num_groups:  96\n",
      "9 {'kernel_bandwidthLat': 0.02, 'kernel_bandwidthLon': 0.55, 'look_distance': 0.1, 'n_iterations': 20}\n"
     ]
    },
    {
     "data": {
      "application/vnd.jupyter.widget-view+json": {
       "model_id": "1b9dac88a49746f79f43344e0b1b2351",
       "version_major": 2,
       "version_minor": 0
      },
      "text/plain": [
       "  0%|          | 0/36 [00:00<?, ?it/s]"
      ]
     },
     "metadata": {},
     "output_type": "display_data"
    },
    {
     "name": "stdout",
     "output_type": "stream",
     "text": [
      "num_images:  32\n",
      "num_groups:  96\n",
      "10 {'kernel_bandwidthLat': 0.02, 'kernel_bandwidthLon': 0.6, 'look_distance': 0.1, 'n_iterations': 20}\n"
     ]
    },
    {
     "data": {
      "application/vnd.jupyter.widget-view+json": {
       "model_id": "d5349d9bb1c24f64b94c9f326bb87ca5",
       "version_major": 2,
       "version_minor": 0
      },
      "text/plain": [
       "  0%|          | 0/36 [00:00<?, ?it/s]"
      ]
     },
     "metadata": {},
     "output_type": "display_data"
    },
    {
     "name": "stdout",
     "output_type": "stream",
     "text": [
      "num_images:  32\n",
      "num_groups:  97\n",
      "11 {'kernel_bandwidthLat': 0.02, 'kernel_bandwidthLon': 0.65, 'look_distance': 0.1, 'n_iterations': 20}\n"
     ]
    },
    {
     "data": {
      "application/vnd.jupyter.widget-view+json": {
       "model_id": "af8ef298b05f4ea3a7f24428a36cfb0b",
       "version_major": 2,
       "version_minor": 0
      },
      "text/plain": [
       "  0%|          | 0/36 [00:00<?, ?it/s]"
      ]
     },
     "metadata": {},
     "output_type": "display_data"
    },
    {
     "name": "stdout",
     "output_type": "stream",
     "text": [
      "num_images:  32\n",
      "num_groups:  98\n",
      "12 {'kernel_bandwidthLat': 0.02, 'kernel_bandwidthLon': 0.7, 'look_distance': 0.1, 'n_iterations': 20}\n"
     ]
    },
    {
     "data": {
      "application/vnd.jupyter.widget-view+json": {
       "model_id": "c18fcd7ae079415a9d144d783ff1b12e",
       "version_major": 2,
       "version_minor": 0
      },
      "text/plain": [
       "  0%|          | 0/36 [00:00<?, ?it/s]"
      ]
     },
     "metadata": {},
     "output_type": "display_data"
    },
    {
     "name": "stdout",
     "output_type": "stream",
     "text": [
      "num_images:  32\n",
      "num_groups:  98\n",
      "13 {'kernel_bandwidthLat': 0.02, 'kernel_bandwidthLon': 0.75, 'look_distance': 0.1, 'n_iterations': 20}\n"
     ]
    },
    {
     "data": {
      "application/vnd.jupyter.widget-view+json": {
       "model_id": "347689ffda7745f4bd64f23d5084ed88",
       "version_major": 2,
       "version_minor": 0
      },
      "text/plain": [
       "  0%|          | 0/36 [00:00<?, ?it/s]"
      ]
     },
     "metadata": {},
     "output_type": "display_data"
    },
    {
     "name": "stdout",
     "output_type": "stream",
     "text": [
      "num_images:  32\n",
      "num_groups:  98\n",
      "14 {'kernel_bandwidthLat': 0.04, 'kernel_bandwidthLon': 0.05, 'look_distance': 0.1, 'n_iterations': 20}\n"
     ]
    },
    {
     "data": {
      "application/vnd.jupyter.widget-view+json": {
       "model_id": "dba137148e024cc8b91eb2399234ee3b",
       "version_major": 2,
       "version_minor": 0
      },
      "text/plain": [
       "  0%|          | 0/36 [00:00<?, ?it/s]"
      ]
     },
     "metadata": {},
     "output_type": "display_data"
    },
    {
     "name": "stdout",
     "output_type": "stream",
     "text": [
      "num_images:  33\n",
      "num_groups:  89\n",
      "15 {'kernel_bandwidthLat': 0.04, 'kernel_bandwidthLon': 0.1, 'look_distance': 0.1, 'n_iterations': 20}\n"
     ]
    },
    {
     "data": {
      "application/vnd.jupyter.widget-view+json": {
       "model_id": "9a99f51ae48146b8ac6ab8cb7f7639cb",
       "version_major": 2,
       "version_minor": 0
      },
      "text/plain": [
       "  0%|          | 0/36 [00:00<?, ?it/s]"
      ]
     },
     "metadata": {},
     "output_type": "display_data"
    },
    {
     "name": "stdout",
     "output_type": "stream",
     "text": [
      "num_images:  32\n",
      "num_groups:  93\n",
      "16 {'kernel_bandwidthLat': 0.04, 'kernel_bandwidthLon': 0.15, 'look_distance': 0.1, 'n_iterations': 20}\n"
     ]
    },
    {
     "data": {
      "application/vnd.jupyter.widget-view+json": {
       "model_id": "86e065be7b954fb494cf46528045370f",
       "version_major": 2,
       "version_minor": 0
      },
      "text/plain": [
       "  0%|          | 0/36 [00:00<?, ?it/s]"
      ]
     },
     "metadata": {},
     "output_type": "display_data"
    },
    {
     "name": "stdout",
     "output_type": "stream",
     "text": [
      "num_images:  33\n",
      "num_groups:  96\n",
      "17 {'kernel_bandwidthLat': 0.04, 'kernel_bandwidthLon': 0.2, 'look_distance': 0.1, 'n_iterations': 20}\n"
     ]
    },
    {
     "data": {
      "application/vnd.jupyter.widget-view+json": {
       "model_id": "2e07e86776d649e4a56723a9c61e19f4",
       "version_major": 2,
       "version_minor": 0
      },
      "text/plain": [
       "  0%|          | 0/36 [00:00<?, ?it/s]"
      ]
     },
     "metadata": {},
     "output_type": "display_data"
    },
    {
     "name": "stdout",
     "output_type": "stream",
     "text": [
      "num_images:  33\n",
      "num_groups:  100\n",
      "18 {'kernel_bandwidthLat': 0.04, 'kernel_bandwidthLon': 0.25, 'look_distance': 0.1, 'n_iterations': 20}\n"
     ]
    },
    {
     "data": {
      "application/vnd.jupyter.widget-view+json": {
       "model_id": "b336be40fbb242cbb441d6519cf5653e",
       "version_major": 2,
       "version_minor": 0
      },
      "text/plain": [
       "  0%|          | 0/36 [00:00<?, ?it/s]"
      ]
     },
     "metadata": {},
     "output_type": "display_data"
    },
    {
     "name": "stdout",
     "output_type": "stream",
     "text": [
      "num_images:  33\n",
      "num_groups:  102\n",
      "19 {'kernel_bandwidthLat': 0.04, 'kernel_bandwidthLon': 0.3, 'look_distance': 0.1, 'n_iterations': 20}\n"
     ]
    },
    {
     "data": {
      "application/vnd.jupyter.widget-view+json": {
       "model_id": "7c140a382450457f8a7bc953f52cd1bb",
       "version_major": 2,
       "version_minor": 0
      },
      "text/plain": [
       "  0%|          | 0/36 [00:00<?, ?it/s]"
      ]
     },
     "metadata": {},
     "output_type": "display_data"
    },
    {
     "name": "stdout",
     "output_type": "stream",
     "text": [
      "num_images:  33\n",
      "num_groups:  104\n",
      "20 {'kernel_bandwidthLat': 0.04, 'kernel_bandwidthLon': 0.35, 'look_distance': 0.1, 'n_iterations': 20}\n"
     ]
    },
    {
     "data": {
      "application/vnd.jupyter.widget-view+json": {
       "model_id": "e1203de81e984753ae6048c7eda632aa",
       "version_major": 2,
       "version_minor": 0
      },
      "text/plain": [
       "  0%|          | 0/36 [00:00<?, ?it/s]"
      ]
     },
     "metadata": {},
     "output_type": "display_data"
    },
    {
     "name": "stdout",
     "output_type": "stream",
     "text": [
      "num_images:  33\n",
      "num_groups:  105\n",
      "21 {'kernel_bandwidthLat': 0.04, 'kernel_bandwidthLon': 0.45, 'look_distance': 0.1, 'n_iterations': 20}\n"
     ]
    },
    {
     "data": {
      "application/vnd.jupyter.widget-view+json": {
       "model_id": "0b7d67d8d0a5479587895f68619d585b",
       "version_major": 2,
       "version_minor": 0
      },
      "text/plain": [
       "  0%|          | 0/36 [00:00<?, ?it/s]"
      ]
     },
     "metadata": {},
     "output_type": "display_data"
    },
    {
     "name": "stdout",
     "output_type": "stream",
     "text": [
      "num_images:  33\n",
      "num_groups:  103\n",
      "22 {'kernel_bandwidthLat': 0.04, 'kernel_bandwidthLon': 0.5, 'look_distance': 0.1, 'n_iterations': 20}\n"
     ]
    },
    {
     "data": {
      "application/vnd.jupyter.widget-view+json": {
       "model_id": "5abfd9199f3a4bb186b24d9070252112",
       "version_major": 2,
       "version_minor": 0
      },
      "text/plain": [
       "  0%|          | 0/36 [00:00<?, ?it/s]"
      ]
     },
     "metadata": {},
     "output_type": "display_data"
    },
    {
     "name": "stdout",
     "output_type": "stream",
     "text": [
      "num_images:  33\n",
      "num_groups:  103\n",
      "23 {'kernel_bandwidthLat': 0.04, 'kernel_bandwidthLon': 0.55, 'look_distance': 0.1, 'n_iterations': 20}\n"
     ]
    },
    {
     "data": {
      "application/vnd.jupyter.widget-view+json": {
       "model_id": "d2a5447130f94818aa0e2db8104e66fb",
       "version_major": 2,
       "version_minor": 0
      },
      "text/plain": [
       "  0%|          | 0/36 [00:00<?, ?it/s]"
      ]
     },
     "metadata": {},
     "output_type": "display_data"
    },
    {
     "name": "stdout",
     "output_type": "stream",
     "text": [
      "num_images:  33\n",
      "num_groups:  105\n",
      "24 {'kernel_bandwidthLat': 0.04, 'kernel_bandwidthLon': 0.6, 'look_distance': 0.1, 'n_iterations': 20}\n"
     ]
    },
    {
     "data": {
      "application/vnd.jupyter.widget-view+json": {
       "model_id": "d63f187e1d0c4f0ba9d9150e25ae8a93",
       "version_major": 2,
       "version_minor": 0
      },
      "text/plain": [
       "  0%|          | 0/36 [00:00<?, ?it/s]"
      ]
     },
     "metadata": {},
     "output_type": "display_data"
    },
    {
     "name": "stdout",
     "output_type": "stream",
     "text": [
      "num_images:  33\n",
      "num_groups:  109\n",
      "25 {'kernel_bandwidthLat': 0.04, 'kernel_bandwidthLon': 0.65, 'look_distance': 0.1, 'n_iterations': 20}\n"
     ]
    },
    {
     "data": {
      "application/vnd.jupyter.widget-view+json": {
       "model_id": "32ca701516c74a1a91b0a702a5092f71",
       "version_major": 2,
       "version_minor": 0
      },
      "text/plain": [
       "  0%|          | 0/36 [00:00<?, ?it/s]"
      ]
     },
     "metadata": {},
     "output_type": "display_data"
    },
    {
     "name": "stdout",
     "output_type": "stream",
     "text": [
      "num_images:  33\n",
      "num_groups:  109\n",
      "26 {'kernel_bandwidthLat': 0.04, 'kernel_bandwidthLon': 0.7, 'look_distance': 0.1, 'n_iterations': 20}\n"
     ]
    },
    {
     "data": {
      "application/vnd.jupyter.widget-view+json": {
       "model_id": "b31755a5119345d7951618d72d14a6ed",
       "version_major": 2,
       "version_minor": 0
      },
      "text/plain": [
       "  0%|          | 0/36 [00:00<?, ?it/s]"
      ]
     },
     "metadata": {},
     "output_type": "display_data"
    },
    {
     "name": "stdout",
     "output_type": "stream",
     "text": [
      "num_images:  33\n",
      "num_groups:  108\n",
      "27 {'kernel_bandwidthLat': 0.04, 'kernel_bandwidthLon': 0.75, 'look_distance': 0.1, 'n_iterations': 20}\n"
     ]
    },
    {
     "data": {
      "application/vnd.jupyter.widget-view+json": {
       "model_id": "7cfadd66ceaa448cb94b81416a7dcd3b",
       "version_major": 2,
       "version_minor": 0
      },
      "text/plain": [
       "  0%|          | 0/36 [00:00<?, ?it/s]"
      ]
     },
     "metadata": {},
     "output_type": "display_data"
    },
    {
     "name": "stdout",
     "output_type": "stream",
     "text": [
      "num_images:  33\n",
      "num_groups:  108\n",
      "28 {'kernel_bandwidthLat': 0.06, 'kernel_bandwidthLon': 0.05, 'look_distance': 0.1, 'n_iterations': 20}\n"
     ]
    },
    {
     "data": {
      "application/vnd.jupyter.widget-view+json": {
       "model_id": "01a7ef443289436e9cef167ba05bacdb",
       "version_major": 2,
       "version_minor": 0
      },
      "text/plain": [
       "  0%|          | 0/36 [00:00<?, ?it/s]"
      ]
     },
     "metadata": {},
     "output_type": "display_data"
    },
    {
     "name": "stdout",
     "output_type": "stream",
     "text": [
      "num_images:  33\n",
      "num_groups:  87\n",
      "29 {'kernel_bandwidthLat': 0.06, 'kernel_bandwidthLon': 0.1, 'look_distance': 0.1, 'n_iterations': 20}\n"
     ]
    },
    {
     "data": {
      "application/vnd.jupyter.widget-view+json": {
       "model_id": "b9112610569749938131d8467ea7d761",
       "version_major": 2,
       "version_minor": 0
      },
      "text/plain": [
       "  0%|          | 0/36 [00:00<?, ?it/s]"
      ]
     },
     "metadata": {},
     "output_type": "display_data"
    },
    {
     "name": "stdout",
     "output_type": "stream",
     "text": [
      "num_images:  32\n",
      "num_groups:  92\n",
      "30 {'kernel_bandwidthLat': 0.06, 'kernel_bandwidthLon': 0.15, 'look_distance': 0.1, 'n_iterations': 20}\n"
     ]
    },
    {
     "data": {
      "application/vnd.jupyter.widget-view+json": {
       "model_id": "b45b19cfbc4e4a96beb2b85b036d679c",
       "version_major": 2,
       "version_minor": 0
      },
      "text/plain": [
       "  0%|          | 0/36 [00:00<?, ?it/s]"
      ]
     },
     "metadata": {},
     "output_type": "display_data"
    },
    {
     "name": "stdout",
     "output_type": "stream",
     "text": [
      "num_images:  33\n",
      "num_groups:  99\n",
      "31 {'kernel_bandwidthLat': 0.06, 'kernel_bandwidthLon': 0.2, 'look_distance': 0.1, 'n_iterations': 20}\n"
     ]
    },
    {
     "data": {
      "application/vnd.jupyter.widget-view+json": {
       "model_id": "983c5b1c121c4f7382ff426637cb34f1",
       "version_major": 2,
       "version_minor": 0
      },
      "text/plain": [
       "  0%|          | 0/36 [00:00<?, ?it/s]"
      ]
     },
     "metadata": {},
     "output_type": "display_data"
    },
    {
     "name": "stdout",
     "output_type": "stream",
     "text": [
      "num_images:  33\n",
      "num_groups:  102\n",
      "32 {'kernel_bandwidthLat': 0.06, 'kernel_bandwidthLon': 0.25, 'look_distance': 0.1, 'n_iterations': 20}\n"
     ]
    },
    {
     "data": {
      "application/vnd.jupyter.widget-view+json": {
       "model_id": "71b38b1c80334684b9b87e35adbad1dd",
       "version_major": 2,
       "version_minor": 0
      },
      "text/plain": [
       "  0%|          | 0/36 [00:00<?, ?it/s]"
      ]
     },
     "metadata": {},
     "output_type": "display_data"
    },
    {
     "name": "stdout",
     "output_type": "stream",
     "text": [
      "num_images:  33\n",
      "num_groups:  106\n",
      "33 {'kernel_bandwidthLat': 0.06, 'kernel_bandwidthLon': 0.3, 'look_distance': 0.1, 'n_iterations': 20}\n"
     ]
    },
    {
     "data": {
      "application/vnd.jupyter.widget-view+json": {
       "model_id": "eae7de17482e443d9f016e752f072b6e",
       "version_major": 2,
       "version_minor": 0
      },
      "text/plain": [
       "  0%|          | 0/36 [00:00<?, ?it/s]"
      ]
     },
     "metadata": {},
     "output_type": "display_data"
    },
    {
     "name": "stdout",
     "output_type": "stream",
     "text": [
      "num_images:  33\n",
      "num_groups:  106\n",
      "34 {'kernel_bandwidthLat': 0.06, 'kernel_bandwidthLon': 0.35, 'look_distance': 0.1, 'n_iterations': 20}\n"
     ]
    },
    {
     "data": {
      "application/vnd.jupyter.widget-view+json": {
       "model_id": "be9cbf4b60df4378aea4c4c8f8579402",
       "version_major": 2,
       "version_minor": 0
      },
      "text/plain": [
       "  0%|          | 0/36 [00:00<?, ?it/s]"
      ]
     },
     "metadata": {},
     "output_type": "display_data"
    },
    {
     "name": "stdout",
     "output_type": "stream",
     "text": [
      "num_images:  33\n",
      "num_groups:  107\n",
      "35 {'kernel_bandwidthLat': 0.06, 'kernel_bandwidthLon': 0.45, 'look_distance': 0.1, 'n_iterations': 20}\n"
     ]
    },
    {
     "data": {
      "application/vnd.jupyter.widget-view+json": {
       "model_id": "6fd1870721ce4ccfb740893cf9bbf106",
       "version_major": 2,
       "version_minor": 0
      },
      "text/plain": [
       "  0%|          | 0/36 [00:00<?, ?it/s]"
      ]
     },
     "metadata": {},
     "output_type": "display_data"
    },
    {
     "name": "stdout",
     "output_type": "stream",
     "text": [
      "num_images:  33\n",
      "num_groups:  109\n",
      "36 {'kernel_bandwidthLat': 0.06, 'kernel_bandwidthLon': 0.5, 'look_distance': 0.1, 'n_iterations': 20}\n"
     ]
    },
    {
     "data": {
      "application/vnd.jupyter.widget-view+json": {
       "model_id": "14ebe6b71a084675b027c14dddb91dce",
       "version_major": 2,
       "version_minor": 0
      },
      "text/plain": [
       "  0%|          | 0/36 [00:00<?, ?it/s]"
      ]
     },
     "metadata": {},
     "output_type": "display_data"
    },
    {
     "name": "stdout",
     "output_type": "stream",
     "text": [
      "num_images:  34\n",
      "num_groups:  111\n",
      "37 {'kernel_bandwidthLat': 0.06, 'kernel_bandwidthLon': 0.55, 'look_distance': 0.1, 'n_iterations': 20}\n"
     ]
    },
    {
     "data": {
      "application/vnd.jupyter.widget-view+json": {
       "model_id": "2a382e2bc89d483e89d51e72de0ef44e",
       "version_major": 2,
       "version_minor": 0
      },
      "text/plain": [
       "  0%|          | 0/36 [00:00<?, ?it/s]"
      ]
     },
     "metadata": {},
     "output_type": "display_data"
    },
    {
     "name": "stdout",
     "output_type": "stream",
     "text": [
      "num_images:  34\n",
      "num_groups:  111\n",
      "38 {'kernel_bandwidthLat': 0.06, 'kernel_bandwidthLon': 0.6, 'look_distance': 0.1, 'n_iterations': 20}\n"
     ]
    },
    {
     "data": {
      "application/vnd.jupyter.widget-view+json": {
       "model_id": "876f5347f15047d895035286731861dc",
       "version_major": 2,
       "version_minor": 0
      },
      "text/plain": [
       "  0%|          | 0/36 [00:00<?, ?it/s]"
      ]
     },
     "metadata": {},
     "output_type": "display_data"
    },
    {
     "name": "stdout",
     "output_type": "stream",
     "text": [
      "num_images:  34\n",
      "num_groups:  111\n",
      "39 {'kernel_bandwidthLat': 0.06, 'kernel_bandwidthLon': 0.65, 'look_distance': 0.1, 'n_iterations': 20}\n"
     ]
    },
    {
     "data": {
      "application/vnd.jupyter.widget-view+json": {
       "model_id": "cc760bf58d574dbe9c010e6c640732cf",
       "version_major": 2,
       "version_minor": 0
      },
      "text/plain": [
       "  0%|          | 0/36 [00:00<?, ?it/s]"
      ]
     },
     "metadata": {},
     "output_type": "display_data"
    },
    {
     "name": "stdout",
     "output_type": "stream",
     "text": [
      "num_images:  34\n",
      "num_groups:  111\n",
      "40 {'kernel_bandwidthLat': 0.06, 'kernel_bandwidthLon': 0.7, 'look_distance': 0.1, 'n_iterations': 20}\n"
     ]
    },
    {
     "data": {
      "application/vnd.jupyter.widget-view+json": {
       "model_id": "35d6829c859c41788211b58232341b37",
       "version_major": 2,
       "version_minor": 0
      },
      "text/plain": [
       "  0%|          | 0/36 [00:00<?, ?it/s]"
      ]
     },
     "metadata": {},
     "output_type": "display_data"
    },
    {
     "name": "stdout",
     "output_type": "stream",
     "text": [
      "num_images:  34\n",
      "num_groups:  110\n",
      "41 {'kernel_bandwidthLat': 0.06, 'kernel_bandwidthLon': 0.75, 'look_distance': 0.1, 'n_iterations': 20}\n"
     ]
    },
    {
     "data": {
      "application/vnd.jupyter.widget-view+json": {
       "model_id": "89bddb0998b44dc3a5074d2891300749",
       "version_major": 2,
       "version_minor": 0
      },
      "text/plain": [
       "  0%|          | 0/36 [00:00<?, ?it/s]"
      ]
     },
     "metadata": {},
     "output_type": "display_data"
    },
    {
     "name": "stdout",
     "output_type": "stream",
     "text": [
      "num_images:  34\n",
      "num_groups:  110\n",
      "42 {'kernel_bandwidthLat': 0.08, 'kernel_bandwidthLon': 0.05, 'look_distance': 0.1, 'n_iterations': 20}\n"
     ]
    },
    {
     "data": {
      "application/vnd.jupyter.widget-view+json": {
       "model_id": "3277baf8851b4167bf3385080c9af5dd",
       "version_major": 2,
       "version_minor": 0
      },
      "text/plain": [
       "  0%|          | 0/36 [00:00<?, ?it/s]"
      ]
     },
     "metadata": {},
     "output_type": "display_data"
    },
    {
     "name": "stdout",
     "output_type": "stream",
     "text": [
      "num_images:  33\n",
      "num_groups:  87\n",
      "43 {'kernel_bandwidthLat': 0.08, 'kernel_bandwidthLon': 0.1, 'look_distance': 0.1, 'n_iterations': 20}\n"
     ]
    },
    {
     "data": {
      "application/vnd.jupyter.widget-view+json": {
       "model_id": "7f852ebb1ae046e6850c8ff9607f433e",
       "version_major": 2,
       "version_minor": 0
      },
      "text/plain": [
       "  0%|          | 0/36 [00:00<?, ?it/s]"
      ]
     },
     "metadata": {},
     "output_type": "display_data"
    },
    {
     "name": "stdout",
     "output_type": "stream",
     "text": [
      "num_images:  33\n",
      "num_groups:  96\n",
      "44 {'kernel_bandwidthLat': 0.08, 'kernel_bandwidthLon': 0.15, 'look_distance': 0.1, 'n_iterations': 20}\n"
     ]
    },
    {
     "data": {
      "application/vnd.jupyter.widget-view+json": {
       "model_id": "fbe650782c6541fabfcd10adf2171e84",
       "version_major": 2,
       "version_minor": 0
      },
      "text/plain": [
       "  0%|          | 0/36 [00:00<?, ?it/s]"
      ]
     },
     "metadata": {},
     "output_type": "display_data"
    },
    {
     "name": "stdout",
     "output_type": "stream",
     "text": [
      "num_images:  33\n",
      "num_groups:  101\n",
      "45 {'kernel_bandwidthLat': 0.08, 'kernel_bandwidthLon': 0.2, 'look_distance': 0.1, 'n_iterations': 20}\n"
     ]
    },
    {
     "data": {
      "application/vnd.jupyter.widget-view+json": {
       "model_id": "a868becda00048b5ae3e80091a6ff9d7",
       "version_major": 2,
       "version_minor": 0
      },
      "text/plain": [
       "  0%|          | 0/36 [00:00<?, ?it/s]"
      ]
     },
     "metadata": {},
     "output_type": "display_data"
    },
    {
     "name": "stdout",
     "output_type": "stream",
     "text": [
      "num_images:  33\n",
      "num_groups:  105\n",
      "46 {'kernel_bandwidthLat': 0.08, 'kernel_bandwidthLon': 0.25, 'look_distance': 0.1, 'n_iterations': 20}\n"
     ]
    },
    {
     "data": {
      "application/vnd.jupyter.widget-view+json": {
       "model_id": "5004ccb9074740d4b2e03a1b5dcde892",
       "version_major": 2,
       "version_minor": 0
      },
      "text/plain": [
       "  0%|          | 0/36 [00:00<?, ?it/s]"
      ]
     },
     "metadata": {},
     "output_type": "display_data"
    },
    {
     "name": "stdout",
     "output_type": "stream",
     "text": [
      "num_images:  34\n",
      "num_groups:  108\n",
      "47 {'kernel_bandwidthLat': 0.08, 'kernel_bandwidthLon': 0.3, 'look_distance': 0.1, 'n_iterations': 20}\n"
     ]
    },
    {
     "data": {
      "application/vnd.jupyter.widget-view+json": {
       "model_id": "33f4eb82f3d74665bfe1e61291813ed8",
       "version_major": 2,
       "version_minor": 0
      },
      "text/plain": [
       "  0%|          | 0/36 [00:00<?, ?it/s]"
      ]
     },
     "metadata": {},
     "output_type": "display_data"
    },
    {
     "name": "stdout",
     "output_type": "stream",
     "text": [
      "num_images:  34\n",
      "num_groups:  110\n",
      "48 {'kernel_bandwidthLat': 0.08, 'kernel_bandwidthLon': 0.35, 'look_distance': 0.1, 'n_iterations': 20}\n"
     ]
    },
    {
     "data": {
      "application/vnd.jupyter.widget-view+json": {
       "model_id": "c4bb0a0fba9c4023a9062eab3de47ea4",
       "version_major": 2,
       "version_minor": 0
      },
      "text/plain": [
       "  0%|          | 0/36 [00:00<?, ?it/s]"
      ]
     },
     "metadata": {},
     "output_type": "display_data"
    },
    {
     "name": "stdout",
     "output_type": "stream",
     "text": [
      "num_images:  35\n",
      "num_groups:  111\n",
      "49 {'kernel_bandwidthLat': 0.08, 'kernel_bandwidthLon': 0.45, 'look_distance': 0.1, 'n_iterations': 20}\n"
     ]
    },
    {
     "data": {
      "application/vnd.jupyter.widget-view+json": {
       "model_id": "b33f92b4cdff46938fe51a2ff9402efe",
       "version_major": 2,
       "version_minor": 0
      },
      "text/plain": [
       "  0%|          | 0/36 [00:00<?, ?it/s]"
      ]
     },
     "metadata": {},
     "output_type": "display_data"
    },
    {
     "name": "stdout",
     "output_type": "stream",
     "text": [
      "num_images:  35\n",
      "num_groups:  112\n",
      "50 {'kernel_bandwidthLat': 0.08, 'kernel_bandwidthLon': 0.5, 'look_distance': 0.1, 'n_iterations': 20}\n"
     ]
    },
    {
     "data": {
      "application/vnd.jupyter.widget-view+json": {
       "model_id": "e520d37554e047bdad39d579697bf425",
       "version_major": 2,
       "version_minor": 0
      },
      "text/plain": [
       "  0%|          | 0/36 [00:00<?, ?it/s]"
      ]
     },
     "metadata": {},
     "output_type": "display_data"
    },
    {
     "name": "stdout",
     "output_type": "stream",
     "text": [
      "num_images:  35\n",
      "num_groups:  112\n",
      "51 {'kernel_bandwidthLat': 0.08, 'kernel_bandwidthLon': 0.55, 'look_distance': 0.1, 'n_iterations': 20}\n"
     ]
    },
    {
     "data": {
      "application/vnd.jupyter.widget-view+json": {
       "model_id": "c6afe0edbf1f40229c517c1d62000132",
       "version_major": 2,
       "version_minor": 0
      },
      "text/plain": [
       "  0%|          | 0/36 [00:00<?, ?it/s]"
      ]
     },
     "metadata": {},
     "output_type": "display_data"
    },
    {
     "name": "stdout",
     "output_type": "stream",
     "text": [
      "num_images:  35\n",
      "num_groups:  112\n",
      "52 {'kernel_bandwidthLat': 0.08, 'kernel_bandwidthLon': 0.6, 'look_distance': 0.1, 'n_iterations': 20}\n"
     ]
    },
    {
     "data": {
      "application/vnd.jupyter.widget-view+json": {
       "model_id": "31b84275c2e741b98a0e1aba4db1aa23",
       "version_major": 2,
       "version_minor": 0
      },
      "text/plain": [
       "  0%|          | 0/36 [00:00<?, ?it/s]"
      ]
     },
     "metadata": {},
     "output_type": "display_data"
    },
    {
     "name": "stdout",
     "output_type": "stream",
     "text": [
      "num_images:  35\n",
      "num_groups:  108\n",
      "53 {'kernel_bandwidthLat': 0.08, 'kernel_bandwidthLon': 0.65, 'look_distance': 0.1, 'n_iterations': 20}\n"
     ]
    },
    {
     "data": {
      "application/vnd.jupyter.widget-view+json": {
       "model_id": "2d8c24c026e94598bbcbc757b3420778",
       "version_major": 2,
       "version_minor": 0
      },
      "text/plain": [
       "  0%|          | 0/36 [00:00<?, ?it/s]"
      ]
     },
     "metadata": {},
     "output_type": "display_data"
    },
    {
     "name": "stdout",
     "output_type": "stream",
     "text": [
      "num_images:  35\n",
      "num_groups:  108\n",
      "54 {'kernel_bandwidthLat': 0.08, 'kernel_bandwidthLon': 0.7, 'look_distance': 0.1, 'n_iterations': 20}\n"
     ]
    },
    {
     "data": {
      "application/vnd.jupyter.widget-view+json": {
       "model_id": "5ba37db3f7414900aedb85e011b74093",
       "version_major": 2,
       "version_minor": 0
      },
      "text/plain": [
       "  0%|          | 0/36 [00:00<?, ?it/s]"
      ]
     },
     "metadata": {},
     "output_type": "display_data"
    },
    {
     "name": "stdout",
     "output_type": "stream",
     "text": [
      "num_images:  35\n",
      "num_groups:  106\n",
      "55 {'kernel_bandwidthLat': 0.08, 'kernel_bandwidthLon': 0.75, 'look_distance': 0.1, 'n_iterations': 20}\n"
     ]
    },
    {
     "data": {
      "application/vnd.jupyter.widget-view+json": {
       "model_id": "2d3c006b9e9949a19f918206a9bd6bfb",
       "version_major": 2,
       "version_minor": 0
      },
      "text/plain": [
       "  0%|          | 0/36 [00:00<?, ?it/s]"
      ]
     },
     "metadata": {},
     "output_type": "display_data"
    },
    {
     "name": "stdout",
     "output_type": "stream",
     "text": [
      "num_images:  35\n",
      "num_groups:  106\n",
      "56 {'kernel_bandwidthLat': 0.1, 'kernel_bandwidthLon': 0.05, 'look_distance': 0.1, 'n_iterations': 20}\n"
     ]
    },
    {
     "data": {
      "application/vnd.jupyter.widget-view+json": {
       "model_id": "e9e14db8b3d14fec94e88a6062bf7d30",
       "version_major": 2,
       "version_minor": 0
      },
      "text/plain": [
       "  0%|          | 0/36 [00:00<?, ?it/s]"
      ]
     },
     "metadata": {},
     "output_type": "display_data"
    },
    {
     "name": "stdout",
     "output_type": "stream",
     "text": [
      "num_images:  32\n",
      "num_groups:  86\n",
      "57 {'kernel_bandwidthLat': 0.1, 'kernel_bandwidthLon': 0.1, 'look_distance': 0.1, 'n_iterations': 20}\n"
     ]
    },
    {
     "data": {
      "application/vnd.jupyter.widget-view+json": {
       "model_id": "7888301581894b59b130b9b6ec3d0fd1",
       "version_major": 2,
       "version_minor": 0
      },
      "text/plain": [
       "  0%|          | 0/36 [00:00<?, ?it/s]"
      ]
     },
     "metadata": {},
     "output_type": "display_data"
    },
    {
     "name": "stdout",
     "output_type": "stream",
     "text": [
      "num_images:  33\n",
      "num_groups:  98\n",
      "58 {'kernel_bandwidthLat': 0.1, 'kernel_bandwidthLon': 0.15, 'look_distance': 0.1, 'n_iterations': 20}\n"
     ]
    },
    {
     "data": {
      "application/vnd.jupyter.widget-view+json": {
       "model_id": "843312b499114cd78d42bd49fae16438",
       "version_major": 2,
       "version_minor": 0
      },
      "text/plain": [
       "  0%|          | 0/36 [00:00<?, ?it/s]"
      ]
     },
     "metadata": {},
     "output_type": "display_data"
    },
    {
     "name": "stdout",
     "output_type": "stream",
     "text": [
      "num_images:  33\n",
      "num_groups:  103\n",
      "59 {'kernel_bandwidthLat': 0.1, 'kernel_bandwidthLon': 0.2, 'look_distance': 0.1, 'n_iterations': 20}\n"
     ]
    },
    {
     "data": {
      "application/vnd.jupyter.widget-view+json": {
       "model_id": "09d3a0fb68484c719ce37bdefe464969",
       "version_major": 2,
       "version_minor": 0
      },
      "text/plain": [
       "  0%|          | 0/36 [00:00<?, ?it/s]"
      ]
     },
     "metadata": {},
     "output_type": "display_data"
    },
    {
     "name": "stdout",
     "output_type": "stream",
     "text": [
      "num_images:  34\n",
      "num_groups:  109\n",
      "60 {'kernel_bandwidthLat': 0.1, 'kernel_bandwidthLon': 0.25, 'look_distance': 0.1, 'n_iterations': 20}\n"
     ]
    },
    {
     "data": {
      "application/vnd.jupyter.widget-view+json": {
       "model_id": "6f7ea96e585b43b491fab26e03236564",
       "version_major": 2,
       "version_minor": 0
      },
      "text/plain": [
       "  0%|          | 0/36 [00:00<?, ?it/s]"
      ]
     },
     "metadata": {},
     "output_type": "display_data"
    },
    {
     "name": "stdout",
     "output_type": "stream",
     "text": [
      "num_images:  34\n",
      "num_groups:  108\n",
      "61 {'kernel_bandwidthLat': 0.1, 'kernel_bandwidthLon': 0.3, 'look_distance': 0.1, 'n_iterations': 20}\n"
     ]
    },
    {
     "data": {
      "application/vnd.jupyter.widget-view+json": {
       "model_id": "1cd86ed9160f40f8a3492fc7d8b9e7e3",
       "version_major": 2,
       "version_minor": 0
      },
      "text/plain": [
       "  0%|          | 0/36 [00:00<?, ?it/s]"
      ]
     },
     "metadata": {},
     "output_type": "display_data"
    },
    {
     "name": "stdout",
     "output_type": "stream",
     "text": [
      "num_images:  35\n",
      "num_groups:  109\n",
      "62 {'kernel_bandwidthLat': 0.1, 'kernel_bandwidthLon': 0.35, 'look_distance': 0.1, 'n_iterations': 20}\n"
     ]
    },
    {
     "data": {
      "application/vnd.jupyter.widget-view+json": {
       "model_id": "09732f1c14c440749ba9de1d5d2cfbe2",
       "version_major": 2,
       "version_minor": 0
      },
      "text/plain": [
       "  0%|          | 0/36 [00:00<?, ?it/s]"
      ]
     },
     "metadata": {},
     "output_type": "display_data"
    },
    {
     "name": "stdout",
     "output_type": "stream",
     "text": [
      "num_images:  35\n",
      "num_groups:  111\n",
      "63 {'kernel_bandwidthLat': 0.1, 'kernel_bandwidthLon': 0.45, 'look_distance': 0.1, 'n_iterations': 20}\n"
     ]
    },
    {
     "data": {
      "application/vnd.jupyter.widget-view+json": {
       "model_id": "1c762719d0b2494c817d6c443e206fc8",
       "version_major": 2,
       "version_minor": 0
      },
      "text/plain": [
       "  0%|          | 0/36 [00:00<?, ?it/s]"
      ]
     },
     "metadata": {},
     "output_type": "display_data"
    },
    {
     "name": "stdout",
     "output_type": "stream",
     "text": [
      "num_images:  35\n",
      "num_groups:  110\n",
      "64 {'kernel_bandwidthLat': 0.1, 'kernel_bandwidthLon': 0.5, 'look_distance': 0.1, 'n_iterations': 20}\n"
     ]
    },
    {
     "data": {
      "application/vnd.jupyter.widget-view+json": {
       "model_id": "6593c5f2b94e4b449861b9dd5bd63aea",
       "version_major": 2,
       "version_minor": 0
      },
      "text/plain": [
       "  0%|          | 0/36 [00:00<?, ?it/s]"
      ]
     },
     "metadata": {},
     "output_type": "display_data"
    },
    {
     "name": "stdout",
     "output_type": "stream",
     "text": [
      "num_images:  35\n",
      "num_groups:  108\n",
      "65 {'kernel_bandwidthLat': 0.1, 'kernel_bandwidthLon': 0.55, 'look_distance': 0.1, 'n_iterations': 20}\n"
     ]
    },
    {
     "data": {
      "application/vnd.jupyter.widget-view+json": {
       "model_id": "012eb1783a9e4a98bd238336822960aa",
       "version_major": 2,
       "version_minor": 0
      },
      "text/plain": [
       "  0%|          | 0/36 [00:00<?, ?it/s]"
      ]
     },
     "metadata": {},
     "output_type": "display_data"
    },
    {
     "name": "stdout",
     "output_type": "stream",
     "text": [
      "num_images:  35\n",
      "num_groups:  107\n",
      "66 {'kernel_bandwidthLat': 0.1, 'kernel_bandwidthLon': 0.6, 'look_distance': 0.1, 'n_iterations': 20}\n"
     ]
    },
    {
     "data": {
      "application/vnd.jupyter.widget-view+json": {
       "model_id": "e35fd6f2ac9c4b70a8ba12aa2c6a7520",
       "version_major": 2,
       "version_minor": 0
      },
      "text/plain": [
       "  0%|          | 0/36 [00:00<?, ?it/s]"
      ]
     },
     "metadata": {},
     "output_type": "display_data"
    },
    {
     "name": "stdout",
     "output_type": "stream",
     "text": [
      "num_images:  35\n",
      "num_groups:  105\n",
      "67 {'kernel_bandwidthLat': 0.1, 'kernel_bandwidthLon': 0.65, 'look_distance': 0.1, 'n_iterations': 20}\n"
     ]
    },
    {
     "data": {
      "application/vnd.jupyter.widget-view+json": {
       "model_id": "6726c0141d944221811866575a9f5428",
       "version_major": 2,
       "version_minor": 0
      },
      "text/plain": [
       "  0%|          | 0/36 [00:00<?, ?it/s]"
      ]
     },
     "metadata": {},
     "output_type": "display_data"
    },
    {
     "name": "stdout",
     "output_type": "stream",
     "text": [
      "num_images:  35\n",
      "num_groups:  103\n",
      "68 {'kernel_bandwidthLat': 0.1, 'kernel_bandwidthLon': 0.7, 'look_distance': 0.1, 'n_iterations': 20}\n"
     ]
    },
    {
     "data": {
      "application/vnd.jupyter.widget-view+json": {
       "model_id": "661efb36ce88403e9448dd8398343330",
       "version_major": 2,
       "version_minor": 0
      },
      "text/plain": [
       "  0%|          | 0/36 [00:00<?, ?it/s]"
      ]
     },
     "metadata": {},
     "output_type": "display_data"
    },
    {
     "name": "stdout",
     "output_type": "stream",
     "text": [
      "num_images:  35\n",
      "num_groups:  101\n",
      "69 {'kernel_bandwidthLat': 0.1, 'kernel_bandwidthLon': 0.75, 'look_distance': 0.1, 'n_iterations': 20}\n"
     ]
    },
    {
     "data": {
      "application/vnd.jupyter.widget-view+json": {
       "model_id": "2bbc7e64712e42899b91d8c4d84e5672",
       "version_major": 2,
       "version_minor": 0
      },
      "text/plain": [
       "  0%|          | 0/36 [00:00<?, ?it/s]"
      ]
     },
     "metadata": {},
     "output_type": "display_data"
    },
    {
     "name": "stdout",
     "output_type": "stream",
     "text": [
      "num_images:  35\n",
      "num_groups:  101\n",
      "70 {'kernel_bandwidthLat': 0.12, 'kernel_bandwidthLon': 0.05, 'look_distance': 0.1, 'n_iterations': 20}\n"
     ]
    },
    {
     "data": {
      "application/vnd.jupyter.widget-view+json": {
       "model_id": "f651f08f60f14b17876fddcfde12e3c4",
       "version_major": 2,
       "version_minor": 0
      },
      "text/plain": [
       "  0%|          | 0/36 [00:00<?, ?it/s]"
      ]
     },
     "metadata": {},
     "output_type": "display_data"
    },
    {
     "name": "stdout",
     "output_type": "stream",
     "text": [
      "num_images:  32\n",
      "num_groups:  85\n",
      "71 {'kernel_bandwidthLat': 0.12, 'kernel_bandwidthLon': 0.1, 'look_distance': 0.1, 'n_iterations': 20}\n"
     ]
    },
    {
     "data": {
      "application/vnd.jupyter.widget-view+json": {
       "model_id": "9f1e1b533b0f48a3a08f5bc70214e2a1",
       "version_major": 2,
       "version_minor": 0
      },
      "text/plain": [
       "  0%|          | 0/36 [00:00<?, ?it/s]"
      ]
     },
     "metadata": {},
     "output_type": "display_data"
    },
    {
     "name": "stdout",
     "output_type": "stream",
     "text": [
      "num_images:  33\n",
      "num_groups:  97\n",
      "72 {'kernel_bandwidthLat': 0.12, 'kernel_bandwidthLon': 0.15, 'look_distance': 0.1, 'n_iterations': 20}\n"
     ]
    },
    {
     "data": {
      "application/vnd.jupyter.widget-view+json": {
       "model_id": "9c2cb6e12c714af4b56b7d670c595ae0",
       "version_major": 2,
       "version_minor": 0
      },
      "text/plain": [
       "  0%|          | 0/36 [00:00<?, ?it/s]"
      ]
     },
     "metadata": {},
     "output_type": "display_data"
    },
    {
     "name": "stdout",
     "output_type": "stream",
     "text": [
      "num_images:  34\n",
      "num_groups:  106\n",
      "73 {'kernel_bandwidthLat': 0.12, 'kernel_bandwidthLon': 0.2, 'look_distance': 0.1, 'n_iterations': 20}\n"
     ]
    },
    {
     "data": {
      "application/vnd.jupyter.widget-view+json": {
       "model_id": "4ad7db4921f44683b7ee948e91fcd075",
       "version_major": 2,
       "version_minor": 0
      },
      "text/plain": [
       "  0%|          | 0/36 [00:00<?, ?it/s]"
      ]
     },
     "metadata": {},
     "output_type": "display_data"
    },
    {
     "name": "stdout",
     "output_type": "stream",
     "text": [
      "num_images:  34\n",
      "num_groups:  106\n",
      "74 {'kernel_bandwidthLat': 0.12, 'kernel_bandwidthLon': 0.25, 'look_distance': 0.1, 'n_iterations': 20}\n"
     ]
    },
    {
     "data": {
      "application/vnd.jupyter.widget-view+json": {
       "model_id": "96a5c26093e64c14962bc436d1579e32",
       "version_major": 2,
       "version_minor": 0
      },
      "text/plain": [
       "  0%|          | 0/36 [00:00<?, ?it/s]"
      ]
     },
     "metadata": {},
     "output_type": "display_data"
    },
    {
     "name": "stdout",
     "output_type": "stream",
     "text": [
      "num_images:  34\n",
      "num_groups:  104\n",
      "75 {'kernel_bandwidthLat': 0.12, 'kernel_bandwidthLon': 0.3, 'look_distance': 0.1, 'n_iterations': 20}\n"
     ]
    },
    {
     "data": {
      "application/vnd.jupyter.widget-view+json": {
       "model_id": "960e6eb68121427dad99dd795b4bcf9c",
       "version_major": 2,
       "version_minor": 0
      },
      "text/plain": [
       "  0%|          | 0/36 [00:00<?, ?it/s]"
      ]
     },
     "metadata": {},
     "output_type": "display_data"
    },
    {
     "name": "stdout",
     "output_type": "stream",
     "text": [
      "num_images:  35\n",
      "num_groups:  109\n",
      "76 {'kernel_bandwidthLat': 0.12, 'kernel_bandwidthLon': 0.35, 'look_distance': 0.1, 'n_iterations': 20}\n"
     ]
    },
    {
     "data": {
      "application/vnd.jupyter.widget-view+json": {
       "model_id": "e280bf3a74c44be18b063607931247f4",
       "version_major": 2,
       "version_minor": 0
      },
      "text/plain": [
       "  0%|          | 0/36 [00:00<?, ?it/s]"
      ]
     },
     "metadata": {},
     "output_type": "display_data"
    },
    {
     "name": "stdout",
     "output_type": "stream",
     "text": [
      "num_images:  35\n",
      "num_groups:  107\n",
      "77 {'kernel_bandwidthLat': 0.12, 'kernel_bandwidthLon': 0.45, 'look_distance': 0.1, 'n_iterations': 20}\n"
     ]
    },
    {
     "data": {
      "application/vnd.jupyter.widget-view+json": {
       "model_id": "6251e63e05704b8d881276127651aec3",
       "version_major": 2,
       "version_minor": 0
      },
      "text/plain": [
       "  0%|          | 0/36 [00:00<?, ?it/s]"
      ]
     },
     "metadata": {},
     "output_type": "display_data"
    },
    {
     "name": "stdout",
     "output_type": "stream",
     "text": [
      "num_images:  35\n",
      "num_groups:  107\n",
      "78 {'kernel_bandwidthLat': 0.12, 'kernel_bandwidthLon': 0.5, 'look_distance': 0.1, 'n_iterations': 20}\n"
     ]
    },
    {
     "data": {
      "application/vnd.jupyter.widget-view+json": {
       "model_id": "1a3922e748784c04a22ead9ac9a229fc",
       "version_major": 2,
       "version_minor": 0
      },
      "text/plain": [
       "  0%|          | 0/36 [00:00<?, ?it/s]"
      ]
     },
     "metadata": {},
     "output_type": "display_data"
    },
    {
     "name": "stdout",
     "output_type": "stream",
     "text": [
      "num_images:  35\n",
      "num_groups:  107\n",
      "79 {'kernel_bandwidthLat': 0.12, 'kernel_bandwidthLon': 0.55, 'look_distance': 0.1, 'n_iterations': 20}\n"
     ]
    },
    {
     "data": {
      "application/vnd.jupyter.widget-view+json": {
       "model_id": "be491ae3cb5e46e4890b244291f9c4ba",
       "version_major": 2,
       "version_minor": 0
      },
      "text/plain": [
       "  0%|          | 0/36 [00:00<?, ?it/s]"
      ]
     },
     "metadata": {},
     "output_type": "display_data"
    },
    {
     "name": "stdout",
     "output_type": "stream",
     "text": [
      "num_images:  35\n",
      "num_groups:  103\n",
      "80 {'kernel_bandwidthLat': 0.12, 'kernel_bandwidthLon': 0.6, 'look_distance': 0.1, 'n_iterations': 20}\n"
     ]
    },
    {
     "data": {
      "application/vnd.jupyter.widget-view+json": {
       "model_id": "037b622de79844fabddad1e66dcd30b4",
       "version_major": 2,
       "version_minor": 0
      },
      "text/plain": [
       "  0%|          | 0/36 [00:00<?, ?it/s]"
      ]
     },
     "metadata": {},
     "output_type": "display_data"
    },
    {
     "name": "stdout",
     "output_type": "stream",
     "text": [
      "num_images:  35\n",
      "num_groups:  102\n",
      "81 {'kernel_bandwidthLat': 0.12, 'kernel_bandwidthLon': 0.65, 'look_distance': 0.1, 'n_iterations': 20}\n"
     ]
    },
    {
     "data": {
      "application/vnd.jupyter.widget-view+json": {
       "model_id": "c7e79d85132048019cae123e8b2521bb",
       "version_major": 2,
       "version_minor": 0
      },
      "text/plain": [
       "  0%|          | 0/36 [00:00<?, ?it/s]"
      ]
     },
     "metadata": {},
     "output_type": "display_data"
    },
    {
     "name": "stdout",
     "output_type": "stream",
     "text": [
      "num_images:  35\n",
      "num_groups:  99\n",
      "82 {'kernel_bandwidthLat': 0.12, 'kernel_bandwidthLon': 0.7, 'look_distance': 0.1, 'n_iterations': 20}\n"
     ]
    },
    {
     "data": {
      "application/vnd.jupyter.widget-view+json": {
       "model_id": "5a3ffd7630eb42e4b16ac70f2064e57d",
       "version_major": 2,
       "version_minor": 0
      },
      "text/plain": [
       "  0%|          | 0/36 [00:00<?, ?it/s]"
      ]
     },
     "metadata": {},
     "output_type": "display_data"
    },
    {
     "name": "stdout",
     "output_type": "stream",
     "text": [
      "num_images:  35\n",
      "num_groups:  96\n",
      "83 {'kernel_bandwidthLat': 0.12, 'kernel_bandwidthLon': 0.75, 'look_distance': 0.1, 'n_iterations': 20}\n"
     ]
    },
    {
     "data": {
      "application/vnd.jupyter.widget-view+json": {
       "model_id": "f10ca378a62f46b79a9166dd4919e81b",
       "version_major": 2,
       "version_minor": 0
      },
      "text/plain": [
       "  0%|          | 0/36 [00:00<?, ?it/s]"
      ]
     },
     "metadata": {},
     "output_type": "display_data"
    },
    {
     "name": "stdout",
     "output_type": "stream",
     "text": [
      "num_images:  35\n",
      "num_groups:  94\n"
     ]
    }
   ],
   "source": [
    "\n",
    "grid_image_out_dict = { }\n",
    "grid_image_out_dict_stats = { }\n",
    "\n",
    "for param_idx, params in enumerate(param_grid):\n",
    "    print(param_idx, params)\n",
    "\n",
    "    image_out_dict = {}\n",
    "    image_out_dict_stats = {}\n",
    "\n",
    "    cur_huge_dict = deepcopy(grid_huge_dict[param_idx])\n",
    "\n",
    "    for basename in tqdm(list(cur_huge_dict.keys())[:]):\n",
    "        cur_image_dict = cur_huge_dict[basename]\n",
    "        \n",
    "        angle = cur_image_dict[\"SOLAR_P0\"]\n",
    "        deltashapeX = cur_image_dict[\"deltashapeX\"]\n",
    "        deltashapeY = cur_image_dict[\"deltashapeY\"]\n",
    "        \n",
    "        drawing_radius_px = huge_db_dict[basename][\"dr_radius_px\"]\n",
    "        \n",
    "        group_list = cur_image_dict['db']\n",
    "        \n",
    "        ms_dict = cur_image_dict['meanshift']\n",
    "        \n",
    "        centroids = np.array(ms_dict[\"centroids\"])\n",
    "        centroids_px = np.array(ms_dict[\"centroids_px\"])\n",
    "        \n",
    "        db_classes = [{\"Zurich\":item['Zurich'], \"McIntosh\":item['McIntosh'] } for item in group_list]\n",
    "        db_bboxes = [np.array(item['bbox_wl']) for item in group_list]\n",
    "        db_centers_px = np.array([[(b[2]+b[0])/2,(b[3]+b[1])/2] for b in db_bboxes])\n",
    "           \n",
    "        # check that current bbox is does not overlap any\n",
    "        isolated_bboxes_bool = np.array(c_utils.get_intersecting_db_bboxes(db_bboxes)) == 0\n",
    "        isolated_bboxes_indices = np.where(isolated_bboxes_bool == True)[0]\n",
    "    #     print(\"isolated_bboxes_bool\",isolated_bboxes_bool)\n",
    "    #     print(isolated_bboxes_indices)\n",
    "        \n",
    "        cur_rejected_class_distibutions = { \n",
    "                'noMS_but_DB': {},\n",
    "                'singleMS_multipleDB': {}, \n",
    "                'num_oneDBbbox_multipleMSoverlap_ambiguity':{},\n",
    "                # 'noDB_but_MS': {},\n",
    "            }\n",
    "        cur_out_stats = {\n",
    "            # General info\n",
    "            'num_DB_groups':len(db_bboxes),\n",
    "            'num_MS_groups':len(centroids_px),\n",
    "            'num_DB_isolated_groups':len(isolated_bboxes_indices),\n",
    "            'num_DB_overlaping_bboxes':len(db_bboxes) - len(isolated_bboxes_indices),\n",
    "            # MS with DB matching info\n",
    "            \"num_MSmatchesDB\":0,\n",
    "            # MS with DB rejection info\n",
    "            \"num_noMS_but_DB_reject\":0,\n",
    "            \"num_singleMS_multipleDB_reject\":0,\n",
    "            \"num_oneDBbbox_multipleMSoverlap_ambiguity_reject\":0,\n",
    "            # MS with DB no match info\n",
    "            \"num_noDB_but_MS\":0,\n",
    "            }\n",
    "        cur_out_groups = []\n",
    "        for i, (db_bbox, db_center, db_class) in enumerate(\n",
    "                                                zip([db_bboxes[a] for a in isolated_bboxes_indices.tolist() ],\n",
    "                                                    [db_centers_px[a] for a in isolated_bboxes_indices.tolist()],\n",
    "                                                    [db_classes[a] for a in isolated_bboxes_indices.tolist()],\n",
    "                                                )):\n",
    "            \n",
    "            \n",
    "            ms_centroids, ms_members = centroids_px, ms_dict['groups_px']\n",
    "            \n",
    "            intersect = c_utils.contains_ms_groups(db_bbox, db_center, ms_centroids, ms_members)\n",
    "            \n",
    "            if sum(intersect) == 0: # Il n'y a eu aucune détection dans cette zone\n",
    "                cur_out_stats['num_noMS_but_DB_reject'] += 1\n",
    "                cause = 'noMS_but_DB'\n",
    "                add_rejected_to_distributions(cur_rejected_class_distibutions[cause], db_class[\"McIntosh\"][0])\n",
    "                pass\n",
    "            elif sum(intersect) == 1: # il n'y a de l'overlap qu'avec un seul groupe meanshift            \n",
    "    #             print('hit')\n",
    "                idx = intersect.index(True)\n",
    "    #             print(idx)\n",
    "                # vérifier que le groupe meanshift n'intersecte aucune autre bbox\n",
    "                num_intersections = np.sum(c_utils.count_group_intersections(ms_members[idx], db_bboxes))\n",
    "                if num_intersections > 1:\n",
    "                    cur_out_stats['num_singleMS_multipleDB_reject'] += 1\n",
    "                    cause = 'singleMS_multipleDB'\n",
    "                    add_rejected_to_distributions(cur_rejected_class_distibutions[cause], db_class[\"McIntosh\"][0])\n",
    "                    continue\n",
    "                \n",
    "                Rmm = huge_db_dict[basename]['dr_radius_mm']\n",
    "                R_pixel = huge_db_dict[basename]['dr_radius_px']\n",
    "                sun_center = huge_db_dict[basename]['dr_center_px']\n",
    "                dr_pixpos = np.array([group_list[i]['posx'], group_list[i]['posy']])\n",
    "                \n",
    "                angular_excentricity =  c_utils.get_angle2(dr_pixpos, R_pixel, sun_center)\n",
    "                \n",
    "                cur_group_dict={\n",
    "                                \"centroid_px\": centroids_px[idx],\n",
    "                                \"centroid_Lat\": centroids[idx][0],\n",
    "                                \"centroid_Lon\": centroids[idx][1],\n",
    "                                \"angular_excentricity_rad\": angular_excentricity,\n",
    "                                \"angular_excentricity_deg\": np.rad2deg(angular_excentricity),\n",
    "                                \"Zurich\":   db_class[\"Zurich\"],\n",
    "                                \"McIntosh\": db_class[\"McIntosh\"],\n",
    "                                \"members\": ms_members[idx],\n",
    "                                \"members_mean_px\": np.mean(ms_members[idx], axis=0),\n",
    "                            }\n",
    "                \n",
    "                \n",
    "                cur_out_groups.append(cur_group_dict)\n",
    "                cur_out_stats['num_MSmatchesDB'] += 1\n",
    "\n",
    "            else: # db_bbox intersecte plusieurs groupes meanshift\n",
    "                cur_out_stats['num_oneDBbbox_multipleMSoverlap_ambiguity_reject'] += 1\n",
    "                cause = 'num_oneDBbbox_multipleMSoverlap_ambiguity'\n",
    "                add_rejected_to_distributions(cur_rejected_class_distibutions[cause], db_class[\"McIntosh\"][0])\n",
    "                pass\n",
    "                \n",
    "        if len(cur_out_groups) > 0:\n",
    "            image_out_dict[basename] = { \"angle\": angle,\n",
    "                                        \"deltashapeX\":deltashapeX,\n",
    "                                        \"deltashapeY\":deltashapeY,\n",
    "                                        \"groups\": cur_out_groups,\n",
    "                                    }\n",
    "\n",
    "        # count the number of MS groups that do not have any overlap with the DB\n",
    "        num_intersections_per_group = [np.sum(c_utils.count_group_intersections(ms_members[idx], db_bboxes)) for idx in range(len(ms_members))]\n",
    "        num_MS_without_DB_overlap = len(np.where(np.array(num_intersections_per_group) == 0)[0])\n",
    "        cur_out_stats['num_noDB_but_MS'] = num_MS_without_DB_overlap\n",
    "        \n",
    "        # print(cur_rejected_class_distibutions)\n",
    "        cur_out_stats['rejected_class_distributions'] = deepcopy(cur_rejected_class_distibutions)\n",
    "        # print(cur_out_stats)\n",
    "        image_out_dict_stats[basename] = deepcopy(cur_out_stats)\n",
    "\n",
    "        \n",
    "\n",
    "    print('num_images: ', len(list(image_out_dict.keys())))\n",
    "    num_groups = 0\n",
    "    for k,v in image_out_dict.items():\n",
    "        num_groups += len(v['groups'])\n",
    "    print(\"num_groups: \",num_groups)\n",
    "    # print(image_out_dict)\n",
    "\n",
    "    grid_image_out_dict[param_idx] = deepcopy(image_out_dict)\n",
    "    grid_image_out_dict_stats[param_idx] = deepcopy(image_out_dict_stats)\n",
    "\n"
   ]
  },
  {
   "cell_type": "code",
   "execution_count": 13,
   "metadata": {},
   "outputs": [],
   "source": [
    "import collections\n",
    "from collections import Counter\n",
    "\n",
    "cur_out_stats = {\n",
    "    # General info\n",
    "    'num_DB_groups': 0,\n",
    "    'num_MS_groups': 0,\n",
    "    'num_DB_isolated_groups': 0,\n",
    "    'num_DB_overlaping_bboxes': 0,\n",
    "    # MS with DB matching info\n",
    "    \"num_MSmatchesDB\":0,\n",
    "    # MS with DB rejection info\n",
    "    \"num_noMS_but_DB_reject\":0,\n",
    "    \"num_singleMS_multipleDB_reject\":0,\n",
    "    \"num_oneDBbbox_multipleMSoverlap_ambiguity_reject\":0,\n",
    "    # MS with DB no match info\n",
    "    \"num_noDB_but_MS\":0,\n",
    "    }\n",
    "\n",
    "stats_keys = cur_out_stats.keys()\n",
    "\n",
    "should_check =  list(stats_keys) + [\n",
    "                                        'num_rejects_all',\n",
    "                                        'num_optimizable_rejects',\n",
    "                                        'rate_optimizable_rejects',\n",
    "                                    ]\n",
    "\n",
    "gridsearch_dict_per_img = { k : np.zeros((len(param_grid_values['kernel_bandwidthLon']), \n",
    "                                   len(param_grid_values['kernel_bandwidthLat']),\n",
    "                                    len(wl_list)\n",
    "                                   ))\n",
    "                    for k in should_check}\n",
    "\n",
    "should_check_global = list(stats_keys) + [\n",
    "                                            'num_rejects_all',\n",
    "                                            'num_optimizable_rejects',\n",
    "                                            'rate_optimizable_rejects',\n",
    "                                         ]\n",
    "gridsearch_dict_total = { k : np.zeros((len(param_grid_values['kernel_bandwidthLon']), \n",
    "                                   len(param_grid_values['kernel_bandwidthLat'])\n",
    "                                   ))\n",
    "                    for k in should_check_global}\n",
    "\n",
    "# grid_search_reject_distribs = { k : {} for param_idx, params in enumerate(param_grid)}\n",
    "grid_search_reject_distribs = {}\n",
    "\n",
    "\n",
    "\n",
    "\n",
    "\n",
    "for param_idx, params in enumerate(param_grid):\n",
    "    image_out_dict = grid_image_out_dict[param_idx]\n",
    "    image_out_dict_stats = grid_image_out_dict_stats[param_idx]\n",
    "    \n",
    "    # General info\n",
    "    num_DB_groups_per_image = np.array([item['num_DB_groups'] for k,item in image_out_dict_stats.items()])\n",
    "    num_MS_groups_per_image = np.array([item['num_MS_groups'] for k,item in image_out_dict_stats.items()])\n",
    "\n",
    "    diff_num_groups = num_DB_groups_per_image - num_MS_groups_per_image # should be shown on histogram , closer to 0 is better\n",
    "\n",
    "    # number of isolated DB groups per image and mean number in dataset\n",
    "    num_isolated_DB_groups = np.array([v['num_DB_isolated_groups'] for k,v in image_out_dict_stats.items()])\n",
    "    # number of DB groups with overlap with other DB groups\n",
    "    num_DB_overlaping_bboxes = np.array([v['num_DB_overlaping_bboxes'] for k,v in image_out_dict_stats.items()])\n",
    "\n",
    "    # matches\n",
    "    num_MSmatchesDB = np.array([v['num_MSmatchesDB'] for k,v in image_out_dict_stats.items()])\n",
    "    \n",
    "    # rejects\n",
    "    # 1) numbers of rejects due to no MS group overlapping DB group (# cannot do anything to this, examples are discarded)\n",
    "    num_noMS_but_DB_reject = np.array([v['num_noMS_but_DB_reject'] for k,v in image_out_dict_stats.items()])\n",
    "    # 2) numbers of rejects due to single MS group overlapping multiple DB groups (# minimize this)\n",
    "    num_singleMS_multipleDB_reject = np.array([v['num_singleMS_multipleDB_reject'] for k,v in image_out_dict_stats.items()])\n",
    "    # 3) numbers of rejects due to single DB group overlapping multiple MS groups (# minimize this)\n",
    "    num_oneDBbbox_multipleMSoverlap_ambiguity_reject = np.array([v['num_oneDBbbox_multipleMSoverlap_ambiguity_reject'] for k,v in image_out_dict_stats.items()])\n",
    "\n",
    "    num_optimizable_rejects = num_singleMS_multipleDB_reject + num_oneDBbbox_multipleMSoverlap_ambiguity_reject\n",
    "    num_rejects_all = num_optimizable_rejects + num_noMS_but_DB_reject\n",
    "\n",
    "    # rate of optimizable rejects\n",
    "    rate_optimizable_rejects = num_optimizable_rejects / num_rejects_all\n",
    "\n",
    "    # print(num_optimizable_rejects)\n",
    "\n",
    "\n",
    "    # Aggregate reject distributions of images over the dataset\n",
    "    dict1 = [v['rejected_class_distributions']['noMS_but_DB'] for k,v in image_out_dict_stats.items()]\n",
    "    summed_dict1 = sum(map(collections.Counter, dict1),Counter())\n",
    "    dict2 = [v['rejected_class_distributions']['singleMS_multipleDB'] for k,v in image_out_dict_stats.items()]\n",
    "    summed_dict2 = sum(map(collections.Counter, dict2),Counter())\n",
    "    dict3 = [v['rejected_class_distributions']['num_oneDBbbox_multipleMSoverlap_ambiguity'] for k,v in image_out_dict_stats.items()]\n",
    "    summed_dict3 = sum(map(collections.Counter, dict3),Counter())\n",
    "    dataset_rejected_class_distibutions = { \n",
    "        'noMS_but_DB': summed_dict1,\n",
    "        'singleMS_multipleDB': summed_dict2, \n",
    "        'num_oneDBbbox_multipleMSoverlap_ambiguity': summed_dict3,\n",
    "    }\n",
    "\n",
    "    # print(dict1)\n",
    "    # print(summed_dict1)\n",
    "    \n",
    "\n",
    "\n",
    "    # get indices of current params\n",
    "    kernel_bandwidthLon_idx = param_grid_values['kernel_bandwidthLon'].index(params['kernel_bandwidthLon'])\n",
    "    kernel_bandwidthLat_idx = param_grid_values['kernel_bandwidthLat'].index(params['kernel_bandwidthLat'])\n",
    "    ############################\n",
    "    # Fill per-image dictinnary \n",
    "    ############################\n",
    "\n",
    "    # number of DB groups\n",
    "    gridsearch_dict_per_img['num_DB_groups'][kernel_bandwidthLon_idx,kernel_bandwidthLat_idx] = num_DB_groups_per_image\n",
    "    # number of MS groups\n",
    "    gridsearch_dict_per_img['num_MS_groups'][kernel_bandwidthLon_idx,kernel_bandwidthLat_idx] = num_MS_groups_per_image\n",
    "\n",
    "    # number of isolated DB groups\n",
    "    gridsearch_dict_per_img['num_DB_isolated_groups'][kernel_bandwidthLon_idx,kernel_bandwidthLat_idx] = num_isolated_DB_groups\n",
    "    gridsearch_dict_per_img['num_DB_overlaping_bboxes'][kernel_bandwidthLon_idx,kernel_bandwidthLat_idx] = num_DB_overlaping_bboxes\n",
    "\n",
    "    # matches\n",
    "    gridsearch_dict_per_img['num_MSmatchesDB'][kernel_bandwidthLon_idx,kernel_bandwidthLat_idx] = num_MSmatchesDB\n",
    "    \n",
    "    # not optimizable rejects\n",
    "    gridsearch_dict_per_img['num_noMS_but_DB_reject'][kernel_bandwidthLon_idx,kernel_bandwidthLat_idx] = num_noMS_but_DB_reject\n",
    "    \n",
    "    # optimizable rejects\n",
    "    gridsearch_dict_per_img['num_singleMS_multipleDB_reject'][kernel_bandwidthLon_idx,kernel_bandwidthLat_idx] = num_singleMS_multipleDB_reject\n",
    "    gridsearch_dict_per_img['num_oneDBbbox_multipleMSoverlap_ambiguity_reject'][kernel_bandwidthLon_idx,kernel_bandwidthLat_idx] = num_oneDBbbox_multipleMSoverlap_ambiguity_reject\n",
    "    gridsearch_dict_per_img['num_optimizable_rejects'][kernel_bandwidthLon_idx,kernel_bandwidthLat_idx] = num_optimizable_rejects\n",
    "    \n",
    "    gridsearch_dict_per_img['num_rejects_all'][kernel_bandwidthLon_idx,kernel_bandwidthLat_idx] = num_rejects_all\n",
    "    \n",
    "    # rate of optimizable rejects\n",
    "    gridsearch_dict_per_img['rate_optimizable_rejects'][kernel_bandwidthLon_idx,kernel_bandwidthLat_idx] = rate_optimizable_rejects\n",
    "    \n",
    "    ############################\n",
    "    # Fill total dictionnary\n",
    "    ############################\n",
    "    # number of DB groups\n",
    "    gridsearch_dict_total['num_DB_groups'][kernel_bandwidthLon_idx,kernel_bandwidthLat_idx] = np.sum(num_DB_groups_per_image)\n",
    "    # number of MS groups\n",
    "    gridsearch_dict_total['num_MS_groups'][kernel_bandwidthLon_idx,kernel_bandwidthLat_idx] = np.sum(num_MS_groups_per_image)\n",
    "\n",
    "    # number of isolated DB groups\n",
    "    gridsearch_dict_total['num_DB_isolated_groups'][kernel_bandwidthLon_idx,kernel_bandwidthLat_idx] = np.sum(num_isolated_DB_groups)\n",
    "    gridsearch_dict_total['num_DB_overlaping_bboxes'][kernel_bandwidthLon_idx,kernel_bandwidthLat_idx] = np.sum(num_DB_overlaping_bboxes)\n",
    "\n",
    "    # matches\n",
    "    gridsearch_dict_total['num_MSmatchesDB'][kernel_bandwidthLon_idx,kernel_bandwidthLat_idx] = np.sum(num_MSmatchesDB)\n",
    "\n",
    "    # not optimizable rejects\n",
    "    gridsearch_dict_total['num_noMS_but_DB_reject'][kernel_bandwidthLon_idx,kernel_bandwidthLat_idx] = np.sum(num_noMS_but_DB_reject)\n",
    "\n",
    "    # optimizable rejects\n",
    "    gridsearch_dict_total['num_singleMS_multipleDB_reject'][kernel_bandwidthLon_idx,kernel_bandwidthLat_idx] = np.sum(num_singleMS_multipleDB_reject)\n",
    "    gridsearch_dict_total['num_oneDBbbox_multipleMSoverlap_ambiguity_reject'][kernel_bandwidthLon_idx,kernel_bandwidthLat_idx] = np.sum(num_oneDBbbox_multipleMSoverlap_ambiguity_reject)\n",
    "    gridsearch_dict_total['num_optimizable_rejects'][kernel_bandwidthLon_idx,kernel_bandwidthLat_idx] = np.sum(num_optimizable_rejects)\n",
    "\n",
    "    gridsearch_dict_total['num_rejects_all'][kernel_bandwidthLon_idx,kernel_bandwidthLat_idx] = np.sum(num_rejects_all)\n",
    "\n",
    "\n",
    "    rate_optimizable_rejects_all = np.sum(num_optimizable_rejects) / np.sum(num_rejects_all)\n",
    "    gridsearch_dict_total['rate_optimizable_rejects'][kernel_bandwidthLon_idx,kernel_bandwidthLat_idx] = rate_optimizable_rejects_all\n",
    "\n",
    "    grid_search_reject_distribs[param_idx] = deepcopy(dataset_rejected_class_distibutions) \n",
    "\n",
    "    \n",
    "    \n",
    "\n",
    "gridsearch = { k : pd.DataFrame(v) }\n"
   ]
  },
  {
   "cell_type": "code",
   "execution_count": 36,
   "metadata": {},
   "outputs": [
    {
     "name": "stdout",
     "output_type": "stream",
     "text": [
      "all_isolated:  164.0 all_overlapping:  29.0\n",
      "all_optimizable 117.0\n"
     ]
    },
    {
     "data": {
      "application/vnd.jupyter.widget-view+json": {
       "model_id": "3f464307a1954eddb337e51267473629",
       "version_major": 2,
       "version_minor": 0
      },
      "text/plain": [
       "Canvas(toolbar=Toolbar(toolitems=[('Home', 'Reset original view', 'home', 'home'), ('Back', 'Back to previous …"
      ]
     },
     "metadata": {},
     "output_type": "display_data"
    }
   ],
   "source": [
    "# accuracy\n",
    "all_isolated = gridsearch_dict_total['num_DB_isolated_groups'] \n",
    "all_overlapping = gridsearch_dict_total['num_DB_overlaping_bboxes'] \n",
    "\n",
    "print('all_isolated: ', all_isolated[0,0],'all_overlapping: ' ,all_overlapping[0,0])\n",
    "\n",
    "all_noMS_but_DB = gridsearch_dict_total['num_noMS_but_DB_reject']\n",
    "\n",
    "optimizable = all_isolated - all_noMS_but_DB\n",
    "\n",
    "print('all_optimizable', optimizable[0,0])\n",
    "\n",
    "\n",
    "matches = gridsearch_dict_total['num_MSmatchesDB']\n",
    "\n",
    "accuracy = matches / optimizable\n",
    "\n",
    "accuracy_df = pd.DataFrame(accuracy)\n",
    "accuracy_df.columns = param_grid_values['kernel_bandwidthLat']\n",
    "accuracy_df.index = param_grid_values['kernel_bandwidthLon']\n",
    "\n",
    "\n",
    "fig_, ax_ = plt.subplots(1,1, figsize=(3.5*1,3*1))\n",
    "ax_ = sns.heatmap(accuracy_df, ax=ax_, vmin=0, annot=True)\n",
    "ax_.set_title('Accuracy')\n",
    "ax_.set_xlabel('kernel_bandwidthLat')\n",
    "ax_.set_ylabel('kernel_bandwidthLon')\n",
    "\n",
    "fig_.tight_layout()\n"
   ]
  },
  {
   "cell_type": "code",
   "execution_count": 37,
   "metadata": {},
   "outputs": [
    {
     "data": {
      "application/vnd.jupyter.widget-view+json": {
       "model_id": "bdc7fd92a44f4176913a94af2007fa81",
       "version_major": 2,
       "version_minor": 0
      },
      "text/plain": [
       "Canvas(toolbar=Toolbar(toolitems=[('Home', 'Reset original view', 'home', 'home'), ('Back', 'Back to previous …"
      ]
     },
     "metadata": {},
     "output_type": "display_data"
    }
   ],
   "source": [
    "\n",
    "num_rows_2 = 1\n",
    "num_cols_2 = 2\n",
    "fig2, ax2 = plt.subplots(num_rows_2,num_cols_2, figsize=(3.5*num_cols_2,3*num_rows_2))\n",
    "\n",
    "\n",
    "df2 = pd.DataFrame(np.sum(gridsearch_dict_per_img['num_optimizable_rejects'],axis=-1))\n",
    "df2.columns = param_grid_values['kernel_bandwidthLat']\n",
    "df2.index = param_grid_values['kernel_bandwidthLon']\n",
    "ax_ = sns.heatmap(df2, ax=ax2[0], vmin=0, annot=True)\n",
    "ax_.set_title('Number of optimizable rejects')\n",
    "ax_.set_xlabel('kernel_bandwidthLat')\n",
    "ax_.set_ylabel('kernel_bandwidthLon')\n",
    "\n",
    "df2 = pd.DataFrame(gridsearch_dict_total['rate_optimizable_rejects'])\n",
    "df2.columns = param_grid_values['kernel_bandwidthLat']\n",
    "df2.index = param_grid_values['kernel_bandwidthLon']\n",
    "ax_ = sns.heatmap(df2, ax=ax2[1], vmin=0, annot=True)\n",
    "ax_.set_title('Rate of optimizable rejects')\n",
    "ax_.set_xlabel('kernel_bandwidthLat')\n",
    "ax_.set_ylabel('kernel_bandwidthLon')\n",
    "\n",
    "fig2.tight_layout()\n",
    "\n"
   ]
  },
  {
   "cell_type": "code",
   "execution_count": 15,
   "metadata": {
    "scrolled": false
   },
   "outputs": [
    {
     "data": {
      "application/vnd.jupyter.widget-view+json": {
       "model_id": "31118ccb88514b4cbe81d078c804ba5b",
       "version_major": 2,
       "version_minor": 0
      },
      "text/plain": [
       "Canvas(toolbar=Toolbar(toolitems=[('Home', 'Reset original view', 'home', 'home'), ('Back', 'Back to previous …"
      ]
     },
     "metadata": {},
     "output_type": "display_data"
    }
   ],
   "source": [
    "\n",
    "# dataset_rejected_class_distibutions = { \n",
    "#     'noMS_but_DB': summed_dict1,\n",
    "#     'singleMS_multipleDB': summed_dict2, \n",
    "#     'num_oneDBbbox_multipleMSoverlap_ambiguity': summed_dict3,\n",
    "# }\n",
    "\n",
    "# param_grid_values = {\n",
    "#     'look_distance' : [0.1],\n",
    "#     'kernel_bandwidthLon' : [ 0.05 , 0.1, 0.15, .2,.21,.22,.23,.24,.25, .3,.35,.45],\n",
    "#     'kernel_bandwidthLat' : [.08,],\n",
    "#     # 'kernel_bandwidthLon' : [ 0.05 , 0.1, 0.15, .2, .25, .3,.35,.45],\n",
    "#     # 'kernel_bandwidthLat' : [ 0.04 , 0.06, .08, .1, .12],\n",
    "#     # 'kernel_bandwidthLat' : [ 0.05 , 0.06, 0.07, .08, .09, .1, .11, .12],\n",
    "#     'n_iterations' : [20],\n",
    "# }\n",
    "\n",
    "\n",
    "num_rows_distrib = len(param_grid_values['kernel_bandwidthLon'])\n",
    "num_cols_distrib = len(param_grid_values['kernel_bandwidthLat'])\n",
    "fig_distrib, ax_distrib = plt.subplots(num_rows_distrib,num_cols_distrib, figsize=(5*num_cols_distrib,3*num_rows_distrib))\n",
    "\n",
    "# for i in range(num_rows_distrib):\n",
    "#     for j in range(num_cols_distrib):\n",
    "#         cur_ax = ax_distrib[i,j]\n",
    "\n",
    "for param_idx, params in enumerate(param_grid):\n",
    "#     print(params)\n",
    "    cur_lat_idx = param_grid_values['kernel_bandwidthLat'].index(params['kernel_bandwidthLat'])\n",
    "    cur_lon_idx = param_grid_values['kernel_bandwidthLon'].index(params['kernel_bandwidthLon'])\n",
    "\n",
    "    data = grid_search_reject_distribs[param_idx]\n",
    "    data_df = pd.DataFrame(data)\n",
    "\n",
    "    # reorder rows alphabetically\n",
    "    data_df = data_df.reindex(sorted(data_df.columns), axis=1)\n",
    "    data_df.sort_index( inplace=True)\n",
    "    data_df = data_df.fillna(0)\n",
    "    # data_df = data_df.T\n",
    "\n",
    "\n",
    "#     display(data_df)\n",
    "\n",
    "    cur_ax = ax_distrib[cur_lon_idx,cur_lat_idx]\n",
    "#     cur_ax = ax_distrib[cur_lon_idx]\n",
    "\n",
    "    # ax_ = data_df['noMS_but_DB'].plot(kind='bar' , ax=cur_ax, stacked=False, alpha=0.5, color='k' )\n",
    "    # ax_ = data_df['singleMS_multipleDB'].plot(kind='bar' , ax=cur_ax, stacked=False, alpha=0.5 , color='r')\n",
    "    # ax_ = data_df['num_oneDBbbox_multipleMSoverlap_ambiguity'].plot(kind='bar' , ax=cur_ax, stacked=False, alpha=0.5 , color='b')\n",
    "\n",
    "\n",
    "    # ax_ = data_df.plot(kind='bar' , ax=cur_ax, stacked=True, alpha=0.5 )\n",
    "#     deta_df2 = \n",
    "    ax_ = data_df.plot(kind='bar' , ax=cur_ax, alpha=0.5, color=['k','r','b'],label=['O','U','I'] )\n",
    "\n",
    "    ax_.set_title(f'Rejected classes distribution \\n Lon = {params[\"kernel_bandwidthLon\"]}, Lat = {params[\"kernel_bandwidthLat\"]}')\n",
    "    # ax_.set_xlabel(f'kernel_bandwidthLat = {params[\"kernel_bandwidthLat\"]}')\n",
    "    # ax_.set_ylabel(f'kernel_bandwidthLon = {params[\"kernel_bandwidthLon\"]}')\n",
    "\n",
    "    # break\n",
    "\n",
    "    \n",
    "\n",
    "        \n",
    "\n",
    "\n",
    "fig_distrib.tight_layout()\n"
   ]
  },
  {
   "cell_type": "code",
   "execution_count": 20,
   "metadata": {},
   "outputs": [
    {
     "data": {
      "application/vnd.jupyter.widget-view+json": {
       "model_id": "1f3a35dab6b24459a9a094651dd65658",
       "version_major": 2,
       "version_minor": 0
      },
      "text/plain": [
       "VBox(children=(IntSlider(value=0, max=35), Canvas(toolbar=Toolbar(toolitems=[('Home', 'Reset original view', '…"
      ]
     },
     "metadata": {},
     "output_type": "display_data"
    }
   ],
   "source": [
    "\n",
    "\n",
    "def on_value_change(change):\n",
    "   \n",
    "\n",
    "    # print(ax)\n",
    "    # print(len(ax.collections))\n",
    "    for i in range(num_cols):\n",
    "        if len(ax[i].collections) > 0:\n",
    "            cb = ax[i].collections[-1].colorbar\n",
    "            if cb is not None:\n",
    "                cb.remove()\n",
    "            ax[i].clear()\n",
    "\n",
    "    df = pd.DataFrame(gridsearch_dict_per_img['num_optimizable_rejects'][:, :, a_slider.value])\n",
    "    df.columns = param_grid_values['kernel_bandwidthLat']\n",
    "    df.index = param_grid_values['kernel_bandwidthLon']\n",
    "    # ax0 = sns.heatmap(df, ax=ax, cbar=False,)\n",
    "    ax0 = sns.heatmap(df, ax=ax[0], vmin=0, annot=True)\n",
    "    ax0.set_title('Number of optimizable rejects')\n",
    "    ax0.set_xlabel('kernel_bandwidthLat')\n",
    "    ax0.set_ylabel('kernel_bandwidthLon')\n",
    "\n",
    "    df = pd.DataFrame(gridsearch_dict_per_img['num_singleMS_multipleDB_reject'][:, :, a_slider.value])\n",
    "    df.columns = param_grid_values['kernel_bandwidthLat']\n",
    "    df.index = param_grid_values['kernel_bandwidthLon']\n",
    "    # ax1 = sns.heatmap(df, ax=ax, cbar=False,)\n",
    "    ax1 = sns.heatmap(df, ax=ax[1], vmin=0, annot=True)\n",
    "    ax1.set_title('Only MS candidate covers \\n2+ DB bboxes')\n",
    "    ax1.set_xlabel('kernel_bandwidthLat')\n",
    "    ax1.set_ylabel('kernel_bandwidthLon')\n",
    "    \n",
    "    df = pd.DataFrame(gridsearch_dict_per_img['num_oneDBbbox_multipleMSoverlap_ambiguity_reject'][:, :, a_slider.value])\n",
    "    df.columns = param_grid_values['kernel_bandwidthLat']\n",
    "    df.index = param_grid_values['kernel_bandwidthLon']\n",
    "    # ax0 = sns.heatmap(df, ax=ax, cbar=False,)\n",
    "    ax2 = sns.heatmap(df, ax=ax[2], vmin=0, annot=True)\n",
    "    ax2.set_title('DB group matches \\nmultiple MS groups')\n",
    "    ax2.set_xlabel('kernel_bandwidthLat')\n",
    "    ax2.set_ylabel('kernel_bandwidthLon')\n",
    "\n",
    "    fig.tight_layout()\n",
    "\n",
    "    # pass\n",
    "\n",
    "a_slider = widgets.IntSlider(min=0, max=len(wl_list)-1, step=1, value=0)\n",
    "a_slider.observe(on_value_change, names='value')\n",
    "\n",
    "plt.ioff()\n",
    "num_rows = 1\n",
    "num_cols = 3\n",
    "fig, ax = plt.subplots(num_rows,num_cols, figsize=(3*num_cols,3*num_rows))\n",
    "on_value_change(None)\n",
    "plt.ion()\n",
    "\n",
    "display(widgets.VBox([a_slider, fig.canvas]))\n"
   ]
  },
  {
   "cell_type": "code",
   "execution_count": null,
   "metadata": {},
   "outputs": [],
   "source": [
    "look_distance = .05  # How far to look for neighbours.\n",
    "kernel_bandwidthLon = .25  # Longitude Kernel parameter.\n",
    "kernel_bandwidthLat = .08  # Latitude Kernel parameter.\n",
    "n_iterations = 1000 # Number of iterations\n",
    "\n"
   ]
  },
  {
   "cell_type": "code",
   "execution_count": null,
   "metadata": {},
   "outputs": [],
   "source": [
    "#create set of 5 ints\n",
    "def create_set_of_5_ints():\n",
    "    return set(range(300,525,25))\n",
    "\n",
    "def all_pairs(s):\n",
    "    '''Returns all pairs of elements in the set s such that (a, b) == (b, a), \n",
    "    and (a, a) is not included in the result.'''\n",
    "    return set((min(x, y), max(x, y)) for x in s for y in s if (x != y) and np.abs(x-y)>25)\n",
    "\n",
    "my_set = create_set_of_5_ints()\n",
    "print(my_set)\n",
    "print(all_pairs(my_set))\n",
    "print(len(all_pairs(my_set)))\n",
    "\n",
    "\n"
   ]
  },
  {
   "cell_type": "markdown",
   "metadata": {},
   "source": [
    "# Test overlapping bboxes"
   ]
  },
  {
   "cell_type": "code",
   "execution_count": 29,
   "metadata": {},
   "outputs": [
    {
     "name": "stdout",
     "output_type": "stream",
     "text": [
      "0 {'kernel_bandwidthLat': 0.02, 'kernel_bandwidthLon': 0.05, 'look_distance': 0.1, 'n_iterations': 20}\n"
     ]
    },
    {
     "data": {
      "application/vnd.jupyter.widget-view+json": {
       "model_id": "ab1be42047f7490488cc971b5778f842",
       "version_major": 2,
       "version_minor": 0
      },
      "text/plain": [
       "  0%|          | 0/36 [00:00<?, ?it/s]"
      ]
     },
     "metadata": {},
     "output_type": "display_data"
    },
    {
     "name": "stdout",
     "output_type": "stream",
     "text": [
      "num_images:  7\n",
      "num_groups:  13\n",
      "1 {'kernel_bandwidthLat': 0.02, 'kernel_bandwidthLon': 0.1, 'look_distance': 0.1, 'n_iterations': 20}\n"
     ]
    },
    {
     "data": {
      "application/vnd.jupyter.widget-view+json": {
       "model_id": "4e9ac8d8707042e49a50c7ed7b471b35",
       "version_major": 2,
       "version_minor": 0
      },
      "text/plain": [
       "  0%|          | 0/36 [00:00<?, ?it/s]"
      ]
     },
     "metadata": {},
     "output_type": "display_data"
    },
    {
     "name": "stdout",
     "output_type": "stream",
     "text": [
      "num_images:  7\n",
      "num_groups:  14\n",
      "2 {'kernel_bandwidthLat': 0.02, 'kernel_bandwidthLon': 0.15, 'look_distance': 0.1, 'n_iterations': 20}\n"
     ]
    },
    {
     "data": {
      "application/vnd.jupyter.widget-view+json": {
       "model_id": "156d31dcf1ae4ffab82da6e24abaa81b",
       "version_major": 2,
       "version_minor": 0
      },
      "text/plain": [
       "  0%|          | 0/36 [00:00<?, ?it/s]"
      ]
     },
     "metadata": {},
     "output_type": "display_data"
    },
    {
     "name": "stdout",
     "output_type": "stream",
     "text": [
      "num_images:  7\n",
      "num_groups:  14\n",
      "3 {'kernel_bandwidthLat': 0.02, 'kernel_bandwidthLon': 0.2, 'look_distance': 0.1, 'n_iterations': 20}\n"
     ]
    },
    {
     "data": {
      "application/vnd.jupyter.widget-view+json": {
       "model_id": "afba3e95cfc949e993da935a17ae7c5f",
       "version_major": 2,
       "version_minor": 0
      },
      "text/plain": [
       "  0%|          | 0/36 [00:00<?, ?it/s]"
      ]
     },
     "metadata": {},
     "output_type": "display_data"
    },
    {
     "name": "stdout",
     "output_type": "stream",
     "text": [
      "num_images:  7\n",
      "num_groups:  14\n",
      "4 {'kernel_bandwidthLat': 0.02, 'kernel_bandwidthLon': 0.25, 'look_distance': 0.1, 'n_iterations': 20}\n"
     ]
    },
    {
     "data": {
      "application/vnd.jupyter.widget-view+json": {
       "model_id": "9dcd57f85060445a94fd4da2b5c129ab",
       "version_major": 2,
       "version_minor": 0
      },
      "text/plain": [
       "  0%|          | 0/36 [00:00<?, ?it/s]"
      ]
     },
     "metadata": {},
     "output_type": "display_data"
    },
    {
     "name": "stdout",
     "output_type": "stream",
     "text": [
      "num_images:  7\n",
      "num_groups:  14\n",
      "5 {'kernel_bandwidthLat': 0.02, 'kernel_bandwidthLon': 0.3, 'look_distance': 0.1, 'n_iterations': 20}\n"
     ]
    },
    {
     "data": {
      "application/vnd.jupyter.widget-view+json": {
       "model_id": "dee85bf89184418b8968b7a88a8e6ff4",
       "version_major": 2,
       "version_minor": 0
      },
      "text/plain": [
       "  0%|          | 0/36 [00:00<?, ?it/s]"
      ]
     },
     "metadata": {},
     "output_type": "display_data"
    },
    {
     "name": "stdout",
     "output_type": "stream",
     "text": [
      "num_images:  7\n",
      "num_groups:  15\n",
      "6 {'kernel_bandwidthLat': 0.02, 'kernel_bandwidthLon': 0.35, 'look_distance': 0.1, 'n_iterations': 20}\n"
     ]
    },
    {
     "data": {
      "application/vnd.jupyter.widget-view+json": {
       "model_id": "91394e65b55b49a883f2891a5581306c",
       "version_major": 2,
       "version_minor": 0
      },
      "text/plain": [
       "  0%|          | 0/36 [00:00<?, ?it/s]"
      ]
     },
     "metadata": {},
     "output_type": "display_data"
    },
    {
     "name": "stdout",
     "output_type": "stream",
     "text": [
      "num_images:  7\n",
      "num_groups:  15\n",
      "7 {'kernel_bandwidthLat': 0.02, 'kernel_bandwidthLon': 0.45, 'look_distance': 0.1, 'n_iterations': 20}\n"
     ]
    },
    {
     "data": {
      "application/vnd.jupyter.widget-view+json": {
       "model_id": "d9391dcda66d41278e3441769fbe40d2",
       "version_major": 2,
       "version_minor": 0
      },
      "text/plain": [
       "  0%|          | 0/36 [00:00<?, ?it/s]"
      ]
     },
     "metadata": {},
     "output_type": "display_data"
    },
    {
     "name": "stdout",
     "output_type": "stream",
     "text": [
      "num_images:  7\n",
      "num_groups:  15\n",
      "8 {'kernel_bandwidthLat': 0.02, 'kernel_bandwidthLon': 0.5, 'look_distance': 0.1, 'n_iterations': 20}\n"
     ]
    },
    {
     "data": {
      "application/vnd.jupyter.widget-view+json": {
       "model_id": "cda297991eea40c78c6e6d364ba2109b",
       "version_major": 2,
       "version_minor": 0
      },
      "text/plain": [
       "  0%|          | 0/36 [00:00<?, ?it/s]"
      ]
     },
     "metadata": {},
     "output_type": "display_data"
    },
    {
     "name": "stdout",
     "output_type": "stream",
     "text": [
      "num_images:  7\n",
      "num_groups:  15\n",
      "9 {'kernel_bandwidthLat': 0.02, 'kernel_bandwidthLon': 0.55, 'look_distance': 0.1, 'n_iterations': 20}\n"
     ]
    },
    {
     "data": {
      "application/vnd.jupyter.widget-view+json": {
       "model_id": "c48ec43444544c91bd8e35297b7c6c97",
       "version_major": 2,
       "version_minor": 0
      },
      "text/plain": [
       "  0%|          | 0/36 [00:00<?, ?it/s]"
      ]
     },
     "metadata": {},
     "output_type": "display_data"
    },
    {
     "name": "stdout",
     "output_type": "stream",
     "text": [
      "num_images:  7\n",
      "num_groups:  15\n",
      "10 {'kernel_bandwidthLat': 0.02, 'kernel_bandwidthLon': 0.6, 'look_distance': 0.1, 'n_iterations': 20}\n"
     ]
    },
    {
     "data": {
      "application/vnd.jupyter.widget-view+json": {
       "model_id": "5033ee7cec34418c9469dc24ad9af5c0",
       "version_major": 2,
       "version_minor": 0
      },
      "text/plain": [
       "  0%|          | 0/36 [00:00<?, ?it/s]"
      ]
     },
     "metadata": {},
     "output_type": "display_data"
    },
    {
     "name": "stdout",
     "output_type": "stream",
     "text": [
      "num_images:  7\n",
      "num_groups:  15\n",
      "11 {'kernel_bandwidthLat': 0.02, 'kernel_bandwidthLon': 0.65, 'look_distance': 0.1, 'n_iterations': 20}\n"
     ]
    },
    {
     "data": {
      "application/vnd.jupyter.widget-view+json": {
       "model_id": "27b48580ae1a4f6bb8fe83e8d60b5977",
       "version_major": 2,
       "version_minor": 0
      },
      "text/plain": [
       "  0%|          | 0/36 [00:00<?, ?it/s]"
      ]
     },
     "metadata": {},
     "output_type": "display_data"
    },
    {
     "name": "stdout",
     "output_type": "stream",
     "text": [
      "num_images:  7\n",
      "num_groups:  15\n",
      "12 {'kernel_bandwidthLat': 0.02, 'kernel_bandwidthLon': 0.7, 'look_distance': 0.1, 'n_iterations': 20}\n"
     ]
    },
    {
     "data": {
      "application/vnd.jupyter.widget-view+json": {
       "model_id": "11bf0ef7a57744ba84016cde486b82a4",
       "version_major": 2,
       "version_minor": 0
      },
      "text/plain": [
       "  0%|          | 0/36 [00:00<?, ?it/s]"
      ]
     },
     "metadata": {},
     "output_type": "display_data"
    },
    {
     "name": "stdout",
     "output_type": "stream",
     "text": [
      "num_images:  7\n",
      "num_groups:  15\n",
      "13 {'kernel_bandwidthLat': 0.02, 'kernel_bandwidthLon': 0.75, 'look_distance': 0.1, 'n_iterations': 20}\n"
     ]
    },
    {
     "data": {
      "application/vnd.jupyter.widget-view+json": {
       "model_id": "4f71306a265b4181b455560f7df2238a",
       "version_major": 2,
       "version_minor": 0
      },
      "text/plain": [
       "  0%|          | 0/36 [00:00<?, ?it/s]"
      ]
     },
     "metadata": {},
     "output_type": "display_data"
    },
    {
     "name": "stdout",
     "output_type": "stream",
     "text": [
      "num_images:  7\n",
      "num_groups:  15\n",
      "14 {'kernel_bandwidthLat': 0.04, 'kernel_bandwidthLon': 0.05, 'look_distance': 0.1, 'n_iterations': 20}\n"
     ]
    },
    {
     "data": {
      "application/vnd.jupyter.widget-view+json": {
       "model_id": "adf5e6ef303f4048a7d0fdee1df996ed",
       "version_major": 2,
       "version_minor": 0
      },
      "text/plain": [
       "  0%|          | 0/36 [00:00<?, ?it/s]"
      ]
     },
     "metadata": {},
     "output_type": "display_data"
    },
    {
     "name": "stdout",
     "output_type": "stream",
     "text": [
      "num_images:  7\n",
      "num_groups:  14\n",
      "15 {'kernel_bandwidthLat': 0.04, 'kernel_bandwidthLon': 0.1, 'look_distance': 0.1, 'n_iterations': 20}\n"
     ]
    },
    {
     "data": {
      "application/vnd.jupyter.widget-view+json": {
       "model_id": "49ab5e7340c540e088828a20110091ce",
       "version_major": 2,
       "version_minor": 0
      },
      "text/plain": [
       "  0%|          | 0/36 [00:00<?, ?it/s]"
      ]
     },
     "metadata": {},
     "output_type": "display_data"
    },
    {
     "name": "stdout",
     "output_type": "stream",
     "text": [
      "num_images:  7\n",
      "num_groups:  14\n",
      "16 {'kernel_bandwidthLat': 0.04, 'kernel_bandwidthLon': 0.15, 'look_distance': 0.1, 'n_iterations': 20}\n"
     ]
    },
    {
     "data": {
      "application/vnd.jupyter.widget-view+json": {
       "model_id": "898120af862145fe880e3b13d4ddf833",
       "version_major": 2,
       "version_minor": 0
      },
      "text/plain": [
       "  0%|          | 0/36 [00:00<?, ?it/s]"
      ]
     },
     "metadata": {},
     "output_type": "display_data"
    },
    {
     "name": "stdout",
     "output_type": "stream",
     "text": [
      "num_images:  7\n",
      "num_groups:  13\n",
      "17 {'kernel_bandwidthLat': 0.04, 'kernel_bandwidthLon': 0.2, 'look_distance': 0.1, 'n_iterations': 20}\n"
     ]
    },
    {
     "data": {
      "application/vnd.jupyter.widget-view+json": {
       "model_id": "699da73cbde249efa38477a71f765bd9",
       "version_major": 2,
       "version_minor": 0
      },
      "text/plain": [
       "  0%|          | 0/36 [00:00<?, ?it/s]"
      ]
     },
     "metadata": {},
     "output_type": "display_data"
    },
    {
     "name": "stdout",
     "output_type": "stream",
     "text": [
      "num_images:  7\n",
      "num_groups:  13\n",
      "18 {'kernel_bandwidthLat': 0.04, 'kernel_bandwidthLon': 0.25, 'look_distance': 0.1, 'n_iterations': 20}\n"
     ]
    },
    {
     "data": {
      "application/vnd.jupyter.widget-view+json": {
       "model_id": "417c534ce979442486ab23937baaccd9",
       "version_major": 2,
       "version_minor": 0
      },
      "text/plain": [
       "  0%|          | 0/36 [00:00<?, ?it/s]"
      ]
     },
     "metadata": {},
     "output_type": "display_data"
    },
    {
     "name": "stdout",
     "output_type": "stream",
     "text": [
      "num_images:  7\n",
      "num_groups:  14\n",
      "19 {'kernel_bandwidthLat': 0.04, 'kernel_bandwidthLon': 0.3, 'look_distance': 0.1, 'n_iterations': 20}\n"
     ]
    },
    {
     "data": {
      "application/vnd.jupyter.widget-view+json": {
       "model_id": "d39a42edfb9c428fa7b960b6bd9501ce",
       "version_major": 2,
       "version_minor": 0
      },
      "text/plain": [
       "  0%|          | 0/36 [00:00<?, ?it/s]"
      ]
     },
     "metadata": {},
     "output_type": "display_data"
    },
    {
     "name": "stdout",
     "output_type": "stream",
     "text": [
      "num_images:  7\n",
      "num_groups:  15\n",
      "20 {'kernel_bandwidthLat': 0.04, 'kernel_bandwidthLon': 0.35, 'look_distance': 0.1, 'n_iterations': 20}\n"
     ]
    },
    {
     "data": {
      "application/vnd.jupyter.widget-view+json": {
       "model_id": "8e22ee762ca641eba7c60ce6be68302e",
       "version_major": 2,
       "version_minor": 0
      },
      "text/plain": [
       "  0%|          | 0/36 [00:00<?, ?it/s]"
      ]
     },
     "metadata": {},
     "output_type": "display_data"
    },
    {
     "name": "stdout",
     "output_type": "stream",
     "text": [
      "num_images:  7\n",
      "num_groups:  15\n",
      "21 {'kernel_bandwidthLat': 0.04, 'kernel_bandwidthLon': 0.45, 'look_distance': 0.1, 'n_iterations': 20}\n"
     ]
    },
    {
     "data": {
      "application/vnd.jupyter.widget-view+json": {
       "model_id": "b01e26ca6f184f18932cd18313b66e04",
       "version_major": 2,
       "version_minor": 0
      },
      "text/plain": [
       "  0%|          | 0/36 [00:00<?, ?it/s]"
      ]
     },
     "metadata": {},
     "output_type": "display_data"
    },
    {
     "name": "stdout",
     "output_type": "stream",
     "text": [
      "num_images:  7\n",
      "num_groups:  15\n",
      "22 {'kernel_bandwidthLat': 0.04, 'kernel_bandwidthLon': 0.5, 'look_distance': 0.1, 'n_iterations': 20}\n"
     ]
    },
    {
     "data": {
      "application/vnd.jupyter.widget-view+json": {
       "model_id": "1766ef055bdb49ccb89951f674b71761",
       "version_major": 2,
       "version_minor": 0
      },
      "text/plain": [
       "  0%|          | 0/36 [00:00<?, ?it/s]"
      ]
     },
     "metadata": {},
     "output_type": "display_data"
    },
    {
     "name": "stdout",
     "output_type": "stream",
     "text": [
      "num_images:  7\n",
      "num_groups:  15\n",
      "23 {'kernel_bandwidthLat': 0.04, 'kernel_bandwidthLon': 0.55, 'look_distance': 0.1, 'n_iterations': 20}\n"
     ]
    },
    {
     "data": {
      "application/vnd.jupyter.widget-view+json": {
       "model_id": "365cd637fb97491d8066e30c1c5bb2c2",
       "version_major": 2,
       "version_minor": 0
      },
      "text/plain": [
       "  0%|          | 0/36 [00:00<?, ?it/s]"
      ]
     },
     "metadata": {},
     "output_type": "display_data"
    },
    {
     "name": "stdout",
     "output_type": "stream",
     "text": [
      "num_images:  7\n",
      "num_groups:  15\n",
      "24 {'kernel_bandwidthLat': 0.04, 'kernel_bandwidthLon': 0.6, 'look_distance': 0.1, 'n_iterations': 20}\n"
     ]
    },
    {
     "data": {
      "application/vnd.jupyter.widget-view+json": {
       "model_id": "a8bec7bdb560428d81972296aae47011",
       "version_major": 2,
       "version_minor": 0
      },
      "text/plain": [
       "  0%|          | 0/36 [00:00<?, ?it/s]"
      ]
     },
     "metadata": {},
     "output_type": "display_data"
    },
    {
     "name": "stdout",
     "output_type": "stream",
     "text": [
      "num_images:  7\n",
      "num_groups:  15\n",
      "25 {'kernel_bandwidthLat': 0.04, 'kernel_bandwidthLon': 0.65, 'look_distance': 0.1, 'n_iterations': 20}\n"
     ]
    },
    {
     "data": {
      "application/vnd.jupyter.widget-view+json": {
       "model_id": "f506be11425d4ae7a989c76cbee79abc",
       "version_major": 2,
       "version_minor": 0
      },
      "text/plain": [
       "  0%|          | 0/36 [00:00<?, ?it/s]"
      ]
     },
     "metadata": {},
     "output_type": "display_data"
    },
    {
     "name": "stdout",
     "output_type": "stream",
     "text": [
      "num_images:  7\n",
      "num_groups:  15\n",
      "26 {'kernel_bandwidthLat': 0.04, 'kernel_bandwidthLon': 0.7, 'look_distance': 0.1, 'n_iterations': 20}\n"
     ]
    },
    {
     "data": {
      "application/vnd.jupyter.widget-view+json": {
       "model_id": "0b2eff2afe2f421987496f5f4d5fcd5a",
       "version_major": 2,
       "version_minor": 0
      },
      "text/plain": [
       "  0%|          | 0/36 [00:00<?, ?it/s]"
      ]
     },
     "metadata": {},
     "output_type": "display_data"
    },
    {
     "name": "stdout",
     "output_type": "stream",
     "text": [
      "num_images:  7\n",
      "num_groups:  13\n",
      "27 {'kernel_bandwidthLat': 0.04, 'kernel_bandwidthLon': 0.75, 'look_distance': 0.1, 'n_iterations': 20}\n"
     ]
    },
    {
     "data": {
      "application/vnd.jupyter.widget-view+json": {
       "model_id": "7444023d1d214e7e991dbeeeeff1acf2",
       "version_major": 2,
       "version_minor": 0
      },
      "text/plain": [
       "  0%|          | 0/36 [00:00<?, ?it/s]"
      ]
     },
     "metadata": {},
     "output_type": "display_data"
    },
    {
     "name": "stdout",
     "output_type": "stream",
     "text": [
      "num_images:  7\n",
      "num_groups:  13\n",
      "28 {'kernel_bandwidthLat': 0.06, 'kernel_bandwidthLon': 0.05, 'look_distance': 0.1, 'n_iterations': 20}\n"
     ]
    },
    {
     "data": {
      "application/vnd.jupyter.widget-view+json": {
       "model_id": "6e733d6a1e434aeaafde54c28bc3d38a",
       "version_major": 2,
       "version_minor": 0
      },
      "text/plain": [
       "  0%|          | 0/36 [00:00<?, ?it/s]"
      ]
     },
     "metadata": {},
     "output_type": "display_data"
    },
    {
     "name": "stdout",
     "output_type": "stream",
     "text": [
      "num_images:  7\n",
      "num_groups:  14\n",
      "29 {'kernel_bandwidthLat': 0.06, 'kernel_bandwidthLon': 0.1, 'look_distance': 0.1, 'n_iterations': 20}\n"
     ]
    },
    {
     "data": {
      "application/vnd.jupyter.widget-view+json": {
       "model_id": "17fcf5fc28574b77996e0128f13860c1",
       "version_major": 2,
       "version_minor": 0
      },
      "text/plain": [
       "  0%|          | 0/36 [00:00<?, ?it/s]"
      ]
     },
     "metadata": {},
     "output_type": "display_data"
    },
    {
     "name": "stdout",
     "output_type": "stream",
     "text": [
      "num_images:  7\n",
      "num_groups:  14\n",
      "30 {'kernel_bandwidthLat': 0.06, 'kernel_bandwidthLon': 0.15, 'look_distance': 0.1, 'n_iterations': 20}\n"
     ]
    },
    {
     "data": {
      "application/vnd.jupyter.widget-view+json": {
       "model_id": "c4b288e247f648d2b2a5279b44b024fd",
       "version_major": 2,
       "version_minor": 0
      },
      "text/plain": [
       "  0%|          | 0/36 [00:00<?, ?it/s]"
      ]
     },
     "metadata": {},
     "output_type": "display_data"
    },
    {
     "name": "stdout",
     "output_type": "stream",
     "text": [
      "num_images:  7\n",
      "num_groups:  13\n",
      "31 {'kernel_bandwidthLat': 0.06, 'kernel_bandwidthLon': 0.2, 'look_distance': 0.1, 'n_iterations': 20}\n"
     ]
    },
    {
     "data": {
      "application/vnd.jupyter.widget-view+json": {
       "model_id": "d6af963aa2e34dd4b75c6680b8795b6e",
       "version_major": 2,
       "version_minor": 0
      },
      "text/plain": [
       "  0%|          | 0/36 [00:00<?, ?it/s]"
      ]
     },
     "metadata": {},
     "output_type": "display_data"
    },
    {
     "name": "stdout",
     "output_type": "stream",
     "text": [
      "num_images:  7\n",
      "num_groups:  14\n",
      "32 {'kernel_bandwidthLat': 0.06, 'kernel_bandwidthLon': 0.25, 'look_distance': 0.1, 'n_iterations': 20}\n"
     ]
    },
    {
     "data": {
      "application/vnd.jupyter.widget-view+json": {
       "model_id": "669b21a742e14bde8518975468a44c0a",
       "version_major": 2,
       "version_minor": 0
      },
      "text/plain": [
       "  0%|          | 0/36 [00:00<?, ?it/s]"
      ]
     },
     "metadata": {},
     "output_type": "display_data"
    },
    {
     "name": "stdout",
     "output_type": "stream",
     "text": [
      "num_images:  7\n",
      "num_groups:  15\n",
      "33 {'kernel_bandwidthLat': 0.06, 'kernel_bandwidthLon': 0.3, 'look_distance': 0.1, 'n_iterations': 20}\n"
     ]
    },
    {
     "data": {
      "application/vnd.jupyter.widget-view+json": {
       "model_id": "320f721d7d1946b08bdd6de34b0690d6",
       "version_major": 2,
       "version_minor": 0
      },
      "text/plain": [
       "  0%|          | 0/36 [00:00<?, ?it/s]"
      ]
     },
     "metadata": {},
     "output_type": "display_data"
    },
    {
     "name": "stdout",
     "output_type": "stream",
     "text": [
      "num_images:  7\n",
      "num_groups:  15\n",
      "34 {'kernel_bandwidthLat': 0.06, 'kernel_bandwidthLon': 0.35, 'look_distance': 0.1, 'n_iterations': 20}\n"
     ]
    },
    {
     "data": {
      "application/vnd.jupyter.widget-view+json": {
       "model_id": "13d1cba28be94438a205112a462f990b",
       "version_major": 2,
       "version_minor": 0
      },
      "text/plain": [
       "  0%|          | 0/36 [00:00<?, ?it/s]"
      ]
     },
     "metadata": {},
     "output_type": "display_data"
    },
    {
     "name": "stdout",
     "output_type": "stream",
     "text": [
      "num_images:  7\n",
      "num_groups:  15\n",
      "35 {'kernel_bandwidthLat': 0.06, 'kernel_bandwidthLon': 0.45, 'look_distance': 0.1, 'n_iterations': 20}\n"
     ]
    },
    {
     "data": {
      "application/vnd.jupyter.widget-view+json": {
       "model_id": "ef18774903f0443ea52eaaf3e5f3287d",
       "version_major": 2,
       "version_minor": 0
      },
      "text/plain": [
       "  0%|          | 0/36 [00:00<?, ?it/s]"
      ]
     },
     "metadata": {},
     "output_type": "display_data"
    },
    {
     "name": "stdout",
     "output_type": "stream",
     "text": [
      "num_images:  7\n",
      "num_groups:  17\n",
      "36 {'kernel_bandwidthLat': 0.06, 'kernel_bandwidthLon': 0.5, 'look_distance': 0.1, 'n_iterations': 20}\n"
     ]
    },
    {
     "data": {
      "application/vnd.jupyter.widget-view+json": {
       "model_id": "0e217bf070524dcb86c721537f7e532e",
       "version_major": 2,
       "version_minor": 0
      },
      "text/plain": [
       "  0%|          | 0/36 [00:00<?, ?it/s]"
      ]
     },
     "metadata": {},
     "output_type": "display_data"
    },
    {
     "name": "stdout",
     "output_type": "stream",
     "text": [
      "num_images:  7\n",
      "num_groups:  17\n",
      "37 {'kernel_bandwidthLat': 0.06, 'kernel_bandwidthLon': 0.55, 'look_distance': 0.1, 'n_iterations': 20}\n"
     ]
    },
    {
     "data": {
      "application/vnd.jupyter.widget-view+json": {
       "model_id": "6eb096d1c4b74ab6bc41500086f4bafe",
       "version_major": 2,
       "version_minor": 0
      },
      "text/plain": [
       "  0%|          | 0/36 [00:00<?, ?it/s]"
      ]
     },
     "metadata": {},
     "output_type": "display_data"
    },
    {
     "name": "stdout",
     "output_type": "stream",
     "text": [
      "num_images:  7\n",
      "num_groups:  17\n",
      "38 {'kernel_bandwidthLat': 0.06, 'kernel_bandwidthLon': 0.6, 'look_distance': 0.1, 'n_iterations': 20}\n"
     ]
    },
    {
     "data": {
      "application/vnd.jupyter.widget-view+json": {
       "model_id": "53ac655d31104c9e9635bc6ee4be7ffc",
       "version_major": 2,
       "version_minor": 0
      },
      "text/plain": [
       "  0%|          | 0/36 [00:00<?, ?it/s]"
      ]
     },
     "metadata": {},
     "output_type": "display_data"
    },
    {
     "name": "stdout",
     "output_type": "stream",
     "text": [
      "num_images:  7\n",
      "num_groups:  17\n",
      "39 {'kernel_bandwidthLat': 0.06, 'kernel_bandwidthLon': 0.65, 'look_distance': 0.1, 'n_iterations': 20}\n"
     ]
    },
    {
     "data": {
      "application/vnd.jupyter.widget-view+json": {
       "model_id": "476690ce27444d68bc686527f78245e2",
       "version_major": 2,
       "version_minor": 0
      },
      "text/plain": [
       "  0%|          | 0/36 [00:00<?, ?it/s]"
      ]
     },
     "metadata": {},
     "output_type": "display_data"
    },
    {
     "name": "stdout",
     "output_type": "stream",
     "text": [
      "num_images:  7\n",
      "num_groups:  15\n",
      "40 {'kernel_bandwidthLat': 0.06, 'kernel_bandwidthLon': 0.7, 'look_distance': 0.1, 'n_iterations': 20}\n"
     ]
    },
    {
     "data": {
      "application/vnd.jupyter.widget-view+json": {
       "model_id": "33eb7812b28749bdb5c3c21367a4392f",
       "version_major": 2,
       "version_minor": 0
      },
      "text/plain": [
       "  0%|          | 0/36 [00:00<?, ?it/s]"
      ]
     },
     "metadata": {},
     "output_type": "display_data"
    },
    {
     "name": "stdout",
     "output_type": "stream",
     "text": [
      "num_images:  7\n",
      "num_groups:  15\n",
      "41 {'kernel_bandwidthLat': 0.06, 'kernel_bandwidthLon': 0.75, 'look_distance': 0.1, 'n_iterations': 20}\n"
     ]
    },
    {
     "data": {
      "application/vnd.jupyter.widget-view+json": {
       "model_id": "54b317a940c84093bb671a99ef344367",
       "version_major": 2,
       "version_minor": 0
      },
      "text/plain": [
       "  0%|          | 0/36 [00:00<?, ?it/s]"
      ]
     },
     "metadata": {},
     "output_type": "display_data"
    },
    {
     "name": "stdout",
     "output_type": "stream",
     "text": [
      "num_images:  7\n",
      "num_groups:  15\n",
      "42 {'kernel_bandwidthLat': 0.08, 'kernel_bandwidthLon': 0.05, 'look_distance': 0.1, 'n_iterations': 20}\n"
     ]
    },
    {
     "data": {
      "application/vnd.jupyter.widget-view+json": {
       "model_id": "0d8764767aa34a788bb2ec120c1f5ed5",
       "version_major": 2,
       "version_minor": 0
      },
      "text/plain": [
       "  0%|          | 0/36 [00:00<?, ?it/s]"
      ]
     },
     "metadata": {},
     "output_type": "display_data"
    },
    {
     "name": "stdout",
     "output_type": "stream",
     "text": [
      "num_images:  7\n",
      "num_groups:  13\n",
      "43 {'kernel_bandwidthLat': 0.08, 'kernel_bandwidthLon': 0.1, 'look_distance': 0.1, 'n_iterations': 20}\n"
     ]
    },
    {
     "data": {
      "application/vnd.jupyter.widget-view+json": {
       "model_id": "70a3b0baebcf49c29849beb7bd6d8b8f",
       "version_major": 2,
       "version_minor": 0
      },
      "text/plain": [
       "  0%|          | 0/36 [00:00<?, ?it/s]"
      ]
     },
     "metadata": {},
     "output_type": "display_data"
    },
    {
     "name": "stdout",
     "output_type": "stream",
     "text": [
      "num_images:  7\n",
      "num_groups:  13\n",
      "44 {'kernel_bandwidthLat': 0.08, 'kernel_bandwidthLon': 0.15, 'look_distance': 0.1, 'n_iterations': 20}\n"
     ]
    },
    {
     "data": {
      "application/vnd.jupyter.widget-view+json": {
       "model_id": "828c63b855d74d20a20cd16a609396bf",
       "version_major": 2,
       "version_minor": 0
      },
      "text/plain": [
       "  0%|          | 0/36 [00:00<?, ?it/s]"
      ]
     },
     "metadata": {},
     "output_type": "display_data"
    },
    {
     "name": "stdout",
     "output_type": "stream",
     "text": [
      "num_images:  7\n",
      "num_groups:  14\n",
      "45 {'kernel_bandwidthLat': 0.08, 'kernel_bandwidthLon': 0.2, 'look_distance': 0.1, 'n_iterations': 20}\n"
     ]
    },
    {
     "data": {
      "application/vnd.jupyter.widget-view+json": {
       "model_id": "5527542845b74b168fc9feef713b844d",
       "version_major": 2,
       "version_minor": 0
      },
      "text/plain": [
       "  0%|          | 0/36 [00:00<?, ?it/s]"
      ]
     },
     "metadata": {},
     "output_type": "display_data"
    },
    {
     "name": "stdout",
     "output_type": "stream",
     "text": [
      "num_images:  7\n",
      "num_groups:  14\n",
      "46 {'kernel_bandwidthLat': 0.08, 'kernel_bandwidthLon': 0.25, 'look_distance': 0.1, 'n_iterations': 20}\n"
     ]
    },
    {
     "data": {
      "application/vnd.jupyter.widget-view+json": {
       "model_id": "fc2fad4d342c40a999e2906ff0239c48",
       "version_major": 2,
       "version_minor": 0
      },
      "text/plain": [
       "  0%|          | 0/36 [00:00<?, ?it/s]"
      ]
     },
     "metadata": {},
     "output_type": "display_data"
    },
    {
     "name": "stdout",
     "output_type": "stream",
     "text": [
      "num_images:  7\n",
      "num_groups:  15\n",
      "47 {'kernel_bandwidthLat': 0.08, 'kernel_bandwidthLon': 0.3, 'look_distance': 0.1, 'n_iterations': 20}\n"
     ]
    },
    {
     "data": {
      "application/vnd.jupyter.widget-view+json": {
       "model_id": "e01a5dcebb9949eb8faaafc191ca54c0",
       "version_major": 2,
       "version_minor": 0
      },
      "text/plain": [
       "  0%|          | 0/36 [00:00<?, ?it/s]"
      ]
     },
     "metadata": {},
     "output_type": "display_data"
    },
    {
     "name": "stdout",
     "output_type": "stream",
     "text": [
      "num_images:  7\n",
      "num_groups:  15\n",
      "48 {'kernel_bandwidthLat': 0.08, 'kernel_bandwidthLon': 0.35, 'look_distance': 0.1, 'n_iterations': 20}\n"
     ]
    },
    {
     "data": {
      "application/vnd.jupyter.widget-view+json": {
       "model_id": "5db4057b2b0b4758b20fda6b58870604",
       "version_major": 2,
       "version_minor": 0
      },
      "text/plain": [
       "  0%|          | 0/36 [00:00<?, ?it/s]"
      ]
     },
     "metadata": {},
     "output_type": "display_data"
    },
    {
     "name": "stdout",
     "output_type": "stream",
     "text": [
      "num_images:  7\n",
      "num_groups:  17\n",
      "49 {'kernel_bandwidthLat': 0.08, 'kernel_bandwidthLon': 0.45, 'look_distance': 0.1, 'n_iterations': 20}\n"
     ]
    },
    {
     "data": {
      "application/vnd.jupyter.widget-view+json": {
       "model_id": "cb9d6b02c3e24eb9a3893aacbddad389",
       "version_major": 2,
       "version_minor": 0
      },
      "text/plain": [
       "  0%|          | 0/36 [00:00<?, ?it/s]"
      ]
     },
     "metadata": {},
     "output_type": "display_data"
    },
    {
     "name": "stdout",
     "output_type": "stream",
     "text": [
      "num_images:  7\n",
      "num_groups:  17\n",
      "50 {'kernel_bandwidthLat': 0.08, 'kernel_bandwidthLon': 0.5, 'look_distance': 0.1, 'n_iterations': 20}\n"
     ]
    },
    {
     "data": {
      "application/vnd.jupyter.widget-view+json": {
       "model_id": "c1fa68634ec64632b2470826cc560e31",
       "version_major": 2,
       "version_minor": 0
      },
      "text/plain": [
       "  0%|          | 0/36 [00:00<?, ?it/s]"
      ]
     },
     "metadata": {},
     "output_type": "display_data"
    },
    {
     "name": "stdout",
     "output_type": "stream",
     "text": [
      "num_images:  7\n",
      "num_groups:  17\n",
      "51 {'kernel_bandwidthLat': 0.08, 'kernel_bandwidthLon': 0.55, 'look_distance': 0.1, 'n_iterations': 20}\n"
     ]
    },
    {
     "data": {
      "application/vnd.jupyter.widget-view+json": {
       "model_id": "4911ff6f077d4ecbaf8e6b7d536938c8",
       "version_major": 2,
       "version_minor": 0
      },
      "text/plain": [
       "  0%|          | 0/36 [00:00<?, ?it/s]"
      ]
     },
     "metadata": {},
     "output_type": "display_data"
    },
    {
     "name": "stdout",
     "output_type": "stream",
     "text": [
      "num_images:  7\n",
      "num_groups:  17\n",
      "52 {'kernel_bandwidthLat': 0.08, 'kernel_bandwidthLon': 0.6, 'look_distance': 0.1, 'n_iterations': 20}\n"
     ]
    },
    {
     "data": {
      "application/vnd.jupyter.widget-view+json": {
       "model_id": "4d5bdbc9911946fd812ade52710bc7f9",
       "version_major": 2,
       "version_minor": 0
      },
      "text/plain": [
       "  0%|          | 0/36 [00:00<?, ?it/s]"
      ]
     },
     "metadata": {},
     "output_type": "display_data"
    },
    {
     "name": "stdout",
     "output_type": "stream",
     "text": [
      "num_images:  7\n",
      "num_groups:  15\n",
      "53 {'kernel_bandwidthLat': 0.08, 'kernel_bandwidthLon': 0.65, 'look_distance': 0.1, 'n_iterations': 20}\n"
     ]
    },
    {
     "data": {
      "application/vnd.jupyter.widget-view+json": {
       "model_id": "28ce31f81c304fa08400d781cb61b831",
       "version_major": 2,
       "version_minor": 0
      },
      "text/plain": [
       "  0%|          | 0/36 [00:00<?, ?it/s]"
      ]
     },
     "metadata": {},
     "output_type": "display_data"
    },
    {
     "name": "stdout",
     "output_type": "stream",
     "text": [
      "num_images:  7\n",
      "num_groups:  15\n",
      "54 {'kernel_bandwidthLat': 0.08, 'kernel_bandwidthLon': 0.7, 'look_distance': 0.1, 'n_iterations': 20}\n"
     ]
    },
    {
     "data": {
      "application/vnd.jupyter.widget-view+json": {
       "model_id": "3702a98bfaa84bca832dca8850f09caf",
       "version_major": 2,
       "version_minor": 0
      },
      "text/plain": [
       "  0%|          | 0/36 [00:00<?, ?it/s]"
      ]
     },
     "metadata": {},
     "output_type": "display_data"
    },
    {
     "name": "stdout",
     "output_type": "stream",
     "text": [
      "num_images:  7\n",
      "num_groups:  15\n",
      "55 {'kernel_bandwidthLat': 0.08, 'kernel_bandwidthLon': 0.75, 'look_distance': 0.1, 'n_iterations': 20}\n"
     ]
    },
    {
     "data": {
      "application/vnd.jupyter.widget-view+json": {
       "model_id": "fe4c1d9ec6f64424b4dac2a22c3b95a0",
       "version_major": 2,
       "version_minor": 0
      },
      "text/plain": [
       "  0%|          | 0/36 [00:00<?, ?it/s]"
      ]
     },
     "metadata": {},
     "output_type": "display_data"
    },
    {
     "name": "stdout",
     "output_type": "stream",
     "text": [
      "num_images:  7\n",
      "num_groups:  15\n",
      "56 {'kernel_bandwidthLat': 0.1, 'kernel_bandwidthLon': 0.05, 'look_distance': 0.1, 'n_iterations': 20}\n"
     ]
    },
    {
     "data": {
      "application/vnd.jupyter.widget-view+json": {
       "model_id": "d88907e25e584d6d8afa8b8b7cbd2f15",
       "version_major": 2,
       "version_minor": 0
      },
      "text/plain": [
       "  0%|          | 0/36 [00:00<?, ?it/s]"
      ]
     },
     "metadata": {},
     "output_type": "display_data"
    },
    {
     "name": "stdout",
     "output_type": "stream",
     "text": [
      "num_images:  7\n",
      "num_groups:  13\n",
      "57 {'kernel_bandwidthLat': 0.1, 'kernel_bandwidthLon': 0.1, 'look_distance': 0.1, 'n_iterations': 20}\n"
     ]
    },
    {
     "data": {
      "application/vnd.jupyter.widget-view+json": {
       "model_id": "e65a977c7e4b4c31bcdb6e2217fde148",
       "version_major": 2,
       "version_minor": 0
      },
      "text/plain": [
       "  0%|          | 0/36 [00:00<?, ?it/s]"
      ]
     },
     "metadata": {},
     "output_type": "display_data"
    },
    {
     "name": "stdout",
     "output_type": "stream",
     "text": [
      "num_images:  7\n",
      "num_groups:  14\n",
      "58 {'kernel_bandwidthLat': 0.1, 'kernel_bandwidthLon': 0.15, 'look_distance': 0.1, 'n_iterations': 20}\n"
     ]
    },
    {
     "data": {
      "application/vnd.jupyter.widget-view+json": {
       "model_id": "0dcfb71850d246568728093dcf281a6a",
       "version_major": 2,
       "version_minor": 0
      },
      "text/plain": [
       "  0%|          | 0/36 [00:00<?, ?it/s]"
      ]
     },
     "metadata": {},
     "output_type": "display_data"
    },
    {
     "name": "stdout",
     "output_type": "stream",
     "text": [
      "num_images:  7\n",
      "num_groups:  14\n",
      "59 {'kernel_bandwidthLat': 0.1, 'kernel_bandwidthLon': 0.2, 'look_distance': 0.1, 'n_iterations': 20}\n"
     ]
    },
    {
     "data": {
      "application/vnd.jupyter.widget-view+json": {
       "model_id": "1b95cc227899479f9c071ff49aa5e254",
       "version_major": 2,
       "version_minor": 0
      },
      "text/plain": [
       "  0%|          | 0/36 [00:00<?, ?it/s]"
      ]
     },
     "metadata": {},
     "output_type": "display_data"
    },
    {
     "name": "stdout",
     "output_type": "stream",
     "text": [
      "num_images:  7\n",
      "num_groups:  14\n",
      "60 {'kernel_bandwidthLat': 0.1, 'kernel_bandwidthLon': 0.25, 'look_distance': 0.1, 'n_iterations': 20}\n"
     ]
    },
    {
     "data": {
      "application/vnd.jupyter.widget-view+json": {
       "model_id": "4d31c41cb67f4c93af7a1ec2bca8763e",
       "version_major": 2,
       "version_minor": 0
      },
      "text/plain": [
       "  0%|          | 0/36 [00:00<?, ?it/s]"
      ]
     },
     "metadata": {},
     "output_type": "display_data"
    },
    {
     "name": "stdout",
     "output_type": "stream",
     "text": [
      "num_images:  7\n",
      "num_groups:  16\n",
      "61 {'kernel_bandwidthLat': 0.1, 'kernel_bandwidthLon': 0.3, 'look_distance': 0.1, 'n_iterations': 20}\n"
     ]
    },
    {
     "data": {
      "application/vnd.jupyter.widget-view+json": {
       "model_id": "f49ef012406949bca06306363d8e8af0",
       "version_major": 2,
       "version_minor": 0
      },
      "text/plain": [
       "  0%|          | 0/36 [00:00<?, ?it/s]"
      ]
     },
     "metadata": {},
     "output_type": "display_data"
    },
    {
     "name": "stdout",
     "output_type": "stream",
     "text": [
      "num_images:  7\n",
      "num_groups:  17\n",
      "62 {'kernel_bandwidthLat': 0.1, 'kernel_bandwidthLon': 0.35, 'look_distance': 0.1, 'n_iterations': 20}\n"
     ]
    },
    {
     "data": {
      "application/vnd.jupyter.widget-view+json": {
       "model_id": "31b75d0768084038b5486d22e68bb1ba",
       "version_major": 2,
       "version_minor": 0
      },
      "text/plain": [
       "  0%|          | 0/36 [00:00<?, ?it/s]"
      ]
     },
     "metadata": {},
     "output_type": "display_data"
    },
    {
     "name": "stdout",
     "output_type": "stream",
     "text": [
      "num_images:  7\n",
      "num_groups:  17\n",
      "63 {'kernel_bandwidthLat': 0.1, 'kernel_bandwidthLon': 0.45, 'look_distance': 0.1, 'n_iterations': 20}\n"
     ]
    },
    {
     "data": {
      "application/vnd.jupyter.widget-view+json": {
       "model_id": "ea0fec1ce8854051a848987b4a31c5ec",
       "version_major": 2,
       "version_minor": 0
      },
      "text/plain": [
       "  0%|          | 0/36 [00:00<?, ?it/s]"
      ]
     },
     "metadata": {},
     "output_type": "display_data"
    },
    {
     "name": "stdout",
     "output_type": "stream",
     "text": [
      "num_images:  7\n",
      "num_groups:  17\n",
      "64 {'kernel_bandwidthLat': 0.1, 'kernel_bandwidthLon': 0.5, 'look_distance': 0.1, 'n_iterations': 20}\n"
     ]
    },
    {
     "data": {
      "application/vnd.jupyter.widget-view+json": {
       "model_id": "d86658e2cb564f1f938c871fcae5117f",
       "version_major": 2,
       "version_minor": 0
      },
      "text/plain": [
       "  0%|          | 0/36 [00:00<?, ?it/s]"
      ]
     },
     "metadata": {},
     "output_type": "display_data"
    },
    {
     "name": "stdout",
     "output_type": "stream",
     "text": [
      "num_images:  7\n",
      "num_groups:  17\n",
      "65 {'kernel_bandwidthLat': 0.1, 'kernel_bandwidthLon': 0.55, 'look_distance': 0.1, 'n_iterations': 20}\n"
     ]
    },
    {
     "data": {
      "application/vnd.jupyter.widget-view+json": {
       "model_id": "ce0de885bfe74cefa67805ac1c614231",
       "version_major": 2,
       "version_minor": 0
      },
      "text/plain": [
       "  0%|          | 0/36 [00:00<?, ?it/s]"
      ]
     },
     "metadata": {},
     "output_type": "display_data"
    },
    {
     "name": "stdout",
     "output_type": "stream",
     "text": [
      "num_images:  7\n",
      "num_groups:  15\n",
      "66 {'kernel_bandwidthLat': 0.1, 'kernel_bandwidthLon': 0.6, 'look_distance': 0.1, 'n_iterations': 20}\n"
     ]
    },
    {
     "data": {
      "application/vnd.jupyter.widget-view+json": {
       "model_id": "9f813cfee4794f75804e6dfefda66294",
       "version_major": 2,
       "version_minor": 0
      },
      "text/plain": [
       "  0%|          | 0/36 [00:00<?, ?it/s]"
      ]
     },
     "metadata": {},
     "output_type": "display_data"
    },
    {
     "name": "stdout",
     "output_type": "stream",
     "text": [
      "num_images:  7\n",
      "num_groups:  15\n",
      "67 {'kernel_bandwidthLat': 0.1, 'kernel_bandwidthLon': 0.65, 'look_distance': 0.1, 'n_iterations': 20}\n"
     ]
    },
    {
     "data": {
      "application/vnd.jupyter.widget-view+json": {
       "model_id": "2131a617fbdb4631bf325dc7a33bd2a5",
       "version_major": 2,
       "version_minor": 0
      },
      "text/plain": [
       "  0%|          | 0/36 [00:00<?, ?it/s]"
      ]
     },
     "metadata": {},
     "output_type": "display_data"
    },
    {
     "name": "stdout",
     "output_type": "stream",
     "text": [
      "num_images:  7\n",
      "num_groups:  15\n",
      "68 {'kernel_bandwidthLat': 0.1, 'kernel_bandwidthLon': 0.7, 'look_distance': 0.1, 'n_iterations': 20}\n"
     ]
    },
    {
     "data": {
      "application/vnd.jupyter.widget-view+json": {
       "model_id": "1dce0395a0f344d8a7d0ff90aef9fd4b",
       "version_major": 2,
       "version_minor": 0
      },
      "text/plain": [
       "  0%|          | 0/36 [00:00<?, ?it/s]"
      ]
     },
     "metadata": {},
     "output_type": "display_data"
    },
    {
     "name": "stdout",
     "output_type": "stream",
     "text": [
      "num_images:  7\n",
      "num_groups:  15\n",
      "69 {'kernel_bandwidthLat': 0.1, 'kernel_bandwidthLon': 0.75, 'look_distance': 0.1, 'n_iterations': 20}\n"
     ]
    },
    {
     "data": {
      "application/vnd.jupyter.widget-view+json": {
       "model_id": "b4ff9757be5b466b8d20356845fd090b",
       "version_major": 2,
       "version_minor": 0
      },
      "text/plain": [
       "  0%|          | 0/36 [00:00<?, ?it/s]"
      ]
     },
     "metadata": {},
     "output_type": "display_data"
    },
    {
     "name": "stdout",
     "output_type": "stream",
     "text": [
      "num_images:  7\n",
      "num_groups:  15\n",
      "70 {'kernel_bandwidthLat': 0.12, 'kernel_bandwidthLon': 0.05, 'look_distance': 0.1, 'n_iterations': 20}\n"
     ]
    },
    {
     "data": {
      "application/vnd.jupyter.widget-view+json": {
       "model_id": "b485af43640d453aa74e43f54c5d86b7",
       "version_major": 2,
       "version_minor": 0
      },
      "text/plain": [
       "  0%|          | 0/36 [00:00<?, ?it/s]"
      ]
     },
     "metadata": {},
     "output_type": "display_data"
    },
    {
     "name": "stdout",
     "output_type": "stream",
     "text": [
      "num_images:  7\n",
      "num_groups:  13\n",
      "71 {'kernel_bandwidthLat': 0.12, 'kernel_bandwidthLon': 0.1, 'look_distance': 0.1, 'n_iterations': 20}\n"
     ]
    },
    {
     "data": {
      "application/vnd.jupyter.widget-view+json": {
       "model_id": "a65f4f9be01a444b830caa2d99e712f9",
       "version_major": 2,
       "version_minor": 0
      },
      "text/plain": [
       "  0%|          | 0/36 [00:00<?, ?it/s]"
      ]
     },
     "metadata": {},
     "output_type": "display_data"
    },
    {
     "name": "stdout",
     "output_type": "stream",
     "text": [
      "num_images:  7\n",
      "num_groups:  14\n",
      "72 {'kernel_bandwidthLat': 0.12, 'kernel_bandwidthLon': 0.15, 'look_distance': 0.1, 'n_iterations': 20}\n"
     ]
    },
    {
     "data": {
      "application/vnd.jupyter.widget-view+json": {
       "model_id": "434aa7499b124a629e68d621d4a52a16",
       "version_major": 2,
       "version_minor": 0
      },
      "text/plain": [
       "  0%|          | 0/36 [00:00<?, ?it/s]"
      ]
     },
     "metadata": {},
     "output_type": "display_data"
    },
    {
     "name": "stdout",
     "output_type": "stream",
     "text": [
      "num_images:  7\n",
      "num_groups:  14\n",
      "73 {'kernel_bandwidthLat': 0.12, 'kernel_bandwidthLon': 0.2, 'look_distance': 0.1, 'n_iterations': 20}\n"
     ]
    },
    {
     "data": {
      "application/vnd.jupyter.widget-view+json": {
       "model_id": "cd447fc8ce2b418699169fd5cab6909e",
       "version_major": 2,
       "version_minor": 0
      },
      "text/plain": [
       "  0%|          | 0/36 [00:00<?, ?it/s]"
      ]
     },
     "metadata": {},
     "output_type": "display_data"
    },
    {
     "name": "stdout",
     "output_type": "stream",
     "text": [
      "num_images:  6\n",
      "num_groups:  14\n",
      "74 {'kernel_bandwidthLat': 0.12, 'kernel_bandwidthLon': 0.25, 'look_distance': 0.1, 'n_iterations': 20}\n"
     ]
    },
    {
     "data": {
      "application/vnd.jupyter.widget-view+json": {
       "model_id": "d8d69d40992747048001ecd15c4a29fd",
       "version_major": 2,
       "version_minor": 0
      },
      "text/plain": [
       "  0%|          | 0/36 [00:00<?, ?it/s]"
      ]
     },
     "metadata": {},
     "output_type": "display_data"
    },
    {
     "name": "stdout",
     "output_type": "stream",
     "text": [
      "num_images:  6\n",
      "num_groups:  15\n",
      "75 {'kernel_bandwidthLat': 0.12, 'kernel_bandwidthLon': 0.3, 'look_distance': 0.1, 'n_iterations': 20}\n"
     ]
    },
    {
     "data": {
      "application/vnd.jupyter.widget-view+json": {
       "model_id": "822a6ccd4e4f44028afece7cc99e1cb5",
       "version_major": 2,
       "version_minor": 0
      },
      "text/plain": [
       "  0%|          | 0/36 [00:00<?, ?it/s]"
      ]
     },
     "metadata": {},
     "output_type": "display_data"
    },
    {
     "name": "stdout",
     "output_type": "stream",
     "text": [
      "num_images:  6\n",
      "num_groups:  15\n",
      "76 {'kernel_bandwidthLat': 0.12, 'kernel_bandwidthLon': 0.35, 'look_distance': 0.1, 'n_iterations': 20}\n"
     ]
    },
    {
     "data": {
      "application/vnd.jupyter.widget-view+json": {
       "model_id": "5c8d42dfcc6042bc84bf2ef0c1dcd83d",
       "version_major": 2,
       "version_minor": 0
      },
      "text/plain": [
       "  0%|          | 0/36 [00:00<?, ?it/s]"
      ]
     },
     "metadata": {},
     "output_type": "display_data"
    },
    {
     "name": "stdout",
     "output_type": "stream",
     "text": [
      "num_images:  6\n",
      "num_groups:  15\n",
      "77 {'kernel_bandwidthLat': 0.12, 'kernel_bandwidthLon': 0.45, 'look_distance': 0.1, 'n_iterations': 20}\n"
     ]
    },
    {
     "data": {
      "application/vnd.jupyter.widget-view+json": {
       "model_id": "d69a7177582145e19587b078f207b8a4",
       "version_major": 2,
       "version_minor": 0
      },
      "text/plain": [
       "  0%|          | 0/36 [00:00<?, ?it/s]"
      ]
     },
     "metadata": {},
     "output_type": "display_data"
    },
    {
     "name": "stdout",
     "output_type": "stream",
     "text": [
      "num_images:  6\n",
      "num_groups:  13\n",
      "78 {'kernel_bandwidthLat': 0.12, 'kernel_bandwidthLon': 0.5, 'look_distance': 0.1, 'n_iterations': 20}\n"
     ]
    },
    {
     "data": {
      "application/vnd.jupyter.widget-view+json": {
       "model_id": "d3c725f2370d48a3982f9daaa205c729",
       "version_major": 2,
       "version_minor": 0
      },
      "text/plain": [
       "  0%|          | 0/36 [00:00<?, ?it/s]"
      ]
     },
     "metadata": {},
     "output_type": "display_data"
    },
    {
     "name": "stdout",
     "output_type": "stream",
     "text": [
      "num_images:  6\n",
      "num_groups:  11\n",
      "79 {'kernel_bandwidthLat': 0.12, 'kernel_bandwidthLon': 0.55, 'look_distance': 0.1, 'n_iterations': 20}\n"
     ]
    },
    {
     "data": {
      "application/vnd.jupyter.widget-view+json": {
       "model_id": "77e48f9294f648c2a620bf8a4d5e5070",
       "version_major": 2,
       "version_minor": 0
      },
      "text/plain": [
       "  0%|          | 0/36 [00:00<?, ?it/s]"
      ]
     },
     "metadata": {},
     "output_type": "display_data"
    },
    {
     "name": "stdout",
     "output_type": "stream",
     "text": [
      "num_images:  6\n",
      "num_groups:  11\n",
      "80 {'kernel_bandwidthLat': 0.12, 'kernel_bandwidthLon': 0.6, 'look_distance': 0.1, 'n_iterations': 20}\n"
     ]
    },
    {
     "data": {
      "application/vnd.jupyter.widget-view+json": {
       "model_id": "31bbcbf20fd24d2798e347c521d235c7",
       "version_major": 2,
       "version_minor": 0
      },
      "text/plain": [
       "  0%|          | 0/36 [00:00<?, ?it/s]"
      ]
     },
     "metadata": {},
     "output_type": "display_data"
    },
    {
     "name": "stdout",
     "output_type": "stream",
     "text": [
      "num_images:  5\n",
      "num_groups:  9\n",
      "81 {'kernel_bandwidthLat': 0.12, 'kernel_bandwidthLon': 0.65, 'look_distance': 0.1, 'n_iterations': 20}\n"
     ]
    },
    {
     "data": {
      "application/vnd.jupyter.widget-view+json": {
       "model_id": "498c948ffd2e4622b541285dfa177cd8",
       "version_major": 2,
       "version_minor": 0
      },
      "text/plain": [
       "  0%|          | 0/36 [00:00<?, ?it/s]"
      ]
     },
     "metadata": {},
     "output_type": "display_data"
    },
    {
     "name": "stdout",
     "output_type": "stream",
     "text": [
      "num_images:  5\n",
      "num_groups:  9\n",
      "82 {'kernel_bandwidthLat': 0.12, 'kernel_bandwidthLon': 0.7, 'look_distance': 0.1, 'n_iterations': 20}\n"
     ]
    },
    {
     "data": {
      "application/vnd.jupyter.widget-view+json": {
       "model_id": "fbca58c47db54f4ba79d5709c3cf362b",
       "version_major": 2,
       "version_minor": 0
      },
      "text/plain": [
       "  0%|          | 0/36 [00:00<?, ?it/s]"
      ]
     },
     "metadata": {},
     "output_type": "display_data"
    },
    {
     "name": "stdout",
     "output_type": "stream",
     "text": [
      "num_images:  5\n",
      "num_groups:  9\n",
      "83 {'kernel_bandwidthLat': 0.12, 'kernel_bandwidthLon': 0.75, 'look_distance': 0.1, 'n_iterations': 20}\n"
     ]
    },
    {
     "data": {
      "application/vnd.jupyter.widget-view+json": {
       "model_id": "abd926647d8740739f0c3a30be137541",
       "version_major": 2,
       "version_minor": 0
      },
      "text/plain": [
       "  0%|          | 0/36 [00:00<?, ?it/s]"
      ]
     },
     "metadata": {},
     "output_type": "display_data"
    },
    {
     "name": "stdout",
     "output_type": "stream",
     "text": [
      "num_images:  5\n",
      "num_groups:  9\n"
     ]
    }
   ],
   "source": [
    "\n",
    "grid_image_out_dict_overlapping = { }\n",
    "grid_image_out_dict_stats_overlapping = { }\n",
    "\n",
    "for param_idx, params in enumerate(param_grid):\n",
    "    print(param_idx, params)\n",
    "\n",
    "    image_out_dict = {}\n",
    "    image_out_dict_stats = {}\n",
    "\n",
    "    cur_huge_dict = deepcopy(grid_huge_dict[param_idx])\n",
    "\n",
    "    for basename in tqdm(list(cur_huge_dict.keys())[:]):\n",
    "        cur_image_dict = cur_huge_dict[basename]\n",
    "        \n",
    "        angle = cur_image_dict[\"SOLAR_P0\"]\n",
    "        deltashapeX = cur_image_dict[\"deltashapeX\"]\n",
    "        deltashapeY = cur_image_dict[\"deltashapeY\"]\n",
    "        \n",
    "        drawing_radius_px = huge_db_dict[basename][\"dr_radius_px\"]\n",
    "        \n",
    "        group_list = cur_image_dict['db']\n",
    "        \n",
    "        ms_dict = cur_image_dict['meanshift']\n",
    "        \n",
    "        centroids = np.array(ms_dict[\"centroids\"])\n",
    "        centroids_px = np.array(ms_dict[\"centroids_px\"])\n",
    "        \n",
    "        db_classes = [{\"Zurich\":item['Zurich'], \"McIntosh\":item['McIntosh'] } for item in group_list]\n",
    "        db_bboxes = [np.array(item['bbox_wl']) for item in group_list]\n",
    "        db_centers_px = np.array([[(b[2]+b[0])/2,(b[3]+b[1])/2] for b in db_bboxes])\n",
    "           \n",
    "        # check that current bbox is does not overlap any\n",
    "        isolated_bboxes_bool = np.array(c_utils.get_intersecting_db_bboxes(db_bboxes)) == 0\n",
    "        overlapping_bboxes_indices = np.where(isolated_bboxes_bool == False)[0]\n",
    "\n",
    "        \n",
    "        cur_rejected_class_distibutions = { \n",
    "                'noMS_but_DB': {},\n",
    "                'singleMS_multipleDB': {}, \n",
    "                'num_oneDBbbox_multipleMSoverlap_ambiguity':{},\n",
    "                # 'noDB_but_MS': {},\n",
    "            }\n",
    "        cur_out_stats = {\n",
    "            # General info\n",
    "            'num_DB_groups':len(db_bboxes),\n",
    "            'num_MS_groups':len(centroids_px),\n",
    "            'num_DB_isolated_groups':len(db_bboxes) - len(overlapping_bboxes_indices),\n",
    "            'num_DB_overlaping_bboxes':len(overlapping_bboxes_indices),\n",
    "            # MS with DB matching info\n",
    "            \"num_MSmatchesDB\":0,\n",
    "            # MS with DB rejection info\n",
    "            \"num_noMS_but_DB_reject\":0,\n",
    "            \"num_singleMS_multipleDB_reject\":0,\n",
    "            \"num_oneDBbbox_multipleMSoverlap_ambiguity_reject\":0,\n",
    "            # MS with DB no match info\n",
    "            \"num_noDB_but_MS\":0,\n",
    "            }\n",
    "        cur_out_groups = []\n",
    "        for i, (db_bbox, db_center, db_class) in enumerate(\n",
    "                                                zip([db_bboxes[a] for a in overlapping_bboxes_indices.tolist() ],\n",
    "                                                    [db_centers_px[a] for a in overlapping_bboxes_indices.tolist()],\n",
    "                                                    [db_classes[a] for a in overlapping_bboxes_indices.tolist()],\n",
    "                                                )):\n",
    "            \n",
    "            # matcher avec le ms gorup le plus proche + garde fou de distance\n",
    "            ms_centroids, ms_members = centroids_px, ms_dict['groups_px']\n",
    "            \n",
    "            intersect = c_utils.contains_ms_groups(db_bbox, db_center, ms_centroids, ms_members)\n",
    "            \n",
    "            if sum(intersect) == 0: # Il n'y a eu aucune détection dans cette zone\n",
    "                cur_out_stats['num_noMS_but_DB_reject'] += 1\n",
    "                cause = 'noMS_but_DB'\n",
    "                add_rejected_to_distributions(cur_rejected_class_distibutions[cause], db_class[\"McIntosh\"][0])\n",
    "                pass\n",
    "            elif sum(intersect) == 1: # il n'y a de l'overlap qu'avec un seul groupe meanshift            \n",
    "    #             print('hit')\n",
    "                idx = intersect.index(True)\n",
    "    #             print(idx)\n",
    "                # vérifier que le groupe meanshift n'intersecte aucune autre bbox\n",
    "                num_intersections = np.sum(c_utils.count_group_intersections(ms_members[idx], db_bboxes))\n",
    "                if num_intersections > 1:\n",
    "                    cur_out_stats['num_singleMS_multipleDB_reject'] += 1\n",
    "                    cause = 'singleMS_multipleDB'\n",
    "                    add_rejected_to_distributions(cur_rejected_class_distibutions[cause], db_class[\"McIntosh\"][0])\n",
    "                    continue\n",
    "                \n",
    "                Rmm = huge_db_dict[basename]['dr_radius_mm']\n",
    "                R_pixel = huge_db_dict[basename]['dr_radius_px']\n",
    "                sun_center = huge_db_dict[basename]['dr_center_px']\n",
    "                dr_pixpos = np.array([group_list[i]['posx'], group_list[i]['posy']])\n",
    "                \n",
    "                angular_excentricity =  c_utils.get_angle2(dr_pixpos, R_pixel, sun_center)\n",
    "                \n",
    "                cur_group_dict={\n",
    "                                \"centroid_px\": centroids_px[idx],\n",
    "                                \"centroid_Lat\": centroids[idx][0],\n",
    "                                \"centroid_Lon\": centroids[idx][1],\n",
    "                                \"angular_excentricity_rad\": angular_excentricity,\n",
    "                                \"angular_excentricity_deg\": np.rad2deg(angular_excentricity),\n",
    "                                \"Zurich\":   db_class[\"Zurich\"],\n",
    "                                \"McIntosh\": db_class[\"McIntosh\"],\n",
    "                                \"members\": ms_members[idx],\n",
    "                                \"members_mean_px\": np.mean(ms_members[idx], axis=0),\n",
    "                            }\n",
    "                \n",
    "                \n",
    "                cur_out_groups.append(cur_group_dict)\n",
    "                cur_out_stats['num_MSmatchesDB'] += 1\n",
    "\n",
    "            else: # db_bbox intersecte plusieurs groupes meanshift\n",
    "                cur_out_stats['num_oneDBbbox_multipleMSoverlap_ambiguity_reject'] += 1\n",
    "                cause = 'num_oneDBbbox_multipleMSoverlap_ambiguity'\n",
    "                add_rejected_to_distributions(cur_rejected_class_distibutions[cause], db_class[\"McIntosh\"][0])\n",
    "                pass\n",
    "                \n",
    "        if len(cur_out_groups) > 0:\n",
    "            image_out_dict[basename] = { \"angle\": angle,\n",
    "                                        \"deltashapeX\":deltashapeX,\n",
    "                                        \"deltashapeY\":deltashapeY,\n",
    "                                        \"groups\": cur_out_groups,\n",
    "                                    }\n",
    "\n",
    "        # count the number of MS groups that do not have any overlap with the DB\n",
    "        num_intersections_per_group = [np.sum(c_utils.count_group_intersections(ms_members[idx], db_bboxes)) for idx in range(len(ms_members))]\n",
    "        num_MS_without_DB_overlap = len(np.where(np.array(num_intersections_per_group) == 0)[0])\n",
    "        cur_out_stats['num_noDB_but_MS'] = num_MS_without_DB_overlap\n",
    "        \n",
    "        # print(cur_rejected_class_distibutions)\n",
    "        cur_out_stats['rejected_class_distributions'] = deepcopy(cur_rejected_class_distibutions)\n",
    "        # print(cur_out_stats)\n",
    "        image_out_dict_stats[basename] = deepcopy(cur_out_stats)\n",
    "\n",
    "        \n",
    "\n",
    "    print('num_images: ', len(list(image_out_dict.keys())))\n",
    "    num_groups = 0\n",
    "    for k,v in image_out_dict.items():\n",
    "        num_groups += len(v['groups'])\n",
    "    print(\"num_groups: \",num_groups)\n",
    "    # print(image_out_dict)\n",
    "\n",
    "    grid_image_out_dict_overlapping[param_idx] = deepcopy(image_out_dict)\n",
    "    grid_image_out_dict_stats_overlapping[param_idx] = deepcopy(image_out_dict_stats)\n",
    "\n"
   ]
  },
  {
   "cell_type": "code",
   "execution_count": 30,
   "metadata": {},
   "outputs": [],
   "source": [
    "import collections\n",
    "from collections import Counter\n",
    "\n",
    "cur_out_stats = {\n",
    "    # General info\n",
    "    'num_DB_groups': 0,\n",
    "    'num_MS_groups': 0,\n",
    "    'num_DB_isolated_groups': 0,\n",
    "    'num_DB_overlaping_bboxes': 0,\n",
    "    # MS with DB matching info\n",
    "    \"num_MSmatchesDB\":0,\n",
    "    # MS with DB rejection info\n",
    "    \"num_noMS_but_DB_reject\":0,\n",
    "    \"num_singleMS_multipleDB_reject\":0,\n",
    "    \"num_oneDBbbox_multipleMSoverlap_ambiguity_reject\":0,\n",
    "    # MS with DB no match info\n",
    "    \"num_noDB_but_MS\":0,\n",
    "    }\n",
    "\n",
    "stats_keys = cur_out_stats.keys()\n",
    "\n",
    "should_check =  list(stats_keys) + [\n",
    "                                        'num_rejects_all',\n",
    "                                        'num_optimizable_rejects',\n",
    "                                        'rate_optimizable_rejects',\n",
    "                                    ]\n",
    "\n",
    "gridsearch_dict_per_img_overlapping = { k : np.zeros((len(param_grid_values['kernel_bandwidthLon']), \n",
    "                                   len(param_grid_values['kernel_bandwidthLat']),\n",
    "                                    len(wl_list)\n",
    "                                   ))\n",
    "                    for k in should_check}\n",
    "\n",
    "should_check_global = list(stats_keys) + [\n",
    "                                            'num_rejects_all',\n",
    "                                            'num_optimizable_rejects',\n",
    "                                            'rate_optimizable_rejects',\n",
    "                                         ]\n",
    "gridsearch_dict_total_overlapping = { k : np.zeros((len(param_grid_values['kernel_bandwidthLon']), \n",
    "                                   len(param_grid_values['kernel_bandwidthLat'])\n",
    "                                   ))\n",
    "                    for k in should_check_global}\n",
    "\n",
    "# grid_search_reject_distribs = { k : {} for param_idx, params in enumerate(param_grid)}\n",
    "grid_search_reject_distribs_overlapping = {}\n",
    "\n",
    "\n",
    "\n",
    "\n",
    "\n",
    "for param_idx, params in enumerate(param_grid):\n",
    "    image_out_dict = grid_image_out_dict_overlapping[param_idx]\n",
    "    image_out_dict_stats = grid_image_out_dict_stats_overlapping[param_idx]\n",
    "    \n",
    "    # General info\n",
    "    num_DB_groups_per_image = np.array([item['num_DB_groups'] for k,item in image_out_dict_stats.items()])\n",
    "    num_MS_groups_per_image = np.array([item['num_MS_groups'] for k,item in image_out_dict_stats.items()])\n",
    "\n",
    "    diff_num_groups = num_DB_groups_per_image - num_MS_groups_per_image # should be shown on histogram , closer to 0 is better\n",
    "\n",
    "    # number of isolated DB groups per image and mean number in dataset\n",
    "    num_isolated_DB_groups = np.array([v['num_DB_isolated_groups'] for k,v in image_out_dict_stats.items()])\n",
    "    # number of DB groups with overlap with other DB groups\n",
    "    num_DB_overlaping_bboxes = np.array([v['num_DB_overlaping_bboxes'] for k,v in image_out_dict_stats.items()])\n",
    "\n",
    "    # matches\n",
    "    num_MSmatchesDB = np.array([v['num_MSmatchesDB'] for k,v in image_out_dict_stats.items()])\n",
    "    \n",
    "    # rejects\n",
    "    # 1) numbers of rejects due to no MS group overlapping DB group (# cannot do anything to this, examples are discarded)\n",
    "    num_noMS_but_DB_reject = np.array([v['num_noMS_but_DB_reject'] for k,v in image_out_dict_stats.items()])\n",
    "    # 2) numbers of rejects due to single MS group overlapping multiple DB groups (# minimize this)\n",
    "    num_singleMS_multipleDB_reject = np.array([v['num_singleMS_multipleDB_reject'] for k,v in image_out_dict_stats.items()])\n",
    "    # 3) numbers of rejects due to single DB group overlapping multiple MS groups (# minimize this)\n",
    "    num_oneDBbbox_multipleMSoverlap_ambiguity_reject = np.array([v['num_oneDBbbox_multipleMSoverlap_ambiguity_reject'] for k,v in image_out_dict_stats.items()])\n",
    "\n",
    "    num_optimizable_rejects = num_singleMS_multipleDB_reject + num_oneDBbbox_multipleMSoverlap_ambiguity_reject\n",
    "    num_rejects_all = num_optimizable_rejects + num_noMS_but_DB_reject\n",
    "\n",
    "    # rate of optimizable rejects\n",
    "    rate_optimizable_rejects = num_optimizable_rejects / num_rejects_all\n",
    "\n",
    "    # print(num_optimizable_rejects)\n",
    "\n",
    "\n",
    "    # Aggregate reject distributions of images over the dataset\n",
    "    dict1 = [v['rejected_class_distributions']['noMS_but_DB'] for k,v in image_out_dict_stats.items()]\n",
    "    summed_dict1 = sum(map(collections.Counter, dict1),Counter())\n",
    "    dict2 = [v['rejected_class_distributions']['singleMS_multipleDB'] for k,v in image_out_dict_stats.items()]\n",
    "    summed_dict2 = sum(map(collections.Counter, dict2),Counter())\n",
    "    dict3 = [v['rejected_class_distributions']['num_oneDBbbox_multipleMSoverlap_ambiguity'] for k,v in image_out_dict_stats.items()]\n",
    "    summed_dict3 = sum(map(collections.Counter, dict3),Counter())\n",
    "    dataset_rejected_class_distibutions = { \n",
    "        'noMS_but_DB': summed_dict1,\n",
    "        'singleMS_multipleDB': summed_dict2, \n",
    "        'num_oneDBbbox_multipleMSoverlap_ambiguity': summed_dict3,\n",
    "    }\n",
    "\n",
    "    # print(dict1)\n",
    "    # print(summed_dict1)\n",
    "    \n",
    "\n",
    "\n",
    "    # get indices of current params\n",
    "    kernel_bandwidthLon_idx = param_grid_values['kernel_bandwidthLon'].index(params['kernel_bandwidthLon'])\n",
    "    kernel_bandwidthLat_idx = param_grid_values['kernel_bandwidthLat'].index(params['kernel_bandwidthLat'])\n",
    "    ############################\n",
    "    # Fill per-image dictinnary \n",
    "    ############################\n",
    "\n",
    "    # number of DB groups\n",
    "    gridsearch_dict_per_img_overlapping['num_DB_groups'][kernel_bandwidthLon_idx,kernel_bandwidthLat_idx] = num_DB_groups_per_image\n",
    "    # number of MS groups\n",
    "    gridsearch_dict_per_img_overlapping['num_MS_groups'][kernel_bandwidthLon_idx,kernel_bandwidthLat_idx] = num_MS_groups_per_image\n",
    "\n",
    "    # number of isolated DB groups\n",
    "    gridsearch_dict_per_img_overlapping['num_DB_isolated_groups'][kernel_bandwidthLon_idx,kernel_bandwidthLat_idx] = num_isolated_DB_groups\n",
    "    gridsearch_dict_per_img_overlapping['num_DB_overlaping_bboxes'][kernel_bandwidthLon_idx,kernel_bandwidthLat_idx] = num_DB_overlaping_bboxes\n",
    "\n",
    "    # matches\n",
    "    gridsearch_dict_per_img_overlapping['num_MSmatchesDB'][kernel_bandwidthLon_idx,kernel_bandwidthLat_idx] = num_MSmatchesDB\n",
    "    \n",
    "    # not optimizable rejects\n",
    "    gridsearch_dict_per_img_overlapping['num_noMS_but_DB_reject'][kernel_bandwidthLon_idx,kernel_bandwidthLat_idx] = num_noMS_but_DB_reject\n",
    "    \n",
    "    # optimizable rejects\n",
    "    gridsearch_dict_per_img_overlapping['num_singleMS_multipleDB_reject'][kernel_bandwidthLon_idx,kernel_bandwidthLat_idx] = num_singleMS_multipleDB_reject\n",
    "    gridsearch_dict_per_img_overlapping['num_oneDBbbox_multipleMSoverlap_ambiguity_reject'][kernel_bandwidthLon_idx,kernel_bandwidthLat_idx] = num_oneDBbbox_multipleMSoverlap_ambiguity_reject\n",
    "    gridsearch_dict_per_img_overlapping['num_optimizable_rejects'][kernel_bandwidthLon_idx,kernel_bandwidthLat_idx] = num_optimizable_rejects\n",
    "    \n",
    "    gridsearch_dict_per_img_overlapping['num_rejects_all'][kernel_bandwidthLon_idx,kernel_bandwidthLat_idx] = num_rejects_all\n",
    "    \n",
    "    # rate of optimizable rejects\n",
    "    gridsearch_dict_per_img_overlapping['rate_optimizable_rejects'][kernel_bandwidthLon_idx,kernel_bandwidthLat_idx] = rate_optimizable_rejects\n",
    "    \n",
    "    ############################\n",
    "    # Fill total dictionnary\n",
    "    ############################\n",
    "    # number of DB groups\n",
    "    gridsearch_dict_total_overlapping['num_DB_groups'][kernel_bandwidthLon_idx,kernel_bandwidthLat_idx] = np.sum(num_DB_groups_per_image)\n",
    "    # number of MS groups\n",
    "    gridsearch_dict_total_overlapping['num_MS_groups'][kernel_bandwidthLon_idx,kernel_bandwidthLat_idx] = np.sum(num_MS_groups_per_image)\n",
    "\n",
    "    # number of isolated DB groups\n",
    "    gridsearch_dict_total_overlapping['num_DB_isolated_groups'][kernel_bandwidthLon_idx,kernel_bandwidthLat_idx] = np.sum(num_isolated_DB_groups)\n",
    "    gridsearch_dict_total_overlapping['num_DB_overlaping_bboxes'][kernel_bandwidthLon_idx,kernel_bandwidthLat_idx] = np.sum(num_DB_overlaping_bboxes)\n",
    "\n",
    "    # matches\n",
    "    gridsearch_dict_total_overlapping['num_MSmatchesDB'][kernel_bandwidthLon_idx,kernel_bandwidthLat_idx] = np.sum(num_MSmatchesDB)\n",
    "\n",
    "    # not optimizable rejects\n",
    "    gridsearch_dict_total_overlapping['num_noMS_but_DB_reject'][kernel_bandwidthLon_idx,kernel_bandwidthLat_idx] = np.sum(num_noMS_but_DB_reject)\n",
    "\n",
    "    # optimizable rejects\n",
    "    gridsearch_dict_total_overlapping['num_singleMS_multipleDB_reject'][kernel_bandwidthLon_idx,kernel_bandwidthLat_idx] = np.sum(num_singleMS_multipleDB_reject)\n",
    "    gridsearch_dict_total_overlapping['num_oneDBbbox_multipleMSoverlap_ambiguity_reject'][kernel_bandwidthLon_idx,kernel_bandwidthLat_idx] = np.sum(num_oneDBbbox_multipleMSoverlap_ambiguity_reject)\n",
    "    gridsearch_dict_total_overlapping['num_optimizable_rejects'][kernel_bandwidthLon_idx,kernel_bandwidthLat_idx] = np.sum(num_optimizable_rejects)\n",
    "\n",
    "    gridsearch_dict_total_overlapping['num_rejects_all'][kernel_bandwidthLon_idx,kernel_bandwidthLat_idx] = np.sum(num_rejects_all)\n",
    "\n",
    "\n",
    "    rate_optimizable_rejects_all = np.sum(num_optimizable_rejects) / np.sum(num_rejects_all)\n",
    "    gridsearch_dict_total_overlapping['rate_optimizable_rejects'][kernel_bandwidthLon_idx,kernel_bandwidthLat_idx] = rate_optimizable_rejects_all\n",
    "\n",
    "    grid_search_reject_distribs_overlapping[param_idx] = deepcopy(dataset_rejected_class_distibutions) \n",
    "\n",
    "    \n",
    "    \n",
    "\n",
    "gridsearch = { k : pd.DataFrame(v) }\n"
   ]
  },
  {
   "cell_type": "code",
   "execution_count": 32,
   "metadata": {},
   "outputs": [
    {
     "name": "stdout",
     "output_type": "stream",
     "text": [
      "all_isolated:  164.0 all_overlapping:  29.0\n",
      "all_optimizable 27.0\n"
     ]
    },
    {
     "data": {
      "application/vnd.jupyter.widget-view+json": {
       "model_id": "c755f1ecef1b4070bfbf8350eca97e21",
       "version_major": 2,
       "version_minor": 0
      },
      "text/plain": [
       "Canvas(toolbar=Toolbar(toolitems=[('Home', 'Reset original view', 'home', 'home'), ('Back', 'Back to previous …"
      ]
     },
     "metadata": {},
     "output_type": "display_data"
    }
   ],
   "source": [
    "# accuracy\n",
    "all_isolated = gridsearch_dict_total_overlapping['num_DB_isolated_groups'] \n",
    "all_overlapping = gridsearch_dict_total_overlapping['num_DB_overlaping_bboxes'] \n",
    "\n",
    "print('all_isolated: ', all_isolated[0,0],'all_overlapping: ' ,all_overlapping[0,0])\n",
    "\n",
    "all_noMS_but_DB = gridsearch_dict_total_overlapping['num_noMS_but_DB_reject']\n",
    "\n",
    "optimizable = all_overlapping - all_noMS_but_DB\n",
    "\n",
    "print('all_optimizable', optimizable[0,0])\n",
    "\n",
    "\n",
    "matches = gridsearch_dict_total_overlapping['num_MSmatchesDB']\n",
    "\n",
    "accuracy = matches / optimizable\n",
    "\n",
    "accuracy_df = pd.DataFrame(accuracy)\n",
    "accuracy_df.columns = param_grid_values['kernel_bandwidthLat']\n",
    "accuracy_df.index = param_grid_values['kernel_bandwidthLon']\n",
    "\n",
    "\n",
    "fig_, ax_ = plt.subplots(1,1, figsize=(3.5*1,3*1))\n",
    "ax_ = sns.heatmap(accuracy_df, ax=ax_, vmin=0, annot=True)\n",
    "ax_.set_title('Accuracy')\n",
    "ax_.set_xlabel('kernel_bandwidthLat')\n",
    "ax_.set_ylabel('kernel_bandwidthLon')\n",
    "\n",
    "fig_.tight_layout()\n"
   ]
  },
  {
   "cell_type": "code",
   "execution_count": 35,
   "metadata": {},
   "outputs": [
    {
     "data": {
      "application/vnd.jupyter.widget-view+json": {
       "model_id": "907e96c882644330bd188a9927fe0100",
       "version_major": 2,
       "version_minor": 0
      },
      "text/plain": [
       "VBox(children=(IntSlider(value=0, max=35), Canvas(toolbar=Toolbar(toolitems=[('Home', 'Reset original view', '…"
      ]
     },
     "metadata": {},
     "output_type": "display_data"
    }
   ],
   "source": [
    "\n",
    "def on_value_change_overlapping(change):\n",
    "   \n",
    "\n",
    "    # print(ax)\n",
    "    # print(len(ax.collections))\n",
    "    for i in range(num_cols):\n",
    "        if len(ax[i].collections) > 0:\n",
    "            cb = ax[i].collections[-1].colorbar\n",
    "            if cb is not None:\n",
    "                cb.remove()\n",
    "            ax[i].clear()\n",
    "\n",
    "    df = pd.DataFrame(gridsearch_dict_per_img_overlapping['num_optimizable_rejects'][:, :, a_slider.value])\n",
    "    df.columns = param_grid_values['kernel_bandwidthLat']\n",
    "    df.index = param_grid_values['kernel_bandwidthLon']\n",
    "    # ax0 = sns.heatmap(df, ax=ax, cbar=False,)\n",
    "    ax0 = sns.heatmap(df, ax=ax[0], vmin=0, annot=True)\n",
    "    ax0.set_title('Number of optimizable rejects')\n",
    "    ax0.set_xlabel('kernel_bandwidthLat')\n",
    "    ax0.set_ylabel('kernel_bandwidthLon')\n",
    "\n",
    "    df = pd.DataFrame(gridsearch_dict_per_img_overlapping['num_singleMS_multipleDB_reject'][:, :, a_slider.value])\n",
    "    df.columns = param_grid_values['kernel_bandwidthLat']\n",
    "    df.index = param_grid_values['kernel_bandwidthLon']\n",
    "    # ax1 = sns.heatmap(df, ax=ax, cbar=False,)\n",
    "    ax1 = sns.heatmap(df, ax=ax[1], vmin=0, annot=True)\n",
    "    ax1.set_title('Only MS candidate covers \\n2+ DB bboxes')\n",
    "    ax1.set_xlabel('kernel_bandwidthLat')\n",
    "    ax1.set_ylabel('kernel_bandwidthLon')\n",
    "    \n",
    "    df = pd.DataFrame(gridsearch_dict_per_img_overlapping['num_oneDBbbox_multipleMSoverlap_ambiguity_reject'][:, :, a_slider.value])\n",
    "    df.columns = param_grid_values['kernel_bandwidthLat']\n",
    "    df.index = param_grid_values['kernel_bandwidthLon']\n",
    "    # ax0 = sns.heatmap(df, ax=ax, cbar=False,)\n",
    "    ax2 = sns.heatmap(df, ax=ax[2], vmin=0, annot=True)\n",
    "    ax2.set_title('DB group matches \\nmultiple MS groups')\n",
    "    ax2.set_xlabel('kernel_bandwidthLat')\n",
    "    ax2.set_ylabel('kernel_bandwidthLon')\n",
    "\n",
    "    fig.tight_layout()\n",
    "\n",
    "    # pass\n",
    "\n",
    "a_slider = widgets.IntSlider(min=0, max=len(wl_list)-1, step=1, value=0)\n",
    "a_slider.observe(on_value_change_overlapping, names='value')\n",
    "\n",
    "plt.ioff()\n",
    "num_rows = 1\n",
    "num_cols = 3\n",
    "fig, ax = plt.subplots(num_rows,num_cols, figsize=(3*num_cols,3*num_rows))\n",
    "on_value_change_overlapping(None)\n",
    "plt.ion()\n",
    "\n",
    "display(widgets.VBox([a_slider, fig.canvas]))\n"
   ]
  },
  {
   "cell_type": "code",
   "execution_count": null,
   "metadata": {},
   "outputs": [],
   "source": []
  },
  {
   "cell_type": "code",
   "execution_count": 4,
   "metadata": {},
   "outputs": [
    {
     "name": "stdout",
     "output_type": "stream",
     "text": [
      "\n",
      "0.1550124999999984\n",
      "[[0.         2.65049505]\n",
      " [1.         0.        ]]\n"
     ]
    }
   ],
   "source": [
    "# Toy example\n",
    "look_distance = .1  # How far to look for neighbours.\n",
    "kernel_bandwidthLon = .25  # Longitude Kernel parameter.\n",
    "kernel_bandwidthLat = .08  # Latitude Kernel parameter.\n",
    "n_iterations = 5 # Number of iterations\n",
    "\n",
    "radius = 695700\n",
    "\n",
    "points_latLon = np.array([[1, 0],\n",
    "                          [0,2.6],\n",
    "                          [0,2.7]])\n",
    "areas = [1000, 500 , 510]\n",
    "\n",
    "\n",
    "ms_model = MS.Mean_Shift(look_distance, kernel_bandwidthLon, kernel_bandwidthLat, radius, n_iterations)\n",
    "ms_model.fit(points_latLon, areas)\n",
    "ms_centroids = ms_model.centroids\n",
    "print()\n",
    "print(ms_model.get_area_weighted_ellipsis_width(areas[2],areas))\n",
    "\n",
    "print(ms_centroids)\n",
    "\n"
   ]
  }
 ],
 "metadata": {
  "kernelspec": {
   "display_name": "Python 3",
   "language": "python",
   "name": "python3"
  },
  "language_info": {
   "codemirror_mode": {
    "name": "ipython",
    "version": 3
   },
   "file_extension": ".py",
   "mimetype": "text/x-python",
   "name": "python",
   "nbconvert_exporter": "python",
   "pygments_lexer": "ipython3",
   "version": "3.8.13"
  },
  "vscode": {
   "interpreter": {
    "hash": "1f3e85867ab3feeb73691fcc67a502ec8f0fc265745d17c9ab3a5329e7f22e4e"
   }
  }
 },
 "nbformat": 4,
 "nbformat_minor": 2
}
