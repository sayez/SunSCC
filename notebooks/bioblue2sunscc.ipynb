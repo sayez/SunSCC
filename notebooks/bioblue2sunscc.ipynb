{
 "cells": [
  {
   "cell_type": "code",
   "execution_count": 1,
   "id": "abe6f2f0",
   "metadata": {},
   "outputs": [],
   "source": [
    "import torch\n",
    "from copy import deepcopy\n",
    "from omegaconf import DictConfig\n",
    "from pathlib import Path\n",
    "from tqdm.notebook import tqdm"
   ]
  },
  {
   "cell_type": "markdown",
   "id": "04ae417d",
   "metadata": {},
   "source": [
    "# Convert Segmentation Models"
   ]
  },
  {
   "cell_type": "code",
   "execution_count": 10,
   "id": "e43d2923",
   "metadata": {},
   "outputs": [],
   "source": [
    "def replace_substring_in_dict(d, old_substring, new_substring):\n",
    "    for key, value in d.items():\n",
    "#         print(key, value)\n",
    "        if (isinstance(value, dict) or isinstance(value, DictConfig)):\n",
    "            replace_substring_in_dict(value, old_substring, new_substring)\n",
    "        elif isinstance(value, str):\n",
    "#             print(d[key])\n",
    "            d[key] = value.replace(old_substring, new_substring)\n",
    "        else:\n",
    "#             print(type(value))\n",
    "            pass\n",
    "\n",
    "def convert_segmentation_run_dir(segmenter_run_dir):\n",
    "    # 1) If Needed, Rename old 'last.ckpt' to 'last_bioblue.ckpt'\n",
    "    if not (segmenter_run_dir/'models'/'last_bioblue.ckpt').exists():\n",
    "        print('Should move last to last_bioblue')\n",
    "        filename = segmenter_run_dir/'models'/'last.ckpt'\n",
    "        filename.rename(segmenter_run_dir/'models'/'last_bioblue.ckpt')\n",
    "    \n",
    "    # 2) Change the content of bioblue ckpt to fit sunscc module instead\n",
    "    bioblue_version = torch.load(segmenter_run_dir/'models'/'last_bioblue.ckpt')   \n",
    "    sunscc_version = deepcopy(bioblue_version)\n",
    "    replace_substring_in_dict(sunscc_version, 'bioblue', \"sunscc\")\n",
    "\n",
    "    # 3) Save the sunscc checkpoint to 'last.ckpt'\n",
    "    torch.save(sunscc_version, segmenter_run_dir/'models'/'last.ckpt')"
   ]
  },
  {
   "cell_type": "code",
   "execution_count": 13,
   "id": "57df038f",
   "metadata": {},
   "outputs": [
    {
     "data": {
      "application/vnd.jupyter.widget-view+json": {
       "model_id": "203f221445eb4d81895af2d50c2922ca",
       "version_major": 2,
       "version_minor": 0
      },
      "text/plain": [
       "  0%|          | 0/10 [00:00<?, ?it/s]"
      ]
     },
     "metadata": {},
     "output_type": "display_data"
    },
    {
     "name": "stdout",
     "output_type": "stream",
     "text": [
      "Should move last to last_bioblue\n",
      "Should move last to last_bioblue\n",
      "Should move last to last_bioblue\n",
      "Should move last to last_bioblue\n",
      "Should move last to last_bioblue\n",
      "Should move last to last_bioblue\n",
      "Should move last to last_bioblue\n",
      "Should move last to last_bioblue\n"
     ]
    }
   ],
   "source": [
    "bioblue_run_dirs=[\n",
    "    Path('../outputs/2023-01-22/01-18-26_2013-15_UNet_T425_T375_T325_StepLR_epoch_1_run0_SUNSCC'),\n",
    "    Path('../outputs/2023-01-22/01-18-26_2013-15_UNet_T425_T375_T325_StepLR_epoch_1_run2_SUNSCC'),\n",
    "    Path('../outputs/2023-01-22/01-18-26_2013-15_UNet_T425_T375_T325_StepLR_epoch_1_run3_SUNSCC'),\n",
    "    Path('../outputs/2023-01-22/01-18-26_2013-15_UNet_T425_T375_T325_StepLR_epoch_1_run4_SUNSCC'),\n",
    "    Path('../outputs/2023-01-22/05-55-04_2013-15_UNet_T425_T375_T325_StepLR_epoch_1_run5_SUNSCC'),\n",
    "    Path('../outputs/2023-01-22/05-55-04_2013-15_UNet_T425_T375_T325_StepLR_epoch_1_run6_SUNSCC'),\n",
    "    Path('../outputs/2023-01-22/06-30-11_2013-15_UNet_T425_T375_T325_StepLR_epoch_1_run7_SUNSCC'),\n",
    "    Path('../outputs/2023-01-22/10-23-14_2013-15_UNet_T425_T375_T325_StepLR_epoch_1_run9_SUNSCC'),\n",
    "    Path('../outputs/2023-01-22/13-15-38_2013-15_UNet_T425_T375_T325_StepLR_epoch_1_run8_SUNSCC'),\n",
    "    Path('../outputs/2023-01-22/10-24-14_2013-15_UNet_T425_T375_T325_StepLR_epoch_1_run10_SUNSCC'),\n",
    "]\n",
    "\n",
    "for run_dir in tqdm(bioblue_run_dirs):\n",
    "    convert_segmentation_run_dir(run_dir)"
   ]
  },
  {
   "cell_type": "markdown",
   "id": "8847cb8e",
   "metadata": {},
   "source": [
    "# Convert Classification Models"
   ]
  },
  {
   "cell_type": "code",
   "execution_count": 4,
   "id": "71d2626f",
   "metadata": {},
   "outputs": [],
   "source": [
    "def replace_substring_in_dict(d, old_substring, new_substring):\n",
    "    for key, value in d.items():\n",
    "#         print(key, value)\n",
    "        if (isinstance(value, dict) or isinstance(value, DictConfig)):\n",
    "            replace_substring_in_dict(value, old_substring, new_substring)\n",
    "        elif isinstance(value, str):\n",
    "#             print(d[key])\n",
    "            d[key] = value.replace(old_substring, new_substring)\n",
    "        else:\n",
    "#             print(type(value))\n",
    "            pass\n",
    "\n",
    "def convert_segmentation_run_dir(classifier_run_dir):\n",
    "    ckpt_to_rename=[\n",
    "        \"ENCODER_MLP1_MLP2_MLP3.ckpt\",\n",
    "        \"ENCODER_MLP1_MLP2.ckpt\",\n",
    "        \"ENCODER_MLP1.ckpt\",\n",
    "    ]\n",
    "\n",
    "    for ckpt in ckpt_to_rename:\n",
    "        bioblue_ckpt = ckpt.replace('.ckpt', '_bioblue.ckpt')\n",
    "\n",
    "        # 1) If Needed, Rename old 'last.ckpt' to 'last_bioblue.ckpt'\n",
    "        if not (classifier_run_dir/'models'/ bioblue_ckpt).exists():\n",
    "            print(f'Should move {ckpt} to {bioblue_ckpt}')\n",
    "            filename = classifier_run_dir/'models'/ ckpt\n",
    "            filename.rename(classifier_run_dir/'models'/ bioblue_ckpt)\n",
    "        \n",
    "        # 2) Change the content of bioblue ckpt to fit sunscc module instead\n",
    "        bioblue_version = torch.load(classifier_run_dir/'models'/bioblue_ckpt)   \n",
    "        sunscc_version = deepcopy(bioblue_version)\n",
    "        replace_substring_in_dict(sunscc_version, 'bioblue', \"sunscc\")\n",
    "\n",
    "        # 3) Save the sunscc checkpoint to 'last.ckpt'\n",
    "        torch.save(sunscc_version, classifier_run_dir/'models'/ckpt)"
   ]
  },
  {
   "cell_type": "code",
   "execution_count": 5,
   "id": "19b12e80",
   "metadata": {},
   "outputs": [
    {
     "data": {
      "application/vnd.jupyter.widget-view+json": {
       "model_id": "2540e61304c84f9ca0e4b1fb8a34e8d7",
       "version_major": 2,
       "version_minor": 0
      },
      "text/plain": [
       "  0%|          | 0/1 [00:00<?, ?it/s]"
      ]
     },
     "metadata": {},
     "output_type": "display_data"
    },
    {
     "name": "stdout",
     "output_type": "stream",
     "text": [
      "Should move  to last_bioblue\n",
      "Should move  to last_bioblue\n"
     ]
    }
   ],
   "source": [
    "bioblue_run_dirs=[\n",
    "    Path('../../outputs/rebuttal/SUNSCC_AllRevisedFiltered_Rebuttal_WithHideNoAug_0.0_class1_100epochs_run21'),\n",
    "]\n",
    "\n",
    "\n",
    "for run_dir in tqdm(bioblue_run_dirs):\n",
    "    convert_segmentation_run_dir(run_dir)"
   ]
  },
  {
   "cell_type": "code",
   "execution_count": null,
   "id": "75d34c4f",
   "metadata": {},
   "outputs": [],
   "source": []
  }
 ],
 "metadata": {
  "kernelspec": {
   "display_name": "Python 3 (ipykernel)",
   "language": "python",
   "name": "python3"
  },
  "language_info": {
   "codemirror_mode": {
    "name": "ipython",
    "version": 3
   },
   "file_extension": ".py",
   "mimetype": "text/x-python",
   "name": "python",
   "nbconvert_exporter": "python",
   "pygments_lexer": "ipython3",
   "version": "3.10.14"
  }
 },
 "nbformat": 4,
 "nbformat_minor": 5
}
